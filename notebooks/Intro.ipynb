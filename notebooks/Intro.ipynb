{
 "metadata": {
  "celltoolbar": "Slideshow",
  "name": "",
  "signature": "sha256:7d77328bd00e5c1041e28d72786ccfa6d189d50068a790ba76460c776ea0713e"
 },
 "nbformat": 3,
 "nbformat_minor": 0,
 "worksheets": [
  {
   "cells": [
    {
     "cell_type": "heading",
     "level": 1,
     "metadata": {
      "slideshow": {
       "slide_type": "slide"
      }
     },
     "source": [
      "IPython Notebook & Pandas"
     ]
    },
    {
     "cell_type": "markdown",
     "metadata": {},
     "source": [
      "OpenTechSchool Workshop - [Hugo Herter](http://www.hugoherter.com)"
     ]
    },
    {
     "cell_type": "markdown",
     "metadata": {},
     "source": [
      "![IPython logo](files/files/ipython-logo.png)"
     ]
    },
    {
     "cell_type": "markdown",
     "metadata": {
      "slideshow": {
       "slide_type": "slide"
      }
     },
     "source": [
      "## Description\n",
      "\n",
      "During this workshop, you will learn how to combine the easiness of IPython Notebook with the power of Pandas for data processing in Python.\n",
      "\n",
      "The targeted audiences are scientists and other people doing data analysis. No prior knowledge of Python is required, but basic programming understanding is required (variables, functions, ...).\n",
      "\n",
      "[IPython Notebook](http://ipython.org/notebook.html) is a web-based interactive computational environment where you can combine code execution, text, mathematics, plots and rich media into a single document.\n",
      "\n",
      "[pandas](http://pandas.pydata.org/) is a library providing high-performance, easy-to-use data structures and data analysis tools for the Python programming language."
     ]
    },
    {
     "cell_type": "markdown",
     "metadata": {
      "slideshow": {
       "slide_type": "slide"
      }
     },
     "source": [
      "## Resources\n",
      "\n",
      "These slides/documentation and examples are hosted on GitHub:\n",
      "\n",
      "https://github.com/OpenTechSchool-Brussels/IPython-Pandas\n",
      "\n",
      "\n",
      "\n",
      "_Patches are welcome !_"
     ]
    },
    {
     "cell_type": "markdown",
     "metadata": {
      "slideshow": {
       "slide_type": "slide"
      }
     },
     "source": [
      "## Installing\n",
      "\n",
      "This workshop will be using _Python 2_, as some libraries we will use have not been ported to _Python 3_ yet.\n",
      "\n",
      "### POSIX vs Windows\n",
      "\n",
      "We will start this workshop by installing Python, IPython Notebook, Pandas and the extra libraries we will be using. The installation procedure is pretty similar on popular Linux distributions and on Mac OS X, but quite different on Windows which is covered in a dedicated section.\n",
      "\n",
      "### Terminal\n",
      "\n",
      "Some instructions will be designed for use in the terminal on Linux and OS X. These will appear as follow :\n",
      "\n",
      "`some instruction for the terminal`\n",
      "\n",
      "Windows users should not need to use these commands if they use the installation method further described.\n"
     ]
    },
    {
     "cell_type": "markdown",
     "metadata": {
      "slideshow": {
       "slide_type": "subslide"
      }
     },
     "source": [
      "## Install Python\n",
      "\n",
      "### Linux Ubuntu/Debian\n",
      "\n",
      "Python comes pre-installed on your system, but we will want the package manager `pip`, and some extra files in order to compile the latest version of Pandas:\n",
      "\n",
      "`apt-get install build-essential python-dev`\n",
      "\n",
      "### Mac OS X\n",
      "\n",
      "Python comes pre-installed on your system, but we will want the package manager `pip`, and some extra files in order to compile the latest version of Pandas:\n",
      "\n",
      "* Install XCode from the Apple App Store\n",
      "* Install Homebrew from [http://brew.sh](http://brew.sh/)\n",
      "* Install Homebrew's version of Python: `brew install python`"
     ]
    },
    {
     "cell_type": "markdown",
     "metadata": {
      "slideshow": {
       "slide_type": "subslide"
      }
     },
     "source": [
      "## Install IPython Notebook and Pandas\n",
      "\n",
      "Install Ipython Notebook and Pandas\n",
      "\n",
      "`pip install --user ipython[notebook] pandas`\n",
      "\n",
      "_(compiles a bunch of stuff...)_\n",
      "\n",
      "Note: Recent Linux distributions also include pre-compiled versions of these libraries, but they might be out-of-date. Search for `ipython-notebook` and `python-pandas`."
     ]
    },
    {
     "cell_type": "markdown",
     "metadata": {
      "slideshow": {
       "slide_type": "subslide"
      }
     },
     "source": [
      "## Install on Windows \n",
      "\n",
      "Python does not come pre-installed on your system, and the absence of a decent shell and compiler makes it difficult to install all the dependencies you will need, so the best plan is to install a _scientific bundle_ with most of the tools we need prepared.\n",
      "\n",
      "http://continuum.io/downloads\n"
     ]
    },
    {
     "cell_type": "markdown",
     "metadata": {
      "slideshow": {
       "slide_type": "subslide"
      }
     },
     "source": [
      "## Other Libraries\n",
      "\n",
      "We will be using a few other libraries during this workshop. They are optional but some are pretty cool. You can install them now, or keep going and install them when needed.\n",
      "\n",
      "* [Folium](https://github.com/wrobstory/folium) for Maps `pip install folium`\n",
      "* [Vincent](https://github.com/wrobstory/vincent) for Graphs `pip install vincent`"
     ]
    },
    {
     "cell_type": "markdown",
     "metadata": {
      "slideshow": {
       "slide_type": "slide"
      }
     },
     "source": [
      "## Launch IPython Notebook\n",
      "\n",
      "### Linux / Mac OS X\n",
      "\n",
      "`ipython notebook`\n",
      "\n",
      "### Windows\n",
      "\n",
      "???"
     ]
    },
    {
     "cell_type": "markdown",
     "metadata": {
      "slideshow": {
       "slide_type": "subslide"
      }
     },
     "source": [
      "## IPython Notebook pops up\n",
      "\n",
      "![Notebook welcome screen](files/files/notebook-welcome.png)\n",
      "\n",
      "If your web browser does not automatically open on a page like this one, open it and go to http://localhost:8888."
     ]
    },
    {
     "cell_type": "code",
     "collapsed": false,
     "input": [],
     "language": "python",
     "metadata": {},
     "outputs": []
    }
   ],
   "metadata": {}
  }
 ]
}