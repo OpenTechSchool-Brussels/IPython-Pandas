{
 "metadata": {
  "celltoolbar": "Slideshow",
  "name": "",
  "signature": "sha256:815a38c7a4b90bd838563f4a8678a7ad99567dde170a717b9100e4eddc4cb144"
 },
 "nbformat": 3,
 "nbformat_minor": 0,
 "worksheets": [
  {
   "cells": [
    {
     "cell_type": "heading",
     "level": 1,
     "metadata": {
      "slideshow": {
       "slide_type": "slide"
      }
     },
     "source": [
      "Python Data Analysis Library"
     ]
    },
    {
     "cell_type": "markdown",
     "metadata": {},
     "source": [
      "OpenTechSchool Workshop - [Hugo Herter](http://www.hugoherter.com) - August 2014"
     ]
    },
    {
     "cell_type": "markdown",
     "metadata": {},
     "source": [
      "![IPython logo](files/files/pandas-logo.png)"
     ]
    },
    {
     "cell_type": "markdown",
     "metadata": {
      "slideshow": {
       "slide_type": "slide"
      }
     },
     "source": [
      "# Description\n",
      "\n",
      "Pandas is a Python library providing high-performance, easy-to-use data structures and data analysis tools. \n",
      "\n",
      "The library is oriented towards _DataFrames_, table-like data structures that can be manipulated by a collection of methods:\n",
      "* sort, merge, join, filter, group by, reshape & pivots\n",
      "* read/write Excell, CSV, SQL databases, JSON\n",
      "* view as tables, plot graphs\n",
      "\n",
      "If you are familiar with R, think of [R Data Frames](https://stat.ethz.ch/R-manual/R-devel/library/base/html/data.frame.html) ported to Python.\n",
      "\n",
      "Under the hood, Pandas is based on [NumPy](http://www.numpy.org/), a powerful library for numerical computing in Python - you will encounter it a few times in this workshop."
     ]
    },
    {
     "cell_type": "markdown",
     "metadata": {
      "slideshow": {
       "slide_type": "slide"
      }
     },
     "source": [
      "# When did people register to this event\n",
      "\n",
      "The usecase we will be investigating is the following: \n",
      "\n",
      "    When did people register for this event ? Up to how many per day ? What hour during the day ?\n",
      "\n",
      "To achieve this, we will load the RSVPs information about this event from Meetup's API, load it into Pandas and manipulate it in order to answer the question above."
     ]
    },
    {
     "cell_type": "markdown",
     "metadata": {
      "slideshow": {
       "slide_type": "slide"
      }
     },
     "source": [
      "# First steps\n",
      "\n",
      "From Python data structures to Pandas"
     ]
    },
    {
     "cell_type": "code",
     "collapsed": false,
     "input": [
      "# Import and configure NumPy, Matplotlib and other useful math tools for running within the Notebook\n",
      "%pylab inline"
     ],
     "language": "python",
     "metadata": {},
     "outputs": [
      {
       "output_type": "stream",
       "stream": "stdout",
       "text": [
        "Populating the interactive namespace from numpy and matplotlib\n"
       ]
      }
     ],
     "prompt_number": 1
    },
    {
     "cell_type": "code",
     "collapsed": false,
     "input": [
      "# Load Pandas as any Python library:\n",
      "import pandas"
     ],
     "language": "python",
     "metadata": {},
     "outputs": [],
     "prompt_number": 2
    },
    {
     "cell_type": "markdown",
     "metadata": {},
     "source": [
      "Get your hands on a simple DataFrame"
     ]
    },
    {
     "cell_type": "code",
     "collapsed": false,
     "input": [
      "dataframe = pandas.DataFrame(range(0, 50, 10))\n",
      "dataframe"
     ],
     "language": "python",
     "metadata": {},
     "outputs": [
      {
       "html": [
        "<div style=\"max-height:1000px;max-width:1500px;overflow:auto;\">\n",
        "<table border=\"1\" class=\"dataframe\">\n",
        "  <thead>\n",
        "    <tr style=\"text-align: right;\">\n",
        "      <th></th>\n",
        "      <th>0</th>\n",
        "    </tr>\n",
        "  </thead>\n",
        "  <tbody>\n",
        "    <tr>\n",
        "      <th>0</th>\n",
        "      <td>  0</td>\n",
        "    </tr>\n",
        "    <tr>\n",
        "      <th>1</th>\n",
        "      <td> 10</td>\n",
        "    </tr>\n",
        "    <tr>\n",
        "      <th>2</th>\n",
        "      <td> 20</td>\n",
        "    </tr>\n",
        "    <tr>\n",
        "      <th>3</th>\n",
        "      <td> 30</td>\n",
        "    </tr>\n",
        "    <tr>\n",
        "      <th>4</th>\n",
        "      <td> 40</td>\n",
        "    </tr>\n",
        "  </tbody>\n",
        "</table>\n",
        "</div>"
       ],
       "metadata": {},
       "output_type": "pyout",
       "prompt_number": 3,
       "text": [
        "    0\n",
        "0   0\n",
        "1  10\n",
        "2  20\n",
        "3  30\n",
        "4  40"
       ]
      }
     ],
     "prompt_number": 3
    },
    {
     "cell_type": "markdown",
     "metadata": {},
     "source": [
      "You can plot this DataFrame by calling it's `plot()` method. "
     ]
    },
    {
     "cell_type": "code",
     "collapsed": false,
     "input": [
      "dataframe.plot()"
     ],
     "language": "python",
     "metadata": {},
     "outputs": [
      {
       "metadata": {},
       "output_type": "pyout",
       "prompt_number": 4,
       "text": [
        "<matplotlib.axes.AxesSubplot at 0x7f8a471ace90>"
       ]
      },
      {
       "metadata": {},
       "output_type": "display_data",
       "png": "[encoded data removed]",
       "text": [
        "<matplotlib.figure.Figure at 0x7f8a471ac990>"
       ]
      }
     ],
     "prompt_number": 4
    },
    {
     "cell_type": "markdown",
     "metadata": {},
     "source": [
      "By pressing TAB after typing `dataframe.`, the notebook will show you other methods you can use on this DataFrame. Don't hesitate to experiment."
     ]
    },
    {
     "cell_type": "markdown",
     "metadata": {
      "slideshow": {
       "slide_type": "slide"
      }
     },
     "source": [
      "# Meetup's data\n",
      "\n",
      "For this exercise, we will have a look at [this event](http://www.meetup.com/OpenTechSchool-Brussels/events/194806872/)'s data on Meetup.\n",
      "\n",
      "### First\n",
      "Grab your API authentication key: https://secure.meetup.com/meetup_api/key/\n",
      "\n",
      "### Second\n",
      "Load the required libraries\n",
      "* `import requests` for HTTP requests\n",
      "* API key\n",
      "* Event ID from the URL: `194806872`\n",
      "* API urls\n",
      " * subscriptions: https://api.meetup.com/2/rsvps/\n",
      " * event's description: https://api.meetup.com/2/event/{event_id} \n",
      " \n",
      "### Third\n",
      "Load the data and parse it.\n",
      "\n",
      "URL -> JSON -> DataFrame"
     ]
    },
    {
     "cell_type": "code",
     "collapsed": false,
     "input": [
      "import requests  # load HTTP requests\n",
      "from __future__ import print_function  # use Python 3 syntax for print(...)\n",
      "\n",
      "api_key = '72d84e1c4c2a50321268137412e73'\n",
      "event_id = '194806872'\n",
      "\n",
      "rsvps_url = \"https://api.meetup.com/2/rsvps/\"\n",
      "event_url = \"https://api.meetup.com/2/event/\" + event_id\n",
      "\n",
      "print(\"URLs:\")\n",
      "print(rsvps_url)\n",
      "print(event_url)"
     ],
     "language": "python",
     "metadata": {
      "slideshow": {
       "slide_type": "subslide"
      }
     },
     "outputs": [
      {
       "output_type": "stream",
       "stream": "stdout",
       "text": [
        "URLs:\n",
        "https://api.meetup.com/2/rsvps/\n",
        "https://api.meetup.com/2/event/194806872\n"
       ]
      }
     ],
     "prompt_number": 5
    },
    {
     "cell_type": "markdown",
     "metadata": {
      "slideshow": {
       "slide_type": "slide"
      }
     },
     "source": [
      "# Fetching data from the Meetup API\n",
      "\n",
      "First, load the data from the URL `rsvps_url`. You need to pass it two parameters: your API key and the identifier of the event."
     ]
    },
    {
     "cell_type": "code",
     "collapsed": false,
     "input": [
      "rsvps_dict = requests.get(rsvps_url, params={'key': api_key, 'event_id': event_id}).json()"
     ],
     "language": "python",
     "metadata": {},
     "outputs": [],
     "prompt_number": 6
    },
    {
     "cell_type": "markdown",
     "metadata": {},
     "source": [
      "You can then print the first result to see how it looks like. Here, we only print the first valye of the sub-element 'results' because the whole content is quite long, but you can experiment with it and try printing all of it or other subsets."
     ]
    },
    {
     "cell_type": "code",
     "collapsed": false,
     "input": [
      "rsvps_dict['results'][0]"
     ],
     "language": "python",
     "metadata": {},
     "outputs": [
      {
       "metadata": {},
       "output_type": "pyout",
       "prompt_number": 7,
       "text": [
        "{u'created': 1408919587000,\n",
        " u'event': {u'event_url': u'http://www.meetup.com/OpenTechSchool-Brussels/events/194806872/',\n",
        "  u'id': u'194806872',\n",
        "  u'name': u'Learn Data analysis with IPython Notebook and Pandas',\n",
        "  u'time': 1409072400000},\n",
        " u'group': {u'group_lat': 50.83000183105469,\n",
        "  u'group_lon': 4.329999923706055,\n",
        "  u'id': 9462812,\n",
        "  u'join_mode': u'open',\n",
        "  u'urlname': u'OpenTechSchool-Brussels'},\n",
        " u'guests': 0,\n",
        " u'member': {u'member_id': 162880392, u'name': u'Yannick Yemo'},\n",
        " u'member_photo': {u'highres_link': u'http://photos2.meetupstatic.com/photos/member/6/8/6/2/highres_220706722.jpeg',\n",
        "  u'photo_id': 220706722,\n",
        "  u'photo_link': u'http://photos4.meetupstatic.com/photos/member/6/8/6/2/member_220706722.jpeg',\n",
        "  u'thumb_link': u'http://photos2.meetupstatic.com/photos/member/6/8/6/2/thumb_220706722.jpeg'},\n",
        " u'mtime': 1408919587000,\n",
        " u'response': u'yes',\n",
        " u'rsvp_id': 1411704412,\n",
        " u'venue': {u'address_1': u'Franklin Rooseveltlaan 50, Brussels',\n",
        "  u'city': u'Brussels',\n",
        "  u'country': u'be',\n",
        "  u'id': 21985282,\n",
        "  u'lat': 50.81473,\n",
        "  u'lon': 4.381928,\n",
        "  u'name': u'ULB Building K, third floor, room K.3.201 (Campus Solbosch)',\n",
        "  u'repinned': True}}"
       ]
      }
     ],
     "prompt_number": 7
    },
    {
     "cell_type": "markdown",
     "metadata": {
      "slideshow": {
       "slide_type": "subslide"
      }
     },
     "source": [
      "# Transformation into a Pandas DataFrame\n",
      "\n",
      "Pandas can load data from many different formats. In this case, our data are structured as a list of dictionnaries, which can easily be translated into a table.\n",
      "\n",
      "Note that the source document is hierarchical with a depth greater than one for some fields. Once converted to a DataFrame, the value for these fields will keep its hierarchical structure as a Python dictionnary (display is cropped in the table below)."
     ]
    },
    {
     "cell_type": "code",
     "collapsed": false,
     "input": [
      "results = rsvps_dict['results']\n",
      "\n",
      "rsvps_raw = pandas.DataFrame(results)\n",
      "rsvps_raw.head()  # only prints the top rows of the table"
     ],
     "language": "python",
     "metadata": {},
     "outputs": [
      {
       "html": [
        "<div style=\"max-height:1000px;max-width:1500px;overflow:auto;\">\n",
        "<table border=\"1\" class=\"dataframe\">\n",
        "  <thead>\n",
        "    <tr style=\"text-align: right;\">\n",
        "      <th></th>\n",
        "      <th>created</th>\n",
        "      <th>event</th>\n",
        "      <th>group</th>\n",
        "      <th>guests</th>\n",
        "      <th>member</th>\n",
        "      <th>member_photo</th>\n",
        "      <th>mtime</th>\n",
        "      <th>response</th>\n",
        "      <th>rsvp_id</th>\n",
        "      <th>venue</th>\n",
        "    </tr>\n",
        "  </thead>\n",
        "  <tbody>\n",
        "    <tr>\n",
        "      <th>0</th>\n",
        "      <td> 1408919587000</td>\n",
        "      <td> {u'event_url': u'http://www.meetup.com/OpenTec...</td>\n",
        "      <td> {u'urlname': u'OpenTechSchool-Brussels', u'gro...</td>\n",
        "      <td> 0</td>\n",
        "      <td> {u'name': u'Yannick Yemo', u'member_id': 16288...</td>\n",
        "      <td> {u'thumb_link': u'http://photos2.meetupstatic....</td>\n",
        "      <td> 1408919587000</td>\n",
        "      <td> yes</td>\n",
        "      <td> 1411704412</td>\n",
        "      <td> {u'city': u'Brussels', u'name': u'ULB Building...</td>\n",
        "    </tr>\n",
        "    <tr>\n",
        "      <th>1</th>\n",
        "      <td> 1408633578000</td>\n",
        "      <td> {u'event_url': u'http://www.meetup.com/OpenTec...</td>\n",
        "      <td> {u'urlname': u'OpenTechSchool-Brussels', u'gro...</td>\n",
        "      <td> 0</td>\n",
        "      <td>       {u'name': u'Yann', u'member_id': 140547792}</td>\n",
        "      <td> {u'thumb_link': u'http://photos3.meetupstatic....</td>\n",
        "      <td> 1408633578000</td>\n",
        "      <td> yes</td>\n",
        "      <td> 1407439252</td>\n",
        "      <td> {u'city': u'Brussels', u'name': u'ULB Building...</td>\n",
        "    </tr>\n",
        "    <tr>\n",
        "      <th>2</th>\n",
        "      <td> 1408636360000</td>\n",
        "      <td> {u'event_url': u'http://www.meetup.com/OpenTec...</td>\n",
        "      <td> {u'urlname': u'OpenTechSchool-Brussels', u'gro...</td>\n",
        "      <td> 0</td>\n",
        "      <td> {u'name': u'Robert Johnston', u'member_id': 14...</td>\n",
        "      <td>                                               NaN</td>\n",
        "      <td> 1408636360000</td>\n",
        "      <td> yes</td>\n",
        "      <td> 1407497352</td>\n",
        "      <td> {u'city': u'Brussels', u'name': u'ULB Building...</td>\n",
        "    </tr>\n",
        "    <tr>\n",
        "      <th>3</th>\n",
        "      <td> 1407686959000</td>\n",
        "      <td> {u'event_url': u'http://www.meetup.com/OpenTec...</td>\n",
        "      <td> {u'urlname': u'OpenTechSchool-Brussels', u'gro...</td>\n",
        "      <td> 0</td>\n",
        "      <td> {u'name': u'Dylan Soubien', u'member_id': 1383...</td>\n",
        "      <td> {u'thumb_link': u'http://photos3.meetupstatic....</td>\n",
        "      <td> 1407686959000</td>\n",
        "      <td>  no</td>\n",
        "      <td> 1391751912</td>\n",
        "      <td> {u'city': u'Brussels', u'name': u'ULB Building...</td>\n",
        "    </tr>\n",
        "    <tr>\n",
        "      <th>4</th>\n",
        "      <td> 1405346392000</td>\n",
        "      <td> {u'event_url': u'http://www.meetup.com/OpenTec...</td>\n",
        "      <td> {u'urlname': u'OpenTechSchool-Brussels', u'gro...</td>\n",
        "      <td> 0</td>\n",
        "      <td>       {u'name': u'Ludo', u'member_id': 137883082}</td>\n",
        "      <td>                                               NaN</td>\n",
        "      <td> 1405346392000</td>\n",
        "      <td> yes</td>\n",
        "      <td> 1354372332</td>\n",
        "      <td> {u'city': u'Brussels', u'name': u'ULB Building...</td>\n",
        "    </tr>\n",
        "  </tbody>\n",
        "</table>\n",
        "</div>"
       ],
       "metadata": {},
       "output_type": "pyout",
       "prompt_number": 8,
       "text": [
        "         created                                              event  \\\n",
        "0  1408919587000  {u'event_url': u'http://www.meetup.com/OpenTec...   \n",
        "1  1408633578000  {u'event_url': u'http://www.meetup.com/OpenTec...   \n",
        "2  1408636360000  {u'event_url': u'http://www.meetup.com/OpenTec...   \n",
        "3  1407686959000  {u'event_url': u'http://www.meetup.com/OpenTec...   \n",
        "4  1405346392000  {u'event_url': u'http://www.meetup.com/OpenTec...   \n",
        "\n",
        "                                               group  guests  \\\n",
        "0  {u'urlname': u'OpenTechSchool-Brussels', u'gro...       0   \n",
        "1  {u'urlname': u'OpenTechSchool-Brussels', u'gro...       0   \n",
        "2  {u'urlname': u'OpenTechSchool-Brussels', u'gro...       0   \n",
        "3  {u'urlname': u'OpenTechSchool-Brussels', u'gro...       0   \n",
        "4  {u'urlname': u'OpenTechSchool-Brussels', u'gro...       0   \n",
        "\n",
        "                                              member  \\\n",
        "0  {u'name': u'Yannick Yemo', u'member_id': 16288...   \n",
        "1        {u'name': u'Yann', u'member_id': 140547792}   \n",
        "2  {u'name': u'Robert Johnston', u'member_id': 14...   \n",
        "3  {u'name': u'Dylan Soubien', u'member_id': 1383...   \n",
        "4        {u'name': u'Ludo', u'member_id': 137883082}   \n",
        "\n",
        "                                        member_photo          mtime response  \\\n",
        "0  {u'thumb_link': u'http://photos2.meetupstatic....  1408919587000      yes   \n",
        "1  {u'thumb_link': u'http://photos3.meetupstatic....  1408633578000      yes   \n",
        "2                                                NaN  1408636360000      yes   \n",
        "3  {u'thumb_link': u'http://photos3.meetupstatic....  1407686959000       no   \n",
        "4                                                NaN  1405346392000      yes   \n",
        "\n",
        "      rsvp_id                                              venue  \n",
        "0  1411704412  {u'city': u'Brussels', u'name': u'ULB Building...  \n",
        "1  1407439252  {u'city': u'Brussels', u'name': u'ULB Building...  \n",
        "2  1407497352  {u'city': u'Brussels', u'name': u'ULB Building...  \n",
        "3  1391751912  {u'city': u'Brussels', u'name': u'ULB Building...  \n",
        "4  1354372332  {u'city': u'Brussels', u'name': u'ULB Building...  "
       ]
      }
     ],
     "prompt_number": 8
    },
    {
     "cell_type": "markdown",
     "metadata": {
      "slideshow": {
       "slide_type": "subslide"
      }
     },
     "source": [
      "# Index by 'created' field\n",
      "\n",
      "It would be useful to index the original dataframe based on the RSVP creation date, as this is the dimension we are interested in. The `created` field is expressed in microseconds, so you also have to convert it into seconds before converting it to a DateTime object that can more easily be manipulated."
     ]
    },
    {
     "cell_type": "code",
     "collapsed": false,
     "input": [
      "# Index the raw dataframe by RSVP creation date:\n",
      "# - convers the 'created' field to a DateTime - Pandas wants microseconds\n",
      "rsvps_raw.index = pandas.to_datetime(rsvps_raw['created'] * 1000000)"
     ],
     "language": "python",
     "metadata": {},
     "outputs": [],
     "prompt_number": 9
    },
    {
     "cell_type": "markdown",
     "metadata": {},
     "source": [
      "As you can see, the first columns of your DataFrame looks different: it has been set as the index of the table:"
     ]
    },
    {
     "cell_type": "code",
     "collapsed": false,
     "input": [
      "rsvps_raw.head(3)"
     ],
     "language": "python",
     "metadata": {},
     "outputs": [
      {
       "html": [
        "<div style=\"max-height:1000px;max-width:1500px;overflow:auto;\">\n",
        "<table border=\"1\" class=\"dataframe\">\n",
        "  <thead>\n",
        "    <tr style=\"text-align: right;\">\n",
        "      <th></th>\n",
        "      <th>created</th>\n",
        "      <th>event</th>\n",
        "      <th>group</th>\n",
        "      <th>guests</th>\n",
        "      <th>member</th>\n",
        "      <th>member_photo</th>\n",
        "      <th>mtime</th>\n",
        "      <th>response</th>\n",
        "      <th>rsvp_id</th>\n",
        "      <th>venue</th>\n",
        "    </tr>\n",
        "    <tr>\n",
        "      <th>created</th>\n",
        "      <th></th>\n",
        "      <th></th>\n",
        "      <th></th>\n",
        "      <th></th>\n",
        "      <th></th>\n",
        "      <th></th>\n",
        "      <th></th>\n",
        "      <th></th>\n",
        "      <th></th>\n",
        "      <th></th>\n",
        "    </tr>\n",
        "  </thead>\n",
        "  <tbody>\n",
        "    <tr>\n",
        "      <th>2014-08-24 22:33:07</th>\n",
        "      <td> 1408919587000</td>\n",
        "      <td> {u'event_url': u'http://www.meetup.com/OpenTec...</td>\n",
        "      <td> {u'urlname': u'OpenTechSchool-Brussels', u'gro...</td>\n",
        "      <td> 0</td>\n",
        "      <td> {u'name': u'Yannick Yemo', u'member_id': 16288...</td>\n",
        "      <td> {u'thumb_link': u'http://photos2.meetupstatic....</td>\n",
        "      <td> 1408919587000</td>\n",
        "      <td> yes</td>\n",
        "      <td> 1411704412</td>\n",
        "      <td> {u'city': u'Brussels', u'name': u'ULB Building...</td>\n",
        "    </tr>\n",
        "    <tr>\n",
        "      <th>2014-08-21 15:06:18</th>\n",
        "      <td> 1408633578000</td>\n",
        "      <td> {u'event_url': u'http://www.meetup.com/OpenTec...</td>\n",
        "      <td> {u'urlname': u'OpenTechSchool-Brussels', u'gro...</td>\n",
        "      <td> 0</td>\n",
        "      <td>       {u'name': u'Yann', u'member_id': 140547792}</td>\n",
        "      <td> {u'thumb_link': u'http://photos3.meetupstatic....</td>\n",
        "      <td> 1408633578000</td>\n",
        "      <td> yes</td>\n",
        "      <td> 1407439252</td>\n",
        "      <td> {u'city': u'Brussels', u'name': u'ULB Building...</td>\n",
        "    </tr>\n",
        "    <tr>\n",
        "      <th>2014-08-21 15:52:40</th>\n",
        "      <td> 1408636360000</td>\n",
        "      <td> {u'event_url': u'http://www.meetup.com/OpenTec...</td>\n",
        "      <td> {u'urlname': u'OpenTechSchool-Brussels', u'gro...</td>\n",
        "      <td> 0</td>\n",
        "      <td> {u'name': u'Robert Johnston', u'member_id': 14...</td>\n",
        "      <td>                                               NaN</td>\n",
        "      <td> 1408636360000</td>\n",
        "      <td> yes</td>\n",
        "      <td> 1407497352</td>\n",
        "      <td> {u'city': u'Brussels', u'name': u'ULB Building...</td>\n",
        "    </tr>\n",
        "  </tbody>\n",
        "</table>\n",
        "</div>"
       ],
       "metadata": {},
       "output_type": "pyout",
       "prompt_number": 10,
       "text": [
        "                           created  \\\n",
        "created                              \n",
        "2014-08-24 22:33:07  1408919587000   \n",
        "2014-08-21 15:06:18  1408633578000   \n",
        "2014-08-21 15:52:40  1408636360000   \n",
        "\n",
        "                                                                 event  \\\n",
        "created                                                                  \n",
        "2014-08-24 22:33:07  {u'event_url': u'http://www.meetup.com/OpenTec...   \n",
        "2014-08-21 15:06:18  {u'event_url': u'http://www.meetup.com/OpenTec...   \n",
        "2014-08-21 15:52:40  {u'event_url': u'http://www.meetup.com/OpenTec...   \n",
        "\n",
        "                                                                 group  \\\n",
        "created                                                                  \n",
        "2014-08-24 22:33:07  {u'urlname': u'OpenTechSchool-Brussels', u'gro...   \n",
        "2014-08-21 15:06:18  {u'urlname': u'OpenTechSchool-Brussels', u'gro...   \n",
        "2014-08-21 15:52:40  {u'urlname': u'OpenTechSchool-Brussels', u'gro...   \n",
        "\n",
        "                     guests  \\\n",
        "created                       \n",
        "2014-08-24 22:33:07       0   \n",
        "2014-08-21 15:06:18       0   \n",
        "2014-08-21 15:52:40       0   \n",
        "\n",
        "                                                                member  \\\n",
        "created                                                                  \n",
        "2014-08-24 22:33:07  {u'name': u'Yannick Yemo', u'member_id': 16288...   \n",
        "2014-08-21 15:06:18        {u'name': u'Yann', u'member_id': 140547792}   \n",
        "2014-08-21 15:52:40  {u'name': u'Robert Johnston', u'member_id': 14...   \n",
        "\n",
        "                                                          member_photo  \\\n",
        "created                                                                  \n",
        "2014-08-24 22:33:07  {u'thumb_link': u'http://photos2.meetupstatic....   \n",
        "2014-08-21 15:06:18  {u'thumb_link': u'http://photos3.meetupstatic....   \n",
        "2014-08-21 15:52:40                                                NaN   \n",
        "\n",
        "                             mtime response     rsvp_id  \\\n",
        "created                                                   \n",
        "2014-08-24 22:33:07  1408919587000      yes  1411704412   \n",
        "2014-08-21 15:06:18  1408633578000      yes  1407439252   \n",
        "2014-08-21 15:52:40  1408636360000      yes  1407497352   \n",
        "\n",
        "                                                                 venue  \n",
        "created                                                                 \n",
        "2014-08-24 22:33:07  {u'city': u'Brussels', u'name': u'ULB Building...  \n",
        "2014-08-21 15:06:18  {u'city': u'Brussels', u'name': u'ULB Building...  \n",
        "2014-08-21 15:52:40  {u'city': u'Brussels', u'name': u'ULB Building...  "
       ]
      }
     ],
     "prompt_number": 10
    },
    {
     "cell_type": "markdown",
     "metadata": {
      "slideshow": {
       "slide_type": "subslide"
      }
     },
     "source": [
      "# Clean DataFrame\n",
      "\n",
      "The DataFrame you have just created contains both information we are not interested in and information structured in sub-dictionnaries.\n",
      "\n",
      "You will therefore create a new DataFrame and copy only the information relevant for our task into it."
     ]
    },
    {
     "cell_type": "code",
     "collapsed": false,
     "input": [
      "# Create a new 'clean' DataFrame:\n",
      "rsvps = pandas.DataFrame(rsvps_raw['response'])\n",
      "\n",
      "# Here is a function that will return the given key from a dictionnary if it exists,\n",
      "# and else return None. You will use it to extract information from dictionnary fields.\n",
      "def get_or_nan(dic, key):\n",
      "    try: return dic.get(key)\n",
      "    except AttributeError: return None\n",
      "\n",
      "rsvps['name'] = rsvps_raw['member'].map(lambda x: x.get('name'))\n",
      "rsvps['thumb'] = rsvps_raw['member_photo'].map(lambda x: get_or_nan(x, 'thumb_link'))\n",
      "rsvps['photo'] = rsvps_raw['member_photo'].map(lambda x: get_or_nan(x, 'photo_link'))\n",
      "\n",
      "rsvps.head(5)"
     ],
     "language": "python",
     "metadata": {},
     "outputs": [
      {
       "html": [
        "<div style=\"max-height:1000px;max-width:1500px;overflow:auto;\">\n",
        "<table border=\"1\" class=\"dataframe\">\n",
        "  <thead>\n",
        "    <tr style=\"text-align: right;\">\n",
        "      <th></th>\n",
        "      <th>response</th>\n",
        "      <th>name</th>\n",
        "      <th>thumb</th>\n",
        "      <th>photo</th>\n",
        "    </tr>\n",
        "    <tr>\n",
        "      <th>created</th>\n",
        "      <th></th>\n",
        "      <th></th>\n",
        "      <th></th>\n",
        "      <th></th>\n",
        "    </tr>\n",
        "  </thead>\n",
        "  <tbody>\n",
        "    <tr>\n",
        "      <th>2014-08-24 22:33:07</th>\n",
        "      <td> yes</td>\n",
        "      <td>    Yannick Yemo</td>\n",
        "      <td> http://photos2.meetupstatic.com/photos/member/...</td>\n",
        "      <td> http://photos4.meetupstatic.com/photos/member/...</td>\n",
        "    </tr>\n",
        "    <tr>\n",
        "      <th>2014-08-21 15:06:18</th>\n",
        "      <td> yes</td>\n",
        "      <td>            Yann</td>\n",
        "      <td> http://photos3.meetupstatic.com/photos/member/...</td>\n",
        "      <td> http://photos1.meetupstatic.com/photos/member/...</td>\n",
        "    </tr>\n",
        "    <tr>\n",
        "      <th>2014-08-21 15:52:40</th>\n",
        "      <td> yes</td>\n",
        "      <td> Robert Johnston</td>\n",
        "      <td>                                              None</td>\n",
        "      <td>                                              None</td>\n",
        "    </tr>\n",
        "    <tr>\n",
        "      <th>2014-08-10 16:09:19</th>\n",
        "      <td>  no</td>\n",
        "      <td>   Dylan Soubien</td>\n",
        "      <td> http://photos3.meetupstatic.com/photos/member/...</td>\n",
        "      <td> http://photos3.meetupstatic.com/photos/member/...</td>\n",
        "    </tr>\n",
        "    <tr>\n",
        "      <th>2014-07-14 13:59:52</th>\n",
        "      <td> yes</td>\n",
        "      <td>            Ludo</td>\n",
        "      <td>                                              None</td>\n",
        "      <td>                                              None</td>\n",
        "    </tr>\n",
        "  </tbody>\n",
        "</table>\n",
        "</div>"
       ],
       "metadata": {},
       "output_type": "pyout",
       "prompt_number": 11,
       "text": [
        "                    response             name  \\\n",
        "created                                         \n",
        "2014-08-24 22:33:07      yes     Yannick Yemo   \n",
        "2014-08-21 15:06:18      yes             Yann   \n",
        "2014-08-21 15:52:40      yes  Robert Johnston   \n",
        "2014-08-10 16:09:19       no    Dylan Soubien   \n",
        "2014-07-14 13:59:52      yes             Ludo   \n",
        "\n",
        "                                                                 thumb  \\\n",
        "created                                                                  \n",
        "2014-08-24 22:33:07  http://photos2.meetupstatic.com/photos/member/...   \n",
        "2014-08-21 15:06:18  http://photos3.meetupstatic.com/photos/member/...   \n",
        "2014-08-21 15:52:40                                               None   \n",
        "2014-08-10 16:09:19  http://photos3.meetupstatic.com/photos/member/...   \n",
        "2014-07-14 13:59:52                                               None   \n",
        "\n",
        "                                                                 photo  \n",
        "created                                                                 \n",
        "2014-08-24 22:33:07  http://photos4.meetupstatic.com/photos/member/...  \n",
        "2014-08-21 15:06:18  http://photos1.meetupstatic.com/photos/member/...  \n",
        "2014-08-21 15:52:40                                               None  \n",
        "2014-08-10 16:09:19  http://photos3.meetupstatic.com/photos/member/...  \n",
        "2014-07-14 13:59:52                                               None  "
       ]
      }
     ],
     "prompt_number": 11
    },
    {
     "cell_type": "markdown",
     "metadata": {
      "slideshow": {
       "slide_type": "subslide"
      }
     },
     "source": [
      "## Grouping data\n",
      "\n",
      "Pandas contains a lot of shortcuts and handful properties. For example, the date or the hour of a _Datetime_ column can be extracted easily in the form of `dataframe.column.date` or `dataframe.column.hour`.\n",
      "\n",
      "The method `groupby(field name)` on a DataFrame allows for grouping it's content by a certain column for further processing. In this case, you will want to group it by day and then aggregate the length of each group to get the number of registrations for each day. (This will only show registrations for dates with at least one registration)."
     ]
    },
    {
     "cell_type": "code",
     "collapsed": false,
     "input": [
      "# Create a new column containing only the date (without the time)\n",
      "rsvps['day'] = rsvps.index.date\n",
      "rsvps_per_day = rsvps.groupby('day').agg(len)\n",
      "rsvps_per_day"
     ],
     "language": "python",
     "metadata": {
      "slideshow": {
       "slide_type": "-"
      }
     },
     "outputs": [
      {
       "html": [
        "<div style=\"max-height:1000px;max-width:1500px;overflow:auto;\">\n",
        "<table border=\"1\" class=\"dataframe\">\n",
        "  <thead>\n",
        "    <tr style=\"text-align: right;\">\n",
        "      <th></th>\n",
        "      <th>response</th>\n",
        "      <th>name</th>\n",
        "      <th>thumb</th>\n",
        "      <th>photo</th>\n",
        "    </tr>\n",
        "    <tr>\n",
        "      <th>day</th>\n",
        "      <th></th>\n",
        "      <th></th>\n",
        "      <th></th>\n",
        "      <th></th>\n",
        "    </tr>\n",
        "  </thead>\n",
        "  <tbody>\n",
        "    <tr>\n",
        "      <th>2014-07-14</th>\n",
        "      <td> 8</td>\n",
        "      <td> 8</td>\n",
        "      <td> 8</td>\n",
        "      <td> 8</td>\n",
        "    </tr>\n",
        "    <tr>\n",
        "      <th>2014-07-15</th>\n",
        "      <td> 4</td>\n",
        "      <td> 4</td>\n",
        "      <td> 4</td>\n",
        "      <td> 4</td>\n",
        "    </tr>\n",
        "    <tr>\n",
        "      <th>2014-07-16</th>\n",
        "      <td> 3</td>\n",
        "      <td> 3</td>\n",
        "      <td> 3</td>\n",
        "      <td> 3</td>\n",
        "    </tr>\n",
        "    <tr>\n",
        "      <th>2014-07-17</th>\n",
        "      <td> 1</td>\n",
        "      <td> 1</td>\n",
        "      <td> 1</td>\n",
        "      <td> 1</td>\n",
        "    </tr>\n",
        "    <tr>\n",
        "      <th>2014-07-18</th>\n",
        "      <td> 1</td>\n",
        "      <td> 1</td>\n",
        "      <td> 1</td>\n",
        "      <td> 1</td>\n",
        "    </tr>\n",
        "    <tr>\n",
        "      <th>2014-07-21</th>\n",
        "      <td> 1</td>\n",
        "      <td> 1</td>\n",
        "      <td> 1</td>\n",
        "      <td> 1</td>\n",
        "    </tr>\n",
        "    <tr>\n",
        "      <th>2014-07-23</th>\n",
        "      <td> 1</td>\n",
        "      <td> 1</td>\n",
        "      <td> 1</td>\n",
        "      <td> 1</td>\n",
        "    </tr>\n",
        "    <tr>\n",
        "      <th>2014-07-26</th>\n",
        "      <td> 1</td>\n",
        "      <td> 1</td>\n",
        "      <td> 1</td>\n",
        "      <td> 1</td>\n",
        "    </tr>\n",
        "    <tr>\n",
        "      <th>2014-07-28</th>\n",
        "      <td> 1</td>\n",
        "      <td> 1</td>\n",
        "      <td> 1</td>\n",
        "      <td> 1</td>\n",
        "    </tr>\n",
        "    <tr>\n",
        "      <th>2014-07-30</th>\n",
        "      <td> 1</td>\n",
        "      <td> 1</td>\n",
        "      <td> 1</td>\n",
        "      <td> 1</td>\n",
        "    </tr>\n",
        "    <tr>\n",
        "      <th>2014-08-01</th>\n",
        "      <td> 1</td>\n",
        "      <td> 1</td>\n",
        "      <td> 1</td>\n",
        "      <td> 1</td>\n",
        "    </tr>\n",
        "    <tr>\n",
        "      <th>2014-08-02</th>\n",
        "      <td> 1</td>\n",
        "      <td> 1</td>\n",
        "      <td> 1</td>\n",
        "      <td> 1</td>\n",
        "    </tr>\n",
        "    <tr>\n",
        "      <th>2014-08-03</th>\n",
        "      <td> 1</td>\n",
        "      <td> 1</td>\n",
        "      <td> 1</td>\n",
        "      <td> 1</td>\n",
        "    </tr>\n",
        "    <tr>\n",
        "      <th>2014-08-04</th>\n",
        "      <td> 1</td>\n",
        "      <td> 1</td>\n",
        "      <td> 1</td>\n",
        "      <td> 1</td>\n",
        "    </tr>\n",
        "    <tr>\n",
        "      <th>2014-08-06</th>\n",
        "      <td> 1</td>\n",
        "      <td> 1</td>\n",
        "      <td> 1</td>\n",
        "      <td> 1</td>\n",
        "    </tr>\n",
        "    <tr>\n",
        "      <th>2014-08-09</th>\n",
        "      <td> 1</td>\n",
        "      <td> 1</td>\n",
        "      <td> 1</td>\n",
        "      <td> 1</td>\n",
        "    </tr>\n",
        "    <tr>\n",
        "      <th>2014-08-10</th>\n",
        "      <td> 2</td>\n",
        "      <td> 2</td>\n",
        "      <td> 2</td>\n",
        "      <td> 2</td>\n",
        "    </tr>\n",
        "    <tr>\n",
        "      <th>2014-08-11</th>\n",
        "      <td> 2</td>\n",
        "      <td> 2</td>\n",
        "      <td> 2</td>\n",
        "      <td> 2</td>\n",
        "    </tr>\n",
        "    <tr>\n",
        "      <th>2014-08-12</th>\n",
        "      <td> 1</td>\n",
        "      <td> 1</td>\n",
        "      <td> 1</td>\n",
        "      <td> 1</td>\n",
        "    </tr>\n",
        "    <tr>\n",
        "      <th>2014-08-17</th>\n",
        "      <td> 2</td>\n",
        "      <td> 2</td>\n",
        "      <td> 2</td>\n",
        "      <td> 2</td>\n",
        "    </tr>\n",
        "    <tr>\n",
        "      <th>2014-08-18</th>\n",
        "      <td> 2</td>\n",
        "      <td> 2</td>\n",
        "      <td> 2</td>\n",
        "      <td> 2</td>\n",
        "    </tr>\n",
        "    <tr>\n",
        "      <th>2014-08-19</th>\n",
        "      <td> 1</td>\n",
        "      <td> 1</td>\n",
        "      <td> 1</td>\n",
        "      <td> 1</td>\n",
        "    </tr>\n",
        "    <tr>\n",
        "      <th>2014-08-20</th>\n",
        "      <td> 5</td>\n",
        "      <td> 5</td>\n",
        "      <td> 5</td>\n",
        "      <td> 5</td>\n",
        "    </tr>\n",
        "    <tr>\n",
        "      <th>2014-08-21</th>\n",
        "      <td> 4</td>\n",
        "      <td> 4</td>\n",
        "      <td> 4</td>\n",
        "      <td> 4</td>\n",
        "    </tr>\n",
        "    <tr>\n",
        "      <th>2014-08-22</th>\n",
        "      <td> 1</td>\n",
        "      <td> 1</td>\n",
        "      <td> 1</td>\n",
        "      <td> 1</td>\n",
        "    </tr>\n",
        "    <tr>\n",
        "      <th>2014-08-23</th>\n",
        "      <td> 1</td>\n",
        "      <td> 1</td>\n",
        "      <td> 1</td>\n",
        "      <td> 1</td>\n",
        "    </tr>\n",
        "    <tr>\n",
        "      <th>2014-08-24</th>\n",
        "      <td> 2</td>\n",
        "      <td> 2</td>\n",
        "      <td> 2</td>\n",
        "      <td> 2</td>\n",
        "    </tr>\n",
        "    <tr>\n",
        "      <th>2014-08-25</th>\n",
        "      <td> 3</td>\n",
        "      <td> 3</td>\n",
        "      <td> 3</td>\n",
        "      <td> 3</td>\n",
        "    </tr>\n",
        "  </tbody>\n",
        "</table>\n",
        "</div>"
       ],
       "metadata": {},
       "output_type": "pyout",
       "prompt_number": 12,
       "text": [
        "            response  name  thumb  photo\n",
        "day                                     \n",
        "2014-07-14         8     8      8      8\n",
        "2014-07-15         4     4      4      4\n",
        "2014-07-16         3     3      3      3\n",
        "2014-07-17         1     1      1      1\n",
        "2014-07-18         1     1      1      1\n",
        "2014-07-21         1     1      1      1\n",
        "2014-07-23         1     1      1      1\n",
        "2014-07-26         1     1      1      1\n",
        "2014-07-28         1     1      1      1\n",
        "2014-07-30         1     1      1      1\n",
        "2014-08-01         1     1      1      1\n",
        "2014-08-02         1     1      1      1\n",
        "2014-08-03         1     1      1      1\n",
        "2014-08-04         1     1      1      1\n",
        "2014-08-06         1     1      1      1\n",
        "2014-08-09         1     1      1      1\n",
        "2014-08-10         2     2      2      2\n",
        "2014-08-11         2     2      2      2\n",
        "2014-08-12         1     1      1      1\n",
        "2014-08-17         2     2      2      2\n",
        "2014-08-18         2     2      2      2\n",
        "2014-08-19         1     1      1      1\n",
        "2014-08-20         5     5      5      5\n",
        "2014-08-21         4     4      4      4\n",
        "2014-08-22         1     1      1      1\n",
        "2014-08-23         1     1      1      1\n",
        "2014-08-24         2     2      2      2\n",
        "2014-08-25         3     3      3      3"
       ]
      }
     ],
     "prompt_number": 12
    },
    {
     "cell_type": "markdown",
     "metadata": {},
     "source": [
      "Now that you got your data, you may want to visualize it as a graph using the `plot()` method. Specifying the marker allows to see more precisely the data points."
     ]
    },
    {
     "cell_type": "code",
     "collapsed": false,
     "input": [
      "rsvps_per_day['response'].plot(marker='o')"
     ],
     "language": "python",
     "metadata": {},
     "outputs": [
      {
       "metadata": {},
       "output_type": "pyout",
       "prompt_number": 13,
       "text": [
        "<matplotlib.axes.AxesSubplot at 0x7f8a46d659d0>"
       ]
      },
      {
       "metadata": {},
       "output_type": "display_data",
       "png": "[encoded data removed]",
       "text": [
        "<matplotlib.figure.Figure at 0x7f8a46dbdb90>"
       ]
      }
     ],
     "prompt_number": 13
    },
    {
     "cell_type": "markdown",
     "metadata": {
      "slideshow": {
       "slide_type": "subslide"
      }
     },
     "source": [
      "# Grouping by hour and going further.\n",
      "\n",
      "You can also look at the hour of the day at which people registered for this event by grouping by hour. "
     ]
    },
    {
     "cell_type": "code",
     "collapsed": false,
     "input": [
      "rsvps['hour'] = rsvps.index.hour\n",
      "rsvps_per_hour = rsvps.groupby('hour').agg(len)\n",
      "rsvps_per_hour['response'].plot(marker='o')"
     ],
     "language": "python",
     "metadata": {},
     "outputs": [
      {
       "metadata": {},
       "output_type": "pyout",
       "prompt_number": 14,
       "text": [
        "<matplotlib.axes.AxesSubplot at 0x7f8a4641a550>"
       ]
      },
      {
       "metadata": {},
       "output_type": "display_data",
       "png": "[encoded data removed]",
       "text": [
        "<matplotlib.figure.Figure at 0x7f8a46410810>"
       ]
      }
     ],
     "prompt_number": 14
    },
    {
     "cell_type": "markdown",
     "metadata": {},
     "source": [
      "From here, you can have a look at the photo of the people who did register at a given hour. In this example, I will show you how to look for people who did register at 13h (after 13h and before 14h), and who have a profile photo.\n",
      "\n",
      "`rsvps.thumb.notnull()` will give you a boolean matrix you can use to filter out people with no profile photo.\n",
      "\n",
      "_Reminder_: `.head()` is used to only print the first rows of the result."
     ]
    },
    {
     "cell_type": "code",
     "collapsed": false,
     "input": [
      "rsvps.thumb.notnull().head()"
     ],
     "language": "python",
     "metadata": {},
     "outputs": [
      {
       "metadata": {},
       "output_type": "pyout",
       "prompt_number": 15,
       "text": [
        "created\n",
        "2014-08-24 22:33:07     True\n",
        "2014-08-21 15:06:18     True\n",
        "2014-08-21 15:52:40    False\n",
        "2014-08-10 16:09:19     True\n",
        "2014-07-14 13:59:52    False\n",
        "Name: thumb, dtype: bool"
       ]
      }
     ],
     "prompt_number": 15
    },
    {
     "cell_type": "markdown",
     "metadata": {},
     "source": [
      "In a similar way, `rsvps.hour==13` will give you a boolean matrix you can use to filter people who registeted at 13h."
     ]
    },
    {
     "cell_type": "code",
     "collapsed": false,
     "input": [
      "(rsvps.hour == 13).head()"
     ],
     "language": "python",
     "metadata": {},
     "outputs": [
      {
       "metadata": {},
       "output_type": "pyout",
       "prompt_number": 16,
       "text": [
        "created\n",
        "2014-08-24 22:33:07    False\n",
        "2014-08-21 15:06:18    False\n",
        "2014-08-21 15:52:40    False\n",
        "2014-08-10 16:09:19    False\n",
        "2014-07-14 13:59:52     True\n",
        "Name: hour, dtype: bool"
       ]
      }
     ],
     "prompt_number": 16
    },
    {
     "cell_type": "markdown",
     "metadata": {},
     "source": [
      "You can combine both these filters as follows, and you should only get RSVPs between 13h and 14h with a profile picture."
     ]
    },
    {
     "cell_type": "code",
     "collapsed": false,
     "input": [
      "rsvps[rsvps.thumb.notnull()][rsvps.hour==13]"
     ],
     "language": "python",
     "metadata": {},
     "outputs": [
      {
       "html": [
        "<div style=\"max-height:1000px;max-width:1500px;overflow:auto;\">\n",
        "<table border=\"1\" class=\"dataframe\">\n",
        "  <thead>\n",
        "    <tr style=\"text-align: right;\">\n",
        "      <th></th>\n",
        "      <th>response</th>\n",
        "      <th>name</th>\n",
        "      <th>thumb</th>\n",
        "      <th>photo</th>\n",
        "      <th>day</th>\n",
        "      <th>hour</th>\n",
        "    </tr>\n",
        "    <tr>\n",
        "      <th>created</th>\n",
        "      <th></th>\n",
        "      <th></th>\n",
        "      <th></th>\n",
        "      <th></th>\n",
        "      <th></th>\n",
        "      <th></th>\n",
        "    </tr>\n",
        "  </thead>\n",
        "  <tbody>\n",
        "    <tr>\n",
        "      <th>2014-08-20 13:03:10</th>\n",
        "      <td> yes</td>\n",
        "      <td>          Satblip</td>\n",
        "      <td> http://photos3.meetupstatic.com/photos/member/...</td>\n",
        "      <td> http://photos3.meetupstatic.com/photos/member/...</td>\n",
        "      <td> 2014-08-20</td>\n",
        "      <td> 13</td>\n",
        "    </tr>\n",
        "    <tr>\n",
        "      <th>2014-07-14 13:05:24</th>\n",
        "      <td>  no</td>\n",
        "      <td>            Steve</td>\n",
        "      <td> http://photos2.meetupstatic.com/photos/member/...</td>\n",
        "      <td> http://photos2.meetupstatic.com/photos/member/...</td>\n",
        "      <td> 2014-07-14</td>\n",
        "      <td> 13</td>\n",
        "    </tr>\n",
        "    <tr>\n",
        "      <th>2014-07-14 13:46:05</th>\n",
        "      <td> yes</td>\n",
        "      <td> Antonio Rebordao</td>\n",
        "      <td> http://photos1.meetupstatic.com/photos/member/...</td>\n",
        "      <td> http://photos3.meetupstatic.com/photos/member/...</td>\n",
        "      <td> 2014-07-14</td>\n",
        "      <td> 13</td>\n",
        "    </tr>\n",
        "    <tr>\n",
        "      <th>2014-07-28 13:59:23</th>\n",
        "      <td>  no</td>\n",
        "      <td>  Rosalind Lester</td>\n",
        "      <td> http://photos3.meetupstatic.com/photos/member/...</td>\n",
        "      <td> http://photos3.meetupstatic.com/photos/member/...</td>\n",
        "      <td> 2014-07-28</td>\n",
        "      <td> 13</td>\n",
        "    </tr>\n",
        "    <tr>\n",
        "      <th>2014-07-14 13:42:39</th>\n",
        "      <td> yes</td>\n",
        "      <td>  Matteo Gagliolo</td>\n",
        "      <td> http://photos1.meetupstatic.com/photos/member/...</td>\n",
        "      <td> http://photos3.meetupstatic.com/photos/member/...</td>\n",
        "      <td> 2014-07-14</td>\n",
        "      <td> 13</td>\n",
        "    </tr>\n",
        "    <tr>\n",
        "      <th>2014-08-20 13:04:16</th>\n",
        "      <td> yes</td>\n",
        "      <td>         Augustin</td>\n",
        "      <td> http://photos2.meetupstatic.com/photos/member/...</td>\n",
        "      <td> http://photos4.meetupstatic.com/photos/member/...</td>\n",
        "      <td> 2014-08-20</td>\n",
        "      <td> 13</td>\n",
        "    </tr>\n",
        "  </tbody>\n",
        "</table>\n",
        "</div>"
       ],
       "metadata": {},
       "output_type": "pyout",
       "prompt_number": 63,
       "text": [
        "                    response              name  \\\n",
        "created                                          \n",
        "2014-08-20 13:03:10      yes           Satblip   \n",
        "2014-07-14 13:05:24       no             Steve   \n",
        "2014-07-14 13:46:05      yes  Antonio Rebordao   \n",
        "2014-07-28 13:59:23       no   Rosalind Lester   \n",
        "2014-07-14 13:42:39      yes   Matteo Gagliolo   \n",
        "2014-08-20 13:04:16      yes          Augustin   \n",
        "\n",
        "                                                                 thumb  \\\n",
        "created                                                                  \n",
        "2014-08-20 13:03:10  http://photos3.meetupstatic.com/photos/member/...   \n",
        "2014-07-14 13:05:24  http://photos2.meetupstatic.com/photos/member/...   \n",
        "2014-07-14 13:46:05  http://photos1.meetupstatic.com/photos/member/...   \n",
        "2014-07-28 13:59:23  http://photos3.meetupstatic.com/photos/member/...   \n",
        "2014-07-14 13:42:39  http://photos1.meetupstatic.com/photos/member/...   \n",
        "2014-08-20 13:04:16  http://photos2.meetupstatic.com/photos/member/...   \n",
        "\n",
        "                                                                 photo  \\\n",
        "created                                                                  \n",
        "2014-08-20 13:03:10  http://photos3.meetupstatic.com/photos/member/...   \n",
        "2014-07-14 13:05:24  http://photos2.meetupstatic.com/photos/member/...   \n",
        "2014-07-14 13:46:05  http://photos3.meetupstatic.com/photos/member/...   \n",
        "2014-07-28 13:59:23  http://photos3.meetupstatic.com/photos/member/...   \n",
        "2014-07-14 13:42:39  http://photos3.meetupstatic.com/photos/member/...   \n",
        "2014-08-20 13:04:16  http://photos4.meetupstatic.com/photos/member/...   \n",
        "\n",
        "                            day  hour  \n",
        "created                                \n",
        "2014-08-20 13:03:10  2014-08-20    13  \n",
        "2014-07-14 13:05:24  2014-07-14    13  \n",
        "2014-07-14 13:46:05  2014-07-14    13  \n",
        "2014-07-28 13:59:23  2014-07-28    13  \n",
        "2014-07-14 13:42:39  2014-07-14    13  \n",
        "2014-08-20 13:04:16  2014-08-20    13  "
       ]
      }
     ],
     "prompt_number": 63
    },
    {
     "cell_type": "markdown",
     "metadata": {},
     "source": [
      "Finally, you can plot the member's photos:"
     ]
    },
    {
     "cell_type": "code",
     "collapsed": false,
     "input": [
      "from IPython.display import Image\n",
      "\n",
      "for i in rsvps[rsvps.thumb.notnull()][rsvps.hour==13].thumb:\n",
      "    display(Image(i))"
     ],
     "language": "python",
     "metadata": {},
     "outputs": [
      {
       "jpeg": "[encoded data removed]",
       "metadata": {},
       "output_type": "display_data",
       "text": [
        "<IPython.core.display.Image at 0x7f8a462b7ed0>"
       ]
      },
      {
       "jpeg": "[encoded data removed]",
       "metadata": {},
       "output_type": "display_data",
       "text": [
        "<IPython.core.display.Image at 0x7f8a46e6f8d0>"
       ]
      },
      {
       "jpeg": "[encoded data removed]",
       "metadata": {},
       "output_type": "display_data",
       "text": [
        "<IPython.core.display.Image at 0x7f8a462b7dd0>"
       ]
      },
      {
       "jpeg": "[encoded data removed]",
       "metadata": {},
       "output_type": "display_data",
       "text": [
        "<IPython.core.display.Image at 0x7f8a462c6090>"
       ]
      },
      {
       "jpeg": "[encoded data removed]",
       "metadata": {},
       "output_type": "display_data",
       "text": [
        "<IPython.core.display.Image at 0x7f8a462c6450>"
       ]
      },
      {
       "jpeg": "[encoded data removed]",
       "metadata": {},
       "output_type": "display_data",
       "text": [
        "<IPython.core.display.Image at 0x7f8a462c6250>"
       ]
      }
     ],
     "prompt_number": 18
    },
    {
     "cell_type": "markdown",
     "metadata": {},
     "source": [
      "How would you search for the photo for registrations during night time ?"
     ]
    },
    {
     "cell_type": "markdown",
     "metadata": {
      "slideshow": {
       "slide_type": "slide"
      }
     },
     "source": [
      "# Geographical data\n",
      "\n",
      "Finally, you will have a look at some geographical data to see how well they can be manipulated in the notebook.\n",
      "\n",
      "In this chapter, you will download the list of venues of past OpenTechSchool Brussels events from Meetup, filter empty values and display them on a map of Brussels.\n",
      "\n",
      "The Map section will be handled with [folium](https://github.com/wrobstory/folium), a Python library to control the famous [Leaflet](http://leafletjs.com/) JavaScript library for Interactive Maps."
     ]
    },
    {
     "cell_type": "code",
     "collapsed": false,
     "input": [
      "OTS_venues_url = \"https://api.meetup.com/2/venues\""
     ],
     "language": "python",
     "metadata": {},
     "outputs": [],
     "prompt_number": 19
    },
    {
     "cell_type": "code",
     "collapsed": false,
     "input": [
      "venues_dict = requests.get(OTS_venues_url, params={'key': api_key, 'group_urlname': \"OpenTechSchool-Brussels\", 'status': 'past'}).json()"
     ],
     "language": "python",
     "metadata": {},
     "outputs": [],
     "prompt_number": 20
    },
    {
     "cell_type": "code",
     "collapsed": false,
     "input": [
      "venues_dict['results'][0]"
     ],
     "language": "python",
     "metadata": {},
     "outputs": [
      {
       "metadata": {},
       "output_type": "pyout",
       "prompt_number": 21,
       "text": [
        "{u'address_1': u'Bessenveldstraat 19',\n",
        " u'city': u'Diegem',\n",
        " u'country': u'be',\n",
        " u'distance': 0,\n",
        " u'id': 13589072,\n",
        " u'lat': 50.882275,\n",
        " u'lon': 4.436641,\n",
        " u'name': u'Capgemini Belgium',\n",
        " u'rating': 4,\n",
        " u'rating_count': 1}"
       ]
      }
     ],
     "prompt_number": 21
    },
    {
     "cell_type": "code",
     "collapsed": false,
     "input": [
      "venues = pandas.DataFrame(venues_dict['results'])\n",
      "venues"
     ],
     "language": "python",
     "metadata": {},
     "outputs": [
      {
       "html": [
        "<div style=\"max-height:1000px;max-width:1500px;overflow:auto;\">\n",
        "<table border=\"1\" class=\"dataframe\">\n",
        "  <thead>\n",
        "    <tr style=\"text-align: right;\">\n",
        "      <th></th>\n",
        "      <th>address_1</th>\n",
        "      <th>city</th>\n",
        "      <th>country</th>\n",
        "      <th>distance</th>\n",
        "      <th>id</th>\n",
        "      <th>lat</th>\n",
        "      <th>lon</th>\n",
        "      <th>name</th>\n",
        "      <th>phone</th>\n",
        "      <th>rating</th>\n",
        "      <th>rating_count</th>\n",
        "    </tr>\n",
        "  </thead>\n",
        "  <tbody>\n",
        "    <tr>\n",
        "      <th>0 </th>\n",
        "      <td>                 Bessenveldstraat 19</td>\n",
        "      <td>   Diegem</td>\n",
        "      <td> be</td>\n",
        "      <td> 0</td>\n",
        "      <td> 13589072</td>\n",
        "      <td> 50.882275</td>\n",
        "      <td> 4.436641</td>\n",
        "      <td>                                 Capgemini Belgium</td>\n",
        "      <td>            NaN</td>\n",
        "      <td> 4.00</td>\n",
        "      <td>  1</td>\n",
        "    </tr>\n",
        "    <tr>\n",
        "      <th>1 </th>\n",
        "      <td>                Koolmijnenkaai 30-34</td>\n",
        "      <td> Brussels</td>\n",
        "      <td> be</td>\n",
        "      <td> 0</td>\n",
        "      <td>  1277210</td>\n",
        "      <td> 50.854667</td>\n",
        "      <td> 4.342152</td>\n",
        "      <td>                                          FoAM vzw</td>\n",
        "      <td>            NaN</td>\n",
        "      <td> 5.00</td>\n",
        "      <td>  3</td>\n",
        "    </tr>\n",
        "    <tr>\n",
        "      <th>2 </th>\n",
        "      <td>           Steenweg op Etterbeek 180</td>\n",
        "      <td> Brussels</td>\n",
        "      <td> be</td>\n",
        "      <td> 0</td>\n",
        "      <td>  1318152</td>\n",
        "      <td> 50.838128</td>\n",
        "      <td> 4.380773</td>\n",
        "      <td>                                    Google Belgium</td>\n",
        "      <td> +32 477 482870</td>\n",
        "      <td> 4.60</td>\n",
        "      <td> 25</td>\n",
        "    </tr>\n",
        "    <tr>\n",
        "      <th>3 </th>\n",
        "      <td>   Rue du Moulin 40 | Molenstraat 40</td>\n",
        "      <td> Brussels</td>\n",
        "      <td> be</td>\n",
        "      <td> 0</td>\n",
        "      <td> 14691632</td>\n",
        "      <td> 50.850338</td>\n",
        "      <td> 4.351710</td>\n",
        "      <td>                              Hackerspace Brussels</td>\n",
        "      <td>            NaN</td>\n",
        "      <td> 4.67</td>\n",
        "      <td> 21</td>\n",
        "    </tr>\n",
        "    <tr>\n",
        "      <th>4 </th>\n",
        "      <td>         30-34 Quai des Charbonnages</td>\n",
        "      <td> Brussels</td>\n",
        "      <td> be</td>\n",
        "      <td> 0</td>\n",
        "      <td> 18557642</td>\n",
        "      <td> 50.854759</td>\n",
        "      <td> 4.342060</td>\n",
        "      <td>                                              iMal</td>\n",
        "      <td>            NaN</td>\n",
        "      <td> 5.00</td>\n",
        "      <td>  2</td>\n",
        "    </tr>\n",
        "    <tr>\n",
        "      <th>5 </th>\n",
        "      <td>    Rue Sans Souci 131, 1050 Ixelles</td>\n",
        "      <td> Brussels</td>\n",
        "      <td> be</td>\n",
        "      <td> 0</td>\n",
        "      <td> 21499202</td>\n",
        "      <td> 50.832249</td>\n",
        "      <td> 4.372640</td>\n",
        "      <td>                       Ixelles Library Sans Soucie</td>\n",
        "      <td>            NaN</td>\n",
        "      <td> 4.67</td>\n",
        "      <td>  3</td>\n",
        "    </tr>\n",
        "    <tr>\n",
        "      <th>6 </th>\n",
        "      <td>             Chauss\u00e9e de Louvain 242</td>\n",
        "      <td> Brussels</td>\n",
        "      <td> be</td>\n",
        "      <td> 0</td>\n",
        "      <td> 19428452</td>\n",
        "      <td> 50.850121</td>\n",
        "      <td> 4.380240</td>\n",
        "      <td>                                          Labokube</td>\n",
        "      <td>            NaN</td>\n",
        "      <td> 4.50</td>\n",
        "      <td>  4</td>\n",
        "    </tr>\n",
        "    <tr>\n",
        "      <th>7 </th>\n",
        "      <td>        Avenue Franklin Roosevelt 50</td>\n",
        "      <td> Brussels</td>\n",
        "      <td> be</td>\n",
        "      <td> 0</td>\n",
        "      <td> 18625132</td>\n",
        "      <td>  0.000000</td>\n",
        "      <td> 0.000000</td>\n",
        "      <td> Room K.3.401, Building K, Third floor, ULB Cam...</td>\n",
        "      <td>            NaN</td>\n",
        "      <td> 4.00</td>\n",
        "      <td>  2</td>\n",
        "    </tr>\n",
        "    <tr>\n",
        "      <th>8 </th>\n",
        "      <td>        Avenue Franklin Roosevelt 50</td>\n",
        "      <td> Brussels</td>\n",
        "      <td> be</td>\n",
        "      <td> 0</td>\n",
        "      <td> 19526042</td>\n",
        "      <td> 50.811722</td>\n",
        "      <td> 4.381080</td>\n",
        "      <td> Room K.4.401, Building K, Fourth Floor, ULB Ca...</td>\n",
        "      <td>            NaN</td>\n",
        "      <td> 4.25</td>\n",
        "      <td>  4</td>\n",
        "    </tr>\n",
        "    <tr>\n",
        "      <th>9 </th>\n",
        "      <td> Franklin Rooseveltlaan 50, Brussels</td>\n",
        "      <td> Brussels</td>\n",
        "      <td> be</td>\n",
        "      <td> 0</td>\n",
        "      <td> 21985282</td>\n",
        "      <td> 50.811722</td>\n",
        "      <td> 4.381080</td>\n",
        "      <td> ULB Building K, third floor, room K.3.201 (Cam...</td>\n",
        "      <td>            NaN</td>\n",
        "      <td> 0.00</td>\n",
        "      <td>  0</td>\n",
        "    </tr>\n",
        "    <tr>\n",
        "      <th>10</th>\n",
        "      <td>           Franklin Rooseveltlaan 50</td>\n",
        "      <td> Brussels</td>\n",
        "      <td> be</td>\n",
        "      <td> 0</td>\n",
        "      <td> 17352662</td>\n",
        "      <td>  0.000000</td>\n",
        "      <td> 0.000000</td>\n",
        "      <td> ULB Campus Solbosch Batiment K, third floor, r...</td>\n",
        "      <td>            NaN</td>\n",
        "      <td> 4.00</td>\n",
        "      <td>  2</td>\n",
        "    </tr>\n",
        "  </tbody>\n",
        "</table>\n",
        "</div>"
       ],
       "metadata": {},
       "output_type": "pyout",
       "prompt_number": 58,
       "text": [
        "                              address_1      city country  distance        id  \\\n",
        "0                   Bessenveldstraat 19    Diegem      be         0  13589072   \n",
        "1                  Koolmijnenkaai 30-34  Brussels      be         0   1277210   \n",
        "2             Steenweg op Etterbeek 180  Brussels      be         0   1318152   \n",
        "3     Rue du Moulin 40 | Molenstraat 40  Brussels      be         0  14691632   \n",
        "4           30-34 Quai des Charbonnages  Brussels      be         0  18557642   \n",
        "5      Rue Sans Souci 131, 1050 Ixelles  Brussels      be         0  21499202   \n",
        "6               Chauss\u00e9e de Louvain 242  Brussels      be         0  19428452   \n",
        "7          Avenue Franklin Roosevelt 50  Brussels      be         0  18625132   \n",
        "8          Avenue Franklin Roosevelt 50  Brussels      be         0  19526042   \n",
        "9   Franklin Rooseveltlaan 50, Brussels  Brussels      be         0  21985282   \n",
        "10            Franklin Rooseveltlaan 50  Brussels      be         0  17352662   \n",
        "\n",
        "          lat       lon                                               name  \\\n",
        "0   50.882275  4.436641                                  Capgemini Belgium   \n",
        "1   50.854667  4.342152                                           FoAM vzw   \n",
        "2   50.838128  4.380773                                     Google Belgium   \n",
        "3   50.850338  4.351710                               Hackerspace Brussels   \n",
        "4   50.854759  4.342060                                               iMal   \n",
        "5   50.832249  4.372640                        Ixelles Library Sans Soucie   \n",
        "6   50.850121  4.380240                                           Labokube   \n",
        "7    0.000000  0.000000  Room K.3.401, Building K, Third floor, ULB Cam...   \n",
        "8   50.811722  4.381080  Room K.4.401, Building K, Fourth Floor, ULB Ca...   \n",
        "9   50.811722  4.381080  ULB Building K, third floor, room K.3.201 (Cam...   \n",
        "10   0.000000  0.000000  ULB Campus Solbosch Batiment K, third floor, r...   \n",
        "\n",
        "             phone  rating  rating_count  \n",
        "0              NaN    4.00             1  \n",
        "1              NaN    5.00             3  \n",
        "2   +32 477 482870    4.60            25  \n",
        "3              NaN    4.67            21  \n",
        "4              NaN    5.00             2  \n",
        "5              NaN    4.67             3  \n",
        "6              NaN    4.50             4  \n",
        "7              NaN    4.00             2  \n",
        "8              NaN    4.25             4  \n",
        "9              NaN    0.00             0  \n",
        "10             NaN    4.00             2  "
       ]
      }
     ],
     "prompt_number": 58
    },
    {
     "cell_type": "markdown",
     "metadata": {
      "slideshow": {
       "slide_type": "subslide"
      }
     },
     "source": [
      "# Venues on a Map\n",
      "\n",
      "First, you will need to import `folium`. Make sure you have installed it, else use `pip install folium`."
     ]
    },
    {
     "cell_type": "code",
     "collapsed": false,
     "input": [
      "import folium"
     ],
     "language": "python",
     "metadata": {},
     "outputs": [],
     "prompt_number": 59
    },
    {
     "cell_type": "markdown",
     "metadata": {},
     "source": [
      "The following function will allow you to include the maps directly into IPython Notebook."
     ]
    },
    {
     "cell_type": "code",
     "collapsed": false,
     "input": [
      "from IPython.display import HTML\n",
      "def inline_map(map):\n",
      "    \"Embeds the HTML source of the map directly into the IPython notebook.\"\n",
      "    map._build_map()\n",
      "    return HTML('<iframe srcdoc=\"{srcdoc}\" style=\"width: 100%; height: 510px; border: none\"></iframe>'.format(srcdoc=map.HTML.replace('\"', '&quot;')))"
     ],
     "language": "python",
     "metadata": {},
     "outputs": [],
     "prompt_number": 60
    },
    {
     "cell_type": "markdown",
     "metadata": {},
     "source": [
      "Finally, show a map of Brussels with a marker for each venue from the DataFrame:"
     ]
    },
    {
     "cell_type": "code",
     "collapsed": false,
     "input": [
      "Brussels = [50.850338, 4.351710]\n",
      "map = folium.Map(location=Brussels, zoom_start=12, tiles='Stamen Toner')\n",
      "\n",
      "for index, row in venues[venues.lat!=0].iterrows():\n",
      "    map.simple_marker([row.lat, row.lon], popup=str(row['name']))\n",
      "    \n",
      "inline_map(map)"
     ],
     "language": "python",
     "metadata": {},
     "outputs": [
      {
       "html": [
        "<iframe srcdoc=\"<!DOCTYPE html>\n",
        "<head>\n",
        "   <link rel=&quot;stylesheet&quot; href=&quot;http://cdn.leafletjs.com/leaflet-0.5/leaflet.css&quot; />\n",
        "   <script src=&quot;http://cdn.leafletjs.com/leaflet-0.5/leaflet.js&quot;></script>\n",
        "   \n",
        "   \n",
        "   \n",
        "   \n",
        "\n",
        "\n",
        "<style>\n",
        "\n",
        "#map {\n",
        "  position:absolute;\n",
        "  top:0;\n",
        "  bottom:0;\n",
        "  right:0;\n",
        "  left:0;\n",
        "}\n",
        "\n",
        "</style>\n",
        "</head>\n",
        "<body>\n",
        "\n",
        "        <div id=&quot;map&quot; style=&quot;width: 960px; height: 500px&quot;></div>\n",
        "\n",
        "<script>\n",
        "\n",
        "\n",
        "\n",
        "var map = L.map('map').setView([50.850338, 4.35171], 12);\n",
        "\n",
        "L.tileLayer('http://{s}.tile.stamen.com/toner/{z}/{x}/{y}.jpg', {\n",
        "    maxZoom: 18,\n",
        "    attribution: 'Map tiles by <a href=&quot;http://stamen.com&quot;>Stamen Design</a>, under <a href=&quot;http://creativecommons.org/licenses/by/3.0&quot;>CC BY 3.0</a>. Data by <a href=&quot;http://openstreetmap.org&quot;>OpenStreetMap</a>, under <a href=&quot;http://creativecommons.org/licenses/by-sa/3.0&quot;>CC BY SA</a>.'\n",
        "}).addTo(map);\n",
        "\n",
        "\n",
        "var marker_1 = L.marker([50.882275, 4.436641]);\n",
        "marker_1.bindPopup(&quot;Capgemini Belgium&quot;);\n",
        "map.addLayer(marker_1)\n",
        "\n",
        "var marker_2 = L.marker([50.854667, 4.342152]);\n",
        "marker_2.bindPopup(&quot;FoAM vzw&quot;);\n",
        "map.addLayer(marker_2)\n",
        "\n",
        "var marker_3 = L.marker([50.838128, 4.380773]);\n",
        "marker_3.bindPopup(&quot;Google Belgium&quot;);\n",
        "map.addLayer(marker_3)\n",
        "\n",
        "var marker_4 = L.marker([50.850338, 4.35171]);\n",
        "marker_4.bindPopup(&quot;Hackerspace Brussels&quot;);\n",
        "map.addLayer(marker_4)\n",
        "\n",
        "var marker_5 = L.marker([50.854759, 4.34206]);\n",
        "marker_5.bindPopup(&quot;iMal&quot;);\n",
        "map.addLayer(marker_5)\n",
        "\n",
        "var marker_6 = L.marker([50.832249, 4.37264]);\n",
        "marker_6.bindPopup(&quot;Ixelles Library Sans Soucie&quot;);\n",
        "map.addLayer(marker_6)\n",
        "\n",
        "var marker_7 = L.marker([50.850121, 4.38024]);\n",
        "marker_7.bindPopup(&quot;Labokube&quot;);\n",
        "map.addLayer(marker_7)\n",
        "\n",
        "var marker_8 = L.marker([50.811722, 4.38108]);\n",
        "marker_8.bindPopup(&quot;Room K.4.401, Building K, Fourth Floor, ULB Campus Solbosh&quot;);\n",
        "map.addLayer(marker_8)\n",
        "\n",
        "var marker_9 = L.marker([50.811722, 4.38108]);\n",
        "marker_9.bindPopup(&quot;ULB Building K, third floor, room K.3.201 (Campus Solbosch)&quot;);\n",
        "map.addLayer(marker_9)\n",
        "\n",
        "\n",
        "\n",
        "\n",
        "\n",
        "\n",
        "</script>\n",
        "\n",
        "</body>\" style=\"width: 100%; height: 510px; border: none\"></iframe>"
       ],
       "metadata": {},
       "output_type": "pyout",
       "prompt_number": 61,
       "text": [
        "<IPython.core.display.HTML at 0x7f8a45f31ed0>"
       ]
      }
     ],
     "prompt_number": 61
    },
    {
     "cell_type": "markdown",
     "metadata": {
      "slideshow": {
       "slide_type": "slide"
      }
     },
     "source": [
      "# That's it !\n",
      "\n",
      "I hope you got the taste of IPython Notebook and Pandas. \n",
      "\n",
      "You can discover more on the web via the [nbviewer](http://nbviewer.ipython.org/) website, for example:\n",
      "* How to make [XKCD plots](http://nbviewer.ipython.org/url/jakevdp.github.com/downloads/notebooks/XKCD_plots.ipynb)\n",
      "* [Mining Social Websites](http://nbviewer.ipython.org/github/ptwobrussell/Mining-the-Social-Web-2nd-Edition/tree/master/ipynb/)\n",
      "* ...\n",
      "\n",
      "You can also use the Notebook with the languages Ruby and Julia.\n",
      "\n",
      "![Enjoy !](files/files/girl-enjoy-summer-sun-small.jpg)"
     ]
    }
   ],
   "metadata": {}
  }
 ]
}