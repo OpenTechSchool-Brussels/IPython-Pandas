{
 "metadata": {
  "celltoolbar": "Slideshow",
  "name": "",
  "signature": "sha256:f3f6014aeefa9d7ffcc240f7714cbc394026da3ae8a7eb27d9c7536c88996678"
 },
 "nbformat": 3,
 "nbformat_minor": 0,
 "worksheets": [
  {
   "cells": [
    {
     "cell_type": "heading",
     "level": 1,
     "metadata": {
      "slideshow": {
       "slide_type": "slide"
      }
     },
     "source": [
      "Python Data Analysis Library"
     ]
    },
    {
     "cell_type": "markdown",
     "metadata": {},
     "source": [
      "OpenTechSchool Workshop - [Hugo Herter](http://www.hugoherter.com) - August 2014"
     ]
    },
    {
     "cell_type": "markdown",
     "metadata": {},
     "source": [
      "![IPython logo](files/files/pandas-logo.png)"
     ]
    },
    {
     "cell_type": "markdown",
     "metadata": {
      "slideshow": {
       "slide_type": "slide"
      }
     },
     "source": [
      "## Description\n",
      "\n",
      "Pandas is a Python library providing high-performance, easy-to-use data structures and data analysis tools.\n",
      "\n",
      "If you are familiar with R, think of [R Data Frames](https://stat.ethz.ch/R-manual/R-devel/library/base/html/data.frame.html) ported to Python.\n",
      "\n",
      "Under the hood, Pandas is based on [NumPy](http://www.numpy.org/), a powerful library for numerical computing in Python - you will encounter it a few times in this workshop."
     ]
    },
    {
     "cell_type": "markdown",
     "metadata": {
      "slideshow": {
       "slide_type": "slide"
      }
     },
     "source": [
      "## First steps\n",
      "\n",
      "From Python data structures to Pandas"
     ]
    },
    {
     "cell_type": "markdown",
     "metadata": {
      "slideshow": {
       "slide_type": "subslide"
      }
     },
     "source": [
      "## 1. Before Pandas"
     ]
    },
    {
     "cell_type": "code",
     "collapsed": false,
     "input": [
      "# Import and configure NumPy, Matplotlib and other useful math tools for the Notebook:\n",
      "%pylab inline"
     ],
     "language": "python",
     "metadata": {},
     "outputs": [
      {
       "output_type": "stream",
       "stream": "stdout",
       "text": [
        "Populating the interactive namespace from numpy and matplotlib\n"
       ]
      }
     ],
     "prompt_number": 1
    },
    {
     "cell_type": "code",
     "collapsed": false,
     "input": [
      "# Create an optimised NumPy array from a Python list:\n",
      "data = np.array(range(0, 50, 10))\n",
      "data"
     ],
     "language": "python",
     "metadata": {},
     "outputs": [
      {
       "metadata": {},
       "output_type": "pyout",
       "prompt_number": 2,
       "text": [
        "array([ 0, 10, 20, 30, 40])"
       ]
      }
     ],
     "prompt_number": 2
    },
    {
     "cell_type": "code",
     "collapsed": false,
     "input": [
      "plot(data)"
     ],
     "language": "python",
     "metadata": {},
     "outputs": [
      {
       "metadata": {},
       "output_type": "pyout",
       "prompt_number": 3,
       "text": [
        "[<matplotlib.lines.Line2D at 0x7ff227cca610>]"
       ]
      },
      {
       "metadata": {},
       "output_type": "display_data",
       "png": "[encoded data removed]",
       "text": [
        "<matplotlib.figure.Figure at 0x7ff227d19750>"
       ]
      }
     ],
     "prompt_number": 3
    },
    {
     "cell_type": "markdown",
     "metadata": {
      "slideshow": {
       "slide_type": "subslide"
      }
     },
     "source": [
      "## 2. With Pandas"
     ]
    },
    {
     "cell_type": "code",
     "collapsed": false,
     "input": [
      "import pandas\n",
      "\n",
      "dataframe = pandas.DataFrame(range(0, 50, 10))\n",
      "dataframe"
     ],
     "language": "python",
     "metadata": {},
     "outputs": [
      {
       "html": [
        "<div style=\"max-height:1000px;max-width:1500px;overflow:auto;\">\n",
        "<table border=\"1\" class=\"dataframe\">\n",
        "  <thead>\n",
        "    <tr style=\"text-align: right;\">\n",
        "      <th></th>\n",
        "      <th>0</th>\n",
        "    </tr>\n",
        "  </thead>\n",
        "  <tbody>\n",
        "    <tr>\n",
        "      <th>0</th>\n",
        "      <td>  0</td>\n",
        "    </tr>\n",
        "    <tr>\n",
        "      <th>1</th>\n",
        "      <td> 10</td>\n",
        "    </tr>\n",
        "    <tr>\n",
        "      <th>2</th>\n",
        "      <td> 20</td>\n",
        "    </tr>\n",
        "    <tr>\n",
        "      <th>3</th>\n",
        "      <td> 30</td>\n",
        "    </tr>\n",
        "    <tr>\n",
        "      <th>4</th>\n",
        "      <td> 40</td>\n",
        "    </tr>\n",
        "  </tbody>\n",
        "</table>\n",
        "</div>"
       ],
       "metadata": {},
       "output_type": "pyout",
       "prompt_number": 4,
       "text": [
        "    0\n",
        "0   0\n",
        "1  10\n",
        "2  20\n",
        "3  30\n",
        "4  40"
       ]
      }
     ],
     "prompt_number": 4
    },
    {
     "cell_type": "code",
     "collapsed": false,
     "input": [
      "dataframe.plot()"
     ],
     "language": "python",
     "metadata": {},
     "outputs": [
      {
       "metadata": {},
       "output_type": "pyout",
       "prompt_number": 5,
       "text": [
        "<matplotlib.axes.AxesSubplot at 0x7ff225563110>"
       ]
      },
      {
       "metadata": {},
       "output_type": "display_data",
       "png": "[encoded data removed]",
       "text": [
        "<matplotlib.figure.Figure at 0x7ff227cf3310>"
       ]
      }
     ],
     "prompt_number": 5
    },
    {
     "cell_type": "markdown",
     "metadata": {
      "slideshow": {
       "slide_type": "slide"
      }
     },
     "source": [
      "## Let's play with Meetup's data\n",
      "\n",
      "For this exercise, we will have a look at this event's data on Meetup.\n",
      "\n",
      "First step: grab your API authentication key: https://secure.meetup.com/meetup_api/key/"
     ]
    },
    {
     "cell_type": "code",
     "collapsed": false,
     "input": [
      "import requests  # for HTTP requests\n",
      "from __future__ import print_function  # for Python 3 syntax for print(...)\n",
      "\n",
      "api_key = '72d84e1c4c2a50321268137412e73'\n",
      "event_id = '194806872'\n",
      "\n",
      "rsvps_url = \"https://api.meetup.com/2/rsvps/\"\n",
      "event_url = \"https://api.meetup.com/2/event/\" + event_id\n",
      "\n",
      "\n",
      "print(\"URLs:\")\n",
      "print(rsvps_url)\n",
      "print(event_url)"
     ],
     "language": "python",
     "metadata": {},
     "outputs": [
      {
       "output_type": "stream",
       "stream": "stdout",
       "text": [
        "URLs:\n",
        "https://api.meetup.com/2/rsvps/\n",
        "https://api.meetup.com/2/event/194806872\n"
       ]
      }
     ],
     "prompt_number": 6
    },
    {
     "cell_type": "markdown",
     "metadata": {},
     "source": [
      "### Three steps\n",
      "\n",
      "URL -> JSON -> DataFrame"
     ]
    },
    {
     "cell_type": "markdown",
     "metadata": {
      "slideshow": {
       "slide_type": "slide"
      }
     },
     "source": [
      "## RSVPs of this Meetup"
     ]
    },
    {
     "cell_type": "code",
     "collapsed": false,
     "input": [
      "rsvps_dict = requests.get(rsvps_url, params={'key': api_key, 'event_id': event_id}).json()"
     ],
     "language": "python",
     "metadata": {},
     "outputs": [],
     "prompt_number": 7
    },
    {
     "cell_type": "code",
     "collapsed": false,
     "input": [
      "rsvps_dict"
     ],
     "language": "python",
     "metadata": {},
     "outputs": [
      {
       "metadata": {},
       "output_type": "pyout",
       "prompt_number": 8,
       "text": [
        "{u'meta': {u'count': 50,\n",
        "  u'description': u'Query for Event RSVPs by event',\n",
        "  u'id': u'',\n",
        "  u'lat': u'',\n",
        "  u'link': u'https://api.meetup.com/2/rsvps/',\n",
        "  u'lon': u'',\n",
        "  u'method': u'RSVPs v2',\n",
        "  u'next': u'',\n",
        "  u'title': u'Meetup RSVPs v2',\n",
        "  u'total_count': 50,\n",
        "  u'updated': 1408872509000,\n",
        "  u'url': u'https://api.meetup.com/2/rsvps/?key=72d84e1c4c2a50321268137412e73&event_id=194806872&order=event&desc=false&format=json&offset=0&page=200&fields='},\n",
        " u'results': [{u'created': 1405720853000,\n",
        "   u'event': {u'event_url': u'http://www.meetup.com/OpenTechSchool-Brussels/events/194806872/',\n",
        "    u'id': u'194806872',\n",
        "    u'name': u'Learn Data analysis with IPython Notebook and Pandas',\n",
        "    u'time': 1409072400000},\n",
        "   u'group': {u'group_lat': 50.83000183105469,\n",
        "    u'group_lon': 4.329999923706055,\n",
        "    u'id': 9462812,\n",
        "    u'join_mode': u'open',\n",
        "    u'urlname': u'OpenTechSchool-Brussels'},\n",
        "   u'guests': 0,\n",
        "   u'member': {u'member_id': 157084892, u'name': u'Ashwyn'},\n",
        "   u'member_photo': {u'highres_link': u'http://photos1.meetupstatic.com/photos/member/7/9/2/4/highres_212191012.jpeg',\n",
        "    u'photo_id': 212191012,\n",
        "    u'photo_link': u'http://photos1.meetupstatic.com/photos/member/7/9/2/4/member_212191012.jpeg',\n",
        "    u'thumb_link': u'http://photos1.meetupstatic.com/photos/member/7/9/2/4/thumb_212191012.jpeg'},\n",
        "   u'mtime': 1405720853000,\n",
        "   u'response': u'yes',\n",
        "   u'rsvp_id': 1360913672,\n",
        "   u'venue': {u'address_1': u'50, Avenue Franklin D. Roosevelt 1050 Bruxelles',\n",
        "    u'city': u'Brussels',\n",
        "    u'country': u'be',\n",
        "    u'id': 16728772,\n",
        "    u'lat': 50.811989,\n",
        "    u'lon': 4.381096,\n",
        "    u'name': u'ULB Campus Solbosch',\n",
        "    u'repinned': False}},\n",
        "  {u'created': 1407796732000,\n",
        "   u'event': {u'event_url': u'http://www.meetup.com/OpenTechSchool-Brussels/events/194806872/',\n",
        "    u'id': u'194806872',\n",
        "    u'name': u'Learn Data analysis with IPython Notebook and Pandas',\n",
        "    u'time': 1409072400000},\n",
        "   u'group': {u'group_lat': 50.83000183105469,\n",
        "    u'group_lon': 4.329999923706055,\n",
        "    u'id': 9462812,\n",
        "    u'join_mode': u'open',\n",
        "    u'urlname': u'OpenTechSchool-Brussels'},\n",
        "   u'guests': 0,\n",
        "   u'member': {u'member_id': 151866892, u'name': u'emmanuel'},\n",
        "   u'member_photo': {u'highres_link': u'http://photos1.meetupstatic.com/photos/member/c/2/4/e/highres_213109742.jpeg',\n",
        "    u'photo_id': 213109742,\n",
        "    u'photo_link': u'http://photos1.meetupstatic.com/photos/member/c/2/4/e/member_213109742.jpeg',\n",
        "    u'thumb_link': u'http://photos1.meetupstatic.com/photos/member/c/2/4/e/thumb_213109742.jpeg'},\n",
        "   u'mtime': 1407796732000,\n",
        "   u'response': u'yes',\n",
        "   u'rsvp_id': 1393859082,\n",
        "   u'venue': {u'address_1': u'50, Avenue Franklin D. Roosevelt 1050 Bruxelles',\n",
        "    u'city': u'Brussels',\n",
        "    u'country': u'be',\n",
        "    u'id': 16728772,\n",
        "    u'lat': 50.811989,\n",
        "    u'lon': 4.381096,\n",
        "    u'name': u'ULB Campus Solbosch',\n",
        "    u'repinned': False}},\n",
        "  {u'created': 1405345565000,\n",
        "   u'event': {u'event_url': u'http://www.meetup.com/OpenTechSchool-Brussels/events/194806872/',\n",
        "    u'id': u'194806872',\n",
        "    u'name': u'Learn Data analysis with IPython Notebook and Pandas',\n",
        "    u'time': 1409072400000},\n",
        "   u'group': {u'group_lat': 50.83000183105469,\n",
        "    u'group_lon': 4.329999923706055,\n",
        "    u'id': 9462812,\n",
        "    u'join_mode': u'open',\n",
        "    u'urlname': u'OpenTechSchool-Brussels'},\n",
        "   u'guests': 0,\n",
        "   u'member': {u'member_id': 99643772, u'name': u'Antonio Rebordao'},\n",
        "   u'member_photo': {u'photo_id': 127935382,\n",
        "    u'photo_link': u'http://photos3.meetupstatic.com/photos/member/3/c/1/6/member_127935382.jpeg',\n",
        "    u'thumb_link': u'http://photos1.meetupstatic.com/photos/member/3/c/1/6/thumb_127935382.jpeg'},\n",
        "   u'mtime': 1405345565000,\n",
        "   u'response': u'yes',\n",
        "   u'rsvp_id': 1354353422,\n",
        "   u'venue': {u'address_1': u'50, Avenue Franklin D. Roosevelt 1050 Bruxelles',\n",
        "    u'city': u'Brussels',\n",
        "    u'country': u'be',\n",
        "    u'id': 16728772,\n",
        "    u'lat': 50.811989,\n",
        "    u'lon': 4.381096,\n",
        "    u'name': u'ULB Campus Solbosch',\n",
        "    u'repinned': False}},\n",
        "  {u'created': 1405440260000,\n",
        "   u'event': {u'event_url': u'http://www.meetup.com/OpenTechSchool-Brussels/events/194806872/',\n",
        "    u'id': u'194806872',\n",
        "    u'name': u'Learn Data analysis with IPython Notebook and Pandas',\n",
        "    u'time': 1409072400000},\n",
        "   u'group': {u'group_lat': 50.83000183105469,\n",
        "    u'group_lon': 4.329999923706055,\n",
        "    u'id': 9462812,\n",
        "    u'join_mode': u'open',\n",
        "    u'urlname': u'OpenTechSchool-Brussels'},\n",
        "   u'guests': 0,\n",
        "   u'member': {u'member_id': 137641262, u'name': u'jp Alcantara'},\n",
        "   u'mtime': 1405440260000,\n",
        "   u'response': u'yes',\n",
        "   u'rsvp_id': 1356172562,\n",
        "   u'venue': {u'address_1': u'50, Avenue Franklin D. Roosevelt 1050 Bruxelles',\n",
        "    u'city': u'Brussels',\n",
        "    u'country': u'be',\n",
        "    u'id': 16728772,\n",
        "    u'lat': 50.811989,\n",
        "    u'lon': 4.381096,\n",
        "    u'name': u'ULB Campus Solbosch',\n",
        "    u'repinned': False}},\n",
        "  {u'created': 1407103688000,\n",
        "   u'event': {u'event_url': u'http://www.meetup.com/OpenTechSchool-Brussels/events/194806872/',\n",
        "    u'id': u'194806872',\n",
        "    u'name': u'Learn Data analysis with IPython Notebook and Pandas',\n",
        "    u'time': 1409072400000},\n",
        "   u'group': {u'group_lat': 50.83000183105469,\n",
        "    u'group_lon': 4.329999923706055,\n",
        "    u'id': 9462812,\n",
        "    u'join_mode': u'open',\n",
        "    u'urlname': u'OpenTechSchool-Brussels'},\n",
        "   u'guests': 0,\n",
        "   u'member': {u'member_id': 88721062, u'name': u'Kjell Moens'},\n",
        "   u'member_photo': {u'photo_id': 139571842,\n",
        "    u'photo_link': u'http://photos1.meetupstatic.com/photos/member/2/e/4/2/member_139571842.jpeg',\n",
        "    u'thumb_link': u'http://photos3.meetupstatic.com/photos/member/2/e/4/2/thumb_139571842.jpeg'},\n",
        "   u'mtime': 1407103688000,\n",
        "   u'response': u'yes',\n",
        "   u'rsvp_id': 1382319382,\n",
        "   u'venue': {u'address_1': u'50, Avenue Franklin D. Roosevelt 1050 Bruxelles',\n",
        "    u'city': u'Brussels',\n",
        "    u'country': u'be',\n",
        "    u'id': 16728772,\n",
        "    u'lat': 50.811989,\n",
        "    u'lon': 4.381096,\n",
        "    u'name': u'ULB Campus Solbosch',\n",
        "    u'repinned': False}},\n",
        "  {u'created': 1405582766000,\n",
        "   u'event': {u'event_url': u'http://www.meetup.com/OpenTechSchool-Brussels/events/194806872/',\n",
        "    u'id': u'194806872',\n",
        "    u'name': u'Learn Data analysis with IPython Notebook and Pandas',\n",
        "    u'time': 1409072400000},\n",
        "   u'group': {u'group_lat': 50.83000183105469,\n",
        "    u'group_lon': 4.329999923706055,\n",
        "    u'id': 9462812,\n",
        "    u'join_mode': u'open',\n",
        "    u'urlname': u'OpenTechSchool-Brussels'},\n",
        "   u'guests': 0,\n",
        "   u'member': {u'member_id': 67284802, u'name': u'Mike F'},\n",
        "   u'member_photo': {u'highres_link': u'http://photos4.meetupstatic.com/photos/member/8/d/d/8/highres_78876312.jpeg',\n",
        "    u'photo_id': 78876312,\n",
        "    u'photo_link': u'http://photos2.meetupstatic.com/photos/member/8/d/d/8/member_78876312.jpeg',\n",
        "    u'thumb_link': u'http://photos2.meetupstatic.com/photos/member/8/d/d/8/thumb_78876312.jpeg'},\n",
        "   u'mtime': 1405582766000,\n",
        "   u'response': u'yes',\n",
        "   u'rsvp_id': 1358705442,\n",
        "   u'venue': {u'address_1': u'50, Avenue Franklin D. Roosevelt 1050 Bruxelles',\n",
        "    u'city': u'Brussels',\n",
        "    u'country': u'be',\n",
        "    u'id': 16728772,\n",
        "    u'lat': 50.811989,\n",
        "    u'lon': 4.381096,\n",
        "    u'name': u'ULB Campus Solbosch',\n",
        "    u'repinned': False}},\n",
        "  {u'created': 1405342475000,\n",
        "   u'event': {u'event_url': u'http://www.meetup.com/OpenTechSchool-Brussels/events/194806872/',\n",
        "    u'id': u'194806872',\n",
        "    u'name': u'Learn Data analysis with IPython Notebook and Pandas',\n",
        "    u'time': 1409072400000},\n",
        "   u'group': {u'group_lat': 50.83000183105469,\n",
        "    u'group_lon': 4.329999923706055,\n",
        "    u'id': 9462812,\n",
        "    u'join_mode': u'open',\n",
        "    u'urlname': u'OpenTechSchool-Brussels'},\n",
        "   u'guests': 0,\n",
        "   u'member': {u'member_id': 55138782, u'name': u'Andrea Dal Pozzolo'},\n",
        "   u'member_photo': {u'highres_link': u'http://photos3.meetupstatic.com/photos/member/6/0/9/2/highres_63204722.jpeg',\n",
        "    u'photo_id': 63204722,\n",
        "    u'photo_link': u'http://photos1.meetupstatic.com/photos/member/6/0/9/2/member_63204722.jpeg',\n",
        "    u'thumb_link': u'http://photos3.meetupstatic.com/photos/member/6/0/9/2/thumb_63204722.jpeg'},\n",
        "   u'mtime': 1405342475000,\n",
        "   u'response': u'yes',\n",
        "   u'rsvp_id': 1354284582,\n",
        "   u'venue': {u'address_1': u'50, Avenue Franklin D. Roosevelt 1050 Bruxelles',\n",
        "    u'city': u'Brussels',\n",
        "    u'country': u'be',\n",
        "    u'id': 16728772,\n",
        "    u'lat': 50.811989,\n",
        "    u'lon': 4.381096,\n",
        "    u'name': u'ULB Campus Solbosch',\n",
        "    u'repinned': False}},\n",
        "  {u'created': 1408352094000,\n",
        "   u'event': {u'event_url': u'http://www.meetup.com/OpenTechSchool-Brussels/events/194806872/',\n",
        "    u'id': u'194806872',\n",
        "    u'name': u'Learn Data analysis with IPython Notebook and Pandas',\n",
        "    u'time': 1409072400000},\n",
        "   u'group': {u'group_lat': 50.83000183105469,\n",
        "    u'group_lon': 4.329999923706055,\n",
        "    u'id': 9462812,\n",
        "    u'join_mode': u'open',\n",
        "    u'urlname': u'OpenTechSchool-Brussels'},\n",
        "   u'guests': 0,\n",
        "   u'member': {u'member_id': 140817262, u'name': u'Ahmed'},\n",
        "   u'member_photo': {u'highres_link': u'http://photos2.meetupstatic.com/photos/member/c/6/7/2/highres_191870802.jpeg',\n",
        "    u'photo_id': 191870802,\n",
        "    u'photo_link': u'http://photos4.meetupstatic.com/photos/member/c/6/7/2/member_191870802.jpeg',\n",
        "    u'thumb_link': u'http://photos2.meetupstatic.com/photos/member/c/6/7/2/thumb_191870802.jpeg'},\n",
        "   u'mtime': 1408352094000,\n",
        "   u'response': u'yes',\n",
        "   u'rsvp_id': 1402432812,\n",
        "   u'venue': {u'address_1': u'50, Avenue Franklin D. Roosevelt 1050 Bruxelles',\n",
        "    u'city': u'Brussels',\n",
        "    u'country': u'be',\n",
        "    u'id': 16728772,\n",
        "    u'lat': 50.811989,\n",
        "    u'lon': 4.381096,\n",
        "    u'name': u'ULB Campus Solbosch',\n",
        "    u'repinned': False}},\n",
        "  {u'created': 1406992007000,\n",
        "   u'event': {u'event_url': u'http://www.meetup.com/OpenTechSchool-Brussels/events/194806872/',\n",
        "    u'id': u'194806872',\n",
        "    u'name': u'Learn Data analysis with IPython Notebook and Pandas',\n",
        "    u'time': 1409072400000},\n",
        "   u'group': {u'group_lat': 50.83000183105469,\n",
        "    u'group_lon': 4.329999923706055,\n",
        "    u'id': 9462812,\n",
        "    u'join_mode': u'open',\n",
        "    u'urlname': u'OpenTechSchool-Brussels'},\n",
        "   u'guests': 0,\n",
        "   u'member': {u'member_id': 159530122, u'name': u'Rik'},\n",
        "   u'mtime': 1406992007000,\n",
        "   u'response': u'yes',\n",
        "   u'rsvp_id': 1380748342,\n",
        "   u'venue': {u'address_1': u'50, Avenue Franklin D. Roosevelt 1050 Bruxelles',\n",
        "    u'city': u'Brussels',\n",
        "    u'country': u'be',\n",
        "    u'id': 16728772,\n",
        "    u'lat': 50.811989,\n",
        "    u'lon': 4.381096,\n",
        "    u'name': u'ULB Campus Solbosch',\n",
        "    u'repinned': False}},\n",
        "  {u'created': 1408539856000,\n",
        "   u'event': {u'event_url': u'http://www.meetup.com/OpenTechSchool-Brussels/events/194806872/',\n",
        "    u'id': u'194806872',\n",
        "    u'name': u'Learn Data analysis with IPython Notebook and Pandas',\n",
        "    u'time': 1409072400000},\n",
        "   u'group': {u'group_lat': 50.83000183105469,\n",
        "    u'group_lon': 4.329999923706055,\n",
        "    u'id': 9462812,\n",
        "    u'join_mode': u'open',\n",
        "    u'urlname': u'OpenTechSchool-Brussels'},\n",
        "   u'guests': 0,\n",
        "   u'member': {u'member_id': 6322989, u'name': u'Augustin'},\n",
        "   u'member_photo': {u'highres_link': u'http://photos2.meetupstatic.com/photos/member/8/5/4/highres_220082132.jpeg',\n",
        "    u'photo_id': 220082132,\n",
        "    u'photo_link': u'http://photos4.meetupstatic.com/photos/member/8/5/4/member_220082132.jpeg',\n",
        "    u'thumb_link': u'http://photos2.meetupstatic.com/photos/member/8/5/4/thumb_220082132.jpeg'},\n",
        "   u'mtime': 1408539856000,\n",
        "   u'response': u'yes',\n",
        "   u'rsvp_id': 1405794622,\n",
        "   u'venue': {u'address_1': u'50, Avenue Franklin D. Roosevelt 1050 Bruxelles',\n",
        "    u'city': u'Brussels',\n",
        "    u'country': u'be',\n",
        "    u'id': 16728772,\n",
        "    u'lat': 50.811989,\n",
        "    u'lon': 4.381096,\n",
        "    u'name': u'ULB Campus Solbosch',\n",
        "    u'repinned': False}},\n",
        "  {u'created': 1405509150000,\n",
        "   u'event': {u'event_url': u'http://www.meetup.com/OpenTechSchool-Brussels/events/194806872/',\n",
        "    u'id': u'194806872',\n",
        "    u'name': u'Learn Data analysis with IPython Notebook and Pandas',\n",
        "    u'time': 1409072400000},\n",
        "   u'group': {u'group_lat': 50.83000183105469,\n",
        "    u'group_lon': 4.329999923706055,\n",
        "    u'id': 9462812,\n",
        "    u'join_mode': u'open',\n",
        "    u'urlname': u'OpenTechSchool-Brussels'},\n",
        "   u'guests': 0,\n",
        "   u'member': {u'member_id': 136288362, u'name': u'Marcus'},\n",
        "   u'member_photo': {u'highres_link': u'http://photos1.meetupstatic.com/photos/member/6/1/a/a/highres_182485002.jpeg',\n",
        "    u'photo_id': 182485002,\n",
        "    u'photo_link': u'http://photos3.meetupstatic.com/photos/member/6/1/a/a/member_182485002.jpeg',\n",
        "    u'thumb_link': u'http://photos1.meetupstatic.com/photos/member/6/1/a/a/thumb_182485002.jpeg'},\n",
        "   u'mtime': 1405509150000,\n",
        "   u'response': u'yes',\n",
        "   u'rsvp_id': 1357344832,\n",
        "   u'venue': {u'address_1': u'50, Avenue Franklin D. Roosevelt 1050 Bruxelles',\n",
        "    u'city': u'Brussels',\n",
        "    u'country': u'be',\n",
        "    u'id': 16728772,\n",
        "    u'lat': 50.811989,\n",
        "    u'lon': 4.381096,\n",
        "    u'name': u'ULB Campus Solbosch',\n",
        "    u'repinned': False}},\n",
        "  {u'created': 1407787217000,\n",
        "   u'event': {u'event_url': u'http://www.meetup.com/OpenTechSchool-Brussels/events/194806872/',\n",
        "    u'id': u'194806872',\n",
        "    u'name': u'Learn Data analysis with IPython Notebook and Pandas',\n",
        "    u'time': 1409072400000},\n",
        "   u'group': {u'group_lat': 50.83000183105469,\n",
        "    u'group_lon': 4.329999923706055,\n",
        "    u'id': 9462812,\n",
        "    u'join_mode': u'open',\n",
        "    u'urlname': u'OpenTechSchool-Brussels'},\n",
        "   u'guests': 0,\n",
        "   u'member': {u'member_id': 160546732, u'name': u'Pepe'},\n",
        "   u'mtime': 1407787217000,\n",
        "   u'response': u'yes',\n",
        "   u'rsvp_id': 1393603912,\n",
        "   u'venue': {u'address_1': u'50, Avenue Franklin D. Roosevelt 1050 Bruxelles',\n",
        "    u'city': u'Brussels',\n",
        "    u'country': u'be',\n",
        "    u'id': 16728772,\n",
        "    u'lat': 50.811989,\n",
        "    u'lon': 4.381096,\n",
        "    u'name': u'ULB Campus Solbosch',\n",
        "    u'repinned': False}},\n",
        "  {u'created': 1407615542000,\n",
        "   u'event': {u'event_url': u'http://www.meetup.com/OpenTechSchool-Brussels/events/194806872/',\n",
        "    u'id': u'194806872',\n",
        "    u'name': u'Learn Data analysis with IPython Notebook and Pandas',\n",
        "    u'time': 1409072400000},\n",
        "   u'group': {u'group_lat': 50.83000183105469,\n",
        "    u'group_lon': 4.329999923706055,\n",
        "    u'id': 9462812,\n",
        "    u'join_mode': u'open',\n",
        "    u'urlname': u'OpenTechSchool-Brussels'},\n",
        "   u'guests': 0,\n",
        "   u'member': {u'member_id': 147887932, u'name': u'Ken Christiaens'},\n",
        "   u'member_photo': {u'highres_link': u'http://photos4.meetupstatic.com/photos/member/e/5/4/4/highres_216778692.jpeg',\n",
        "    u'photo_id': 216778692,\n",
        "    u'photo_link': u'http://photos4.meetupstatic.com/photos/member/e/5/4/4/member_216778692.jpeg',\n",
        "    u'thumb_link': u'http://photos4.meetupstatic.com/photos/member/e/5/4/4/thumb_216778692.jpeg'},\n",
        "   u'mtime': 1407615542000,\n",
        "   u'response': u'no',\n",
        "   u'rsvp_id': 1390929482,\n",
        "   u'venue': {u'address_1': u'50, Avenue Franklin D. Roosevelt 1050 Bruxelles',\n",
        "    u'city': u'Brussels',\n",
        "    u'country': u'be',\n",
        "    u'id': 16728772,\n",
        "    u'lat': 50.811989,\n",
        "    u'lon': 4.381096,\n",
        "    u'name': u'ULB Campus Solbosch',\n",
        "    u'repinned': False}},\n",
        "  {u'created': 1405411509000,\n",
        "   u'event': {u'event_url': u'http://www.meetup.com/OpenTechSchool-Brussels/events/194806872/',\n",
        "    u'id': u'194806872',\n",
        "    u'name': u'Learn Data analysis with IPython Notebook and Pandas',\n",
        "    u'time': 1409072400000},\n",
        "   u'group': {u'group_lat': 50.83000183105469,\n",
        "    u'group_lon': 4.329999923706055,\n",
        "    u'id': 9462812,\n",
        "    u'join_mode': u'open',\n",
        "    u'urlname': u'OpenTechSchool-Brussels'},\n",
        "   u'guests': 0,\n",
        "   u'member': {u'member_id': 66971512, u'name': u'Ivan Keller'},\n",
        "   u'member_photo': {u'highres_link': u'http://photos3.meetupstatic.com/photos/member/4/e/a/4/highres_189500132.jpeg',\n",
        "    u'photo_id': 189500132,\n",
        "    u'photo_link': u'http://photos3.meetupstatic.com/photos/member/4/e/a/4/member_189500132.jpeg',\n",
        "    u'thumb_link': u'http://photos3.meetupstatic.com/photos/member/4/e/a/4/thumb_189500132.jpeg'},\n",
        "   u'mtime': 1405411509000,\n",
        "   u'response': u'yes',\n",
        "   u'rsvp_id': 1355771212,\n",
        "   u'venue': {u'address_1': u'50, Avenue Franklin D. Roosevelt 1050 Bruxelles',\n",
        "    u'city': u'Brussels',\n",
        "    u'country': u'be',\n",
        "    u'id': 16728772,\n",
        "    u'lat': 50.811989,\n",
        "    u'lon': 4.381096,\n",
        "    u'name': u'ULB Campus Solbosch',\n",
        "    u'repinned': False}},\n",
        "  {u'created': 1405418270000,\n",
        "   u'event': {u'event_url': u'http://www.meetup.com/OpenTechSchool-Brussels/events/194806872/',\n",
        "    u'id': u'194806872',\n",
        "    u'name': u'Learn Data analysis with IPython Notebook and Pandas',\n",
        "    u'time': 1409072400000},\n",
        "   u'group': {u'group_lat': 50.83000183105469,\n",
        "    u'group_lon': 4.329999923706055,\n",
        "    u'id': 9462812,\n",
        "    u'join_mode': u'open',\n",
        "    u'urlname': u'OpenTechSchool-Brussels'},\n",
        "   u'guests': 0,\n",
        "   u'member': {u'member_id': 110639042, u'name': u'bernard paulus'},\n",
        "   u'member_photo': {u'highres_link': u'http://photos2.meetupstatic.com/photos/member/c/5/5/0/highres_147050512.jpeg',\n",
        "    u'photo_id': 147050512,\n",
        "    u'photo_link': u'http://photos2.meetupstatic.com/photos/member/c/5/5/0/member_147050512.jpeg',\n",
        "    u'thumb_link': u'http://photos2.meetupstatic.com/photos/member/c/5/5/0/thumb_147050512.jpeg'},\n",
        "   u'mtime': 1405418270000,\n",
        "   u'response': u'no',\n",
        "   u'rsvp_id': 1355820372,\n",
        "   u'venue': {u'address_1': u'50, Avenue Franklin D. Roosevelt 1050 Bruxelles',\n",
        "    u'city': u'Brussels',\n",
        "    u'country': u'be',\n",
        "    u'id': 16728772,\n",
        "    u'lat': 50.811989,\n",
        "    u'lon': 4.381096,\n",
        "    u'name': u'ULB Campus Solbosch',\n",
        "    u'repinned': False}},\n",
        "  {u'created': 1405371761000,\n",
        "   u'event': {u'event_url': u'http://www.meetup.com/OpenTechSchool-Brussels/events/194806872/',\n",
        "    u'id': u'194806872',\n",
        "    u'name': u'Learn Data analysis with IPython Notebook and Pandas',\n",
        "    u'time': 1409072400000},\n",
        "   u'group': {u'group_lat': 50.83000183105469,\n",
        "    u'group_lon': 4.329999923706055,\n",
        "    u'id': 9462812,\n",
        "    u'join_mode': u'open',\n",
        "    u'urlname': u'OpenTechSchool-Brussels'},\n",
        "   u'guests': 0,\n",
        "   u'member': {u'member_id': 107235392, u'name': u'Deborah Lindberg'},\n",
        "   u'member_photo': {u'highres_link': u'http://photos2.meetupstatic.com/photos/member/6/1/6/4/highres_140484932.jpeg',\n",
        "    u'photo_id': 140484932,\n",
        "    u'photo_link': u'http://photos4.meetupstatic.com/photos/member/6/1/6/4/member_140484932.jpeg',\n",
        "    u'thumb_link': u'http://photos4.meetupstatic.com/photos/member/6/1/6/4/thumb_140484932.jpeg'},\n",
        "   u'mtime': 1405892191000,\n",
        "   u'response': u'no',\n",
        "   u'rsvp_id': 1355066202,\n",
        "   u'venue': {u'address_1': u'50, Avenue Franklin D. Roosevelt 1050 Bruxelles',\n",
        "    u'city': u'Brussels',\n",
        "    u'country': u'be',\n",
        "    u'id': 16728772,\n",
        "    u'lat': 50.811989,\n",
        "    u'lon': 4.381096,\n",
        "    u'name': u'ULB Campus Solbosch',\n",
        "    u'repinned': False}},\n",
        "  {u'created': 1408560236000,\n",
        "   u'event': {u'event_url': u'http://www.meetup.com/OpenTechSchool-Brussels/events/194806872/',\n",
        "    u'id': u'194806872',\n",
        "    u'name': u'Learn Data analysis with IPython Notebook and Pandas',\n",
        "    u'time': 1409072400000},\n",
        "   u'group': {u'group_lat': 50.83000183105469,\n",
        "    u'group_lon': 4.329999923706055,\n",
        "    u'id': 9462812,\n",
        "    u'join_mode': u'open',\n",
        "    u'urlname': u'OpenTechSchool-Brussels'},\n",
        "   u'guests': 0,\n",
        "   u'member': {u'member_id': 78668262, u'name': u'Jeroen Kerkhof'},\n",
        "   u'member_photo': {u'highres_link': u'http://photos2.meetupstatic.com/photos/member/a/6/2/e/highres_118182542.jpeg',\n",
        "    u'photo_id': 118182542,\n",
        "    u'photo_link': u'http://photos4.meetupstatic.com/photos/member/a/6/2/e/member_118182542.jpeg',\n",
        "    u'thumb_link': u'http://photos2.meetupstatic.com/photos/member/a/6/2/e/thumb_118182542.jpeg'},\n",
        "   u'mtime': 1408560236000,\n",
        "   u'response': u'yes',\n",
        "   u'rsvp_id': 1406229342,\n",
        "   u'venue': {u'address_1': u'50, Avenue Franklin D. Roosevelt 1050 Bruxelles',\n",
        "    u'city': u'Brussels',\n",
        "    u'country': u'be',\n",
        "    u'id': 16728772,\n",
        "    u'lat': 50.811989,\n",
        "    u'lon': 4.381096,\n",
        "    u'name': u'ULB Campus Solbosch',\n",
        "    u'repinned': False}},\n",
        "  {u'created': 1406555963000,\n",
        "   u'event': {u'event_url': u'http://www.meetup.com/OpenTechSchool-Brussels/events/194806872/',\n",
        "    u'id': u'194806872',\n",
        "    u'name': u'Learn Data analysis with IPython Notebook and Pandas',\n",
        "    u'time': 1409072400000},\n",
        "   u'group': {u'group_lat': 50.83000183105469,\n",
        "    u'group_lon': 4.329999923706055,\n",
        "    u'id': 9462812,\n",
        "    u'join_mode': u'open',\n",
        "    u'urlname': u'OpenTechSchool-Brussels'},\n",
        "   u'guests': 0,\n",
        "   u'member': {u'member_id': 88239042, u'name': u'Rosalind Lester'},\n",
        "   u'member_photo': {u'highres_link': u'http://photos3.meetupstatic.com/photos/member/2/1/e/0/highres_214388672.jpeg',\n",
        "    u'photo_id': 214388672,\n",
        "    u'photo_link': u'http://photos3.meetupstatic.com/photos/member/2/1/e/0/member_214388672.jpeg',\n",
        "    u'thumb_link': u'http://photos3.meetupstatic.com/photos/member/2/1/e/0/thumb_214388672.jpeg'},\n",
        "   u'mtime': 1406555963000,\n",
        "   u'response': u'no',\n",
        "   u'rsvp_id': 1373513312,\n",
        "   u'venue': {u'address_1': u'50, Avenue Franklin D. Roosevelt 1050 Bruxelles',\n",
        "    u'city': u'Brussels',\n",
        "    u'country': u'be',\n",
        "    u'id': 16728772,\n",
        "    u'lat': 50.811989,\n",
        "    u'lon': 4.381096,\n",
        "    u'name': u'ULB Campus Solbosch',\n",
        "    u'repinned': False}},\n",
        "  {u'created': 1408441425000,\n",
        "   u'event': {u'event_url': u'http://www.meetup.com/OpenTechSchool-Brussels/events/194806872/',\n",
        "    u'id': u'194806872',\n",
        "    u'name': u'Learn Data analysis with IPython Notebook and Pandas',\n",
        "    u'time': 1409072400000},\n",
        "   u'group': {u'group_lat': 50.83000183105469,\n",
        "    u'group_lon': 4.329999923706055,\n",
        "    u'id': 9462812,\n",
        "    u'join_mode': u'open',\n",
        "    u'urlname': u'OpenTechSchool-Brussels'},\n",
        "   u'guests': 0,\n",
        "   u'member': {u'member_id': 146738162, u'name': u'Nicolas'},\n",
        "   u'mtime': 1408441425000,\n",
        "   u'response': u'yes',\n",
        "   u'rsvp_id': 1404147552,\n",
        "   u'venue': {u'address_1': u'50, Avenue Franklin D. Roosevelt 1050 Bruxelles',\n",
        "    u'city': u'Brussels',\n",
        "    u'country': u'be',\n",
        "    u'id': 16728772,\n",
        "    u'lat': 50.811989,\n",
        "    u'lon': 4.381096,\n",
        "    u'name': u'ULB Campus Solbosch',\n",
        "    u'repinned': False}},\n",
        "  {u'created': 1407832115000,\n",
        "   u'event': {u'event_url': u'http://www.meetup.com/OpenTechSchool-Brussels/events/194806872/',\n",
        "    u'id': u'194806872',\n",
        "    u'name': u'Learn Data analysis with IPython Notebook and Pandas',\n",
        "    u'time': 1409072400000},\n",
        "   u'group': {u'group_lat': 50.83000183105469,\n",
        "    u'group_lon': 4.329999923706055,\n",
        "    u'id': 9462812,\n",
        "    u'join_mode': u'open',\n",
        "    u'urlname': u'OpenTechSchool-Brussels'},\n",
        "   u'guests': 0,\n",
        "   u'member': {u'member_id': 137236372, u'name': u'Ana Claudia Alfieri'},\n",
        "   u'mtime': 1407832115000,\n",
        "   u'response': u'yes',\n",
        "   u'rsvp_id': 1394410852,\n",
        "   u'venue': {u'address_1': u'50, Avenue Franklin D. Roosevelt 1050 Bruxelles',\n",
        "    u'city': u'Brussels',\n",
        "    u'country': u'be',\n",
        "    u'id': 16728772,\n",
        "    u'lat': 50.811989,\n",
        "    u'lon': 4.381096,\n",
        "    u'name': u'ULB Campus Solbosch',\n",
        "    u'repinned': False}},\n",
        "  {u'created': 1407137248000,\n",
        "   u'event': {u'event_url': u'http://www.meetup.com/OpenTechSchool-Brussels/events/194806872/',\n",
        "    u'id': u'194806872',\n",
        "    u'name': u'Learn Data analysis with IPython Notebook and Pandas',\n",
        "    u'time': 1409072400000},\n",
        "   u'group': {u'group_lat': 50.83000183105469,\n",
        "    u'group_lon': 4.329999923706055,\n",
        "    u'id': 9462812,\n",
        "    u'join_mode': u'open',\n",
        "    u'urlname': u'OpenTechSchool-Brussels'},\n",
        "   u'guests': 0,\n",
        "   u'member': {u'member_id': 153801642,\n",
        "    u'name': u\"Marie-Agn\\xe8s Djate N'koy\"},\n",
        "   u'member_photo': {u'highres_link': u'http://photos2.meetupstatic.com/photos/member/6/1/3/2/highres_207564882.jpeg',\n",
        "    u'photo_id': 207564882,\n",
        "    u'photo_link': u'http://photos2.meetupstatic.com/photos/member/6/1/3/2/member_207564882.jpeg',\n",
        "    u'thumb_link': u'http://photos4.meetupstatic.com/photos/member/6/1/3/2/thumb_207564882.jpeg'},\n",
        "   u'mtime': 1407137248000,\n",
        "   u'response': u'yes',\n",
        "   u'rsvp_id': 1382866532,\n",
        "   u'venue': {u'address_1': u'50, Avenue Franklin D. Roosevelt 1050 Bruxelles',\n",
        "    u'city': u'Brussels',\n",
        "    u'country': u'be',\n",
        "    u'id': 16728772,\n",
        "    u'lat': 50.811989,\n",
        "    u'lon': 4.381096,\n",
        "    u'name': u'ULB Campus Solbosch',\n",
        "    u'repinned': False}},\n",
        "  {u'created': 1405346906000,\n",
        "   u'event': {u'event_url': u'http://www.meetup.com/OpenTechSchool-Brussels/events/194806872/',\n",
        "    u'id': u'194806872',\n",
        "    u'name': u'Learn Data analysis with IPython Notebook and Pandas',\n",
        "    u'time': 1409072400000},\n",
        "   u'group': {u'group_lat': 50.83000183105469,\n",
        "    u'group_lon': 4.329999923706055,\n",
        "    u'id': 9462812,\n",
        "    u'join_mode': u'open',\n",
        "    u'urlname': u'OpenTechSchool-Brussels'},\n",
        "   u'guests': 0,\n",
        "   u'member': {u'member_id': 121534732, u'name': u'Olivier Pirson'},\n",
        "   u'member_photo': {u'highres_link': u'http://photos3.meetupstatic.com/photos/member/6/f/e/c/highres_161008652.jpeg',\n",
        "    u'photo_id': 161008652,\n",
        "    u'photo_link': u'http://photos3.meetupstatic.com/photos/member/6/f/e/c/member_161008652.jpeg',\n",
        "    u'thumb_link': u'http://photos3.meetupstatic.com/photos/member/6/f/e/c/thumb_161008652.jpeg'},\n",
        "   u'mtime': 1405346906000,\n",
        "   u'response': u'yes',\n",
        "   u'rsvp_id': 1354386282,\n",
        "   u'venue': {u'address_1': u'50, Avenue Franklin D. Roosevelt 1050 Bruxelles',\n",
        "    u'city': u'Brussels',\n",
        "    u'country': u'be',\n",
        "    u'id': 16728772,\n",
        "    u'lat': 50.811989,\n",
        "    u'lon': 4.381096,\n",
        "    u'name': u'ULB Campus Solbosch',\n",
        "    u'repinned': False}},\n",
        "  {u'created': 1408560548000,\n",
        "   u'event': {u'event_url': u'http://www.meetup.com/OpenTechSchool-Brussels/events/194806872/',\n",
        "    u'id': u'194806872',\n",
        "    u'name': u'Learn Data analysis with IPython Notebook and Pandas',\n",
        "    u'time': 1409072400000},\n",
        "   u'group': {u'group_lat': 50.83000183105469,\n",
        "    u'group_lon': 4.329999923706055,\n",
        "    u'id': 9462812,\n",
        "    u'join_mode': u'open',\n",
        "    u'urlname': u'OpenTechSchool-Brussels'},\n",
        "   u'guests': 0,\n",
        "   u'member': {u'member_id': 147927772, u'name': u'Frederic'},\n",
        "   u'member_photo': {u'highres_link': u'http://photos4.meetupstatic.com/photos/member/d/f/c/2/highres_199437282.jpeg',\n",
        "    u'photo_id': 199437282,\n",
        "    u'photo_link': u'http://photos2.meetupstatic.com/photos/member/d/f/c/2/member_199437282.jpeg',\n",
        "    u'thumb_link': u'http://photos2.meetupstatic.com/photos/member/d/f/c/2/thumb_199437282.jpeg'},\n",
        "   u'mtime': 1408560548000,\n",
        "   u'response': u'no',\n",
        "   u'rsvp_id': 1406236782,\n",
        "   u'venue': {u'address_1': u'50, Avenue Franklin D. Roosevelt 1050 Bruxelles',\n",
        "    u'city': u'Brussels',\n",
        "    u'country': u'be',\n",
        "    u'id': 16728772,\n",
        "    u'lat': 50.811989,\n",
        "    u'lon': 4.381096,\n",
        "    u'name': u'ULB Campus Solbosch',\n",
        "    u'repinned': False}},\n",
        "  {u'created': 1405341583000,\n",
        "   u'event': {u'event_url': u'http://www.meetup.com/OpenTechSchool-Brussels/events/194806872/',\n",
        "    u'id': u'194806872',\n",
        "    u'name': u'Learn Data analysis with IPython Notebook and Pandas',\n",
        "    u'time': 1409072400000},\n",
        "   u'group': {u'group_lat': 50.83000183105469,\n",
        "    u'group_lon': 4.329999923706055,\n",
        "    u'id': 9462812,\n",
        "    u'join_mode': u'open',\n",
        "    u'urlname': u'OpenTechSchool-Brussels'},\n",
        "   u'guests': 0,\n",
        "   u'member': {u'member_id': 89353212, u'name': u'Hugo Herter'},\n",
        "   u'member_photo': {u'highres_link': u'http://photos3.meetupstatic.com/photos/member/4/1/2/highres_110881042.jpeg',\n",
        "    u'photo_id': 110881042,\n",
        "    u'photo_link': u'http://photos3.meetupstatic.com/photos/member/4/1/2/member_110881042.jpeg',\n",
        "    u'thumb_link': u'http://photos3.meetupstatic.com/photos/member/4/1/2/thumb_110881042.jpeg'},\n",
        "   u'mtime': 1405341583000,\n",
        "   u'response': u'yes',\n",
        "   u'rsvp_id': 1354266992,\n",
        "   u'venue': {u'address_1': u'50, Avenue Franklin D. Roosevelt 1050 Bruxelles',\n",
        "    u'city': u'Brussels',\n",
        "    u'country': u'be',\n",
        "    u'id': 16728772,\n",
        "    u'lat': 50.811989,\n",
        "    u'lon': 4.381096,\n",
        "    u'name': u'ULB Campus Solbosch',\n",
        "    u'repinned': False}},\n",
        "  {u'created': 1405479989000,\n",
        "   u'event': {u'event_url': u'http://www.meetup.com/OpenTechSchool-Brussels/events/194806872/',\n",
        "    u'id': u'194806872',\n",
        "    u'name': u'Learn Data analysis with IPython Notebook and Pandas',\n",
        "    u'time': 1409072400000},\n",
        "   u'group': {u'group_lat': 50.83000183105469,\n",
        "    u'group_lon': 4.329999923706055,\n",
        "    u'id': 9462812,\n",
        "    u'join_mode': u'open',\n",
        "    u'urlname': u'OpenTechSchool-Brussels'},\n",
        "   u'guests': 0,\n",
        "   u'member': {u'member_id': 156627092, u'name': u'Said'},\n",
        "   u'mtime': 1405479989000,\n",
        "   u'response': u'yes',\n",
        "   u'rsvp_id': 1357042552,\n",
        "   u'venue': {u'address_1': u'50, Avenue Franklin D. Roosevelt 1050 Bruxelles',\n",
        "    u'city': u'Brussels',\n",
        "    u'country': u'be',\n",
        "    u'id': 16728772,\n",
        "    u'lat': 50.811989,\n",
        "    u'lon': 4.381096,\n",
        "    u'name': u'ULB Campus Solbosch',\n",
        "    u'repinned': False}},\n",
        "  {u'created': 1408607549000,\n",
        "   u'event': {u'event_url': u'http://www.meetup.com/OpenTechSchool-Brussels/events/194806872/',\n",
        "    u'id': u'194806872',\n",
        "    u'name': u'Learn Data analysis with IPython Notebook and Pandas',\n",
        "    u'time': 1409072400000},\n",
        "   u'group': {u'group_lat': 50.83000183105469,\n",
        "    u'group_lon': 4.329999923706055,\n",
        "    u'id': 9462812,\n",
        "    u'join_mode': u'open',\n",
        "    u'urlname': u'OpenTechSchool-Brussels'},\n",
        "   u'guests': 0,\n",
        "   u'member': {u'member_id': 65711592, u'name': u'Frederic Vandaele'},\n",
        "   u'member_photo': {u'highres_link': u'http://photos1.meetupstatic.com/photos/member/d/1/9/e/highres_199133662.jpeg',\n",
        "    u'photo_id': 199133662,\n",
        "    u'photo_link': u'http://photos3.meetupstatic.com/photos/member/d/1/9/e/member_199133662.jpeg',\n",
        "    u'thumb_link': u'http://photos1.meetupstatic.com/photos/member/d/1/9/e/thumb_199133662.jpeg'},\n",
        "   u'mtime': 1408607549000,\n",
        "   u'response': u'no',\n",
        "   u'rsvp_id': 1407112832,\n",
        "   u'venue': {u'address_1': u'50, Avenue Franklin D. Roosevelt 1050 Bruxelles',\n",
        "    u'city': u'Brussels',\n",
        "    u'country': u'be',\n",
        "    u'id': 16728772,\n",
        "    u'lat': 50.811989,\n",
        "    u'lon': 4.381096,\n",
        "    u'name': u'ULB Campus Solbosch',\n",
        "    u'repinned': False}},\n",
        "  {u'created': 1408636360000,\n",
        "   u'event': {u'event_url': u'http://www.meetup.com/OpenTechSchool-Brussels/events/194806872/',\n",
        "    u'id': u'194806872',\n",
        "    u'name': u'Learn Data analysis with IPython Notebook and Pandas',\n",
        "    u'time': 1409072400000},\n",
        "   u'group': {u'group_lat': 50.83000183105469,\n",
        "    u'group_lon': 4.329999923706055,\n",
        "    u'id': 9462812,\n",
        "    u'join_mode': u'open',\n",
        "    u'urlname': u'OpenTechSchool-Brussels'},\n",
        "   u'guests': 0,\n",
        "   u'member': {u'member_id': 140192532, u'name': u'Robert Johnston'},\n",
        "   u'mtime': 1408636360000,\n",
        "   u'response': u'yes',\n",
        "   u'rsvp_id': 1407497352,\n",
        "   u'venue': {u'address_1': u'50, Avenue Franklin D. Roosevelt 1050 Bruxelles',\n",
        "    u'city': u'Brussels',\n",
        "    u'country': u'be',\n",
        "    u'id': 16728772,\n",
        "    u'lat': 50.811989,\n",
        "    u'lon': 4.381096,\n",
        "    u'name': u'ULB Campus Solbosch',\n",
        "    u'repinned': False}},\n",
        "  {u'created': 1406105557000,\n",
        "   u'event': {u'event_url': u'http://www.meetup.com/OpenTechSchool-Brussels/events/194806872/',\n",
        "    u'id': u'194806872',\n",
        "    u'name': u'Learn Data analysis with IPython Notebook and Pandas',\n",
        "    u'time': 1409072400000},\n",
        "   u'group': {u'group_lat': 50.83000183105469,\n",
        "    u'group_lon': 4.329999923706055,\n",
        "    u'id': 9462812,\n",
        "    u'join_mode': u'open',\n",
        "    u'urlname': u'OpenTechSchool-Brussels'},\n",
        "   u'guests': 0,\n",
        "   u'member': {u'member_id': 152890942, u'name': u'Martijn theuwissen'},\n",
        "   u'member_photo': {u'highres_link': u'http://photos3.meetupstatic.com/photos/member/d/6/1/2/highres_206334802.jpeg',\n",
        "    u'photo_id': 206334802,\n",
        "    u'photo_link': u'http://photos1.meetupstatic.com/photos/member/d/6/1/2/member_206334802.jpeg',\n",
        "    u'thumb_link': u'http://photos3.meetupstatic.com/photos/member/d/6/1/2/thumb_206334802.jpeg'},\n",
        "   u'mtime': 1406105557000,\n",
        "   u'response': u'yes',\n",
        "   u'rsvp_id': 1366873482,\n",
        "   u'venue': {u'address_1': u'50, Avenue Franklin D. Roosevelt 1050 Bruxelles',\n",
        "    u'city': u'Brussels',\n",
        "    u'country': u'be',\n",
        "    u'id': 16728772,\n",
        "    u'lat': 50.811989,\n",
        "    u'lon': 4.381096,\n",
        "    u'name': u'ULB Campus Solbosch',\n",
        "    u'repinned': False}},\n",
        "  {u'created': 1408609444000,\n",
        "   u'event': {u'event_url': u'http://www.meetup.com/OpenTechSchool-Brussels/events/194806872/',\n",
        "    u'id': u'194806872',\n",
        "    u'name': u'Learn Data analysis with IPython Notebook and Pandas',\n",
        "    u'time': 1409072400000},\n",
        "   u'group': {u'group_lat': 50.83000183105469,\n",
        "    u'group_lon': 4.329999923706055,\n",
        "    u'id': 9462812,\n",
        "    u'join_mode': u'open',\n",
        "    u'urlname': u'OpenTechSchool-Brussels'},\n",
        "   u'guests': 0,\n",
        "   u'member': {u'member_id': 68734492, u'name': u'Raph Huys'},\n",
        "   u'member_photo': {u'highres_link': u'http://photos4.meetupstatic.com/photos/member/7/d/2/highres_80822002.jpeg',\n",
        "    u'photo_id': 80822002,\n",
        "    u'photo_link': u'http://photos2.meetupstatic.com/photos/member/7/d/2/member_80822002.jpeg',\n",
        "    u'thumb_link': u'http://photos2.meetupstatic.com/photos/member/7/d/2/thumb_80822002.jpeg'},\n",
        "   u'mtime': 1408609444000,\n",
        "   u'response': u'yes',\n",
        "   u'rsvp_id': 1407125392,\n",
        "   u'venue': {u'address_1': u'50, Avenue Franklin D. Roosevelt 1050 Bruxelles',\n",
        "    u'city': u'Brussels',\n",
        "    u'country': u'be',\n",
        "    u'id': 16728772,\n",
        "    u'lat': 50.811989,\n",
        "    u'lon': 4.381096,\n",
        "    u'name': u'ULB Campus Solbosch',\n",
        "    u'repinned': False}},\n",
        "  {u'created': 1408633578000,\n",
        "   u'event': {u'event_url': u'http://www.meetup.com/OpenTechSchool-Brussels/events/194806872/',\n",
        "    u'id': u'194806872',\n",
        "    u'name': u'Learn Data analysis with IPython Notebook and Pandas',\n",
        "    u'time': 1409072400000},\n",
        "   u'group': {u'group_lat': 50.83000183105469,\n",
        "    u'group_lon': 4.329999923706055,\n",
        "    u'id': 9462812,\n",
        "    u'join_mode': u'open',\n",
        "    u'urlname': u'OpenTechSchool-Brussels'},\n",
        "   u'guests': 0,\n",
        "   u'member': {u'member_id': 140547792, u'name': u'Yann'},\n",
        "   u'member_photo': {u'highres_link': u'http://photos3.meetupstatic.com/photos/member/6/9/6/6/highres_191066982.jpeg',\n",
        "    u'photo_id': 191066982,\n",
        "    u'photo_link': u'http://photos1.meetupstatic.com/photos/member/6/9/6/6/member_191066982.jpeg',\n",
        "    u'thumb_link': u'http://photos3.meetupstatic.com/photos/member/6/9/6/6/thumb_191066982.jpeg'},\n",
        "   u'mtime': 1408633578000,\n",
        "   u'response': u'yes',\n",
        "   u'rsvp_id': 1407439252,\n",
        "   u'venue': {u'address_1': u'50, Avenue Franklin D. Roosevelt 1050 Bruxelles',\n",
        "    u'city': u'Brussels',\n",
        "    u'country': u'be',\n",
        "    u'id': 16728772,\n",
        "    u'lat': 50.811989,\n",
        "    u'lon': 4.381096,\n",
        "    u'name': u'ULB Campus Solbosch',\n",
        "    u'repinned': False}},\n",
        "  {u'created': 1408567389000,\n",
        "   u'event': {u'event_url': u'http://www.meetup.com/OpenTechSchool-Brussels/events/194806872/',\n",
        "    u'id': u'194806872',\n",
        "    u'name': u'Learn Data analysis with IPython Notebook and Pandas',\n",
        "    u'time': 1409072400000},\n",
        "   u'group': {u'group_lat': 50.83000183105469,\n",
        "    u'group_lon': 4.329999923706055,\n",
        "    u'id': 9462812,\n",
        "    u'join_mode': u'open',\n",
        "    u'urlname': u'OpenTechSchool-Brussels'},\n",
        "   u'guests': 0,\n",
        "   u'member': {u'member_id': 109289402, u'name': u'Daniel'},\n",
        "   u'member_photo': {u'photo_id': 143516992,\n",
        "    u'photo_link': u'http://photos4.meetupstatic.com/photos/member/d/e/a/0/member_143516992.jpeg',\n",
        "    u'thumb_link': u'http://photos4.meetupstatic.com/photos/member/d/e/a/0/thumb_143516992.jpeg'},\n",
        "   u'mtime': 1408567389000,\n",
        "   u'response': u'yes',\n",
        "   u'rsvp_id': 1406410142,\n",
        "   u'venue': {u'address_1': u'50, Avenue Franklin D. Roosevelt 1050 Bruxelles',\n",
        "    u'city': u'Brussels',\n",
        "    u'country': u'be',\n",
        "    u'id': 16728772,\n",
        "    u'lat': 50.811989,\n",
        "    u'lon': 4.381096,\n",
        "    u'name': u'ULB Campus Solbosch',\n",
        "    u'repinned': False}},\n",
        "  {u'created': 1405979488000,\n",
        "   u'event': {u'event_url': u'http://www.meetup.com/OpenTechSchool-Brussels/events/194806872/',\n",
        "    u'id': u'194806872',\n",
        "    u'name': u'Learn Data analysis with IPython Notebook and Pandas',\n",
        "    u'time': 1409072400000},\n",
        "   u'group': {u'group_lat': 50.83000183105469,\n",
        "    u'group_lon': 4.329999923706055,\n",
        "    u'id': 9462812,\n",
        "    u'join_mode': u'open',\n",
        "    u'urlname': u'OpenTechSchool-Brussels'},\n",
        "   u'guests': 0,\n",
        "   u'member': {u'member_id': 36264742, u'name': u'Jonathan Cornelissen'},\n",
        "   u'member_photo': {u'photo_id': 71237262,\n",
        "    u'photo_link': u'http://photos2.meetupstatic.com/photos/member/4/3/6/e/member_71237262.jpeg',\n",
        "    u'thumb_link': u'http://photos4.meetupstatic.com/photos/member/4/3/6/e/thumb_71237262.jpeg'},\n",
        "   u'mtime': 1405979488000,\n",
        "   u'response': u'yes',\n",
        "   u'rsvp_id': 1364783012,\n",
        "   u'venue': {u'address_1': u'50, Avenue Franklin D. Roosevelt 1050 Bruxelles',\n",
        "    u'city': u'Brussels',\n",
        "    u'country': u'be',\n",
        "    u'id': 16728772,\n",
        "    u'lat': 50.811989,\n",
        "    u'lon': 4.381096,\n",
        "    u'name': u'ULB Campus Solbosch',\n",
        "    u'repinned': False}},\n",
        "  {u'created': 1407335945000,\n",
        "   u'event': {u'event_url': u'http://www.meetup.com/OpenTechSchool-Brussels/events/194806872/',\n",
        "    u'id': u'194806872',\n",
        "    u'name': u'Learn Data analysis with IPython Notebook and Pandas',\n",
        "    u'time': 1409072400000},\n",
        "   u'group': {u'group_lat': 50.83000183105469,\n",
        "    u'group_lon': 4.329999923706055,\n",
        "    u'id': 9462812,\n",
        "    u'join_mode': u'open',\n",
        "    u'urlname': u'OpenTechSchool-Brussels'},\n",
        "   u'guests': 1,\n",
        "   u'member': {u'member_id': 70763662, u'name': u'meli'},\n",
        "   u'member_photo': {u'highres_link': u'http://photos1.meetupstatic.com/photos/member/d/b/3/a/highres_83876122.jpeg',\n",
        "    u'photo_id': 83876122,\n",
        "    u'photo_link': u'http://photos1.meetupstatic.com/photos/member/d/b/3/a/member_83876122.jpeg',\n",
        "    u'thumb_link': u'http://photos1.meetupstatic.com/photos/member/d/b/3/a/thumb_83876122.jpeg'},\n",
        "   u'mtime': 1407335949000,\n",
        "   u'response': u'yes',\n",
        "   u'rsvp_id': 1386344872,\n",
        "   u'venue': {u'address_1': u'50, Avenue Franklin D. Roosevelt 1050 Bruxelles',\n",
        "    u'city': u'Brussels',\n",
        "    u'country': u'be',\n",
        "    u'id': 16728772,\n",
        "    u'lat': 50.811989,\n",
        "    u'lon': 4.381096,\n",
        "    u'name': u'ULB Campus Solbosch',\n",
        "    u'repinned': False}},\n",
        "  {u'created': 1408539790000,\n",
        "   u'event': {u'event_url': u'http://www.meetup.com/OpenTechSchool-Brussels/events/194806872/',\n",
        "    u'id': u'194806872',\n",
        "    u'name': u'Learn Data analysis with IPython Notebook and Pandas',\n",
        "    u'time': 1409072400000},\n",
        "   u'group': {u'group_lat': 50.83000183105469,\n",
        "    u'group_lon': 4.329999923706055,\n",
        "    u'id': 9462812,\n",
        "    u'join_mode': u'open',\n",
        "    u'urlname': u'OpenTechSchool-Brussels'},\n",
        "   u'guests': 0,\n",
        "   u'member': {u'member_id': 142885382, u'name': u'Satblip'},\n",
        "   u'member_photo': {u'highres_link': u'http://photos3.meetupstatic.com/photos/member/2/e/4/c/highres_192071852.jpeg',\n",
        "    u'photo_id': 192071852,\n",
        "    u'photo_link': u'http://photos3.meetupstatic.com/photos/member/2/e/4/c/member_192071852.jpeg',\n",
        "    u'thumb_link': u'http://photos3.meetupstatic.com/photos/member/2/e/4/c/thumb_192071852.jpeg'},\n",
        "   u'mtime': 1408539790000,\n",
        "   u'response': u'yes',\n",
        "   u'rsvp_id': 1405793712,\n",
        "   u'venue': {u'address_1': u'50, Avenue Franklin D. Roosevelt 1050 Bruxelles',\n",
        "    u'city': u'Brussels',\n",
        "    u'country': u'be',\n",
        "    u'id': 16728772,\n",
        "    u'lat': 50.811989,\n",
        "    u'lon': 4.381096,\n",
        "    u'name': u'ULB Campus Solbosch',\n",
        "    u'repinned': False}},\n",
        "  {u'created': 1406387340000,\n",
        "   u'event': {u'event_url': u'http://www.meetup.com/OpenTechSchool-Brussels/events/194806872/',\n",
        "    u'id': u'194806872',\n",
        "    u'name': u'Learn Data analysis with IPython Notebook and Pandas',\n",
        "    u'time': 1409072400000},\n",
        "   u'group': {u'group_lat': 50.83000183105469,\n",
        "    u'group_lon': 4.329999923706055,\n",
        "    u'id': 9462812,\n",
        "    u'join_mode': u'open',\n",
        "    u'urlname': u'OpenTechSchool-Brussels'},\n",
        "   u'guests': 0,\n",
        "   u'member': {u'member_id': 117801852, u'name': u'an'},\n",
        "   u'member_photo': {u'highres_link': u'http://photos3.meetupstatic.com/photos/member/b/1/4/6/highres_212325382.jpeg',\n",
        "    u'photo_id': 212325382,\n",
        "    u'photo_link': u'http://photos1.meetupstatic.com/photos/member/b/1/4/6/member_212325382.jpeg',\n",
        "    u'thumb_link': u'http://photos3.meetupstatic.com/photos/member/b/1/4/6/thumb_212325382.jpeg'},\n",
        "   u'mtime': 1406387340000,\n",
        "   u'response': u'yes',\n",
        "   u'rsvp_id': 1371169202,\n",
        "   u'venue': {u'address_1': u'50, Avenue Franklin D. Roosevelt 1050 Bruxelles',\n",
        "    u'city': u'Brussels',\n",
        "    u'country': u'be',\n",
        "    u'id': 16728772,\n",
        "    u'lat': 50.811989,\n",
        "    u'lon': 4.381096,\n",
        "    u'name': u'ULB Campus Solbosch',\n",
        "    u'repinned': False}},\n",
        "  {u'created': 1408734757000,\n",
        "   u'event': {u'event_url': u'http://www.meetup.com/OpenTechSchool-Brussels/events/194806872/',\n",
        "    u'id': u'194806872',\n",
        "    u'name': u'Learn Data analysis with IPython Notebook and Pandas',\n",
        "    u'time': 1409072400000},\n",
        "   u'group': {u'group_lat': 50.83000183105469,\n",
        "    u'group_lon': 4.329999923706055,\n",
        "    u'id': 9462812,\n",
        "    u'join_mode': u'open',\n",
        "    u'urlname': u'OpenTechSchool-Brussels'},\n",
        "   u'guests': 0,\n",
        "   u'member': {u'member_id': 58989822, u'name': u'Kate'},\n",
        "   u'member_photo': {u'highres_link': u'http://photos3.meetupstatic.com/photos/member/5/5/d/4/highres_68241972.jpeg',\n",
        "    u'photo_id': 68241972,\n",
        "    u'photo_link': u'http://photos3.meetupstatic.com/photos/member/5/5/d/4/member_68241972.jpeg',\n",
        "    u'thumb_link': u'http://photos3.meetupstatic.com/photos/member/5/5/d/4/thumb_68241972.jpeg'},\n",
        "   u'mtime': 1408734757000,\n",
        "   u'response': u'yes',\n",
        "   u'rsvp_id': 1409209012,\n",
        "   u'venue': {u'address_1': u'50, Avenue Franklin D. Roosevelt 1050 Bruxelles',\n",
        "    u'city': u'Brussels',\n",
        "    u'country': u'be',\n",
        "    u'id': 16728772,\n",
        "    u'lat': 50.811989,\n",
        "    u'lon': 4.381096,\n",
        "    u'name': u'ULB Campus Solbosch',\n",
        "    u'repinned': False}},\n",
        "  {u'created': 1406731615000,\n",
        "   u'event': {u'event_url': u'http://www.meetup.com/OpenTechSchool-Brussels/events/194806872/',\n",
        "    u'id': u'194806872',\n",
        "    u'name': u'Learn Data analysis with IPython Notebook and Pandas',\n",
        "    u'time': 1409072400000},\n",
        "   u'group': {u'group_lat': 50.83000183105469,\n",
        "    u'group_lon': 4.329999923706055,\n",
        "    u'id': 9462812,\n",
        "    u'join_mode': u'open',\n",
        "    u'urlname': u'OpenTechSchool-Brussels'},\n",
        "   u'guests': 0,\n",
        "   u'member': {u'member_id': 123222982, u'name': u'BoNo'},\n",
        "   u'member_photo': {u'highres_link': u'http://photos2.meetupstatic.com/photos/member/b/c/2/2/highres_214908162.jpeg',\n",
        "    u'photo_id': 214908162,\n",
        "    u'photo_link': u'http://photos4.meetupstatic.com/photos/member/b/c/2/2/member_214908162.jpeg',\n",
        "    u'thumb_link': u'http://photos4.meetupstatic.com/photos/member/b/c/2/2/thumb_214908162.jpeg'},\n",
        "   u'mtime': 1406731615000,\n",
        "   u'response': u'yes',\n",
        "   u'rsvp_id': 1376629692,\n",
        "   u'venue': {u'address_1': u'50, Avenue Franklin D. Roosevelt 1050 Bruxelles',\n",
        "    u'city': u'Brussels',\n",
        "    u'country': u'be',\n",
        "    u'id': 16728772,\n",
        "    u'lat': 50.811989,\n",
        "    u'lon': 4.381096,\n",
        "    u'name': u'ULB Campus Solbosch',\n",
        "    u'repinned': False}},\n",
        "  {u'created': 1405406796000,\n",
        "   u'event': {u'event_url': u'http://www.meetup.com/OpenTechSchool-Brussels/events/194806872/',\n",
        "    u'id': u'194806872',\n",
        "    u'name': u'Learn Data analysis with IPython Notebook and Pandas',\n",
        "    u'time': 1409072400000},\n",
        "   u'group': {u'group_lat': 50.83000183105469,\n",
        "    u'group_lon': 4.329999923706055,\n",
        "    u'id': 9462812,\n",
        "    u'join_mode': u'open',\n",
        "    u'urlname': u'OpenTechSchool-Brussels'},\n",
        "   u'guests': 0,\n",
        "   u'member': {u'member_id': 88244022, u'name': u'Quentin Mathoux'},\n",
        "   u'member_photo': {u'highres_link': u'http://photos4.meetupstatic.com/photos/member/b/c/3/6/highres_113868182.jpeg',\n",
        "    u'photo_id': 113868182,\n",
        "    u'photo_link': u'http://photos2.meetupstatic.com/photos/member/b/c/3/6/member_113868182.jpeg',\n",
        "    u'thumb_link': u'http://photos2.meetupstatic.com/photos/member/b/c/3/6/thumb_113868182.jpeg'},\n",
        "   u'mtime': 1405406796000,\n",
        "   u'response': u'yes',\n",
        "   u'rsvp_id': 1355735742,\n",
        "   u'venue': {u'address_1': u'50, Avenue Franklin D. Roosevelt 1050 Bruxelles',\n",
        "    u'city': u'Brussels',\n",
        "    u'country': u'be',\n",
        "    u'id': 16728772,\n",
        "    u'lat': 50.811989,\n",
        "    u'lon': 4.381096,\n",
        "    u'name': u'ULB Campus Solbosch',\n",
        "    u'repinned': False}},\n",
        "  {u'created': 1408287707000,\n",
        "   u'event': {u'event_url': u'http://www.meetup.com/OpenTechSchool-Brussels/events/194806872/',\n",
        "    u'id': u'194806872',\n",
        "    u'name': u'Learn Data analysis with IPython Notebook and Pandas',\n",
        "    u'time': 1409072400000},\n",
        "   u'group': {u'group_lat': 50.83000183105469,\n",
        "    u'group_lon': 4.329999923706055,\n",
        "    u'id': 9462812,\n",
        "    u'join_mode': u'open',\n",
        "    u'urlname': u'OpenTechSchool-Brussels'},\n",
        "   u'guests': 0,\n",
        "   u'member': {u'member_id': 41396522, u'name': u'Michael Murtaugh'},\n",
        "   u'member_photo': {u'highres_link': u'http://photos1.meetupstatic.com/photos/member/9/c/7/e/highres_45640062.jpeg',\n",
        "    u'photo_id': 45640062,\n",
        "    u'photo_link': u'http://photos1.meetupstatic.com/photos/member/9/c/7/e/member_45640062.jpeg',\n",
        "    u'thumb_link': u'http://photos1.meetupstatic.com/photos/member/9/c/7/e/thumb_45640062.jpeg'},\n",
        "   u'mtime': 1408287707000,\n",
        "   u'response': u'yes',\n",
        "   u'rsvp_id': 1401390022,\n",
        "   u'venue': {u'address_1': u'50, Avenue Franklin D. Roosevelt 1050 Bruxelles',\n",
        "    u'city': u'Brussels',\n",
        "    u'country': u'be',\n",
        "    u'id': 16728772,\n",
        "    u'lat': 50.811989,\n",
        "    u'lon': 4.381096,\n",
        "    u'name': u'ULB Campus Solbosch',\n",
        "    u'repinned': False}},\n",
        "  {u'created': 1405542594000,\n",
        "   u'event': {u'event_url': u'http://www.meetup.com/OpenTechSchool-Brussels/events/194806872/',\n",
        "    u'id': u'194806872',\n",
        "    u'name': u'Learn Data analysis with IPython Notebook and Pandas',\n",
        "    u'time': 1409072400000},\n",
        "   u'group': {u'group_lat': 50.83000183105469,\n",
        "    u'group_lon': 4.329999923706055,\n",
        "    u'id': 9462812,\n",
        "    u'join_mode': u'open',\n",
        "    u'urlname': u'OpenTechSchool-Brussels'},\n",
        "   u'guests': 0,\n",
        "   u'member': {u'member_id': 130617332, u'name': u'Victor Rodrigues'},\n",
        "   u'member_photo': {u'photo_id': 173742262,\n",
        "    u'photo_link': u'http://photos1.meetupstatic.com/photos/member/a/5/1/6/member_173742262.jpeg',\n",
        "    u'thumb_link': u'http://photos3.meetupstatic.com/photos/member/a/5/1/6/thumb_173742262.jpeg'},\n",
        "   u'mtime': 1405542605000,\n",
        "   u'response': u'no',\n",
        "   u'rsvp_id': 1358009542,\n",
        "   u'venue': {u'address_1': u'50, Avenue Franklin D. Roosevelt 1050 Bruxelles',\n",
        "    u'city': u'Brussels',\n",
        "    u'country': u'be',\n",
        "    u'id': 16728772,\n",
        "    u'lat': 50.811989,\n",
        "    u'lon': 4.381096,\n",
        "    u'name': u'ULB Campus Solbosch',\n",
        "    u'repinned': False}},\n",
        "  {u'created': 1408296828000,\n",
        "   u'event': {u'event_url': u'http://www.meetup.com/OpenTechSchool-Brussels/events/194806872/',\n",
        "    u'id': u'194806872',\n",
        "    u'name': u'Learn Data analysis with IPython Notebook and Pandas',\n",
        "    u'time': 1409072400000},\n",
        "   u'group': {u'group_lat': 50.83000183105469,\n",
        "    u'group_lon': 4.329999923706055,\n",
        "    u'id': 9462812,\n",
        "    u'join_mode': u'open',\n",
        "    u'urlname': u'OpenTechSchool-Brussels'},\n",
        "   u'guests': 0,\n",
        "   u'member': {u'member_id': 160220632, u'name': u'David Clijsters'},\n",
        "   u'member_photo': {u'highres_link': u'http://photos4.meetupstatic.com/photos/member/1/7/e/highres_216600382.jpeg',\n",
        "    u'photo_id': 216600382,\n",
        "    u'photo_link': u'http://photos2.meetupstatic.com/photos/member/1/7/e/member_216600382.jpeg',\n",
        "    u'thumb_link': u'http://photos4.meetupstatic.com/photos/member/1/7/e/thumb_216600382.jpeg'},\n",
        "   u'mtime': 1408296828000,\n",
        "   u'response': u'yes',\n",
        "   u'rsvp_id': 1401557962,\n",
        "   u'venue': {u'address_1': u'50, Avenue Franklin D. Roosevelt 1050 Bruxelles',\n",
        "    u'city': u'Brussels',\n",
        "    u'country': u'be',\n",
        "    u'id': 16728772,\n",
        "    u'lat': 50.811989,\n",
        "    u'lon': 4.381096,\n",
        "    u'name': u'ULB Campus Solbosch',\n",
        "    u'repinned': False}},\n",
        "  {u'created': 1408872509000,\n",
        "   u'event': {u'event_url': u'http://www.meetup.com/OpenTechSchool-Brussels/events/194806872/',\n",
        "    u'id': u'194806872',\n",
        "    u'name': u'Learn Data analysis with IPython Notebook and Pandas',\n",
        "    u'time': 1409072400000},\n",
        "   u'group': {u'group_lat': 50.83000183105469,\n",
        "    u'group_lon': 4.329999923706055,\n",
        "    u'id': 9462812,\n",
        "    u'join_mode': u'open',\n",
        "    u'urlname': u'OpenTechSchool-Brussels'},\n",
        "   u'guests': 0,\n",
        "   u'member': {u'member_id': 15911411, u'name': u'Thomas Burette'},\n",
        "   u'member_photo': {u'highres_link': u'http://photos2.meetupstatic.com/photos/member/3/c/9/7/highres_21855511.jpeg',\n",
        "    u'photo_id': 21855511,\n",
        "    u'photo_link': u'http://photos4.meetupstatic.com/photos/member/3/c/9/7/member_21855511.jpeg',\n",
        "    u'thumb_link': u'http://photos2.meetupstatic.com/photos/member/3/c/9/7/thumb_21855511.jpeg'},\n",
        "   u'mtime': 1408872509000,\n",
        "   u'response': u'yes',\n",
        "   u'rsvp_id': 1411008212,\n",
        "   u'venue': {u'address_1': u'50, Avenue Franklin D. Roosevelt 1050 Bruxelles',\n",
        "    u'city': u'Brussels',\n",
        "    u'country': u'be',\n",
        "    u'id': 16728772,\n",
        "    u'lat': 50.811989,\n",
        "    u'lon': 4.381096,\n",
        "    u'name': u'ULB Campus Solbosch',\n",
        "    u'repinned': False}},\n",
        "  {u'created': 1405343124000,\n",
        "   u'event': {u'event_url': u'http://www.meetup.com/OpenTechSchool-Brussels/events/194806872/',\n",
        "    u'id': u'194806872',\n",
        "    u'name': u'Learn Data analysis with IPython Notebook and Pandas',\n",
        "    u'time': 1409072400000},\n",
        "   u'group': {u'group_lat': 50.83000183105469,\n",
        "    u'group_lon': 4.329999923706055,\n",
        "    u'id': 9462812,\n",
        "    u'join_mode': u'open',\n",
        "    u'urlname': u'OpenTechSchool-Brussels'},\n",
        "   u'guests': 0,\n",
        "   u'member': {u'member_id': 14283231, u'name': u'Steve'},\n",
        "   u'member_photo': {u'highres_link': u'http://photos4.meetupstatic.com/photos/member/9/b/1/6/highres_148899702.jpeg',\n",
        "    u'photo_id': 148899702,\n",
        "    u'photo_link': u'http://photos2.meetupstatic.com/photos/member/9/b/1/6/member_148899702.jpeg',\n",
        "    u'thumb_link': u'http://photos2.meetupstatic.com/photos/member/9/b/1/6/thumb_148899702.jpeg'},\n",
        "   u'mtime': 1405343124000,\n",
        "   u'response': u'yes',\n",
        "   u'rsvp_id': 1354298072,\n",
        "   u'venue': {u'address_1': u'50, Avenue Franklin D. Roosevelt 1050 Bruxelles',\n",
        "    u'city': u'Brussels',\n",
        "    u'country': u'be',\n",
        "    u'id': 16728772,\n",
        "    u'lat': 50.811989,\n",
        "    u'lon': 4.381096,\n",
        "    u'name': u'ULB Campus Solbosch',\n",
        "    u'repinned': False}},\n",
        "  {u'created': 1408345170000,\n",
        "   u'event': {u'event_url': u'http://www.meetup.com/OpenTechSchool-Brussels/events/194806872/',\n",
        "    u'id': u'194806872',\n",
        "    u'name': u'Learn Data analysis with IPython Notebook and Pandas',\n",
        "    u'time': 1409072400000},\n",
        "   u'group': {u'group_lat': 50.83000183105469,\n",
        "    u'group_lon': 4.329999923706055,\n",
        "    u'id': 9462812,\n",
        "    u'join_mode': u'open',\n",
        "    u'urlname': u'OpenTechSchool-Brussels'},\n",
        "   u'guests': 0,\n",
        "   u'member': {u'member_id': 57293552, u'name': u'Kris Peeters'},\n",
        "   u'member_photo': {u'photo_id': 187609362,\n",
        "    u'photo_link': u'http://photos3.meetupstatic.com/photos/member/c/0/d/2/member_187609362.jpeg',\n",
        "    u'thumb_link': u'http://photos1.meetupstatic.com/photos/member/c/0/d/2/thumb_187609362.jpeg'},\n",
        "   u'mtime': 1408345170000,\n",
        "   u'response': u'yes',\n",
        "   u'rsvp_id': 1402374882,\n",
        "   u'venue': {u'address_1': u'50, Avenue Franklin D. Roosevelt 1050 Bruxelles',\n",
        "    u'city': u'Brussels',\n",
        "    u'country': u'be',\n",
        "    u'id': 16728772,\n",
        "    u'lat': 50.811989,\n",
        "    u'lon': 4.381096,\n",
        "    u'name': u'ULB Campus Solbosch',\n",
        "    u'repinned': False}},\n",
        "  {u'created': 1407686959000,\n",
        "   u'event': {u'event_url': u'http://www.meetup.com/OpenTechSchool-Brussels/events/194806872/',\n",
        "    u'id': u'194806872',\n",
        "    u'name': u'Learn Data analysis with IPython Notebook and Pandas',\n",
        "    u'time': 1409072400000},\n",
        "   u'group': {u'group_lat': 50.83000183105469,\n",
        "    u'group_lon': 4.329999923706055,\n",
        "    u'id': 9462812,\n",
        "    u'join_mode': u'open',\n",
        "    u'urlname': u'OpenTechSchool-Brussels'},\n",
        "   u'guests': 0,\n",
        "   u'member': {u'member_id': 138303562, u'name': u'Dylan Soubien'},\n",
        "   u'member_photo': {u'highres_link': u'http://photos3.meetupstatic.com/photos/member/4/4/9/a/highres_185237562.jpeg',\n",
        "    u'photo_id': 185237562,\n",
        "    u'photo_link': u'http://photos3.meetupstatic.com/photos/member/4/4/9/a/member_185237562.jpeg',\n",
        "    u'thumb_link': u'http://photos3.meetupstatic.com/photos/member/4/4/9/a/thumb_185237562.jpeg'},\n",
        "   u'mtime': 1407686959000,\n",
        "   u'response': u'no',\n",
        "   u'rsvp_id': 1391751912,\n",
        "   u'venue': {u'address_1': u'50, Avenue Franklin D. Roosevelt 1050 Bruxelles',\n",
        "    u'city': u'Brussels',\n",
        "    u'country': u'be',\n",
        "    u'id': 16728772,\n",
        "    u'lat': 50.811989,\n",
        "    u'lon': 4.381096,\n",
        "    u'name': u'ULB Campus Solbosch',\n",
        "    u'repinned': False}},\n",
        "  {u'created': 1405346392000,\n",
        "   u'event': {u'event_url': u'http://www.meetup.com/OpenTechSchool-Brussels/events/194806872/',\n",
        "    u'id': u'194806872',\n",
        "    u'name': u'Learn Data analysis with IPython Notebook and Pandas',\n",
        "    u'time': 1409072400000},\n",
        "   u'group': {u'group_lat': 50.83000183105469,\n",
        "    u'group_lon': 4.329999923706055,\n",
        "    u'id': 9462812,\n",
        "    u'join_mode': u'open',\n",
        "    u'urlname': u'OpenTechSchool-Brussels'},\n",
        "   u'guests': 0,\n",
        "   u'member': {u'member_id': 137883082, u'name': u'Ludo'},\n",
        "   u'mtime': 1405346392000,\n",
        "   u'response': u'yes',\n",
        "   u'rsvp_id': 1354372332,\n",
        "   u'venue': {u'address_1': u'50, Avenue Franklin D. Roosevelt 1050 Bruxelles',\n",
        "    u'city': u'Brussels',\n",
        "    u'country': u'be',\n",
        "    u'id': 16728772,\n",
        "    u'lat': 50.811989,\n",
        "    u'lon': 4.381096,\n",
        "    u'name': u'ULB Campus Solbosch',\n",
        "    u'repinned': False}},\n",
        "  {u'created': 1408798584000,\n",
        "   u'event': {u'event_url': u'http://www.meetup.com/OpenTechSchool-Brussels/events/194806872/',\n",
        "    u'id': u'194806872',\n",
        "    u'name': u'Learn Data analysis with IPython Notebook and Pandas',\n",
        "    u'time': 1409072400000},\n",
        "   u'group': {u'group_lat': 50.83000183105469,\n",
        "    u'group_lon': 4.329999923706055,\n",
        "    u'id': 9462812,\n",
        "    u'join_mode': u'open',\n",
        "    u'urlname': u'OpenTechSchool-Brussels'},\n",
        "   u'guests': 0,\n",
        "   u'member': {u'member_id': 96707002, u'name': u'Ludovic Aelbrecht'},\n",
        "   u'member_photo': {u'highres_link': u'http://photos1.meetupstatic.com/photos/member/e/3/3/2/highres_123058162.jpeg',\n",
        "    u'photo_id': 123058162,\n",
        "    u'photo_link': u'http://photos3.meetupstatic.com/photos/member/e/3/3/2/member_123058162.jpeg',\n",
        "    u'thumb_link': u'http://photos1.meetupstatic.com/photos/member/e/3/3/2/thumb_123058162.jpeg'},\n",
        "   u'mtime': 1408798584000,\n",
        "   u'response': u'no',\n",
        "   u'rsvp_id': 1410048242,\n",
        "   u'venue': {u'address_1': u'50, Avenue Franklin D. Roosevelt 1050 Bruxelles',\n",
        "    u'city': u'Brussels',\n",
        "    u'country': u'be',\n",
        "    u'id': 16728772,\n",
        "    u'lat': 50.811989,\n",
        "    u'lon': 4.381096,\n",
        "    u'name': u'ULB Campus Solbosch',\n",
        "    u'repinned': False}},\n",
        "  {u'created': 1405345359000,\n",
        "   u'event': {u'event_url': u'http://www.meetup.com/OpenTechSchool-Brussels/events/194806872/',\n",
        "    u'id': u'194806872',\n",
        "    u'name': u'Learn Data analysis with IPython Notebook and Pandas',\n",
        "    u'time': 1409072400000},\n",
        "   u'group': {u'group_lat': 50.83000183105469,\n",
        "    u'group_lon': 4.329999923706055,\n",
        "    u'id': 9462812,\n",
        "    u'join_mode': u'open',\n",
        "    u'urlname': u'OpenTechSchool-Brussels'},\n",
        "   u'guests': 0,\n",
        "   u'member': {u'member_id': 83915892, u'name': u'Matteo Gagliolo'},\n",
        "   u'member_photo': {u'highres_link': u'http://photos1.meetupstatic.com/photos/member/8/e/2/8/highres_102636392.jpeg',\n",
        "    u'photo_id': 102636392,\n",
        "    u'photo_link': u'http://photos3.meetupstatic.com/photos/member/8/e/2/8/member_102636392.jpeg',\n",
        "    u'thumb_link': u'http://photos1.meetupstatic.com/photos/member/8/e/2/8/thumb_102636392.jpeg'},\n",
        "   u'mtime': 1405345359000,\n",
        "   u'response': u'yes',\n",
        "   u'rsvp_id': 1354348532,\n",
        "   u'venue': {u'address_1': u'50, Avenue Franklin D. Roosevelt 1050 Bruxelles',\n",
        "    u'city': u'Brussels',\n",
        "    u'country': u'be',\n",
        "    u'id': 16728772,\n",
        "    u'lat': 50.811989,\n",
        "    u'lon': 4.381096,\n",
        "    u'name': u'ULB Campus Solbosch',\n",
        "    u'repinned': False}},\n",
        "  {u'created': 1407676563000,\n",
        "   u'event': {u'event_url': u'http://www.meetup.com/OpenTechSchool-Brussels/events/194806872/',\n",
        "    u'id': u'194806872',\n",
        "    u'name': u'Learn Data analysis with IPython Notebook and Pandas',\n",
        "    u'time': 1409072400000},\n",
        "   u'group': {u'group_lat': 50.83000183105469,\n",
        "    u'group_lon': 4.329999923706055,\n",
        "    u'id': 9462812,\n",
        "    u'join_mode': u'open',\n",
        "    u'urlname': u'OpenTechSchool-Brussels'},\n",
        "   u'guests': 0,\n",
        "   u'member': {u'member_id': 108897232, u'name': u'Jan Leers'},\n",
        "   u'mtime': 1407676563000,\n",
        "   u'response': u'yes',\n",
        "   u'rsvp_id': 1391581942,\n",
        "   u'venue': {u'address_1': u'50, Avenue Franklin D. Roosevelt 1050 Bruxelles',\n",
        "    u'city': u'Brussels',\n",
        "    u'country': u'be',\n",
        "    u'id': 16728772,\n",
        "    u'lat': 50.811989,\n",
        "    u'lon': 4.381096,\n",
        "    u'name': u'ULB Campus Solbosch',\n",
        "    u'repinned': False}},\n",
        "  {u'created': 1406923153000,\n",
        "   u'event': {u'event_url': u'http://www.meetup.com/OpenTechSchool-Brussels/events/194806872/',\n",
        "    u'id': u'194806872',\n",
        "    u'name': u'Learn Data analysis with IPython Notebook and Pandas',\n",
        "    u'time': 1409072400000},\n",
        "   u'group': {u'group_lat': 50.83000183105469,\n",
        "    u'group_lon': 4.329999923706055,\n",
        "    u'id': 9462812,\n",
        "    u'join_mode': u'open',\n",
        "    u'urlname': u'OpenTechSchool-Brussels'},\n",
        "   u'guests': 0,\n",
        "   u'member': {u'member_id': 159425412, u'name': u'Yennick'},\n",
        "   u'mtime': 1406923153000,\n",
        "   u'response': u'yes',\n",
        "   u'rsvp_id': 1379855612,\n",
        "   u'venue': {u'address_1': u'50, Avenue Franklin D. Roosevelt 1050 Bruxelles',\n",
        "    u'city': u'Brussels',\n",
        "    u'country': u'be',\n",
        "    u'id': 16728772,\n",
        "    u'lat': 50.811989,\n",
        "    u'lon': 4.381096,\n",
        "    u'name': u'ULB Campus Solbosch',\n",
        "    u'repinned': False}}]}"
       ]
      }
     ],
     "prompt_number": 8
    },
    {
     "cell_type": "markdown",
     "metadata": {
      "slideshow": {
       "slide_type": "subslide"
      }
     },
     "source": [
      "## Let's look at the results"
     ]
    },
    {
     "cell_type": "code",
     "collapsed": false,
     "input": [
      "results = rsvps_dict['results']\n",
      "print(\"We have {} results\".format(len(results)))\n",
      "print()\n",
      "print(\"The first result has the following properties:\")\n",
      "for i in sorted(results[0].keys()):  # sorted by alphabetic order\n",
      "    print(' - ' + i)"
     ],
     "language": "python",
     "metadata": {},
     "outputs": [
      {
       "output_type": "stream",
       "stream": "stdout",
       "text": [
        "We have 50 results\n",
        "\n",
        "The first result has the following properties:\n",
        " - created\n",
        " - event\n",
        " - group\n",
        " - guests\n",
        " - member\n",
        " - member_photo\n",
        " - mtime\n",
        " - response\n",
        " - rsvp_id\n",
        " - venue\n"
       ]
      }
     ],
     "prompt_number": 9
    },
    {
     "cell_type": "markdown",
     "metadata": {
      "slideshow": {
       "slide_type": "subslide"
      }
     },
     "source": [
      "## Transformation into a Pandas DataFrame"
     ]
    },
    {
     "cell_type": "code",
     "collapsed": false,
     "input": [
      "rsvps_raw = pandas.DataFrame(results)\n",
      "rsvps_raw.head()  # only prints the top rows of the table"
     ],
     "language": "python",
     "metadata": {},
     "outputs": [
      {
       "html": [
        "<div style=\"max-height:1000px;max-width:1500px;overflow:auto;\">\n",
        "<table border=\"1\" class=\"dataframe\">\n",
        "  <thead>\n",
        "    <tr style=\"text-align: right;\">\n",
        "      <th></th>\n",
        "      <th>created</th>\n",
        "      <th>event</th>\n",
        "      <th>group</th>\n",
        "      <th>guests</th>\n",
        "      <th>member</th>\n",
        "      <th>member_photo</th>\n",
        "      <th>mtime</th>\n",
        "      <th>response</th>\n",
        "      <th>rsvp_id</th>\n",
        "      <th>venue</th>\n",
        "    </tr>\n",
        "  </thead>\n",
        "  <tbody>\n",
        "    <tr>\n",
        "      <th>0</th>\n",
        "      <td> 1405720853000</td>\n",
        "      <td> {u'event_url': u'http://www.meetup.com/OpenTec...</td>\n",
        "      <td> {u'urlname': u'OpenTechSchool-Brussels', u'gro...</td>\n",
        "      <td> 0</td>\n",
        "      <td>     {u'name': u'Ashwyn', u'member_id': 157084892}</td>\n",
        "      <td> {u'thumb_link': u'http://photos1.meetupstatic....</td>\n",
        "      <td> 1405720853000</td>\n",
        "      <td> yes</td>\n",
        "      <td> 1360913672</td>\n",
        "      <td> {u'city': u'Brussels', u'name': u'ULB Campus S...</td>\n",
        "    </tr>\n",
        "    <tr>\n",
        "      <th>1</th>\n",
        "      <td> 1407796732000</td>\n",
        "      <td> {u'event_url': u'http://www.meetup.com/OpenTec...</td>\n",
        "      <td> {u'urlname': u'OpenTechSchool-Brussels', u'gro...</td>\n",
        "      <td> 0</td>\n",
        "      <td>   {u'name': u'emmanuel', u'member_id': 151866892}</td>\n",
        "      <td> {u'thumb_link': u'http://photos1.meetupstatic....</td>\n",
        "      <td> 1407796732000</td>\n",
        "      <td> yes</td>\n",
        "      <td> 1393859082</td>\n",
        "      <td> {u'city': u'Brussels', u'name': u'ULB Campus S...</td>\n",
        "    </tr>\n",
        "    <tr>\n",
        "      <th>2</th>\n",
        "      <td> 1405345565000</td>\n",
        "      <td> {u'event_url': u'http://www.meetup.com/OpenTec...</td>\n",
        "      <td> {u'urlname': u'OpenTechSchool-Brussels', u'gro...</td>\n",
        "      <td> 0</td>\n",
        "      <td> {u'name': u'Antonio Rebordao', u'member_id': 9...</td>\n",
        "      <td> {u'thumb_link': u'http://photos1.meetupstatic....</td>\n",
        "      <td> 1405345565000</td>\n",
        "      <td> yes</td>\n",
        "      <td> 1354353422</td>\n",
        "      <td> {u'city': u'Brussels', u'name': u'ULB Campus S...</td>\n",
        "    </tr>\n",
        "    <tr>\n",
        "      <th>3</th>\n",
        "      <td> 1405440260000</td>\n",
        "      <td> {u'event_url': u'http://www.meetup.com/OpenTec...</td>\n",
        "      <td> {u'urlname': u'OpenTechSchool-Brussels', u'gro...</td>\n",
        "      <td> 0</td>\n",
        "      <td> {u'name': u'jp Alcantara', u'member_id': 13764...</td>\n",
        "      <td>                                               NaN</td>\n",
        "      <td> 1405440260000</td>\n",
        "      <td> yes</td>\n",
        "      <td> 1356172562</td>\n",
        "      <td> {u'city': u'Brussels', u'name': u'ULB Campus S...</td>\n",
        "    </tr>\n",
        "    <tr>\n",
        "      <th>4</th>\n",
        "      <td> 1407103688000</td>\n",
        "      <td> {u'event_url': u'http://www.meetup.com/OpenTec...</td>\n",
        "      <td> {u'urlname': u'OpenTechSchool-Brussels', u'gro...</td>\n",
        "      <td> 0</td>\n",
        "      <td> {u'name': u'Kjell Moens', u'member_id': 88721062}</td>\n",
        "      <td> {u'thumb_link': u'http://photos3.meetupstatic....</td>\n",
        "      <td> 1407103688000</td>\n",
        "      <td> yes</td>\n",
        "      <td> 1382319382</td>\n",
        "      <td> {u'city': u'Brussels', u'name': u'ULB Campus S...</td>\n",
        "    </tr>\n",
        "  </tbody>\n",
        "</table>\n",
        "</div>"
       ],
       "metadata": {},
       "output_type": "pyout",
       "prompt_number": 10,
       "text": [
        "         created                                              event  \\\n",
        "0  1405720853000  {u'event_url': u'http://www.meetup.com/OpenTec...   \n",
        "1  1407796732000  {u'event_url': u'http://www.meetup.com/OpenTec...   \n",
        "2  1405345565000  {u'event_url': u'http://www.meetup.com/OpenTec...   \n",
        "3  1405440260000  {u'event_url': u'http://www.meetup.com/OpenTec...   \n",
        "4  1407103688000  {u'event_url': u'http://www.meetup.com/OpenTec...   \n",
        "\n",
        "                                               group  guests  \\\n",
        "0  {u'urlname': u'OpenTechSchool-Brussels', u'gro...       0   \n",
        "1  {u'urlname': u'OpenTechSchool-Brussels', u'gro...       0   \n",
        "2  {u'urlname': u'OpenTechSchool-Brussels', u'gro...       0   \n",
        "3  {u'urlname': u'OpenTechSchool-Brussels', u'gro...       0   \n",
        "4  {u'urlname': u'OpenTechSchool-Brussels', u'gro...       0   \n",
        "\n",
        "                                              member  \\\n",
        "0      {u'name': u'Ashwyn', u'member_id': 157084892}   \n",
        "1    {u'name': u'emmanuel', u'member_id': 151866892}   \n",
        "2  {u'name': u'Antonio Rebordao', u'member_id': 9...   \n",
        "3  {u'name': u'jp Alcantara', u'member_id': 13764...   \n",
        "4  {u'name': u'Kjell Moens', u'member_id': 88721062}   \n",
        "\n",
        "                                        member_photo          mtime response  \\\n",
        "0  {u'thumb_link': u'http://photos1.meetupstatic....  1405720853000      yes   \n",
        "1  {u'thumb_link': u'http://photos1.meetupstatic....  1407796732000      yes   \n",
        "2  {u'thumb_link': u'http://photos1.meetupstatic....  1405345565000      yes   \n",
        "3                                                NaN  1405440260000      yes   \n",
        "4  {u'thumb_link': u'http://photos3.meetupstatic....  1407103688000      yes   \n",
        "\n",
        "      rsvp_id                                              venue  \n",
        "0  1360913672  {u'city': u'Brussels', u'name': u'ULB Campus S...  \n",
        "1  1393859082  {u'city': u'Brussels', u'name': u'ULB Campus S...  \n",
        "2  1354353422  {u'city': u'Brussels', u'name': u'ULB Campus S...  \n",
        "3  1356172562  {u'city': u'Brussels', u'name': u'ULB Campus S...  \n",
        "4  1382319382  {u'city': u'Brussels', u'name': u'ULB Campus S...  "
       ]
      }
     ],
     "prompt_number": 10
    },
    {
     "cell_type": "markdown",
     "metadata": {
      "slideshow": {
       "slide_type": "subslide"
      }
     },
     "source": [
      "## Clean dataframe"
     ]
    },
    {
     "cell_type": "code",
     "collapsed": false,
     "input": [
      "# Index the raw dataframe by RSVP creation date:\n",
      "# - convers the 'created' field to a DateTime - Pandas wants microseconds\n",
      "rsvps_raw.index = pandas.to_datetime(rsvps_raw['created'] * 1000000)\n",
      "\n",
      "# Create a new 'clean' DataFrame:\n",
      "rsvps = pandas.DataFrame(rsvps_raw['response'])\n",
      "\n",
      "rsvps['name'] = rsvps_raw['member'].map(lambda x: x.get('name'))\n",
      "\n",
      "rsvps.head(5)"
     ],
     "language": "python",
     "metadata": {},
     "outputs": [
      {
       "html": [
        "<div style=\"max-height:1000px;max-width:1500px;overflow:auto;\">\n",
        "<table border=\"1\" class=\"dataframe\">\n",
        "  <thead>\n",
        "    <tr style=\"text-align: right;\">\n",
        "      <th></th>\n",
        "      <th>response</th>\n",
        "      <th>name</th>\n",
        "    </tr>\n",
        "    <tr>\n",
        "      <th>created</th>\n",
        "      <th></th>\n",
        "      <th></th>\n",
        "    </tr>\n",
        "  </thead>\n",
        "  <tbody>\n",
        "    <tr>\n",
        "      <th>2014-07-18 22:00:53</th>\n",
        "      <td> yes</td>\n",
        "      <td>           Ashwyn</td>\n",
        "    </tr>\n",
        "    <tr>\n",
        "      <th>2014-08-11 22:38:52</th>\n",
        "      <td> yes</td>\n",
        "      <td>         emmanuel</td>\n",
        "    </tr>\n",
        "    <tr>\n",
        "      <th>2014-07-14 13:46:05</th>\n",
        "      <td> yes</td>\n",
        "      <td> Antonio Rebordao</td>\n",
        "    </tr>\n",
        "    <tr>\n",
        "      <th>2014-07-15 16:04:20</th>\n",
        "      <td> yes</td>\n",
        "      <td>     jp Alcantara</td>\n",
        "    </tr>\n",
        "    <tr>\n",
        "      <th>2014-08-03 22:08:08</th>\n",
        "      <td> yes</td>\n",
        "      <td>      Kjell Moens</td>\n",
        "    </tr>\n",
        "  </tbody>\n",
        "</table>\n",
        "</div>"
       ],
       "metadata": {},
       "output_type": "pyout",
       "prompt_number": 40,
       "text": [
        "                    response              name\n",
        "created                                       \n",
        "2014-07-18 22:00:53      yes            Ashwyn\n",
        "2014-08-11 22:38:52      yes          emmanuel\n",
        "2014-07-14 13:46:05      yes  Antonio Rebordao\n",
        "2014-07-15 16:04:20      yes      jp Alcantara\n",
        "2014-08-03 22:08:08      yes       Kjell Moens"
       ]
      }
     ],
     "prompt_number": 40
    },
    {
     "cell_type": "code",
     "collapsed": false,
     "input": [
      "rsvps['day'] = rsvps.index.date\n",
      "rsvps_per_day = rsvps.groupby('day').agg(len)\n",
      "rsvps_per_day['response'].plot()"
     ],
     "language": "python",
     "metadata": {},
     "outputs": [
      {
       "metadata": {},
       "output_type": "pyout",
       "prompt_number": 41,
       "text": [
        "<matplotlib.axes.AxesSubplot at 0x7ff224108790>"
       ]
      },
      {
       "metadata": {},
       "output_type": "display_data",
       "png": "[encoded data removed]",
       "text": [
        "<matplotlib.figure.Figure at 0x7ff2240e4e50>"
       ]
      }
     ],
     "prompt_number": 41
    },
    {
     "cell_type": "code",
     "collapsed": false,
     "input": [
      "rsvps['hour'] = rsvps.index.hour\n",
      "rsvps_per_hour = rsvps.groupby('hour').agg(len)\n",
      "rsvps_per_hour"
     ],
     "language": "python",
     "metadata": {},
     "outputs": [
      {
       "html": [
        "<div style=\"max-height:1000px;max-width:1500px;overflow:auto;\">\n",
        "<table border=\"1\" class=\"dataframe\">\n",
        "  <thead>\n",
        "    <tr style=\"text-align: right;\">\n",
        "      <th></th>\n",
        "      <th>response</th>\n",
        "      <th>name</th>\n",
        "      <th>day</th>\n",
        "    </tr>\n",
        "    <tr>\n",
        "      <th>hour</th>\n",
        "      <th></th>\n",
        "      <th></th>\n",
        "      <th></th>\n",
        "    </tr>\n",
        "  </thead>\n",
        "  <tbody>\n",
        "    <tr>\n",
        "      <th>3 </th>\n",
        "      <td> 1</td>\n",
        "      <td> 1</td>\n",
        "      <td> 1</td>\n",
        "    </tr>\n",
        "    <tr>\n",
        "      <th>6 </th>\n",
        "      <td> 2</td>\n",
        "      <td> 2</td>\n",
        "      <td> 2</td>\n",
        "    </tr>\n",
        "    <tr>\n",
        "      <th>7 </th>\n",
        "      <td> 3</td>\n",
        "      <td> 3</td>\n",
        "      <td> 3</td>\n",
        "    </tr>\n",
        "    <tr>\n",
        "      <th>8 </th>\n",
        "      <td> 5</td>\n",
        "      <td> 5</td>\n",
        "      <td> 5</td>\n",
        "    </tr>\n",
        "    <tr>\n",
        "      <th>9 </th>\n",
        "      <td> 3</td>\n",
        "      <td> 3</td>\n",
        "      <td> 3</td>\n",
        "    </tr>\n",
        "    <tr>\n",
        "      <th>11</th>\n",
        "      <td> 1</td>\n",
        "      <td> 1</td>\n",
        "      <td> 1</td>\n",
        "    </tr>\n",
        "    <tr>\n",
        "      <th>12</th>\n",
        "      <td> 3</td>\n",
        "      <td> 3</td>\n",
        "      <td> 3</td>\n",
        "    </tr>\n",
        "    <tr>\n",
        "      <th>13</th>\n",
        "      <td> 8</td>\n",
        "      <td> 8</td>\n",
        "      <td> 8</td>\n",
        "    </tr>\n",
        "    <tr>\n",
        "      <th>14</th>\n",
        "      <td> 3</td>\n",
        "      <td> 3</td>\n",
        "      <td> 3</td>\n",
        "    </tr>\n",
        "    <tr>\n",
        "      <th>15</th>\n",
        "      <td> 5</td>\n",
        "      <td> 5</td>\n",
        "      <td> 5</td>\n",
        "    </tr>\n",
        "    <tr>\n",
        "      <th>16</th>\n",
        "      <td> 2</td>\n",
        "      <td> 2</td>\n",
        "      <td> 2</td>\n",
        "    </tr>\n",
        "    <tr>\n",
        "      <th>17</th>\n",
        "      <td> 1</td>\n",
        "      <td> 1</td>\n",
        "      <td> 1</td>\n",
        "    </tr>\n",
        "    <tr>\n",
        "      <th>18</th>\n",
        "      <td> 2</td>\n",
        "      <td> 2</td>\n",
        "      <td> 2</td>\n",
        "    </tr>\n",
        "    <tr>\n",
        "      <th>19</th>\n",
        "      <td> 2</td>\n",
        "      <td> 2</td>\n",
        "      <td> 2</td>\n",
        "    </tr>\n",
        "    <tr>\n",
        "      <th>20</th>\n",
        "      <td> 4</td>\n",
        "      <td> 4</td>\n",
        "      <td> 4</td>\n",
        "    </tr>\n",
        "    <tr>\n",
        "      <th>21</th>\n",
        "      <td> 2</td>\n",
        "      <td> 2</td>\n",
        "      <td> 2</td>\n",
        "    </tr>\n",
        "    <tr>\n",
        "      <th>22</th>\n",
        "      <td> 3</td>\n",
        "      <td> 3</td>\n",
        "      <td> 3</td>\n",
        "    </tr>\n",
        "  </tbody>\n",
        "</table>\n",
        "</div>"
       ],
       "metadata": {},
       "output_type": "pyout",
       "prompt_number": 55,
       "text": [
        "      response  name  day\n",
        "hour                     \n",
        "3            1     1    1\n",
        "6            2     2    2\n",
        "7            3     3    3\n",
        "8            5     5    5\n",
        "9            3     3    3\n",
        "11           1     1    1\n",
        "12           3     3    3\n",
        "13           8     8    8\n",
        "14           3     3    3\n",
        "15           5     5    5\n",
        "16           2     2    2\n",
        "17           1     1    1\n",
        "18           2     2    2\n",
        "19           2     2    2\n",
        "20           4     4    4\n",
        "21           2     2    2\n",
        "22           3     3    3"
       ]
      }
     ],
     "prompt_number": 55
    },
    {
     "cell_type": "code",
     "collapsed": false,
     "input": [
      "rsvps_per_hour.plot()"
     ],
     "language": "python",
     "metadata": {},
     "outputs": [
      {
       "metadata": {},
       "output_type": "pyout",
       "prompt_number": 59,
       "text": [
        "<matplotlib.axes.AxesSubplot at 0x7ff21fd8a8d0>"
       ]
      },
      {
       "metadata": {},
       "output_type": "display_data",
       "png": "[encoded data removed]",
       "text": [
        "<matplotlib.figure.Figure at 0x7ff21fd9f250>"
       ]
      }
     ],
     "prompt_number": 59
    },
    {
     "cell_type": "code",
     "collapsed": false,
     "input": [
      "import vincent\n",
      "vincent.core.initialize_notebook()"
     ],
     "language": "python",
     "metadata": {},
     "outputs": [
      {
       "html": [
        "\n",
        "           <script>\n",
        "               \n",
        "                function vct_load_lib(url, callback){\n",
        "                      if(typeof d3 !== 'undefined' &&\n",
        "                         url === 'http://d3js.org/d3.v3.min.js'){\n",
        "                        callback()\n",
        "                      }\n",
        "                      var s = document.createElement('script');\n",
        "                      s.src = url;\n",
        "                      s.async = true;\n",
        "                      s.onreadystatechange = s.onload = callback;\n",
        "                      s.onerror = function(){\n",
        "                        console.warn(\"failed to load library \" + url);\n",
        "                        };\n",
        "                      document.getElementsByTagName(\"head\")[0].appendChild(s);\n",
        "                };\n",
        "                var vincent_event = new CustomEvent(\n",
        "                  \"vincent_libs_loaded\",\n",
        "                  {bubbles: true, cancelable: true}\n",
        "                );\n",
        "                \n",
        "               function load_all_libs(){\n",
        "                  console.log('Loading Vincent libs...')\n",
        "                  vct_load_lib('http://d3js.org/d3.v3.min.js', function(){\n",
        "                  vct_load_lib('http://d3js.org/d3.geo.projection.v0.min.js', function(){\n",
        "                  vct_load_lib('http://wrobstory.github.io/d3-cloud/d3.layout.cloud.js', function(){\n",
        "                  vct_load_lib('http://wrobstory.github.io/vega/vega.v1.3.3.js', function(){\n",
        "                  window.dispatchEvent(vincent_event);\n",
        "                  });\n",
        "                  });\n",
        "                  });\n",
        "                  });\n",
        "               };\n",
        "               if(typeof define === \"function\" && define.amd){\n",
        "                    if (window['d3'] === undefined ||\n",
        "                        window['topojson'] === undefined){\n",
        "                        require.config(\n",
        "                            {paths: {\n",
        "                              d3: 'http://d3js.org/d3.v3.min',\n",
        "                              topojson: 'http://d3js.org/topojson.v1.min'\n",
        "                              }\n",
        "                            }\n",
        "                          );\n",
        "                        require([\"d3\"], function(d3){\n",
        "                            console.log('Loading Vincent from require.js...')\n",
        "                            window.d3 = d3;\n",
        "                            require([\"topojson\"], function(topojson){\n",
        "                                window.topojson = topojson;\n",
        "                                load_all_libs();\n",
        "                            });\n",
        "                        });\n",
        "                    } else {\n",
        "                        load_all_libs();\n",
        "                    };\n",
        "               }else{\n",
        "                    console.log('Require.js not found, loading manually...')\n",
        "                    load_all_libs();\n",
        "               };\n",
        "\n",
        "           </script>"
       ],
       "metadata": {},
       "output_type": "display_data",
       "text": [
        "<IPython.core.display.HTML at 0x7ff224291ad0>"
       ]
      }
     ],
     "prompt_number": 19
    },
    {
     "cell_type": "code",
     "collapsed": false,
     "input": [
      "b = vincent.Bar(rsvps_per_day['response'])\n",
      "b.legend(\"RSVPs per day\")\n",
      "b.axis_titles(x=u'Date', y='RSVPs in a day')\n",
      "b"
     ],
     "language": "python",
     "metadata": {},
     "outputs": [
      {
       "html": [
        "<div id=\"vis9ffe47eec4784b2ca1c762282a3b2b36\"></div>\n",
        "<script>\n",
        "   ( function() {\n",
        "     var _do_plot = function() {\n",
        "       if (typeof vg === 'undefined') {\n",
        "         window.addEventListener('vincent_libs_loaded', _do_plot)\n",
        "         return;\n",
        "       }\n",
        "       vg.parse.spec({\"axes\": [{\"scale\": \"x\", \"title\": \"Date\", \"type\": \"x\"}, {\"scale\": \"y\", \"title\": \"RSVPs in a day\", \"type\": \"y\"}], \"data\": [{\"name\": \"table\", \"values\": [{\"col\": \"response\", \"idx\": 1405288800000, \"val\": 8}, {\"col\": \"response\", \"idx\": 1405375200000, \"val\": 4}, {\"col\": \"response\", \"idx\": 1405461600000, \"val\": 3}, {\"col\": \"response\", \"idx\": 1405548000000, \"val\": 1}, {\"col\": \"response\", \"idx\": 1405634400000, \"val\": 1}, {\"col\": \"response\", \"idx\": 1405893600000, \"val\": 1}, {\"col\": \"response\", \"idx\": 1406066400000, \"val\": 1}, {\"col\": \"response\", \"idx\": 1406325600000, \"val\": 1}, {\"col\": \"response\", \"idx\": 1406498400000, \"val\": 1}, {\"col\": \"response\", \"idx\": 1406671200000, \"val\": 1}, {\"col\": \"response\", \"idx\": 1406844000000, \"val\": 1}, {\"col\": \"response\", \"idx\": 1406930400000, \"val\": 1}, {\"col\": \"response\", \"idx\": 1407016800000, \"val\": 1}, {\"col\": \"response\", \"idx\": 1407103200000, \"val\": 1}, {\"col\": \"response\", \"idx\": 1407276000000, \"val\": 1}, {\"col\": \"response\", \"idx\": 1407535200000, \"val\": 1}, {\"col\": \"response\", \"idx\": 1407621600000, \"val\": 2}, {\"col\": \"response\", \"idx\": 1407708000000, \"val\": 2}, {\"col\": \"response\", \"idx\": 1407794400000, \"val\": 1}, {\"col\": \"response\", \"idx\": 1408226400000, \"val\": 2}, {\"col\": \"response\", \"idx\": 1408312800000, \"val\": 2}, {\"col\": \"response\", \"idx\": 1408399200000, \"val\": 1}, {\"col\": \"response\", \"idx\": 1408485600000, \"val\": 5}, {\"col\": \"response\", \"idx\": 1408572000000, \"val\": 4}, {\"col\": \"response\", \"idx\": 1408658400000, \"val\": 1}, {\"col\": \"response\", \"idx\": 1408744800000, \"val\": 1}, {\"col\": \"response\", \"idx\": 1408831200000, \"val\": 1}]}, {\"name\": \"stats\", \"source\": \"table\", \"transform\": [{\"keys\": [\"data.idx\"], \"type\": \"facet\"}, {\"type\": \"stats\", \"value\": \"data.val\"}]}], \"height\": 500, \"legends\": [{\"fill\": \"color\", \"offset\": 0, \"properties\": {}, \"title\": \"RSVPs per day\"}], \"marks\": [{\"from\": {\"data\": \"table\", \"transform\": [{\"keys\": [\"data.col\"], \"type\": \"facet\"}, {\"height\": \"data.val\", \"point\": \"data.idx\", \"type\": \"stack\"}]}, \"marks\": [{\"properties\": {\"enter\": {\"fill\": {\"field\": \"data.col\", \"scale\": \"color\"}, \"width\": {\"band\": true, \"offset\": -1, \"scale\": \"x\"}, \"x\": {\"field\": \"data.idx\", \"scale\": \"x\"}, \"y\": {\"field\": \"y\", \"scale\": \"y\"}, \"y2\": {\"field\": \"y2\", \"scale\": \"y\"}}}, \"type\": \"rect\"}], \"type\": \"group\"}], \"padding\": \"auto\", \"scales\": [{\"domain\": {\"data\": \"table\", \"field\": \"data.idx\"}, \"name\": \"x\", \"range\": \"width\", \"type\": \"ordinal\", \"zero\": false}, {\"domain\": {\"data\": \"stats\", \"field\": \"sum\"}, \"name\": \"y\", \"nice\": true, \"range\": \"height\"}, {\"domain\": {\"data\": \"table\", \"field\": \"data.col\"}, \"name\": \"color\", \"range\": \"category20\", \"type\": \"ordinal\"}], \"width\": 960}, function(chart) {\n",
        "         chart({el: \"#vis9ffe47eec4784b2ca1c762282a3b2b36\"}).update();\n",
        "       });\n",
        "     };\n",
        "     _do_plot();\n",
        "   })();\n",
        "</script>\n",
        "<style>.vega canvas {width: 100%;}</style>\n",
        "        "
       ],
       "metadata": {},
       "output_type": "pyout",
       "prompt_number": 30,
       "text": [
        "<vincent.charts.Bar at 0x7ff2245ee690>"
       ]
      }
     ],
     "prompt_number": 30
    },
    {
     "cell_type": "code",
     "collapsed": false,
     "input": [
      "pd = pandas\n",
      "df = rsvps_per_day\n",
      "idx = pd.date_range(df.index.min(),df.index.max())\n",
      "idx"
     ],
     "language": "python",
     "metadata": {},
     "outputs": [
      {
       "metadata": {},
       "output_type": "pyout",
       "prompt_number": 70,
       "text": [
        "<class 'pandas.tseries.index.DatetimeIndex'>\n",
        "[2014-07-14, ..., 2014-08-24]\n",
        "Length: 42, Freq: D, Timezone: None"
       ]
      }
     ],
     "prompt_number": 70
    },
    {
     "cell_type": "code",
     "collapsed": false,
     "input": [
      "df.index.min()"
     ],
     "language": "python",
     "metadata": {},
     "outputs": [
      {
       "metadata": {},
       "output_type": "pyout",
       "prompt_number": 68,
       "text": [
        "datetime.date(2014, 7, 14)"
       ]
      }
     ],
     "prompt_number": 68
    },
    {
     "cell_type": "code",
     "collapsed": false,
     "input": [
      "rsvps_per_day.asfreq('day')"
     ],
     "language": "python",
     "metadata": {},
     "outputs": [
      {
       "ename": "ValueError",
       "evalue": "Could not evaluate day",
       "output_type": "pyerr",
       "traceback": [
        "\u001b[1;31m---------------------------------------------------------------------------\u001b[0m\n\u001b[1;31mValueError\u001b[0m                                Traceback (most recent call last)",
        "\u001b[1;32m<ipython-input-76-4d80ef796f2c>\u001b[0m in \u001b[0;36m<module>\u001b[1;34m()\u001b[0m\n\u001b[1;32m----> 1\u001b[1;33m \u001b[0mrsvps_per_day\u001b[0m\u001b[1;33m.\u001b[0m\u001b[0masfreq\u001b[0m\u001b[1;33m(\u001b[0m\u001b[1;34m'day'\u001b[0m\u001b[1;33m)\u001b[0m\u001b[1;33m\u001b[0m\u001b[0m\n\u001b[0m",
        "\u001b[1;32m/home/okso/Documents/Events/Workshops/2014-OTS-IPython-Pandas/venv/local/lib/python2.7/site-packages/pandas/core/generic.pyc\u001b[0m in \u001b[0;36masfreq\u001b[1;34m(self, freq, method, how, normalize)\u001b[0m\n\u001b[0;32m   2796\u001b[0m         \u001b[1;32mfrom\u001b[0m \u001b[0mpandas\u001b[0m\u001b[1;33m.\u001b[0m\u001b[0mtseries\u001b[0m\u001b[1;33m.\u001b[0m\u001b[0mresample\u001b[0m \u001b[1;32mimport\u001b[0m \u001b[0masfreq\u001b[0m\u001b[1;33m\u001b[0m\u001b[0m\n\u001b[0;32m   2797\u001b[0m         return asfreq(self, freq, method=method, how=how,\n\u001b[1;32m-> 2798\u001b[1;33m                       normalize=normalize)\n\u001b[0m\u001b[0;32m   2799\u001b[0m \u001b[1;33m\u001b[0m\u001b[0m\n\u001b[0;32m   2800\u001b[0m     \u001b[1;32mdef\u001b[0m \u001b[0mat_time\u001b[0m\u001b[1;33m(\u001b[0m\u001b[0mself\u001b[0m\u001b[1;33m,\u001b[0m \u001b[0mtime\u001b[0m\u001b[1;33m,\u001b[0m \u001b[0masof\u001b[0m\u001b[1;33m=\u001b[0m\u001b[0mFalse\u001b[0m\u001b[1;33m)\u001b[0m\u001b[1;33m:\u001b[0m\u001b[1;33m\u001b[0m\u001b[0m\n",
        "\u001b[1;32m/home/okso/Documents/Events/Workshops/2014-OTS-IPython-Pandas/venv/local/lib/python2.7/site-packages/pandas/tseries/resample.pyc\u001b[0m in \u001b[0;36masfreq\u001b[1;34m(obj, freq, method, how, normalize)\u001b[0m\n\u001b[0;32m    442\u001b[0m         \u001b[1;32mif\u001b[0m \u001b[0mlen\u001b[0m\u001b[1;33m(\u001b[0m\u001b[0mobj\u001b[0m\u001b[1;33m.\u001b[0m\u001b[0mindex\u001b[0m\u001b[1;33m)\u001b[0m \u001b[1;33m==\u001b[0m \u001b[1;36m0\u001b[0m\u001b[1;33m:\u001b[0m\u001b[1;33m\u001b[0m\u001b[0m\n\u001b[0;32m    443\u001b[0m             \u001b[1;32mreturn\u001b[0m \u001b[0mobj\u001b[0m\u001b[1;33m.\u001b[0m\u001b[0mcopy\u001b[0m\u001b[1;33m(\u001b[0m\u001b[1;33m)\u001b[0m\u001b[1;33m\u001b[0m\u001b[0m\n\u001b[1;32m--> 444\u001b[1;33m         \u001b[0mdti\u001b[0m \u001b[1;33m=\u001b[0m \u001b[0mdate_range\u001b[0m\u001b[1;33m(\u001b[0m\u001b[0mobj\u001b[0m\u001b[1;33m.\u001b[0m\u001b[0mindex\u001b[0m\u001b[1;33m[\u001b[0m\u001b[1;36m0\u001b[0m\u001b[1;33m]\u001b[0m\u001b[1;33m,\u001b[0m \u001b[0mobj\u001b[0m\u001b[1;33m.\u001b[0m\u001b[0mindex\u001b[0m\u001b[1;33m[\u001b[0m\u001b[1;33m-\u001b[0m\u001b[1;36m1\u001b[0m\u001b[1;33m]\u001b[0m\u001b[1;33m,\u001b[0m \u001b[0mfreq\u001b[0m\u001b[1;33m=\u001b[0m\u001b[0mfreq\u001b[0m\u001b[1;33m)\u001b[0m\u001b[1;33m\u001b[0m\u001b[0m\n\u001b[0m\u001b[0;32m    445\u001b[0m         \u001b[0mrs\u001b[0m \u001b[1;33m=\u001b[0m \u001b[0mobj\u001b[0m\u001b[1;33m.\u001b[0m\u001b[0mreindex\u001b[0m\u001b[1;33m(\u001b[0m\u001b[0mdti\u001b[0m\u001b[1;33m,\u001b[0m \u001b[0mmethod\u001b[0m\u001b[1;33m=\u001b[0m\u001b[0mmethod\u001b[0m\u001b[1;33m)\u001b[0m\u001b[1;33m\u001b[0m\u001b[0m\n\u001b[0;32m    446\u001b[0m         \u001b[1;32mif\u001b[0m \u001b[0mnormalize\u001b[0m\u001b[1;33m:\u001b[0m\u001b[1;33m\u001b[0m\u001b[0m\n",
        "\u001b[1;32m/home/okso/Documents/Events/Workshops/2014-OTS-IPython-Pandas/venv/local/lib/python2.7/site-packages/pandas/tseries/index.pyc\u001b[0m in \u001b[0;36mdate_range\u001b[1;34m(start, end, periods, freq, tz, normalize, name, closed)\u001b[0m\n\u001b[0;32m   1870\u001b[0m     return DatetimeIndex(start=start, end=end, periods=periods,\n\u001b[0;32m   1871\u001b[0m                          \u001b[0mfreq\u001b[0m\u001b[1;33m=\u001b[0m\u001b[0mfreq\u001b[0m\u001b[1;33m,\u001b[0m \u001b[0mtz\u001b[0m\u001b[1;33m=\u001b[0m\u001b[0mtz\u001b[0m\u001b[1;33m,\u001b[0m \u001b[0mnormalize\u001b[0m\u001b[1;33m=\u001b[0m\u001b[0mnormalize\u001b[0m\u001b[1;33m,\u001b[0m \u001b[0mname\u001b[0m\u001b[1;33m=\u001b[0m\u001b[0mname\u001b[0m\u001b[1;33m,\u001b[0m\u001b[1;33m\u001b[0m\u001b[0m\n\u001b[1;32m-> 1872\u001b[1;33m                          closed=closed)\n\u001b[0m\u001b[0;32m   1873\u001b[0m \u001b[1;33m\u001b[0m\u001b[0m\n\u001b[0;32m   1874\u001b[0m \u001b[1;33m\u001b[0m\u001b[0m\n",
        "\u001b[1;32m/home/okso/Documents/Events/Workshops/2014-OTS-IPython-Pandas/venv/local/lib/python2.7/site-packages/pandas/tseries/index.pyc\u001b[0m in \u001b[0;36m__new__\u001b[1;34m(cls, data, freq, start, end, periods, copy, name, tz, verify_integrity, normalize, closed, **kwds)\u001b[0m\n\u001b[0;32m    185\u001b[0m             \u001b[1;31m# if a passed freq is None, don't infer automatically\u001b[0m\u001b[1;33m\u001b[0m\u001b[1;33m\u001b[0m\u001b[0m\n\u001b[0;32m    186\u001b[0m             \u001b[1;32mif\u001b[0m \u001b[0mfreq\u001b[0m \u001b[1;33m!=\u001b[0m \u001b[1;34m'infer'\u001b[0m\u001b[1;33m:\u001b[0m\u001b[1;33m\u001b[0m\u001b[0m\n\u001b[1;32m--> 187\u001b[1;33m                 \u001b[0mfreq\u001b[0m \u001b[1;33m=\u001b[0m \u001b[0mto_offset\u001b[0m\u001b[1;33m(\u001b[0m\u001b[0mfreq\u001b[0m\u001b[1;33m)\u001b[0m\u001b[1;33m\u001b[0m\u001b[0m\n\u001b[0m\u001b[0;32m    188\u001b[0m             \u001b[1;32melse\u001b[0m\u001b[1;33m:\u001b[0m\u001b[1;33m\u001b[0m\u001b[0m\n\u001b[0;32m    189\u001b[0m                 \u001b[0mfreq_infer\u001b[0m \u001b[1;33m=\u001b[0m \u001b[0mTrue\u001b[0m\u001b[1;33m\u001b[0m\u001b[0m\n",
        "\u001b[1;32m/home/okso/Documents/Events/Workshops/2014-OTS-IPython-Pandas/venv/local/lib/python2.7/site-packages/pandas/tseries/frequencies.pyc\u001b[0m in \u001b[0;36mto_offset\u001b[1;34m(freqstr)\u001b[0m\n\u001b[0;32m    299\u001b[0m                     \u001b[0mdelta\u001b[0m \u001b[1;33m=\u001b[0m \u001b[0mdelta\u001b[0m \u001b[1;33m+\u001b[0m \u001b[0moffset\u001b[0m\u001b[1;33m\u001b[0m\u001b[0m\n\u001b[0;32m    300\u001b[0m         \u001b[1;32mexcept\u001b[0m \u001b[0mException\u001b[0m\u001b[1;33m:\u001b[0m\u001b[1;33m\u001b[0m\u001b[0m\n\u001b[1;32m--> 301\u001b[1;33m             \u001b[1;32mraise\u001b[0m \u001b[0mValueError\u001b[0m\u001b[1;33m(\u001b[0m\u001b[1;34m\"Could not evaluate %s\"\u001b[0m \u001b[1;33m%\u001b[0m \u001b[0mfreqstr\u001b[0m\u001b[1;33m)\u001b[0m\u001b[1;33m\u001b[0m\u001b[0m\n\u001b[0m\u001b[0;32m    302\u001b[0m \u001b[1;33m\u001b[0m\u001b[0m\n\u001b[0;32m    303\u001b[0m     \u001b[1;32mif\u001b[0m \u001b[0mdelta\u001b[0m \u001b[1;32mis\u001b[0m \u001b[0mNone\u001b[0m\u001b[1;33m:\u001b[0m\u001b[1;33m\u001b[0m\u001b[0m\n",
        "\u001b[1;31mValueError\u001b[0m: Could not evaluate day"
       ]
      }
     ],
     "prompt_number": 76
    },
    {
     "cell_type": "code",
     "collapsed": false,
     "input": [],
     "language": "python",
     "metadata": {},
     "outputs": []
    },
    {
     "cell_type": "code",
     "collapsed": false,
     "input": [],
     "language": "python",
     "metadata": {},
     "outputs": [
      {
       "metadata": {},
       "output_type": "pyout",
       "prompt_number": 296,
       "text": [
        "Timestamp('2014-07-15 16:04:20')"
       ]
      }
     ],
     "prompt_number": 296
    },
    {
     "cell_type": "code",
     "collapsed": false,
     "input": [
      "image_url = rsvps.member_photo[0]['thumb_link']\n",
      "\n",
      "from IPython.core.display import Image \n",
      "from IPython.display import display\n",
      "\n",
      "for photo in rsvps.member_photo:\n",
      "    if photo is not np.nan:\n",
      "        display(Image(url=photo['thumb_link'], height=100))\n"
     ],
     "language": "python",
     "metadata": {
      "slideshow": {
       "slide_type": "subslide"
      }
     },
     "outputs": [
      {
       "html": [
        "<img src=\"http://photos1.meetupstatic.com/photos/member/7/9/2/4/thumb_212191012.jpeg\" height=\"100\"/>"
       ],
       "metadata": {},
       "output_type": "display_data",
       "text": [
        "<IPython.core.display.Image at 0x7f131ad8f290>"
       ]
      },
      {
       "html": [
        "<img src=\"http://photos1.meetupstatic.com/photos/member/c/2/4/e/thumb_213109742.jpeg\" height=\"100\"/>"
       ],
       "metadata": {},
       "output_type": "display_data",
       "text": [
        "<IPython.core.display.Image at 0x7f131adfef50>"
       ]
      },
      {
       "html": [
        "<img src=\"http://photos1.meetupstatic.com/photos/member/3/c/1/6/thumb_127935382.jpeg\" height=\"100\"/>"
       ],
       "metadata": {},
       "output_type": "display_data",
       "text": [
        "<IPython.core.display.Image at 0x7f131ad8f390>"
       ]
      },
      {
       "html": [
        "<img src=\"http://photos3.meetupstatic.com/photos/member/2/e/4/2/thumb_139571842.jpeg\" height=\"100\"/>"
       ],
       "metadata": {},
       "output_type": "display_data",
       "text": [
        "<IPython.core.display.Image at 0x7f131ad8f250>"
       ]
      },
      {
       "html": [
        "<img src=\"http://photos2.meetupstatic.com/photos/member/8/d/d/8/thumb_78876312.jpeg\" height=\"100\"/>"
       ],
       "metadata": {},
       "output_type": "display_data",
       "text": [
        "<IPython.core.display.Image at 0x7f131ad8f4d0>"
       ]
      },
      {
       "html": [
        "<img src=\"http://photos3.meetupstatic.com/photos/member/6/0/9/2/thumb_63204722.jpeg\" height=\"100\"/>"
       ],
       "metadata": {},
       "output_type": "display_data",
       "text": [
        "<IPython.core.display.Image at 0x7f131ad8f990>"
       ]
      },
      {
       "html": [
        "<img src=\"http://photos2.meetupstatic.com/photos/member/c/6/7/2/thumb_191870802.jpeg\" height=\"100\"/>"
       ],
       "metadata": {},
       "output_type": "display_data",
       "text": [
        "<IPython.core.display.Image at 0x7f131ad8f9d0>"
       ]
      },
      {
       "html": [
        "<img src=\"http://photos2.meetupstatic.com/photos/member/8/5/4/thumb_220082132.jpeg\" height=\"100\"/>"
       ],
       "metadata": {},
       "output_type": "display_data",
       "text": [
        "<IPython.core.display.Image at 0x7f131ad8fa10>"
       ]
      },
      {
       "html": [
        "<img src=\"http://photos1.meetupstatic.com/photos/member/6/1/a/a/thumb_182485002.jpeg\" height=\"100\"/>"
       ],
       "metadata": {},
       "output_type": "display_data",
       "text": [
        "<IPython.core.display.Image at 0x7f131ad8fa50>"
       ]
      },
      {
       "html": [
        "<img src=\"http://photos4.meetupstatic.com/photos/member/e/5/4/4/thumb_216778692.jpeg\" height=\"100\"/>"
       ],
       "metadata": {},
       "output_type": "display_data",
       "text": [
        "<IPython.core.display.Image at 0x7f131ad8fa90>"
       ]
      },
      {
       "html": [
        "<img src=\"http://photos3.meetupstatic.com/photos/member/4/e/a/4/thumb_189500132.jpeg\" height=\"100\"/>"
       ],
       "metadata": {},
       "output_type": "display_data",
       "text": [
        "<IPython.core.display.Image at 0x7f131ad8fb10>"
       ]
      },
      {
       "html": [
        "<img src=\"http://photos2.meetupstatic.com/photos/member/c/5/5/0/thumb_147050512.jpeg\" height=\"100\"/>"
       ],
       "metadata": {},
       "output_type": "display_data",
       "text": [
        "<IPython.core.display.Image at 0x7f131ad8f750>"
       ]
      },
      {
       "html": [
        "<img src=\"http://photos4.meetupstatic.com/photos/member/6/1/6/4/thumb_140484932.jpeg\" height=\"100\"/>"
       ],
       "metadata": {},
       "output_type": "display_data",
       "text": [
        "<IPython.core.display.Image at 0x7f131ad8f7d0>"
       ]
      },
      {
       "html": [
        "<img src=\"http://photos2.meetupstatic.com/photos/member/a/6/2/e/thumb_118182542.jpeg\" height=\"100\"/>"
       ],
       "metadata": {},
       "output_type": "display_data",
       "text": [
        "<IPython.core.display.Image at 0x7f131ad8fbd0>"
       ]
      },
      {
       "html": [
        "<img src=\"http://photos3.meetupstatic.com/photos/member/2/1/e/0/thumb_214388672.jpeg\" height=\"100\"/>"
       ],
       "metadata": {},
       "output_type": "display_data",
       "text": [
        "<IPython.core.display.Image at 0x7f131ad8fc10>"
       ]
      },
      {
       "html": [
        "<img src=\"http://photos4.meetupstatic.com/photos/member/6/1/3/2/thumb_207564882.jpeg\" height=\"100\"/>"
       ],
       "metadata": {},
       "output_type": "display_data",
       "text": [
        "<IPython.core.display.Image at 0x7f131ad8fc50>"
       ]
      },
      {
       "html": [
        "<img src=\"http://photos3.meetupstatic.com/photos/member/6/f/e/c/thumb_161008652.jpeg\" height=\"100\"/>"
       ],
       "metadata": {},
       "output_type": "display_data",
       "text": [
        "<IPython.core.display.Image at 0x7f131ad8fd90>"
       ]
      },
      {
       "html": [
        "<img src=\"http://photos2.meetupstatic.com/photos/member/d/f/c/2/thumb_199437282.jpeg\" height=\"100\"/>"
       ],
       "metadata": {},
       "output_type": "display_data",
       "text": [
        "<IPython.core.display.Image at 0x7f131ad8fe50>"
       ]
      },
      {
       "html": [
        "<img src=\"http://photos3.meetupstatic.com/photos/member/4/1/2/thumb_110881042.jpeg\" height=\"100\"/>"
       ],
       "metadata": {},
       "output_type": "display_data",
       "text": [
        "<IPython.core.display.Image at 0x7f131ad8fe10>"
       ]
      },
      {
       "html": [
        "<img src=\"http://photos1.meetupstatic.com/photos/member/d/1/9/e/thumb_199133662.jpeg\" height=\"100\"/>"
       ],
       "metadata": {},
       "output_type": "display_data",
       "text": [
        "<IPython.core.display.Image at 0x7f131ad8fdd0>"
       ]
      },
      {
       "html": [
        "<img src=\"http://photos3.meetupstatic.com/photos/member/d/6/1/2/thumb_206334802.jpeg\" height=\"100\"/>"
       ],
       "metadata": {},
       "output_type": "display_data",
       "text": [
        "<IPython.core.display.Image at 0x7f131ad8f5d0>"
       ]
      },
      {
       "html": [
        "<img src=\"http://photos2.meetupstatic.com/photos/member/7/d/2/thumb_80822002.jpeg\" height=\"100\"/>"
       ],
       "metadata": {},
       "output_type": "display_data",
       "text": [
        "<IPython.core.display.Image at 0x7f131ad8f610>"
       ]
      },
      {
       "html": [
        "<img src=\"http://photos3.meetupstatic.com/photos/member/6/9/6/6/thumb_191066982.jpeg\" height=\"100\"/>"
       ],
       "metadata": {},
       "output_type": "display_data",
       "text": [
        "<IPython.core.display.Image at 0x7f131ad8f950>"
       ]
      },
      {
       "html": [
        "<img src=\"http://photos4.meetupstatic.com/photos/member/d/e/a/0/thumb_143516992.jpeg\" height=\"100\"/>"
       ],
       "metadata": {},
       "output_type": "display_data",
       "text": [
        "<IPython.core.display.Image at 0x7f131ad8f910>"
       ]
      },
      {
       "html": [
        "<img src=\"http://photos4.meetupstatic.com/photos/member/4/3/6/e/thumb_71237262.jpeg\" height=\"100\"/>"
       ],
       "metadata": {},
       "output_type": "display_data",
       "text": [
        "<IPython.core.display.Image at 0x7f131ad8f8d0>"
       ]
      },
      {
       "html": [
        "<img src=\"http://photos1.meetupstatic.com/photos/member/d/b/3/a/thumb_83876122.jpeg\" height=\"100\"/>"
       ],
       "metadata": {},
       "output_type": "display_data",
       "text": [
        "<IPython.core.display.Image at 0x7f131adfef50>"
       ]
      },
      {
       "html": [
        "<img src=\"http://photos3.meetupstatic.com/photos/member/2/e/4/c/thumb_192071852.jpeg\" height=\"100\"/>"
       ],
       "metadata": {},
       "output_type": "display_data",
       "text": [
        "<IPython.core.display.Image at 0x7f131ad8f8d0>"
       ]
      },
      {
       "html": [
        "<img src=\"http://photos3.meetupstatic.com/photos/member/b/1/4/6/thumb_212325382.jpeg\" height=\"100\"/>"
       ],
       "metadata": {},
       "output_type": "display_data",
       "text": [
        "<IPython.core.display.Image at 0x7f131ad8f790>"
       ]
      },
      {
       "html": [
        "<img src=\"http://photos3.meetupstatic.com/photos/member/5/5/d/4/thumb_68241972.jpeg\" height=\"100\"/>"
       ],
       "metadata": {},
       "output_type": "display_data",
       "text": [
        "<IPython.core.display.Image at 0x7f131ad8fe90>"
       ]
      },
      {
       "html": [
        "<img src=\"http://photos4.meetupstatic.com/photos/member/b/c/2/2/thumb_214908162.jpeg\" height=\"100\"/>"
       ],
       "metadata": {},
       "output_type": "display_data",
       "text": [
        "<IPython.core.display.Image at 0x7f131ad8fad0>"
       ]
      },
      {
       "html": [
        "<img src=\"http://photos2.meetupstatic.com/photos/member/b/c/3/6/thumb_113868182.jpeg\" height=\"100\"/>"
       ],
       "metadata": {},
       "output_type": "display_data",
       "text": [
        "<IPython.core.display.Image at 0x7f131ad8f3d0>"
       ]
      },
      {
       "html": [
        "<img src=\"http://photos1.meetupstatic.com/photos/member/9/c/7/e/thumb_45640062.jpeg\" height=\"100\"/>"
       ],
       "metadata": {},
       "output_type": "display_data",
       "text": [
        "<IPython.core.display.Image at 0x7f131ad8f950>"
       ]
      },
      {
       "html": [
        "<img src=\"http://photos3.meetupstatic.com/photos/member/a/5/1/6/thumb_173742262.jpeg\" height=\"100\"/>"
       ],
       "metadata": {},
       "output_type": "display_data",
       "text": [
        "<IPython.core.display.Image at 0x7f131ad8f610>"
       ]
      },
      {
       "html": [
        "<img src=\"http://photos4.meetupstatic.com/photos/member/1/7/e/thumb_216600382.jpeg\" height=\"100\"/>"
       ],
       "metadata": {},
       "output_type": "display_data",
       "text": [
        "<IPython.core.display.Image at 0x7f131ad8f5d0>"
       ]
      },
      {
       "html": [
        "<img src=\"http://photos2.meetupstatic.com/photos/member/3/c/9/7/thumb_21855511.jpeg\" height=\"100\"/>"
       ],
       "metadata": {},
       "output_type": "display_data",
       "text": [
        "<IPython.core.display.Image at 0x7f131ad8fdd0>"
       ]
      },
      {
       "html": [
        "<img src=\"http://photos2.meetupstatic.com/photos/member/9/b/1/6/thumb_148899702.jpeg\" height=\"100\"/>"
       ],
       "metadata": {},
       "output_type": "display_data",
       "text": [
        "<IPython.core.display.Image at 0x7f131ad8fe10>"
       ]
      },
      {
       "html": [
        "<img src=\"http://photos1.meetupstatic.com/photos/member/c/0/d/2/thumb_187609362.jpeg\" height=\"100\"/>"
       ],
       "metadata": {},
       "output_type": "display_data",
       "text": [
        "<IPython.core.display.Image at 0x7f131ad8fe50>"
       ]
      },
      {
       "html": [
        "<img src=\"http://photos3.meetupstatic.com/photos/member/4/4/9/a/thumb_185237562.jpeg\" height=\"100\"/>"
       ],
       "metadata": {},
       "output_type": "display_data",
       "text": [
        "<IPython.core.display.Image at 0x7f131ad8fd90>"
       ]
      },
      {
       "html": [
        "<img src=\"http://photos1.meetupstatic.com/photos/member/e/3/3/2/thumb_123058162.jpeg\" height=\"100\"/>"
       ],
       "metadata": {},
       "output_type": "display_data",
       "text": [
        "<IPython.core.display.Image at 0x7f131ad8fc50>"
       ]
      },
      {
       "html": [
        "<img src=\"http://photos1.meetupstatic.com/photos/member/8/e/2/8/thumb_102636392.jpeg\" height=\"100\"/>"
       ],
       "metadata": {},
       "output_type": "display_data",
       "text": [
        "<IPython.core.display.Image at 0x7f131ad8fc10>"
       ]
      }
     ],
     "prompt_number": 159
    },
    {
     "cell_type": "code",
     "collapsed": false,
     "input": [
      "Image??"
     ],
     "language": "python",
     "metadata": {},
     "outputs": [],
     "prompt_number": 144
    },
    {
     "cell_type": "code",
     "collapsed": false,
     "input": [],
     "language": "python",
     "metadata": {},
     "outputs": [],
     "prompt_number": 134
    },
    {
     "cell_type": "code",
     "collapsed": false,
     "input": [],
     "language": "python",
     "metadata": {},
     "outputs": [],
     "prompt_number": 134
    },
    {
     "cell_type": "markdown",
     "metadata": {
      "slideshow": {
       "slide_type": "slide"
      }
     },
     "source": [
      "# Event data\n",
      "\n",
      "First, we have a look at the data we have about the event itself. \n",
      "\n",
      "These are descriptive data, with no list for us to build dataframes, but it is still a good showcase for IPython Notebook."
     ]
    },
    {
     "cell_type": "markdown",
     "metadata": {},
     "source": [
      "## Locations\n",
      "\n",
      "https://github.com/wrobstory/folium"
     ]
    },
    {
     "cell_type": "code",
     "collapsed": false,
     "input": [
      "event = requests.get(event_url, params={'key': api_key}).json()"
     ],
     "language": "python",
     "metadata": {},
     "outputs": [],
     "prompt_number": 251
    },
    {
     "cell_type": "code",
     "collapsed": false,
     "input": [
      "import json\n",
      "print(json.dumps(event, indent=2))"
     ],
     "language": "python",
     "metadata": {},
     "outputs": [
      {
       "output_type": "stream",
       "stream": "stdout",
       "text": [
        "{\n",
        "  \"status\": \"upcoming\", \n",
        "  \"utc_offset\": 7200000, \n",
        "  \"event_url\": \"http://www.meetup.com/OpenTechSchool-Brussels/events/194806872/\", \n",
        "  \"group\": {\n",
        "    \"name\": \"OpenTechSchool Brussels\", \n",
        "    \"group_lat\": 50.83000183105469, \n",
        "    \"join_mode\": \"open\", \n",
        "    \"who\": \"Members\", \n",
        "    \"group_lon\": 4.329999923706055, \n",
        "    \"urlname\": \"OpenTechSchool-Brussels\", \n",
        "    \"id\": 9462812\n",
        "  }, \n",
        "  \"description\": \"<p>During this workshop, you will learn how to combine the easiness of IPython Notebook with the power of Pandas for data processing in Python.</p> <p>The targeted audiences are scientists and other people doing data analysis. No prior knowledge of Python is required, but basic programming understanding is required (variables, functions, ...).</p> <p>IPython Notebook is a web-based interactive computational environment where you can combine code execution, text, mathematics, plots and rich media into a single document.</p> <p>pandas is a library providing high-performance, easy-to-use data structures and data analysis tools for the Python programming language.</p>\", \n",
        "  \"created\": 1405341580000, \n",
        "  \"venue\": {\n",
        "    \"city\": \"Brussels\", \n",
        "    \"name\": \"ULB Campus Solbosch\", \n",
        "    \"repinned\": false, \n",
        "    \"lon\": 4.381096, \n",
        "    \"address_1\": \"50, Avenue Franklin D. Roosevelt 1050 Bruxelles\", \n",
        "    \"country\": \"be\", \n",
        "    \"lat\": 50.811989, \n",
        "    \"id\": 16728772\n",
        "  }, \n",
        "  \"updated\": 1405342598000, \n",
        "  \"visibility\": \"public\", \n",
        "  \"yes_rsvp_count\": 42, \n",
        "  \"time\": 1409072400000, \n",
        "  \"duration\": 9000000, \n",
        "  \"waitlist_count\": 0, \n",
        "  \"headcount\": 0, \n",
        "  \"maybe_rsvp_count\": 0, \n",
        "  \"id\": \"194806872\", \n",
        "  \"announced\": true, \n",
        "  \"name\": \"Learn Data analysis with IPython Notebook and Pandas\"\n",
        "}\n"
       ]
      }
     ],
     "prompt_number": 252
    },
    {
     "cell_type": "code",
     "collapsed": false,
     "input": [
      "import folium"
     ],
     "language": "python",
     "metadata": {},
     "outputs": [],
     "prompt_number": 246
    },
    {
     "cell_type": "code",
     "collapsed": false,
     "input": [
      "from IPython.display import HTML\n",
      "def inline_map(map):\n",
      "    \"Embeds the HTML source of the map directly into the IPython notebook.\"\n",
      "    map._build_map()\n",
      "    return HTML('<iframe srcdoc=\"{srcdoc}\" style=\"width: 100%; height: 510px; border: none\"></iframe>'.format(srcdoc=map.HTML.replace('\"', '&quot;')))"
     ],
     "language": "python",
     "metadata": {},
     "outputs": [],
     "prompt_number": 247
    },
    {
     "cell_type": "code",
     "collapsed": false,
     "input": [
      "event_location = [event['venue']['lat'], event['venue']['lon']]\n",
      "event_location"
     ],
     "language": "python",
     "metadata": {},
     "outputs": [
      {
       "metadata": {},
       "output_type": "pyout",
       "prompt_number": 248,
       "text": [
        "[50.811989, 4.381096]"
       ]
      }
     ],
     "prompt_number": 248
    },
    {
     "cell_type": "code",
     "collapsed": false,
     "input": [
      "map = folium.Map(location=event_location, zoom_start=13, tiles='Stamen Toner')\n",
      "map.simple_marker(event_location, popup='Our workshop')\n",
      "inline_map(map)"
     ],
     "language": "python",
     "metadata": {},
     "outputs": [
      {
       "html": [
        "<iframe srcdoc=\"<!DOCTYPE html>\n",
        "<head>\n",
        "   <link rel=&quot;stylesheet&quot; href=&quot;http://cdn.leafletjs.com/leaflet-0.5/leaflet.css&quot; />\n",
        "   <script src=&quot;http://cdn.leafletjs.com/leaflet-0.5/leaflet.js&quot;></script>\n",
        "   \n",
        "   \n",
        "   \n",
        "   \n",
        "\n",
        "\n",
        "<style>\n",
        "\n",
        "#map {\n",
        "  position:absolute;\n",
        "  top:0;\n",
        "  bottom:0;\n",
        "  right:0;\n",
        "  left:0;\n",
        "}\n",
        "\n",
        "</style>\n",
        "</head>\n",
        "<body>\n",
        "\n",
        "        <div id=&quot;map&quot; style=&quot;width: 960px; height: 500px&quot;></div>\n",
        "\n",
        "<script>\n",
        "\n",
        "\n",
        "\n",
        "var map = L.map('map').setView([50.811989, 4.381096], 13);\n",
        "\n",
        "L.tileLayer('http://{s}.tile.stamen.com/toner/{z}/{x}/{y}.jpg', {\n",
        "    maxZoom: 18,\n",
        "    attribution: 'Map tiles by <a href=&quot;http://stamen.com&quot;>Stamen Design</a>, under <a href=&quot;http://creativecommons.org/licenses/by/3.0&quot;>CC BY 3.0</a>. Data by <a href=&quot;http://openstreetmap.org&quot;>OpenStreetMap</a>, under <a href=&quot;http://creativecommons.org/licenses/by-sa/3.0&quot;>CC BY SA</a>.'\n",
        "}).addTo(map);\n",
        "\n",
        "\n",
        "var marker_1 = L.marker([50.811989, 4.381096]);\n",
        "marker_1.bindPopup(&quot;Our workshop&quot;);\n",
        "map.addLayer(marker_1)\n",
        "\n",
        "\n",
        "\n",
        "\n",
        "\n",
        "\n",
        "</script>\n",
        "\n",
        "</body>\" style=\"width: 100%; height: 510px; border: none\"></iframe>"
       ],
       "metadata": {},
       "output_type": "pyout",
       "prompt_number": 249,
       "text": [
        "<IPython.core.display.HTML at 0x7f131a1f8a50>"
       ]
      }
     ],
     "prompt_number": 249
    },
    {
     "cell_type": "code",
     "collapsed": false,
     "input": [],
     "language": "python",
     "metadata": {},
     "outputs": []
    }
   ],
   "metadata": {}
  }
 ]
}