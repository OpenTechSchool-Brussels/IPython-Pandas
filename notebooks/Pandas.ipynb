{
 "metadata": {
  "celltoolbar": "Slideshow",
  "name": "",
  "signature": "sha256:c263162f499e13668f389af426206ecc4dc64f78fa77f81c76b249a721edc291"
 },
 "nbformat": 3,
 "nbformat_minor": 0,
 "worksheets": [
  {
   "cells": [
    {
     "cell_type": "heading",
     "level": 1,
     "metadata": {
      "slideshow": {
       "slide_type": "slide"
      }
     },
     "source": [
      "Python Data Analysis Library"
     ]
    },
    {
     "cell_type": "markdown",
     "metadata": {},
     "source": [
      "OpenTechSchool Workshop - [Hugo Herter](http://www.hugoherter.com) - August 2014"
     ]
    },
    {
     "cell_type": "markdown",
     "metadata": {},
     "source": [
      "![IPython logo](files/files/pandas-logo.png)"
     ]
    },
    {
     "cell_type": "markdown",
     "metadata": {
      "slideshow": {
       "slide_type": "slide"
      }
     },
     "source": [
      "## Description\n",
      "\n",
      "Pandas is a Python library providing high-performance, easy-to-use data structures and data analysis tools.\n",
      "\n",
      "If you are familiar with R, think of [R Data Frames](https://stat.ethz.ch/R-manual/R-devel/library/base/html/data.frame.html) ported to Python.\n",
      "\n",
      "Under the hood, Pandas is based on [NumPy](http://www.numpy.org/), a powerful library for numerical computing in Python - you will encounter it a few times in this workshop."
     ]
    },
    {
     "cell_type": "markdown",
     "metadata": {
      "slideshow": {
       "slide_type": "slide"
      }
     },
     "source": [
      "## First steps\n",
      "\n",
      "From Python data structures to Pandas"
     ]
    },
    {
     "cell_type": "code",
     "collapsed": false,
     "input": [
      "# Import and configure NumPy, Matplotlib and other useful math tools for the Notebook\n",
      "%pylab inline"
     ],
     "language": "python",
     "metadata": {},
     "outputs": [
      {
       "output_type": "stream",
       "stream": "stdout",
       "text": [
        "Populating the interactive namespace from numpy and matplotlib\n"
       ]
      }
     ],
     "prompt_number": 151
    },
    {
     "cell_type": "code",
     "collapsed": false,
     "input": [
      "import pandas\n",
      "\n",
      "dataframe = pandas.DataFrame(range(0, 50, 10))\n",
      "dataframe"
     ],
     "language": "python",
     "metadata": {},
     "outputs": [
      {
       "html": [
        "<div style=\"max-height:1000px;max-width:1500px;overflow:auto;\">\n",
        "<table border=\"1\" class=\"dataframe\">\n",
        "  <thead>\n",
        "    <tr style=\"text-align: right;\">\n",
        "      <th></th>\n",
        "      <th>0</th>\n",
        "    </tr>\n",
        "  </thead>\n",
        "  <tbody>\n",
        "    <tr>\n",
        "      <th>0</th>\n",
        "      <td>  0</td>\n",
        "    </tr>\n",
        "    <tr>\n",
        "      <th>1</th>\n",
        "      <td> 10</td>\n",
        "    </tr>\n",
        "    <tr>\n",
        "      <th>2</th>\n",
        "      <td> 20</td>\n",
        "    </tr>\n",
        "    <tr>\n",
        "      <th>3</th>\n",
        "      <td> 30</td>\n",
        "    </tr>\n",
        "    <tr>\n",
        "      <th>4</th>\n",
        "      <td> 40</td>\n",
        "    </tr>\n",
        "  </tbody>\n",
        "</table>\n",
        "</div>"
       ],
       "metadata": {},
       "output_type": "pyout",
       "prompt_number": 152,
       "text": [
        "    0\n",
        "0   0\n",
        "1  10\n",
        "2  20\n",
        "3  30\n",
        "4  40"
       ]
      }
     ],
     "prompt_number": 152
    },
    {
     "cell_type": "code",
     "collapsed": false,
     "input": [
      "dataframe.plot()"
     ],
     "language": "python",
     "metadata": {},
     "outputs": [
      {
       "metadata": {},
       "output_type": "pyout",
       "prompt_number": 153,
       "text": [
        "<matplotlib.axes.AxesSubplot at 0x7ff21f866c10>"
       ]
      },
      {
       "metadata": {},
       "output_type": "display_data",
       "png": "[encoded data removed]",
       "text": [
        "<matplotlib.figure.Figure at 0x7ff21f8075d0>"
       ]
      }
     ],
     "prompt_number": 153
    },
    {
     "cell_type": "markdown",
     "metadata": {
      "slideshow": {
       "slide_type": "slide"
      }
     },
     "source": [
      "## Let's play with Meetup's data\n",
      "\n",
      "For this exercise, we will have a look at [this event](http://www.meetup.com/OpenTechSchool-Brussels/events/194806872/)'s data on Meetup.\n",
      "\n",
      "### First\n",
      "Grab your API authentication key: https://secure.meetup.com/meetup_api/key/\n",
      "\n",
      "### Second\n",
      "Load the required libraries\n",
      "* `import requests` for HTTP requests\n",
      "* API key\n",
      "* Event ID from the URL: `194806872`\n",
      "* API urls\n",
      " * subscriptions: https://api.meetup.com/2/rsvps/\n",
      " * event's description: https://api.meetup.com/2/event/{event_id} \n",
      " \n",
      "### Third\n",
      "Load the data and parse it.\n",
      "\n",
      "URL -> JSON -> DataFrame"
     ]
    },
    {
     "cell_type": "code",
     "collapsed": false,
     "input": [
      "import requests  # load HTTP requests\n",
      "from __future__ import print_function  # use Python 3 syntax for print(...)\n",
      "\n",
      "api_key = '72d84e1c4c2a50321268137412e73'\n",
      "event_id = '194806872'\n",
      "\n",
      "rsvps_url = \"https://api.meetup.com/2/rsvps/\"\n",
      "event_url = \"https://api.meetup.com/2/event/\" + event_id\n",
      "\n",
      "print(\"URLs:\")\n",
      "print(rsvps_url)\n",
      "print(event_url)"
     ],
     "language": "python",
     "metadata": {
      "slideshow": {
       "slide_type": "subslide"
      }
     },
     "outputs": [
      {
       "output_type": "stream",
       "stream": "stdout",
       "text": [
        "URLs:\n",
        "https://api.meetup.com/2/rsvps/\n",
        "https://api.meetup.com/2/event/194806872\n"
       ]
      }
     ],
     "prompt_number": 155
    },
    {
     "cell_type": "markdown",
     "metadata": {
      "slideshow": {
       "slide_type": "slide"
      }
     },
     "source": [
      "## RSVPs of this Meetup\n",
      "\n",
      "**Question: When did people RSVP for this meetup ? How many people a day ?**"
     ]
    },
    {
     "cell_type": "code",
     "collapsed": false,
     "input": [
      "rsvps_dict = requests.get(rsvps_url, params={'key': api_key, 'event_id': event_id}).json()"
     ],
     "language": "python",
     "metadata": {},
     "outputs": [],
     "prompt_number": 7
    },
    {
     "cell_type": "code",
     "collapsed": false,
     "input": [
      "rsvps_dict"
     ],
     "language": "python",
     "metadata": {},
     "outputs": [
      {
       "metadata": {},
       "output_type": "pyout",
       "prompt_number": 8,
       "text": [
        "{u'meta': {u'count': 50,\n",
        "  u'description': u'Query for Event RSVPs by event',\n",
        "  u'id': u'',\n",
        "  u'lat': u'',\n",
        "  u'link': u'https://api.meetup.com/2/rsvps/',\n",
        "  u'lon': u'',\n",
        "  u'method': u'RSVPs v2',\n",
        "  u'next': u'',\n",
        "  u'title': u'Meetup RSVPs v2',\n",
        "  u'total_count': 50,\n",
        "  u'updated': 1408872509000,\n",
        "  u'url': u'https://api.meetup.com/2/rsvps/?key=72d84e1c4c2a50321268137412e73&event_id=194806872&order=event&desc=false&format=json&offset=0&page=200&fields='},\n",
        " u'results': [{u'created': 1405720853000,\n",
        "   u'event': {u'event_url': u'http://www.meetup.com/OpenTechSchool-Brussels/events/194806872/',\n",
        "    u'id': u'194806872',\n",
        "    u'name': u'Learn Data analysis with IPython Notebook and Pandas',\n",
        "    u'time': 1409072400000},\n",
        "   u'group': {u'group_lat': 50.83000183105469,\n",
        "    u'group_lon': 4.329999923706055,\n",
        "    u'id': 9462812,\n",
        "    u'join_mode': u'open',\n",
        "    u'urlname': u'OpenTechSchool-Brussels'},\n",
        "   u'guests': 0,\n",
        "   u'member': {u'member_id': 157084892, u'name': u'Ashwyn'},\n",
        "   u'member_photo': {u'highres_link': u'http://photos1.meetupstatic.com/photos/member/7/9/2/4/highres_212191012.jpeg',\n",
        "    u'photo_id': 212191012,\n",
        "    u'photo_link': u'http://photos1.meetupstatic.com/photos/member/7/9/2/4/member_212191012.jpeg',\n",
        "    u'thumb_link': u'http://photos1.meetupstatic.com/photos/member/7/9/2/4/thumb_212191012.jpeg'},\n",
        "   u'mtime': 1405720853000,\n",
        "   u'response': u'yes',\n",
        "   u'rsvp_id': 1360913672,\n",
        "   u'venue': {u'address_1': u'50, Avenue Franklin D. Roosevelt 1050 Bruxelles',\n",
        "    u'city': u'Brussels',\n",
        "    u'country': u'be',\n",
        "    u'id': 16728772,\n",
        "    u'lat': 50.811989,\n",
        "    u'lon': 4.381096,\n",
        "    u'name': u'ULB Campus Solbosch',\n",
        "    u'repinned': False}},\n",
        "  {u'created': 1407796732000,\n",
        "   u'event': {u'event_url': u'http://www.meetup.com/OpenTechSchool-Brussels/events/194806872/',\n",
        "    u'id': u'194806872',\n",
        "    u'name': u'Learn Data analysis with IPython Notebook and Pandas',\n",
        "    u'time': 1409072400000},\n",
        "   u'group': {u'group_lat': 50.83000183105469,\n",
        "    u'group_lon': 4.329999923706055,\n",
        "    u'id': 9462812,\n",
        "    u'join_mode': u'open',\n",
        "    u'urlname': u'OpenTechSchool-Brussels'},\n",
        "   u'guests': 0,\n",
        "   u'member': {u'member_id': 151866892, u'name': u'emmanuel'},\n",
        "   u'member_photo': {u'highres_link': u'http://photos1.meetupstatic.com/photos/member/c/2/4/e/highres_213109742.jpeg',\n",
        "    u'photo_id': 213109742,\n",
        "    u'photo_link': u'http://photos1.meetupstatic.com/photos/member/c/2/4/e/member_213109742.jpeg',\n",
        "    u'thumb_link': u'http://photos1.meetupstatic.com/photos/member/c/2/4/e/thumb_213109742.jpeg'},\n",
        "   u'mtime': 1407796732000,\n",
        "   u'response': u'yes',\n",
        "   u'rsvp_id': 1393859082,\n",
        "   u'venue': {u'address_1': u'50, Avenue Franklin D. Roosevelt 1050 Bruxelles',\n",
        "    u'city': u'Brussels',\n",
        "    u'country': u'be',\n",
        "    u'id': 16728772,\n",
        "    u'lat': 50.811989,\n",
        "    u'lon': 4.381096,\n",
        "    u'name': u'ULB Campus Solbosch',\n",
        "    u'repinned': False}},\n",
        "  {u'created': 1405345565000,\n",
        "   u'event': {u'event_url': u'http://www.meetup.com/OpenTechSchool-Brussels/events/194806872/',\n",
        "    u'id': u'194806872',\n",
        "    u'name': u'Learn Data analysis with IPython Notebook and Pandas',\n",
        "    u'time': 1409072400000},\n",
        "   u'group': {u'group_lat': 50.83000183105469,\n",
        "    u'group_lon': 4.329999923706055,\n",
        "    u'id': 9462812,\n",
        "    u'join_mode': u'open',\n",
        "    u'urlname': u'OpenTechSchool-Brussels'},\n",
        "   u'guests': 0,\n",
        "   u'member': {u'member_id': 99643772, u'name': u'Antonio Rebordao'},\n",
        "   u'member_photo': {u'photo_id': 127935382,\n",
        "    u'photo_link': u'http://photos3.meetupstatic.com/photos/member/3/c/1/6/member_127935382.jpeg',\n",
        "    u'thumb_link': u'http://photos1.meetupstatic.com/photos/member/3/c/1/6/thumb_127935382.jpeg'},\n",
        "   u'mtime': 1405345565000,\n",
        "   u'response': u'yes',\n",
        "   u'rsvp_id': 1354353422,\n",
        "   u'venue': {u'address_1': u'50, Avenue Franklin D. Roosevelt 1050 Bruxelles',\n",
        "    u'city': u'Brussels',\n",
        "    u'country': u'be',\n",
        "    u'id': 16728772,\n",
        "    u'lat': 50.811989,\n",
        "    u'lon': 4.381096,\n",
        "    u'name': u'ULB Campus Solbosch',\n",
        "    u'repinned': False}},\n",
        "  {u'created': 1405440260000,\n",
        "   u'event': {u'event_url': u'http://www.meetup.com/OpenTechSchool-Brussels/events/194806872/',\n",
        "    u'id': u'194806872',\n",
        "    u'name': u'Learn Data analysis with IPython Notebook and Pandas',\n",
        "    u'time': 1409072400000},\n",
        "   u'group': {u'group_lat': 50.83000183105469,\n",
        "    u'group_lon': 4.329999923706055,\n",
        "    u'id': 9462812,\n",
        "    u'join_mode': u'open',\n",
        "    u'urlname': u'OpenTechSchool-Brussels'},\n",
        "   u'guests': 0,\n",
        "   u'member': {u'member_id': 137641262, u'name': u'jp Alcantara'},\n",
        "   u'mtime': 1405440260000,\n",
        "   u'response': u'yes',\n",
        "   u'rsvp_id': 1356172562,\n",
        "   u'venue': {u'address_1': u'50, Avenue Franklin D. Roosevelt 1050 Bruxelles',\n",
        "    u'city': u'Brussels',\n",
        "    u'country': u'be',\n",
        "    u'id': 16728772,\n",
        "    u'lat': 50.811989,\n",
        "    u'lon': 4.381096,\n",
        "    u'name': u'ULB Campus Solbosch',\n",
        "    u'repinned': False}},\n",
        "  {u'created': 1407103688000,\n",
        "   u'event': {u'event_url': u'http://www.meetup.com/OpenTechSchool-Brussels/events/194806872/',\n",
        "    u'id': u'194806872',\n",
        "    u'name': u'Learn Data analysis with IPython Notebook and Pandas',\n",
        "    u'time': 1409072400000},\n",
        "   u'group': {u'group_lat': 50.83000183105469,\n",
        "    u'group_lon': 4.329999923706055,\n",
        "    u'id': 9462812,\n",
        "    u'join_mode': u'open',\n",
        "    u'urlname': u'OpenTechSchool-Brussels'},\n",
        "   u'guests': 0,\n",
        "   u'member': {u'member_id': 88721062, u'name': u'Kjell Moens'},\n",
        "   u'member_photo': {u'photo_id': 139571842,\n",
        "    u'photo_link': u'http://photos1.meetupstatic.com/photos/member/2/e/4/2/member_139571842.jpeg',\n",
        "    u'thumb_link': u'http://photos3.meetupstatic.com/photos/member/2/e/4/2/thumb_139571842.jpeg'},\n",
        "   u'mtime': 1407103688000,\n",
        "   u'response': u'yes',\n",
        "   u'rsvp_id': 1382319382,\n",
        "   u'venue': {u'address_1': u'50, Avenue Franklin D. Roosevelt 1050 Bruxelles',\n",
        "    u'city': u'Brussels',\n",
        "    u'country': u'be',\n",
        "    u'id': 16728772,\n",
        "    u'lat': 50.811989,\n",
        "    u'lon': 4.381096,\n",
        "    u'name': u'ULB Campus Solbosch',\n",
        "    u'repinned': False}},\n",
        "  {u'created': 1405582766000,\n",
        "   u'event': {u'event_url': u'http://www.meetup.com/OpenTechSchool-Brussels/events/194806872/',\n",
        "    u'id': u'194806872',\n",
        "    u'name': u'Learn Data analysis with IPython Notebook and Pandas',\n",
        "    u'time': 1409072400000},\n",
        "   u'group': {u'group_lat': 50.83000183105469,\n",
        "    u'group_lon': 4.329999923706055,\n",
        "    u'id': 9462812,\n",
        "    u'join_mode': u'open',\n",
        "    u'urlname': u'OpenTechSchool-Brussels'},\n",
        "   u'guests': 0,\n",
        "   u'member': {u'member_id': 67284802, u'name': u'Mike F'},\n",
        "   u'member_photo': {u'highres_link': u'http://photos4.meetupstatic.com/photos/member/8/d/d/8/highres_78876312.jpeg',\n",
        "    u'photo_id': 78876312,\n",
        "    u'photo_link': u'http://photos2.meetupstatic.com/photos/member/8/d/d/8/member_78876312.jpeg',\n",
        "    u'thumb_link': u'http://photos2.meetupstatic.com/photos/member/8/d/d/8/thumb_78876312.jpeg'},\n",
        "   u'mtime': 1405582766000,\n",
        "   u'response': u'yes',\n",
        "   u'rsvp_id': 1358705442,\n",
        "   u'venue': {u'address_1': u'50, Avenue Franklin D. Roosevelt 1050 Bruxelles',\n",
        "    u'city': u'Brussels',\n",
        "    u'country': u'be',\n",
        "    u'id': 16728772,\n",
        "    u'lat': 50.811989,\n",
        "    u'lon': 4.381096,\n",
        "    u'name': u'ULB Campus Solbosch',\n",
        "    u'repinned': False}},\n",
        "  {u'created': 1405342475000,\n",
        "   u'event': {u'event_url': u'http://www.meetup.com/OpenTechSchool-Brussels/events/194806872/',\n",
        "    u'id': u'194806872',\n",
        "    u'name': u'Learn Data analysis with IPython Notebook and Pandas',\n",
        "    u'time': 1409072400000},\n",
        "   u'group': {u'group_lat': 50.83000183105469,\n",
        "    u'group_lon': 4.329999923706055,\n",
        "    u'id': 9462812,\n",
        "    u'join_mode': u'open',\n",
        "    u'urlname': u'OpenTechSchool-Brussels'},\n",
        "   u'guests': 0,\n",
        "   u'member': {u'member_id': 55138782, u'name': u'Andrea Dal Pozzolo'},\n",
        "   u'member_photo': {u'highres_link': u'http://photos3.meetupstatic.com/photos/member/6/0/9/2/highres_63204722.jpeg',\n",
        "    u'photo_id': 63204722,\n",
        "    u'photo_link': u'http://photos1.meetupstatic.com/photos/member/6/0/9/2/member_63204722.jpeg',\n",
        "    u'thumb_link': u'http://photos3.meetupstatic.com/photos/member/6/0/9/2/thumb_63204722.jpeg'},\n",
        "   u'mtime': 1405342475000,\n",
        "   u'response': u'yes',\n",
        "   u'rsvp_id': 1354284582,\n",
        "   u'venue': {u'address_1': u'50, Avenue Franklin D. Roosevelt 1050 Bruxelles',\n",
        "    u'city': u'Brussels',\n",
        "    u'country': u'be',\n",
        "    u'id': 16728772,\n",
        "    u'lat': 50.811989,\n",
        "    u'lon': 4.381096,\n",
        "    u'name': u'ULB Campus Solbosch',\n",
        "    u'repinned': False}},\n",
        "  {u'created': 1408352094000,\n",
        "   u'event': {u'event_url': u'http://www.meetup.com/OpenTechSchool-Brussels/events/194806872/',\n",
        "    u'id': u'194806872',\n",
        "    u'name': u'Learn Data analysis with IPython Notebook and Pandas',\n",
        "    u'time': 1409072400000},\n",
        "   u'group': {u'group_lat': 50.83000183105469,\n",
        "    u'group_lon': 4.329999923706055,\n",
        "    u'id': 9462812,\n",
        "    u'join_mode': u'open',\n",
        "    u'urlname': u'OpenTechSchool-Brussels'},\n",
        "   u'guests': 0,\n",
        "   u'member': {u'member_id': 140817262, u'name': u'Ahmed'},\n",
        "   u'member_photo': {u'highres_link': u'http://photos2.meetupstatic.com/photos/member/c/6/7/2/highres_191870802.jpeg',\n",
        "    u'photo_id': 191870802,\n",
        "    u'photo_link': u'http://photos4.meetupstatic.com/photos/member/c/6/7/2/member_191870802.jpeg',\n",
        "    u'thumb_link': u'http://photos2.meetupstatic.com/photos/member/c/6/7/2/thumb_191870802.jpeg'},\n",
        "   u'mtime': 1408352094000,\n",
        "   u'response': u'yes',\n",
        "   u'rsvp_id': 1402432812,\n",
        "   u'venue': {u'address_1': u'50, Avenue Franklin D. Roosevelt 1050 Bruxelles',\n",
        "    u'city': u'Brussels',\n",
        "    u'country': u'be',\n",
        "    u'id': 16728772,\n",
        "    u'lat': 50.811989,\n",
        "    u'lon': 4.381096,\n",
        "    u'name': u'ULB Campus Solbosch',\n",
        "    u'repinned': False}},\n",
        "  {u'created': 1406992007000,\n",
        "   u'event': {u'event_url': u'http://www.meetup.com/OpenTechSchool-Brussels/events/194806872/',\n",
        "    u'id': u'194806872',\n",
        "    u'name': u'Learn Data analysis with IPython Notebook and Pandas',\n",
        "    u'time': 1409072400000},\n",
        "   u'group': {u'group_lat': 50.83000183105469,\n",
        "    u'group_lon': 4.329999923706055,\n",
        "    u'id': 9462812,\n",
        "    u'join_mode': u'open',\n",
        "    u'urlname': u'OpenTechSchool-Brussels'},\n",
        "   u'guests': 0,\n",
        "   u'member': {u'member_id': 159530122, u'name': u'Rik'},\n",
        "   u'mtime': 1406992007000,\n",
        "   u'response': u'yes',\n",
        "   u'rsvp_id': 1380748342,\n",
        "   u'venue': {u'address_1': u'50, Avenue Franklin D. Roosevelt 1050 Bruxelles',\n",
        "    u'city': u'Brussels',\n",
        "    u'country': u'be',\n",
        "    u'id': 16728772,\n",
        "    u'lat': 50.811989,\n",
        "    u'lon': 4.381096,\n",
        "    u'name': u'ULB Campus Solbosch',\n",
        "    u'repinned': False}},\n",
        "  {u'created': 1408539856000,\n",
        "   u'event': {u'event_url': u'http://www.meetup.com/OpenTechSchool-Brussels/events/194806872/',\n",
        "    u'id': u'194806872',\n",
        "    u'name': u'Learn Data analysis with IPython Notebook and Pandas',\n",
        "    u'time': 1409072400000},\n",
        "   u'group': {u'group_lat': 50.83000183105469,\n",
        "    u'group_lon': 4.329999923706055,\n",
        "    u'id': 9462812,\n",
        "    u'join_mode': u'open',\n",
        "    u'urlname': u'OpenTechSchool-Brussels'},\n",
        "   u'guests': 0,\n",
        "   u'member': {u'member_id': 6322989, u'name': u'Augustin'},\n",
        "   u'member_photo': {u'highres_link': u'http://photos2.meetupstatic.com/photos/member/8/5/4/highres_220082132.jpeg',\n",
        "    u'photo_id': 220082132,\n",
        "    u'photo_link': u'http://photos4.meetupstatic.com/photos/member/8/5/4/member_220082132.jpeg',\n",
        "    u'thumb_link': u'http://photos2.meetupstatic.com/photos/member/8/5/4/thumb_220082132.jpeg'},\n",
        "   u'mtime': 1408539856000,\n",
        "   u'response': u'yes',\n",
        "   u'rsvp_id': 1405794622,\n",
        "   u'venue': {u'address_1': u'50, Avenue Franklin D. Roosevelt 1050 Bruxelles',\n",
        "    u'city': u'Brussels',\n",
        "    u'country': u'be',\n",
        "    u'id': 16728772,\n",
        "    u'lat': 50.811989,\n",
        "    u'lon': 4.381096,\n",
        "    u'name': u'ULB Campus Solbosch',\n",
        "    u'repinned': False}},\n",
        "  {u'created': 1405509150000,\n",
        "   u'event': {u'event_url': u'http://www.meetup.com/OpenTechSchool-Brussels/events/194806872/',\n",
        "    u'id': u'194806872',\n",
        "    u'name': u'Learn Data analysis with IPython Notebook and Pandas',\n",
        "    u'time': 1409072400000},\n",
        "   u'group': {u'group_lat': 50.83000183105469,\n",
        "    u'group_lon': 4.329999923706055,\n",
        "    u'id': 9462812,\n",
        "    u'join_mode': u'open',\n",
        "    u'urlname': u'OpenTechSchool-Brussels'},\n",
        "   u'guests': 0,\n",
        "   u'member': {u'member_id': 136288362, u'name': u'Marcus'},\n",
        "   u'member_photo': {u'highres_link': u'http://photos1.meetupstatic.com/photos/member/6/1/a/a/highres_182485002.jpeg',\n",
        "    u'photo_id': 182485002,\n",
        "    u'photo_link': u'http://photos3.meetupstatic.com/photos/member/6/1/a/a/member_182485002.jpeg',\n",
        "    u'thumb_link': u'http://photos1.meetupstatic.com/photos/member/6/1/a/a/thumb_182485002.jpeg'},\n",
        "   u'mtime': 1405509150000,\n",
        "   u'response': u'yes',\n",
        "   u'rsvp_id': 1357344832,\n",
        "   u'venue': {u'address_1': u'50, Avenue Franklin D. Roosevelt 1050 Bruxelles',\n",
        "    u'city': u'Brussels',\n",
        "    u'country': u'be',\n",
        "    u'id': 16728772,\n",
        "    u'lat': 50.811989,\n",
        "    u'lon': 4.381096,\n",
        "    u'name': u'ULB Campus Solbosch',\n",
        "    u'repinned': False}},\n",
        "  {u'created': 1407787217000,\n",
        "   u'event': {u'event_url': u'http://www.meetup.com/OpenTechSchool-Brussels/events/194806872/',\n",
        "    u'id': u'194806872',\n",
        "    u'name': u'Learn Data analysis with IPython Notebook and Pandas',\n",
        "    u'time': 1409072400000},\n",
        "   u'group': {u'group_lat': 50.83000183105469,\n",
        "    u'group_lon': 4.329999923706055,\n",
        "    u'id': 9462812,\n",
        "    u'join_mode': u'open',\n",
        "    u'urlname': u'OpenTechSchool-Brussels'},\n",
        "   u'guests': 0,\n",
        "   u'member': {u'member_id': 160546732, u'name': u'Pepe'},\n",
        "   u'mtime': 1407787217000,\n",
        "   u'response': u'yes',\n",
        "   u'rsvp_id': 1393603912,\n",
        "   u'venue': {u'address_1': u'50, Avenue Franklin D. Roosevelt 1050 Bruxelles',\n",
        "    u'city': u'Brussels',\n",
        "    u'country': u'be',\n",
        "    u'id': 16728772,\n",
        "    u'lat': 50.811989,\n",
        "    u'lon': 4.381096,\n",
        "    u'name': u'ULB Campus Solbosch',\n",
        "    u'repinned': False}},\n",
        "  {u'created': 1407615542000,\n",
        "   u'event': {u'event_url': u'http://www.meetup.com/OpenTechSchool-Brussels/events/194806872/',\n",
        "    u'id': u'194806872',\n",
        "    u'name': u'Learn Data analysis with IPython Notebook and Pandas',\n",
        "    u'time': 1409072400000},\n",
        "   u'group': {u'group_lat': 50.83000183105469,\n",
        "    u'group_lon': 4.329999923706055,\n",
        "    u'id': 9462812,\n",
        "    u'join_mode': u'open',\n",
        "    u'urlname': u'OpenTechSchool-Brussels'},\n",
        "   u'guests': 0,\n",
        "   u'member': {u'member_id': 147887932, u'name': u'Ken Christiaens'},\n",
        "   u'member_photo': {u'highres_link': u'http://photos4.meetupstatic.com/photos/member/e/5/4/4/highres_216778692.jpeg',\n",
        "    u'photo_id': 216778692,\n",
        "    u'photo_link': u'http://photos4.meetupstatic.com/photos/member/e/5/4/4/member_216778692.jpeg',\n",
        "    u'thumb_link': u'http://photos4.meetupstatic.com/photos/member/e/5/4/4/thumb_216778692.jpeg'},\n",
        "   u'mtime': 1407615542000,\n",
        "   u'response': u'no',\n",
        "   u'rsvp_id': 1390929482,\n",
        "   u'venue': {u'address_1': u'50, Avenue Franklin D. Roosevelt 1050 Bruxelles',\n",
        "    u'city': u'Brussels',\n",
        "    u'country': u'be',\n",
        "    u'id': 16728772,\n",
        "    u'lat': 50.811989,\n",
        "    u'lon': 4.381096,\n",
        "    u'name': u'ULB Campus Solbosch',\n",
        "    u'repinned': False}},\n",
        "  {u'created': 1405411509000,\n",
        "   u'event': {u'event_url': u'http://www.meetup.com/OpenTechSchool-Brussels/events/194806872/',\n",
        "    u'id': u'194806872',\n",
        "    u'name': u'Learn Data analysis with IPython Notebook and Pandas',\n",
        "    u'time': 1409072400000},\n",
        "   u'group': {u'group_lat': 50.83000183105469,\n",
        "    u'group_lon': 4.329999923706055,\n",
        "    u'id': 9462812,\n",
        "    u'join_mode': u'open',\n",
        "    u'urlname': u'OpenTechSchool-Brussels'},\n",
        "   u'guests': 0,\n",
        "   u'member': {u'member_id': 66971512, u'name': u'Ivan Keller'},\n",
        "   u'member_photo': {u'highres_link': u'http://photos3.meetupstatic.com/photos/member/4/e/a/4/highres_189500132.jpeg',\n",
        "    u'photo_id': 189500132,\n",
        "    u'photo_link': u'http://photos3.meetupstatic.com/photos/member/4/e/a/4/member_189500132.jpeg',\n",
        "    u'thumb_link': u'http://photos3.meetupstatic.com/photos/member/4/e/a/4/thumb_189500132.jpeg'},\n",
        "   u'mtime': 1405411509000,\n",
        "   u'response': u'yes',\n",
        "   u'rsvp_id': 1355771212,\n",
        "   u'venue': {u'address_1': u'50, Avenue Franklin D. Roosevelt 1050 Bruxelles',\n",
        "    u'city': u'Brussels',\n",
        "    u'country': u'be',\n",
        "    u'id': 16728772,\n",
        "    u'lat': 50.811989,\n",
        "    u'lon': 4.381096,\n",
        "    u'name': u'ULB Campus Solbosch',\n",
        "    u'repinned': False}},\n",
        "  {u'created': 1405418270000,\n",
        "   u'event': {u'event_url': u'http://www.meetup.com/OpenTechSchool-Brussels/events/194806872/',\n",
        "    u'id': u'194806872',\n",
        "    u'name': u'Learn Data analysis with IPython Notebook and Pandas',\n",
        "    u'time': 1409072400000},\n",
        "   u'group': {u'group_lat': 50.83000183105469,\n",
        "    u'group_lon': 4.329999923706055,\n",
        "    u'id': 9462812,\n",
        "    u'join_mode': u'open',\n",
        "    u'urlname': u'OpenTechSchool-Brussels'},\n",
        "   u'guests': 0,\n",
        "   u'member': {u'member_id': 110639042, u'name': u'bernard paulus'},\n",
        "   u'member_photo': {u'highres_link': u'http://photos2.meetupstatic.com/photos/member/c/5/5/0/highres_147050512.jpeg',\n",
        "    u'photo_id': 147050512,\n",
        "    u'photo_link': u'http://photos2.meetupstatic.com/photos/member/c/5/5/0/member_147050512.jpeg',\n",
        "    u'thumb_link': u'http://photos2.meetupstatic.com/photos/member/c/5/5/0/thumb_147050512.jpeg'},\n",
        "   u'mtime': 1405418270000,\n",
        "   u'response': u'no',\n",
        "   u'rsvp_id': 1355820372,\n",
        "   u'venue': {u'address_1': u'50, Avenue Franklin D. Roosevelt 1050 Bruxelles',\n",
        "    u'city': u'Brussels',\n",
        "    u'country': u'be',\n",
        "    u'id': 16728772,\n",
        "    u'lat': 50.811989,\n",
        "    u'lon': 4.381096,\n",
        "    u'name': u'ULB Campus Solbosch',\n",
        "    u'repinned': False}},\n",
        "  {u'created': 1405371761000,\n",
        "   u'event': {u'event_url': u'http://www.meetup.com/OpenTechSchool-Brussels/events/194806872/',\n",
        "    u'id': u'194806872',\n",
        "    u'name': u'Learn Data analysis with IPython Notebook and Pandas',\n",
        "    u'time': 1409072400000},\n",
        "   u'group': {u'group_lat': 50.83000183105469,\n",
        "    u'group_lon': 4.329999923706055,\n",
        "    u'id': 9462812,\n",
        "    u'join_mode': u'open',\n",
        "    u'urlname': u'OpenTechSchool-Brussels'},\n",
        "   u'guests': 0,\n",
        "   u'member': {u'member_id': 107235392, u'name': u'Deborah Lindberg'},\n",
        "   u'member_photo': {u'highres_link': u'http://photos2.meetupstatic.com/photos/member/6/1/6/4/highres_140484932.jpeg',\n",
        "    u'photo_id': 140484932,\n",
        "    u'photo_link': u'http://photos4.meetupstatic.com/photos/member/6/1/6/4/member_140484932.jpeg',\n",
        "    u'thumb_link': u'http://photos4.meetupstatic.com/photos/member/6/1/6/4/thumb_140484932.jpeg'},\n",
        "   u'mtime': 1405892191000,\n",
        "   u'response': u'no',\n",
        "   u'rsvp_id': 1355066202,\n",
        "   u'venue': {u'address_1': u'50, Avenue Franklin D. Roosevelt 1050 Bruxelles',\n",
        "    u'city': u'Brussels',\n",
        "    u'country': u'be',\n",
        "    u'id': 16728772,\n",
        "    u'lat': 50.811989,\n",
        "    u'lon': 4.381096,\n",
        "    u'name': u'ULB Campus Solbosch',\n",
        "    u'repinned': False}},\n",
        "  {u'created': 1408560236000,\n",
        "   u'event': {u'event_url': u'http://www.meetup.com/OpenTechSchool-Brussels/events/194806872/',\n",
        "    u'id': u'194806872',\n",
        "    u'name': u'Learn Data analysis with IPython Notebook and Pandas',\n",
        "    u'time': 1409072400000},\n",
        "   u'group': {u'group_lat': 50.83000183105469,\n",
        "    u'group_lon': 4.329999923706055,\n",
        "    u'id': 9462812,\n",
        "    u'join_mode': u'open',\n",
        "    u'urlname': u'OpenTechSchool-Brussels'},\n",
        "   u'guests': 0,\n",
        "   u'member': {u'member_id': 78668262, u'name': u'Jeroen Kerkhof'},\n",
        "   u'member_photo': {u'highres_link': u'http://photos2.meetupstatic.com/photos/member/a/6/2/e/highres_118182542.jpeg',\n",
        "    u'photo_id': 118182542,\n",
        "    u'photo_link': u'http://photos4.meetupstatic.com/photos/member/a/6/2/e/member_118182542.jpeg',\n",
        "    u'thumb_link': u'http://photos2.meetupstatic.com/photos/member/a/6/2/e/thumb_118182542.jpeg'},\n",
        "   u'mtime': 1408560236000,\n",
        "   u'response': u'yes',\n",
        "   u'rsvp_id': 1406229342,\n",
        "   u'venue': {u'address_1': u'50, Avenue Franklin D. Roosevelt 1050 Bruxelles',\n",
        "    u'city': u'Brussels',\n",
        "    u'country': u'be',\n",
        "    u'id': 16728772,\n",
        "    u'lat': 50.811989,\n",
        "    u'lon': 4.381096,\n",
        "    u'name': u'ULB Campus Solbosch',\n",
        "    u'repinned': False}},\n",
        "  {u'created': 1406555963000,\n",
        "   u'event': {u'event_url': u'http://www.meetup.com/OpenTechSchool-Brussels/events/194806872/',\n",
        "    u'id': u'194806872',\n",
        "    u'name': u'Learn Data analysis with IPython Notebook and Pandas',\n",
        "    u'time': 1409072400000},\n",
        "   u'group': {u'group_lat': 50.83000183105469,\n",
        "    u'group_lon': 4.329999923706055,\n",
        "    u'id': 9462812,\n",
        "    u'join_mode': u'open',\n",
        "    u'urlname': u'OpenTechSchool-Brussels'},\n",
        "   u'guests': 0,\n",
        "   u'member': {u'member_id': 88239042, u'name': u'Rosalind Lester'},\n",
        "   u'member_photo': {u'highres_link': u'http://photos3.meetupstatic.com/photos/member/2/1/e/0/highres_214388672.jpeg',\n",
        "    u'photo_id': 214388672,\n",
        "    u'photo_link': u'http://photos3.meetupstatic.com/photos/member/2/1/e/0/member_214388672.jpeg',\n",
        "    u'thumb_link': u'http://photos3.meetupstatic.com/photos/member/2/1/e/0/thumb_214388672.jpeg'},\n",
        "   u'mtime': 1406555963000,\n",
        "   u'response': u'no',\n",
        "   u'rsvp_id': 1373513312,\n",
        "   u'venue': {u'address_1': u'50, Avenue Franklin D. Roosevelt 1050 Bruxelles',\n",
        "    u'city': u'Brussels',\n",
        "    u'country': u'be',\n",
        "    u'id': 16728772,\n",
        "    u'lat': 50.811989,\n",
        "    u'lon': 4.381096,\n",
        "    u'name': u'ULB Campus Solbosch',\n",
        "    u'repinned': False}},\n",
        "  {u'created': 1408441425000,\n",
        "   u'event': {u'event_url': u'http://www.meetup.com/OpenTechSchool-Brussels/events/194806872/',\n",
        "    u'id': u'194806872',\n",
        "    u'name': u'Learn Data analysis with IPython Notebook and Pandas',\n",
        "    u'time': 1409072400000},\n",
        "   u'group': {u'group_lat': 50.83000183105469,\n",
        "    u'group_lon': 4.329999923706055,\n",
        "    u'id': 9462812,\n",
        "    u'join_mode': u'open',\n",
        "    u'urlname': u'OpenTechSchool-Brussels'},\n",
        "   u'guests': 0,\n",
        "   u'member': {u'member_id': 146738162, u'name': u'Nicolas'},\n",
        "   u'mtime': 1408441425000,\n",
        "   u'response': u'yes',\n",
        "   u'rsvp_id': 1404147552,\n",
        "   u'venue': {u'address_1': u'50, Avenue Franklin D. Roosevelt 1050 Bruxelles',\n",
        "    u'city': u'Brussels',\n",
        "    u'country': u'be',\n",
        "    u'id': 16728772,\n",
        "    u'lat': 50.811989,\n",
        "    u'lon': 4.381096,\n",
        "    u'name': u'ULB Campus Solbosch',\n",
        "    u'repinned': False}},\n",
        "  {u'created': 1407832115000,\n",
        "   u'event': {u'event_url': u'http://www.meetup.com/OpenTechSchool-Brussels/events/194806872/',\n",
        "    u'id': u'194806872',\n",
        "    u'name': u'Learn Data analysis with IPython Notebook and Pandas',\n",
        "    u'time': 1409072400000},\n",
        "   u'group': {u'group_lat': 50.83000183105469,\n",
        "    u'group_lon': 4.329999923706055,\n",
        "    u'id': 9462812,\n",
        "    u'join_mode': u'open',\n",
        "    u'urlname': u'OpenTechSchool-Brussels'},\n",
        "   u'guests': 0,\n",
        "   u'member': {u'member_id': 137236372, u'name': u'Ana Claudia Alfieri'},\n",
        "   u'mtime': 1407832115000,\n",
        "   u'response': u'yes',\n",
        "   u'rsvp_id': 1394410852,\n",
        "   u'venue': {u'address_1': u'50, Avenue Franklin D. Roosevelt 1050 Bruxelles',\n",
        "    u'city': u'Brussels',\n",
        "    u'country': u'be',\n",
        "    u'id': 16728772,\n",
        "    u'lat': 50.811989,\n",
        "    u'lon': 4.381096,\n",
        "    u'name': u'ULB Campus Solbosch',\n",
        "    u'repinned': False}},\n",
        "  {u'created': 1407137248000,\n",
        "   u'event': {u'event_url': u'http://www.meetup.com/OpenTechSchool-Brussels/events/194806872/',\n",
        "    u'id': u'194806872',\n",
        "    u'name': u'Learn Data analysis with IPython Notebook and Pandas',\n",
        "    u'time': 1409072400000},\n",
        "   u'group': {u'group_lat': 50.83000183105469,\n",
        "    u'group_lon': 4.329999923706055,\n",
        "    u'id': 9462812,\n",
        "    u'join_mode': u'open',\n",
        "    u'urlname': u'OpenTechSchool-Brussels'},\n",
        "   u'guests': 0,\n",
        "   u'member': {u'member_id': 153801642,\n",
        "    u'name': u\"Marie-Agn\\xe8s Djate N'koy\"},\n",
        "   u'member_photo': {u'highres_link': u'http://photos2.meetupstatic.com/photos/member/6/1/3/2/highres_207564882.jpeg',\n",
        "    u'photo_id': 207564882,\n",
        "    u'photo_link': u'http://photos2.meetupstatic.com/photos/member/6/1/3/2/member_207564882.jpeg',\n",
        "    u'thumb_link': u'http://photos4.meetupstatic.com/photos/member/6/1/3/2/thumb_207564882.jpeg'},\n",
        "   u'mtime': 1407137248000,\n",
        "   u'response': u'yes',\n",
        "   u'rsvp_id': 1382866532,\n",
        "   u'venue': {u'address_1': u'50, Avenue Franklin D. Roosevelt 1050 Bruxelles',\n",
        "    u'city': u'Brussels',\n",
        "    u'country': u'be',\n",
        "    u'id': 16728772,\n",
        "    u'lat': 50.811989,\n",
        "    u'lon': 4.381096,\n",
        "    u'name': u'ULB Campus Solbosch',\n",
        "    u'repinned': False}},\n",
        "  {u'created': 1405346906000,\n",
        "   u'event': {u'event_url': u'http://www.meetup.com/OpenTechSchool-Brussels/events/194806872/',\n",
        "    u'id': u'194806872',\n",
        "    u'name': u'Learn Data analysis with IPython Notebook and Pandas',\n",
        "    u'time': 1409072400000},\n",
        "   u'group': {u'group_lat': 50.83000183105469,\n",
        "    u'group_lon': 4.329999923706055,\n",
        "    u'id': 9462812,\n",
        "    u'join_mode': u'open',\n",
        "    u'urlname': u'OpenTechSchool-Brussels'},\n",
        "   u'guests': 0,\n",
        "   u'member': {u'member_id': 121534732, u'name': u'Olivier Pirson'},\n",
        "   u'member_photo': {u'highres_link': u'http://photos3.meetupstatic.com/photos/member/6/f/e/c/highres_161008652.jpeg',\n",
        "    u'photo_id': 161008652,\n",
        "    u'photo_link': u'http://photos3.meetupstatic.com/photos/member/6/f/e/c/member_161008652.jpeg',\n",
        "    u'thumb_link': u'http://photos3.meetupstatic.com/photos/member/6/f/e/c/thumb_161008652.jpeg'},\n",
        "   u'mtime': 1405346906000,\n",
        "   u'response': u'yes',\n",
        "   u'rsvp_id': 1354386282,\n",
        "   u'venue': {u'address_1': u'50, Avenue Franklin D. Roosevelt 1050 Bruxelles',\n",
        "    u'city': u'Brussels',\n",
        "    u'country': u'be',\n",
        "    u'id': 16728772,\n",
        "    u'lat': 50.811989,\n",
        "    u'lon': 4.381096,\n",
        "    u'name': u'ULB Campus Solbosch',\n",
        "    u'repinned': False}},\n",
        "  {u'created': 1408560548000,\n",
        "   u'event': {u'event_url': u'http://www.meetup.com/OpenTechSchool-Brussels/events/194806872/',\n",
        "    u'id': u'194806872',\n",
        "    u'name': u'Learn Data analysis with IPython Notebook and Pandas',\n",
        "    u'time': 1409072400000},\n",
        "   u'group': {u'group_lat': 50.83000183105469,\n",
        "    u'group_lon': 4.329999923706055,\n",
        "    u'id': 9462812,\n",
        "    u'join_mode': u'open',\n",
        "    u'urlname': u'OpenTechSchool-Brussels'},\n",
        "   u'guests': 0,\n",
        "   u'member': {u'member_id': 147927772, u'name': u'Frederic'},\n",
        "   u'member_photo': {u'highres_link': u'http://photos4.meetupstatic.com/photos/member/d/f/c/2/highres_199437282.jpeg',\n",
        "    u'photo_id': 199437282,\n",
        "    u'photo_link': u'http://photos2.meetupstatic.com/photos/member/d/f/c/2/member_199437282.jpeg',\n",
        "    u'thumb_link': u'http://photos2.meetupstatic.com/photos/member/d/f/c/2/thumb_199437282.jpeg'},\n",
        "   u'mtime': 1408560548000,\n",
        "   u'response': u'no',\n",
        "   u'rsvp_id': 1406236782,\n",
        "   u'venue': {u'address_1': u'50, Avenue Franklin D. Roosevelt 1050 Bruxelles',\n",
        "    u'city': u'Brussels',\n",
        "    u'country': u'be',\n",
        "    u'id': 16728772,\n",
        "    u'lat': 50.811989,\n",
        "    u'lon': 4.381096,\n",
        "    u'name': u'ULB Campus Solbosch',\n",
        "    u'repinned': False}},\n",
        "  {u'created': 1405341583000,\n",
        "   u'event': {u'event_url': u'http://www.meetup.com/OpenTechSchool-Brussels/events/194806872/',\n",
        "    u'id': u'194806872',\n",
        "    u'name': u'Learn Data analysis with IPython Notebook and Pandas',\n",
        "    u'time': 1409072400000},\n",
        "   u'group': {u'group_lat': 50.83000183105469,\n",
        "    u'group_lon': 4.329999923706055,\n",
        "    u'id': 9462812,\n",
        "    u'join_mode': u'open',\n",
        "    u'urlname': u'OpenTechSchool-Brussels'},\n",
        "   u'guests': 0,\n",
        "   u'member': {u'member_id': 89353212, u'name': u'Hugo Herter'},\n",
        "   u'member_photo': {u'highres_link': u'http://photos3.meetupstatic.com/photos/member/4/1/2/highres_110881042.jpeg',\n",
        "    u'photo_id': 110881042,\n",
        "    u'photo_link': u'http://photos3.meetupstatic.com/photos/member/4/1/2/member_110881042.jpeg',\n",
        "    u'thumb_link': u'http://photos3.meetupstatic.com/photos/member/4/1/2/thumb_110881042.jpeg'},\n",
        "   u'mtime': 1405341583000,\n",
        "   u'response': u'yes',\n",
        "   u'rsvp_id': 1354266992,\n",
        "   u'venue': {u'address_1': u'50, Avenue Franklin D. Roosevelt 1050 Bruxelles',\n",
        "    u'city': u'Brussels',\n",
        "    u'country': u'be',\n",
        "    u'id': 16728772,\n",
        "    u'lat': 50.811989,\n",
        "    u'lon': 4.381096,\n",
        "    u'name': u'ULB Campus Solbosch',\n",
        "    u'repinned': False}},\n",
        "  {u'created': 1405479989000,\n",
        "   u'event': {u'event_url': u'http://www.meetup.com/OpenTechSchool-Brussels/events/194806872/',\n",
        "    u'id': u'194806872',\n",
        "    u'name': u'Learn Data analysis with IPython Notebook and Pandas',\n",
        "    u'time': 1409072400000},\n",
        "   u'group': {u'group_lat': 50.83000183105469,\n",
        "    u'group_lon': 4.329999923706055,\n",
        "    u'id': 9462812,\n",
        "    u'join_mode': u'open',\n",
        "    u'urlname': u'OpenTechSchool-Brussels'},\n",
        "   u'guests': 0,\n",
        "   u'member': {u'member_id': 156627092, u'name': u'Said'},\n",
        "   u'mtime': 1405479989000,\n",
        "   u'response': u'yes',\n",
        "   u'rsvp_id': 1357042552,\n",
        "   u'venue': {u'address_1': u'50, Avenue Franklin D. Roosevelt 1050 Bruxelles',\n",
        "    u'city': u'Brussels',\n",
        "    u'country': u'be',\n",
        "    u'id': 16728772,\n",
        "    u'lat': 50.811989,\n",
        "    u'lon': 4.381096,\n",
        "    u'name': u'ULB Campus Solbosch',\n",
        "    u'repinned': False}},\n",
        "  {u'created': 1408607549000,\n",
        "   u'event': {u'event_url': u'http://www.meetup.com/OpenTechSchool-Brussels/events/194806872/',\n",
        "    u'id': u'194806872',\n",
        "    u'name': u'Learn Data analysis with IPython Notebook and Pandas',\n",
        "    u'time': 1409072400000},\n",
        "   u'group': {u'group_lat': 50.83000183105469,\n",
        "    u'group_lon': 4.329999923706055,\n",
        "    u'id': 9462812,\n",
        "    u'join_mode': u'open',\n",
        "    u'urlname': u'OpenTechSchool-Brussels'},\n",
        "   u'guests': 0,\n",
        "   u'member': {u'member_id': 65711592, u'name': u'Frederic Vandaele'},\n",
        "   u'member_photo': {u'highres_link': u'http://photos1.meetupstatic.com/photos/member/d/1/9/e/highres_199133662.jpeg',\n",
        "    u'photo_id': 199133662,\n",
        "    u'photo_link': u'http://photos3.meetupstatic.com/photos/member/d/1/9/e/member_199133662.jpeg',\n",
        "    u'thumb_link': u'http://photos1.meetupstatic.com/photos/member/d/1/9/e/thumb_199133662.jpeg'},\n",
        "   u'mtime': 1408607549000,\n",
        "   u'response': u'no',\n",
        "   u'rsvp_id': 1407112832,\n",
        "   u'venue': {u'address_1': u'50, Avenue Franklin D. Roosevelt 1050 Bruxelles',\n",
        "    u'city': u'Brussels',\n",
        "    u'country': u'be',\n",
        "    u'id': 16728772,\n",
        "    u'lat': 50.811989,\n",
        "    u'lon': 4.381096,\n",
        "    u'name': u'ULB Campus Solbosch',\n",
        "    u'repinned': False}},\n",
        "  {u'created': 1408636360000,\n",
        "   u'event': {u'event_url': u'http://www.meetup.com/OpenTechSchool-Brussels/events/194806872/',\n",
        "    u'id': u'194806872',\n",
        "    u'name': u'Learn Data analysis with IPython Notebook and Pandas',\n",
        "    u'time': 1409072400000},\n",
        "   u'group': {u'group_lat': 50.83000183105469,\n",
        "    u'group_lon': 4.329999923706055,\n",
        "    u'id': 9462812,\n",
        "    u'join_mode': u'open',\n",
        "    u'urlname': u'OpenTechSchool-Brussels'},\n",
        "   u'guests': 0,\n",
        "   u'member': {u'member_id': 140192532, u'name': u'Robert Johnston'},\n",
        "   u'mtime': 1408636360000,\n",
        "   u'response': u'yes',\n",
        "   u'rsvp_id': 1407497352,\n",
        "   u'venue': {u'address_1': u'50, Avenue Franklin D. Roosevelt 1050 Bruxelles',\n",
        "    u'city': u'Brussels',\n",
        "    u'country': u'be',\n",
        "    u'id': 16728772,\n",
        "    u'lat': 50.811989,\n",
        "    u'lon': 4.381096,\n",
        "    u'name': u'ULB Campus Solbosch',\n",
        "    u'repinned': False}},\n",
        "  {u'created': 1406105557000,\n",
        "   u'event': {u'event_url': u'http://www.meetup.com/OpenTechSchool-Brussels/events/194806872/',\n",
        "    u'id': u'194806872',\n",
        "    u'name': u'Learn Data analysis with IPython Notebook and Pandas',\n",
        "    u'time': 1409072400000},\n",
        "   u'group': {u'group_lat': 50.83000183105469,\n",
        "    u'group_lon': 4.329999923706055,\n",
        "    u'id': 9462812,\n",
        "    u'join_mode': u'open',\n",
        "    u'urlname': u'OpenTechSchool-Brussels'},\n",
        "   u'guests': 0,\n",
        "   u'member': {u'member_id': 152890942, u'name': u'Martijn theuwissen'},\n",
        "   u'member_photo': {u'highres_link': u'http://photos3.meetupstatic.com/photos/member/d/6/1/2/highres_206334802.jpeg',\n",
        "    u'photo_id': 206334802,\n",
        "    u'photo_link': u'http://photos1.meetupstatic.com/photos/member/d/6/1/2/member_206334802.jpeg',\n",
        "    u'thumb_link': u'http://photos3.meetupstatic.com/photos/member/d/6/1/2/thumb_206334802.jpeg'},\n",
        "   u'mtime': 1406105557000,\n",
        "   u'response': u'yes',\n",
        "   u'rsvp_id': 1366873482,\n",
        "   u'venue': {u'address_1': u'50, Avenue Franklin D. Roosevelt 1050 Bruxelles',\n",
        "    u'city': u'Brussels',\n",
        "    u'country': u'be',\n",
        "    u'id': 16728772,\n",
        "    u'lat': 50.811989,\n",
        "    u'lon': 4.381096,\n",
        "    u'name': u'ULB Campus Solbosch',\n",
        "    u'repinned': False}},\n",
        "  {u'created': 1408609444000,\n",
        "   u'event': {u'event_url': u'http://www.meetup.com/OpenTechSchool-Brussels/events/194806872/',\n",
        "    u'id': u'194806872',\n",
        "    u'name': u'Learn Data analysis with IPython Notebook and Pandas',\n",
        "    u'time': 1409072400000},\n",
        "   u'group': {u'group_lat': 50.83000183105469,\n",
        "    u'group_lon': 4.329999923706055,\n",
        "    u'id': 9462812,\n",
        "    u'join_mode': u'open',\n",
        "    u'urlname': u'OpenTechSchool-Brussels'},\n",
        "   u'guests': 0,\n",
        "   u'member': {u'member_id': 68734492, u'name': u'Raph Huys'},\n",
        "   u'member_photo': {u'highres_link': u'http://photos4.meetupstatic.com/photos/member/7/d/2/highres_80822002.jpeg',\n",
        "    u'photo_id': 80822002,\n",
        "    u'photo_link': u'http://photos2.meetupstatic.com/photos/member/7/d/2/member_80822002.jpeg',\n",
        "    u'thumb_link': u'http://photos2.meetupstatic.com/photos/member/7/d/2/thumb_80822002.jpeg'},\n",
        "   u'mtime': 1408609444000,\n",
        "   u'response': u'yes',\n",
        "   u'rsvp_id': 1407125392,\n",
        "   u'venue': {u'address_1': u'50, Avenue Franklin D. Roosevelt 1050 Bruxelles',\n",
        "    u'city': u'Brussels',\n",
        "    u'country': u'be',\n",
        "    u'id': 16728772,\n",
        "    u'lat': 50.811989,\n",
        "    u'lon': 4.381096,\n",
        "    u'name': u'ULB Campus Solbosch',\n",
        "    u'repinned': False}},\n",
        "  {u'created': 1408633578000,\n",
        "   u'event': {u'event_url': u'http://www.meetup.com/OpenTechSchool-Brussels/events/194806872/',\n",
        "    u'id': u'194806872',\n",
        "    u'name': u'Learn Data analysis with IPython Notebook and Pandas',\n",
        "    u'time': 1409072400000},\n",
        "   u'group': {u'group_lat': 50.83000183105469,\n",
        "    u'group_lon': 4.329999923706055,\n",
        "    u'id': 9462812,\n",
        "    u'join_mode': u'open',\n",
        "    u'urlname': u'OpenTechSchool-Brussels'},\n",
        "   u'guests': 0,\n",
        "   u'member': {u'member_id': 140547792, u'name': u'Yann'},\n",
        "   u'member_photo': {u'highres_link': u'http://photos3.meetupstatic.com/photos/member/6/9/6/6/highres_191066982.jpeg',\n",
        "    u'photo_id': 191066982,\n",
        "    u'photo_link': u'http://photos1.meetupstatic.com/photos/member/6/9/6/6/member_191066982.jpeg',\n",
        "    u'thumb_link': u'http://photos3.meetupstatic.com/photos/member/6/9/6/6/thumb_191066982.jpeg'},\n",
        "   u'mtime': 1408633578000,\n",
        "   u'response': u'yes',\n",
        "   u'rsvp_id': 1407439252,\n",
        "   u'venue': {u'address_1': u'50, Avenue Franklin D. Roosevelt 1050 Bruxelles',\n",
        "    u'city': u'Brussels',\n",
        "    u'country': u'be',\n",
        "    u'id': 16728772,\n",
        "    u'lat': 50.811989,\n",
        "    u'lon': 4.381096,\n",
        "    u'name': u'ULB Campus Solbosch',\n",
        "    u'repinned': False}},\n",
        "  {u'created': 1408567389000,\n",
        "   u'event': {u'event_url': u'http://www.meetup.com/OpenTechSchool-Brussels/events/194806872/',\n",
        "    u'id': u'194806872',\n",
        "    u'name': u'Learn Data analysis with IPython Notebook and Pandas',\n",
        "    u'time': 1409072400000},\n",
        "   u'group': {u'group_lat': 50.83000183105469,\n",
        "    u'group_lon': 4.329999923706055,\n",
        "    u'id': 9462812,\n",
        "    u'join_mode': u'open',\n",
        "    u'urlname': u'OpenTechSchool-Brussels'},\n",
        "   u'guests': 0,\n",
        "   u'member': {u'member_id': 109289402, u'name': u'Daniel'},\n",
        "   u'member_photo': {u'photo_id': 143516992,\n",
        "    u'photo_link': u'http://photos4.meetupstatic.com/photos/member/d/e/a/0/member_143516992.jpeg',\n",
        "    u'thumb_link': u'http://photos4.meetupstatic.com/photos/member/d/e/a/0/thumb_143516992.jpeg'},\n",
        "   u'mtime': 1408567389000,\n",
        "   u'response': u'yes',\n",
        "   u'rsvp_id': 1406410142,\n",
        "   u'venue': {u'address_1': u'50, Avenue Franklin D. Roosevelt 1050 Bruxelles',\n",
        "    u'city': u'Brussels',\n",
        "    u'country': u'be',\n",
        "    u'id': 16728772,\n",
        "    u'lat': 50.811989,\n",
        "    u'lon': 4.381096,\n",
        "    u'name': u'ULB Campus Solbosch',\n",
        "    u'repinned': False}},\n",
        "  {u'created': 1405979488000,\n",
        "   u'event': {u'event_url': u'http://www.meetup.com/OpenTechSchool-Brussels/events/194806872/',\n",
        "    u'id': u'194806872',\n",
        "    u'name': u'Learn Data analysis with IPython Notebook and Pandas',\n",
        "    u'time': 1409072400000},\n",
        "   u'group': {u'group_lat': 50.83000183105469,\n",
        "    u'group_lon': 4.329999923706055,\n",
        "    u'id': 9462812,\n",
        "    u'join_mode': u'open',\n",
        "    u'urlname': u'OpenTechSchool-Brussels'},\n",
        "   u'guests': 0,\n",
        "   u'member': {u'member_id': 36264742, u'name': u'Jonathan Cornelissen'},\n",
        "   u'member_photo': {u'photo_id': 71237262,\n",
        "    u'photo_link': u'http://photos2.meetupstatic.com/photos/member/4/3/6/e/member_71237262.jpeg',\n",
        "    u'thumb_link': u'http://photos4.meetupstatic.com/photos/member/4/3/6/e/thumb_71237262.jpeg'},\n",
        "   u'mtime': 1405979488000,\n",
        "   u'response': u'yes',\n",
        "   u'rsvp_id': 1364783012,\n",
        "   u'venue': {u'address_1': u'50, Avenue Franklin D. Roosevelt 1050 Bruxelles',\n",
        "    u'city': u'Brussels',\n",
        "    u'country': u'be',\n",
        "    u'id': 16728772,\n",
        "    u'lat': 50.811989,\n",
        "    u'lon': 4.381096,\n",
        "    u'name': u'ULB Campus Solbosch',\n",
        "    u'repinned': False}},\n",
        "  {u'created': 1407335945000,\n",
        "   u'event': {u'event_url': u'http://www.meetup.com/OpenTechSchool-Brussels/events/194806872/',\n",
        "    u'id': u'194806872',\n",
        "    u'name': u'Learn Data analysis with IPython Notebook and Pandas',\n",
        "    u'time': 1409072400000},\n",
        "   u'group': {u'group_lat': 50.83000183105469,\n",
        "    u'group_lon': 4.329999923706055,\n",
        "    u'id': 9462812,\n",
        "    u'join_mode': u'open',\n",
        "    u'urlname': u'OpenTechSchool-Brussels'},\n",
        "   u'guests': 1,\n",
        "   u'member': {u'member_id': 70763662, u'name': u'meli'},\n",
        "   u'member_photo': {u'highres_link': u'http://photos1.meetupstatic.com/photos/member/d/b/3/a/highres_83876122.jpeg',\n",
        "    u'photo_id': 83876122,\n",
        "    u'photo_link': u'http://photos1.meetupstatic.com/photos/member/d/b/3/a/member_83876122.jpeg',\n",
        "    u'thumb_link': u'http://photos1.meetupstatic.com/photos/member/d/b/3/a/thumb_83876122.jpeg'},\n",
        "   u'mtime': 1407335949000,\n",
        "   u'response': u'yes',\n",
        "   u'rsvp_id': 1386344872,\n",
        "   u'venue': {u'address_1': u'50, Avenue Franklin D. Roosevelt 1050 Bruxelles',\n",
        "    u'city': u'Brussels',\n",
        "    u'country': u'be',\n",
        "    u'id': 16728772,\n",
        "    u'lat': 50.811989,\n",
        "    u'lon': 4.381096,\n",
        "    u'name': u'ULB Campus Solbosch',\n",
        "    u'repinned': False}},\n",
        "  {u'created': 1408539790000,\n",
        "   u'event': {u'event_url': u'http://www.meetup.com/OpenTechSchool-Brussels/events/194806872/',\n",
        "    u'id': u'194806872',\n",
        "    u'name': u'Learn Data analysis with IPython Notebook and Pandas',\n",
        "    u'time': 1409072400000},\n",
        "   u'group': {u'group_lat': 50.83000183105469,\n",
        "    u'group_lon': 4.329999923706055,\n",
        "    u'id': 9462812,\n",
        "    u'join_mode': u'open',\n",
        "    u'urlname': u'OpenTechSchool-Brussels'},\n",
        "   u'guests': 0,\n",
        "   u'member': {u'member_id': 142885382, u'name': u'Satblip'},\n",
        "   u'member_photo': {u'highres_link': u'http://photos3.meetupstatic.com/photos/member/2/e/4/c/highres_192071852.jpeg',\n",
        "    u'photo_id': 192071852,\n",
        "    u'photo_link': u'http://photos3.meetupstatic.com/photos/member/2/e/4/c/member_192071852.jpeg',\n",
        "    u'thumb_link': u'http://photos3.meetupstatic.com/photos/member/2/e/4/c/thumb_192071852.jpeg'},\n",
        "   u'mtime': 1408539790000,\n",
        "   u'response': u'yes',\n",
        "   u'rsvp_id': 1405793712,\n",
        "   u'venue': {u'address_1': u'50, Avenue Franklin D. Roosevelt 1050 Bruxelles',\n",
        "    u'city': u'Brussels',\n",
        "    u'country': u'be',\n",
        "    u'id': 16728772,\n",
        "    u'lat': 50.811989,\n",
        "    u'lon': 4.381096,\n",
        "    u'name': u'ULB Campus Solbosch',\n",
        "    u'repinned': False}},\n",
        "  {u'created': 1406387340000,\n",
        "   u'event': {u'event_url': u'http://www.meetup.com/OpenTechSchool-Brussels/events/194806872/',\n",
        "    u'id': u'194806872',\n",
        "    u'name': u'Learn Data analysis with IPython Notebook and Pandas',\n",
        "    u'time': 1409072400000},\n",
        "   u'group': {u'group_lat': 50.83000183105469,\n",
        "    u'group_lon': 4.329999923706055,\n",
        "    u'id': 9462812,\n",
        "    u'join_mode': u'open',\n",
        "    u'urlname': u'OpenTechSchool-Brussels'},\n",
        "   u'guests': 0,\n",
        "   u'member': {u'member_id': 117801852, u'name': u'an'},\n",
        "   u'member_photo': {u'highres_link': u'http://photos3.meetupstatic.com/photos/member/b/1/4/6/highres_212325382.jpeg',\n",
        "    u'photo_id': 212325382,\n",
        "    u'photo_link': u'http://photos1.meetupstatic.com/photos/member/b/1/4/6/member_212325382.jpeg',\n",
        "    u'thumb_link': u'http://photos3.meetupstatic.com/photos/member/b/1/4/6/thumb_212325382.jpeg'},\n",
        "   u'mtime': 1406387340000,\n",
        "   u'response': u'yes',\n",
        "   u'rsvp_id': 1371169202,\n",
        "   u'venue': {u'address_1': u'50, Avenue Franklin D. Roosevelt 1050 Bruxelles',\n",
        "    u'city': u'Brussels',\n",
        "    u'country': u'be',\n",
        "    u'id': 16728772,\n",
        "    u'lat': 50.811989,\n",
        "    u'lon': 4.381096,\n",
        "    u'name': u'ULB Campus Solbosch',\n",
        "    u'repinned': False}},\n",
        "  {u'created': 1408734757000,\n",
        "   u'event': {u'event_url': u'http://www.meetup.com/OpenTechSchool-Brussels/events/194806872/',\n",
        "    u'id': u'194806872',\n",
        "    u'name': u'Learn Data analysis with IPython Notebook and Pandas',\n",
        "    u'time': 1409072400000},\n",
        "   u'group': {u'group_lat': 50.83000183105469,\n",
        "    u'group_lon': 4.329999923706055,\n",
        "    u'id': 9462812,\n",
        "    u'join_mode': u'open',\n",
        "    u'urlname': u'OpenTechSchool-Brussels'},\n",
        "   u'guests': 0,\n",
        "   u'member': {u'member_id': 58989822, u'name': u'Kate'},\n",
        "   u'member_photo': {u'highres_link': u'http://photos3.meetupstatic.com/photos/member/5/5/d/4/highres_68241972.jpeg',\n",
        "    u'photo_id': 68241972,\n",
        "    u'photo_link': u'http://photos3.meetupstatic.com/photos/member/5/5/d/4/member_68241972.jpeg',\n",
        "    u'thumb_link': u'http://photos3.meetupstatic.com/photos/member/5/5/d/4/thumb_68241972.jpeg'},\n",
        "   u'mtime': 1408734757000,\n",
        "   u'response': u'yes',\n",
        "   u'rsvp_id': 1409209012,\n",
        "   u'venue': {u'address_1': u'50, Avenue Franklin D. Roosevelt 1050 Bruxelles',\n",
        "    u'city': u'Brussels',\n",
        "    u'country': u'be',\n",
        "    u'id': 16728772,\n",
        "    u'lat': 50.811989,\n",
        "    u'lon': 4.381096,\n",
        "    u'name': u'ULB Campus Solbosch',\n",
        "    u'repinned': False}},\n",
        "  {u'created': 1406731615000,\n",
        "   u'event': {u'event_url': u'http://www.meetup.com/OpenTechSchool-Brussels/events/194806872/',\n",
        "    u'id': u'194806872',\n",
        "    u'name': u'Learn Data analysis with IPython Notebook and Pandas',\n",
        "    u'time': 1409072400000},\n",
        "   u'group': {u'group_lat': 50.83000183105469,\n",
        "    u'group_lon': 4.329999923706055,\n",
        "    u'id': 9462812,\n",
        "    u'join_mode': u'open',\n",
        "    u'urlname': u'OpenTechSchool-Brussels'},\n",
        "   u'guests': 0,\n",
        "   u'member': {u'member_id': 123222982, u'name': u'BoNo'},\n",
        "   u'member_photo': {u'highres_link': u'http://photos2.meetupstatic.com/photos/member/b/c/2/2/highres_214908162.jpeg',\n",
        "    u'photo_id': 214908162,\n",
        "    u'photo_link': u'http://photos4.meetupstatic.com/photos/member/b/c/2/2/member_214908162.jpeg',\n",
        "    u'thumb_link': u'http://photos4.meetupstatic.com/photos/member/b/c/2/2/thumb_214908162.jpeg'},\n",
        "   u'mtime': 1406731615000,\n",
        "   u'response': u'yes',\n",
        "   u'rsvp_id': 1376629692,\n",
        "   u'venue': {u'address_1': u'50, Avenue Franklin D. Roosevelt 1050 Bruxelles',\n",
        "    u'city': u'Brussels',\n",
        "    u'country': u'be',\n",
        "    u'id': 16728772,\n",
        "    u'lat': 50.811989,\n",
        "    u'lon': 4.381096,\n",
        "    u'name': u'ULB Campus Solbosch',\n",
        "    u'repinned': False}},\n",
        "  {u'created': 1405406796000,\n",
        "   u'event': {u'event_url': u'http://www.meetup.com/OpenTechSchool-Brussels/events/194806872/',\n",
        "    u'id': u'194806872',\n",
        "    u'name': u'Learn Data analysis with IPython Notebook and Pandas',\n",
        "    u'time': 1409072400000},\n",
        "   u'group': {u'group_lat': 50.83000183105469,\n",
        "    u'group_lon': 4.329999923706055,\n",
        "    u'id': 9462812,\n",
        "    u'join_mode': u'open',\n",
        "    u'urlname': u'OpenTechSchool-Brussels'},\n",
        "   u'guests': 0,\n",
        "   u'member': {u'member_id': 88244022, u'name': u'Quentin Mathoux'},\n",
        "   u'member_photo': {u'highres_link': u'http://photos4.meetupstatic.com/photos/member/b/c/3/6/highres_113868182.jpeg',\n",
        "    u'photo_id': 113868182,\n",
        "    u'photo_link': u'http://photos2.meetupstatic.com/photos/member/b/c/3/6/member_113868182.jpeg',\n",
        "    u'thumb_link': u'http://photos2.meetupstatic.com/photos/member/b/c/3/6/thumb_113868182.jpeg'},\n",
        "   u'mtime': 1405406796000,\n",
        "   u'response': u'yes',\n",
        "   u'rsvp_id': 1355735742,\n",
        "   u'venue': {u'address_1': u'50, Avenue Franklin D. Roosevelt 1050 Bruxelles',\n",
        "    u'city': u'Brussels',\n",
        "    u'country': u'be',\n",
        "    u'id': 16728772,\n",
        "    u'lat': 50.811989,\n",
        "    u'lon': 4.381096,\n",
        "    u'name': u'ULB Campus Solbosch',\n",
        "    u'repinned': False}},\n",
        "  {u'created': 1408287707000,\n",
        "   u'event': {u'event_url': u'http://www.meetup.com/OpenTechSchool-Brussels/events/194806872/',\n",
        "    u'id': u'194806872',\n",
        "    u'name': u'Learn Data analysis with IPython Notebook and Pandas',\n",
        "    u'time': 1409072400000},\n",
        "   u'group': {u'group_lat': 50.83000183105469,\n",
        "    u'group_lon': 4.329999923706055,\n",
        "    u'id': 9462812,\n",
        "    u'join_mode': u'open',\n",
        "    u'urlname': u'OpenTechSchool-Brussels'},\n",
        "   u'guests': 0,\n",
        "   u'member': {u'member_id': 41396522, u'name': u'Michael Murtaugh'},\n",
        "   u'member_photo': {u'highres_link': u'http://photos1.meetupstatic.com/photos/member/9/c/7/e/highres_45640062.jpeg',\n",
        "    u'photo_id': 45640062,\n",
        "    u'photo_link': u'http://photos1.meetupstatic.com/photos/member/9/c/7/e/member_45640062.jpeg',\n",
        "    u'thumb_link': u'http://photos1.meetupstatic.com/photos/member/9/c/7/e/thumb_45640062.jpeg'},\n",
        "   u'mtime': 1408287707000,\n",
        "   u'response': u'yes',\n",
        "   u'rsvp_id': 1401390022,\n",
        "   u'venue': {u'address_1': u'50, Avenue Franklin D. Roosevelt 1050 Bruxelles',\n",
        "    u'city': u'Brussels',\n",
        "    u'country': u'be',\n",
        "    u'id': 16728772,\n",
        "    u'lat': 50.811989,\n",
        "    u'lon': 4.381096,\n",
        "    u'name': u'ULB Campus Solbosch',\n",
        "    u'repinned': False}},\n",
        "  {u'created': 1405542594000,\n",
        "   u'event': {u'event_url': u'http://www.meetup.com/OpenTechSchool-Brussels/events/194806872/',\n",
        "    u'id': u'194806872',\n",
        "    u'name': u'Learn Data analysis with IPython Notebook and Pandas',\n",
        "    u'time': 1409072400000},\n",
        "   u'group': {u'group_lat': 50.83000183105469,\n",
        "    u'group_lon': 4.329999923706055,\n",
        "    u'id': 9462812,\n",
        "    u'join_mode': u'open',\n",
        "    u'urlname': u'OpenTechSchool-Brussels'},\n",
        "   u'guests': 0,\n",
        "   u'member': {u'member_id': 130617332, u'name': u'Victor Rodrigues'},\n",
        "   u'member_photo': {u'photo_id': 173742262,\n",
        "    u'photo_link': u'http://photos1.meetupstatic.com/photos/member/a/5/1/6/member_173742262.jpeg',\n",
        "    u'thumb_link': u'http://photos3.meetupstatic.com/photos/member/a/5/1/6/thumb_173742262.jpeg'},\n",
        "   u'mtime': 1405542605000,\n",
        "   u'response': u'no',\n",
        "   u'rsvp_id': 1358009542,\n",
        "   u'venue': {u'address_1': u'50, Avenue Franklin D. Roosevelt 1050 Bruxelles',\n",
        "    u'city': u'Brussels',\n",
        "    u'country': u'be',\n",
        "    u'id': 16728772,\n",
        "    u'lat': 50.811989,\n",
        "    u'lon': 4.381096,\n",
        "    u'name': u'ULB Campus Solbosch',\n",
        "    u'repinned': False}},\n",
        "  {u'created': 1408296828000,\n",
        "   u'event': {u'event_url': u'http://www.meetup.com/OpenTechSchool-Brussels/events/194806872/',\n",
        "    u'id': u'194806872',\n",
        "    u'name': u'Learn Data analysis with IPython Notebook and Pandas',\n",
        "    u'time': 1409072400000},\n",
        "   u'group': {u'group_lat': 50.83000183105469,\n",
        "    u'group_lon': 4.329999923706055,\n",
        "    u'id': 9462812,\n",
        "    u'join_mode': u'open',\n",
        "    u'urlname': u'OpenTechSchool-Brussels'},\n",
        "   u'guests': 0,\n",
        "   u'member': {u'member_id': 160220632, u'name': u'David Clijsters'},\n",
        "   u'member_photo': {u'highres_link': u'http://photos4.meetupstatic.com/photos/member/1/7/e/highres_216600382.jpeg',\n",
        "    u'photo_id': 216600382,\n",
        "    u'photo_link': u'http://photos2.meetupstatic.com/photos/member/1/7/e/member_216600382.jpeg',\n",
        "    u'thumb_link': u'http://photos4.meetupstatic.com/photos/member/1/7/e/thumb_216600382.jpeg'},\n",
        "   u'mtime': 1408296828000,\n",
        "   u'response': u'yes',\n",
        "   u'rsvp_id': 1401557962,\n",
        "   u'venue': {u'address_1': u'50, Avenue Franklin D. Roosevelt 1050 Bruxelles',\n",
        "    u'city': u'Brussels',\n",
        "    u'country': u'be',\n",
        "    u'id': 16728772,\n",
        "    u'lat': 50.811989,\n",
        "    u'lon': 4.381096,\n",
        "    u'name': u'ULB Campus Solbosch',\n",
        "    u'repinned': False}},\n",
        "  {u'created': 1408872509000,\n",
        "   u'event': {u'event_url': u'http://www.meetup.com/OpenTechSchool-Brussels/events/194806872/',\n",
        "    u'id': u'194806872',\n",
        "    u'name': u'Learn Data analysis with IPython Notebook and Pandas',\n",
        "    u'time': 1409072400000},\n",
        "   u'group': {u'group_lat': 50.83000183105469,\n",
        "    u'group_lon': 4.329999923706055,\n",
        "    u'id': 9462812,\n",
        "    u'join_mode': u'open',\n",
        "    u'urlname': u'OpenTechSchool-Brussels'},\n",
        "   u'guests': 0,\n",
        "   u'member': {u'member_id': 15911411, u'name': u'Thomas Burette'},\n",
        "   u'member_photo': {u'highres_link': u'http://photos2.meetupstatic.com/photos/member/3/c/9/7/highres_21855511.jpeg',\n",
        "    u'photo_id': 21855511,\n",
        "    u'photo_link': u'http://photos4.meetupstatic.com/photos/member/3/c/9/7/member_21855511.jpeg',\n",
        "    u'thumb_link': u'http://photos2.meetupstatic.com/photos/member/3/c/9/7/thumb_21855511.jpeg'},\n",
        "   u'mtime': 1408872509000,\n",
        "   u'response': u'yes',\n",
        "   u'rsvp_id': 1411008212,\n",
        "   u'venue': {u'address_1': u'50, Avenue Franklin D. Roosevelt 1050 Bruxelles',\n",
        "    u'city': u'Brussels',\n",
        "    u'country': u'be',\n",
        "    u'id': 16728772,\n",
        "    u'lat': 50.811989,\n",
        "    u'lon': 4.381096,\n",
        "    u'name': u'ULB Campus Solbosch',\n",
        "    u'repinned': False}},\n",
        "  {u'created': 1405343124000,\n",
        "   u'event': {u'event_url': u'http://www.meetup.com/OpenTechSchool-Brussels/events/194806872/',\n",
        "    u'id': u'194806872',\n",
        "    u'name': u'Learn Data analysis with IPython Notebook and Pandas',\n",
        "    u'time': 1409072400000},\n",
        "   u'group': {u'group_lat': 50.83000183105469,\n",
        "    u'group_lon': 4.329999923706055,\n",
        "    u'id': 9462812,\n",
        "    u'join_mode': u'open',\n",
        "    u'urlname': u'OpenTechSchool-Brussels'},\n",
        "   u'guests': 0,\n",
        "   u'member': {u'member_id': 14283231, u'name': u'Steve'},\n",
        "   u'member_photo': {u'highres_link': u'http://photos4.meetupstatic.com/photos/member/9/b/1/6/highres_148899702.jpeg',\n",
        "    u'photo_id': 148899702,\n",
        "    u'photo_link': u'http://photos2.meetupstatic.com/photos/member/9/b/1/6/member_148899702.jpeg',\n",
        "    u'thumb_link': u'http://photos2.meetupstatic.com/photos/member/9/b/1/6/thumb_148899702.jpeg'},\n",
        "   u'mtime': 1405343124000,\n",
        "   u'response': u'yes',\n",
        "   u'rsvp_id': 1354298072,\n",
        "   u'venue': {u'address_1': u'50, Avenue Franklin D. Roosevelt 1050 Bruxelles',\n",
        "    u'city': u'Brussels',\n",
        "    u'country': u'be',\n",
        "    u'id': 16728772,\n",
        "    u'lat': 50.811989,\n",
        "    u'lon': 4.381096,\n",
        "    u'name': u'ULB Campus Solbosch',\n",
        "    u'repinned': False}},\n",
        "  {u'created': 1408345170000,\n",
        "   u'event': {u'event_url': u'http://www.meetup.com/OpenTechSchool-Brussels/events/194806872/',\n",
        "    u'id': u'194806872',\n",
        "    u'name': u'Learn Data analysis with IPython Notebook and Pandas',\n",
        "    u'time': 1409072400000},\n",
        "   u'group': {u'group_lat': 50.83000183105469,\n",
        "    u'group_lon': 4.329999923706055,\n",
        "    u'id': 9462812,\n",
        "    u'join_mode': u'open',\n",
        "    u'urlname': u'OpenTechSchool-Brussels'},\n",
        "   u'guests': 0,\n",
        "   u'member': {u'member_id': 57293552, u'name': u'Kris Peeters'},\n",
        "   u'member_photo': {u'photo_id': 187609362,\n",
        "    u'photo_link': u'http://photos3.meetupstatic.com/photos/member/c/0/d/2/member_187609362.jpeg',\n",
        "    u'thumb_link': u'http://photos1.meetupstatic.com/photos/member/c/0/d/2/thumb_187609362.jpeg'},\n",
        "   u'mtime': 1408345170000,\n",
        "   u'response': u'yes',\n",
        "   u'rsvp_id': 1402374882,\n",
        "   u'venue': {u'address_1': u'50, Avenue Franklin D. Roosevelt 1050 Bruxelles',\n",
        "    u'city': u'Brussels',\n",
        "    u'country': u'be',\n",
        "    u'id': 16728772,\n",
        "    u'lat': 50.811989,\n",
        "    u'lon': 4.381096,\n",
        "    u'name': u'ULB Campus Solbosch',\n",
        "    u'repinned': False}},\n",
        "  {u'created': 1407686959000,\n",
        "   u'event': {u'event_url': u'http://www.meetup.com/OpenTechSchool-Brussels/events/194806872/',\n",
        "    u'id': u'194806872',\n",
        "    u'name': u'Learn Data analysis with IPython Notebook and Pandas',\n",
        "    u'time': 1409072400000},\n",
        "   u'group': {u'group_lat': 50.83000183105469,\n",
        "    u'group_lon': 4.329999923706055,\n",
        "    u'id': 9462812,\n",
        "    u'join_mode': u'open',\n",
        "    u'urlname': u'OpenTechSchool-Brussels'},\n",
        "   u'guests': 0,\n",
        "   u'member': {u'member_id': 138303562, u'name': u'Dylan Soubien'},\n",
        "   u'member_photo': {u'highres_link': u'http://photos3.meetupstatic.com/photos/member/4/4/9/a/highres_185237562.jpeg',\n",
        "    u'photo_id': 185237562,\n",
        "    u'photo_link': u'http://photos3.meetupstatic.com/photos/member/4/4/9/a/member_185237562.jpeg',\n",
        "    u'thumb_link': u'http://photos3.meetupstatic.com/photos/member/4/4/9/a/thumb_185237562.jpeg'},\n",
        "   u'mtime': 1407686959000,\n",
        "   u'response': u'no',\n",
        "   u'rsvp_id': 1391751912,\n",
        "   u'venue': {u'address_1': u'50, Avenue Franklin D. Roosevelt 1050 Bruxelles',\n",
        "    u'city': u'Brussels',\n",
        "    u'country': u'be',\n",
        "    u'id': 16728772,\n",
        "    u'lat': 50.811989,\n",
        "    u'lon': 4.381096,\n",
        "    u'name': u'ULB Campus Solbosch',\n",
        "    u'repinned': False}},\n",
        "  {u'created': 1405346392000,\n",
        "   u'event': {u'event_url': u'http://www.meetup.com/OpenTechSchool-Brussels/events/194806872/',\n",
        "    u'id': u'194806872',\n",
        "    u'name': u'Learn Data analysis with IPython Notebook and Pandas',\n",
        "    u'time': 1409072400000},\n",
        "   u'group': {u'group_lat': 50.83000183105469,\n",
        "    u'group_lon': 4.329999923706055,\n",
        "    u'id': 9462812,\n",
        "    u'join_mode': u'open',\n",
        "    u'urlname': u'OpenTechSchool-Brussels'},\n",
        "   u'guests': 0,\n",
        "   u'member': {u'member_id': 137883082, u'name': u'Ludo'},\n",
        "   u'mtime': 1405346392000,\n",
        "   u'response': u'yes',\n",
        "   u'rsvp_id': 1354372332,\n",
        "   u'venue': {u'address_1': u'50, Avenue Franklin D. Roosevelt 1050 Bruxelles',\n",
        "    u'city': u'Brussels',\n",
        "    u'country': u'be',\n",
        "    u'id': 16728772,\n",
        "    u'lat': 50.811989,\n",
        "    u'lon': 4.381096,\n",
        "    u'name': u'ULB Campus Solbosch',\n",
        "    u'repinned': False}},\n",
        "  {u'created': 1408798584000,\n",
        "   u'event': {u'event_url': u'http://www.meetup.com/OpenTechSchool-Brussels/events/194806872/',\n",
        "    u'id': u'194806872',\n",
        "    u'name': u'Learn Data analysis with IPython Notebook and Pandas',\n",
        "    u'time': 1409072400000},\n",
        "   u'group': {u'group_lat': 50.83000183105469,\n",
        "    u'group_lon': 4.329999923706055,\n",
        "    u'id': 9462812,\n",
        "    u'join_mode': u'open',\n",
        "    u'urlname': u'OpenTechSchool-Brussels'},\n",
        "   u'guests': 0,\n",
        "   u'member': {u'member_id': 96707002, u'name': u'Ludovic Aelbrecht'},\n",
        "   u'member_photo': {u'highres_link': u'http://photos1.meetupstatic.com/photos/member/e/3/3/2/highres_123058162.jpeg',\n",
        "    u'photo_id': 123058162,\n",
        "    u'photo_link': u'http://photos3.meetupstatic.com/photos/member/e/3/3/2/member_123058162.jpeg',\n",
        "    u'thumb_link': u'http://photos1.meetupstatic.com/photos/member/e/3/3/2/thumb_123058162.jpeg'},\n",
        "   u'mtime': 1408798584000,\n",
        "   u'response': u'no',\n",
        "   u'rsvp_id': 1410048242,\n",
        "   u'venue': {u'address_1': u'50, Avenue Franklin D. Roosevelt 1050 Bruxelles',\n",
        "    u'city': u'Brussels',\n",
        "    u'country': u'be',\n",
        "    u'id': 16728772,\n",
        "    u'lat': 50.811989,\n",
        "    u'lon': 4.381096,\n",
        "    u'name': u'ULB Campus Solbosch',\n",
        "    u'repinned': False}},\n",
        "  {u'created': 1405345359000,\n",
        "   u'event': {u'event_url': u'http://www.meetup.com/OpenTechSchool-Brussels/events/194806872/',\n",
        "    u'id': u'194806872',\n",
        "    u'name': u'Learn Data analysis with IPython Notebook and Pandas',\n",
        "    u'time': 1409072400000},\n",
        "   u'group': {u'group_lat': 50.83000183105469,\n",
        "    u'group_lon': 4.329999923706055,\n",
        "    u'id': 9462812,\n",
        "    u'join_mode': u'open',\n",
        "    u'urlname': u'OpenTechSchool-Brussels'},\n",
        "   u'guests': 0,\n",
        "   u'member': {u'member_id': 83915892, u'name': u'Matteo Gagliolo'},\n",
        "   u'member_photo': {u'highres_link': u'http://photos1.meetupstatic.com/photos/member/8/e/2/8/highres_102636392.jpeg',\n",
        "    u'photo_id': 102636392,\n",
        "    u'photo_link': u'http://photos3.meetupstatic.com/photos/member/8/e/2/8/member_102636392.jpeg',\n",
        "    u'thumb_link': u'http://photos1.meetupstatic.com/photos/member/8/e/2/8/thumb_102636392.jpeg'},\n",
        "   u'mtime': 1405345359000,\n",
        "   u'response': u'yes',\n",
        "   u'rsvp_id': 1354348532,\n",
        "   u'venue': {u'address_1': u'50, Avenue Franklin D. Roosevelt 1050 Bruxelles',\n",
        "    u'city': u'Brussels',\n",
        "    u'country': u'be',\n",
        "    u'id': 16728772,\n",
        "    u'lat': 50.811989,\n",
        "    u'lon': 4.381096,\n",
        "    u'name': u'ULB Campus Solbosch',\n",
        "    u'repinned': False}},\n",
        "  {u'created': 1407676563000,\n",
        "   u'event': {u'event_url': u'http://www.meetup.com/OpenTechSchool-Brussels/events/194806872/',\n",
        "    u'id': u'194806872',\n",
        "    u'name': u'Learn Data analysis with IPython Notebook and Pandas',\n",
        "    u'time': 1409072400000},\n",
        "   u'group': {u'group_lat': 50.83000183105469,\n",
        "    u'group_lon': 4.329999923706055,\n",
        "    u'id': 9462812,\n",
        "    u'join_mode': u'open',\n",
        "    u'urlname': u'OpenTechSchool-Brussels'},\n",
        "   u'guests': 0,\n",
        "   u'member': {u'member_id': 108897232, u'name': u'Jan Leers'},\n",
        "   u'mtime': 1407676563000,\n",
        "   u'response': u'yes',\n",
        "   u'rsvp_id': 1391581942,\n",
        "   u'venue': {u'address_1': u'50, Avenue Franklin D. Roosevelt 1050 Bruxelles',\n",
        "    u'city': u'Brussels',\n",
        "    u'country': u'be',\n",
        "    u'id': 16728772,\n",
        "    u'lat': 50.811989,\n",
        "    u'lon': 4.381096,\n",
        "    u'name': u'ULB Campus Solbosch',\n",
        "    u'repinned': False}},\n",
        "  {u'created': 1406923153000,\n",
        "   u'event': {u'event_url': u'http://www.meetup.com/OpenTechSchool-Brussels/events/194806872/',\n",
        "    u'id': u'194806872',\n",
        "    u'name': u'Learn Data analysis with IPython Notebook and Pandas',\n",
        "    u'time': 1409072400000},\n",
        "   u'group': {u'group_lat': 50.83000183105469,\n",
        "    u'group_lon': 4.329999923706055,\n",
        "    u'id': 9462812,\n",
        "    u'join_mode': u'open',\n",
        "    u'urlname': u'OpenTechSchool-Brussels'},\n",
        "   u'guests': 0,\n",
        "   u'member': {u'member_id': 159425412, u'name': u'Yennick'},\n",
        "   u'mtime': 1406923153000,\n",
        "   u'response': u'yes',\n",
        "   u'rsvp_id': 1379855612,\n",
        "   u'venue': {u'address_1': u'50, Avenue Franklin D. Roosevelt 1050 Bruxelles',\n",
        "    u'city': u'Brussels',\n",
        "    u'country': u'be',\n",
        "    u'id': 16728772,\n",
        "    u'lat': 50.811989,\n",
        "    u'lon': 4.381096,\n",
        "    u'name': u'ULB Campus Solbosch',\n",
        "    u'repinned': False}}]}"
       ]
      }
     ],
     "prompt_number": 8
    },
    {
     "cell_type": "markdown",
     "metadata": {
      "slideshow": {
       "slide_type": "subslide"
      }
     },
     "source": [
      "## Transformation into a Pandas DataFrame\n",
      "\n",
      "Note that because the source document is hierarchical with a depth greater than one for some fields.\n",
      "\n",
      "Once converted to a DataFrame, the value for these fields will keep its hierarchical structure as a Python dictionnary (display is cropped in the table below)."
     ]
    },
    {
     "cell_type": "code",
     "collapsed": false,
     "input": [
      "rsvps_raw = pandas.DataFrame(results)\n",
      "rsvps_raw.head()  # only prints the top rows of the table"
     ],
     "language": "python",
     "metadata": {},
     "outputs": [
      {
       "html": [
        "<div style=\"max-height:1000px;max-width:1500px;overflow:auto;\">\n",
        "<table border=\"1\" class=\"dataframe\">\n",
        "  <thead>\n",
        "    <tr style=\"text-align: right;\">\n",
        "      <th></th>\n",
        "      <th>created</th>\n",
        "      <th>event</th>\n",
        "      <th>group</th>\n",
        "      <th>guests</th>\n",
        "      <th>member</th>\n",
        "      <th>member_photo</th>\n",
        "      <th>mtime</th>\n",
        "      <th>response</th>\n",
        "      <th>rsvp_id</th>\n",
        "      <th>venue</th>\n",
        "    </tr>\n",
        "  </thead>\n",
        "  <tbody>\n",
        "    <tr>\n",
        "      <th>0</th>\n",
        "      <td> 1405720853000</td>\n",
        "      <td> {u'event_url': u'http://www.meetup.com/OpenTec...</td>\n",
        "      <td> {u'urlname': u'OpenTechSchool-Brussels', u'gro...</td>\n",
        "      <td> 0</td>\n",
        "      <td>     {u'name': u'Ashwyn', u'member_id': 157084892}</td>\n",
        "      <td> {u'thumb_link': u'http://photos1.meetupstatic....</td>\n",
        "      <td> 1405720853000</td>\n",
        "      <td> yes</td>\n",
        "      <td> 1360913672</td>\n",
        "      <td> {u'city': u'Brussels', u'name': u'ULB Campus S...</td>\n",
        "    </tr>\n",
        "    <tr>\n",
        "      <th>1</th>\n",
        "      <td> 1407796732000</td>\n",
        "      <td> {u'event_url': u'http://www.meetup.com/OpenTec...</td>\n",
        "      <td> {u'urlname': u'OpenTechSchool-Brussels', u'gro...</td>\n",
        "      <td> 0</td>\n",
        "      <td>   {u'name': u'emmanuel', u'member_id': 151866892}</td>\n",
        "      <td> {u'thumb_link': u'http://photos1.meetupstatic....</td>\n",
        "      <td> 1407796732000</td>\n",
        "      <td> yes</td>\n",
        "      <td> 1393859082</td>\n",
        "      <td> {u'city': u'Brussels', u'name': u'ULB Campus S...</td>\n",
        "    </tr>\n",
        "    <tr>\n",
        "      <th>2</th>\n",
        "      <td> 1405345565000</td>\n",
        "      <td> {u'event_url': u'http://www.meetup.com/OpenTec...</td>\n",
        "      <td> {u'urlname': u'OpenTechSchool-Brussels', u'gro...</td>\n",
        "      <td> 0</td>\n",
        "      <td> {u'name': u'Antonio Rebordao', u'member_id': 9...</td>\n",
        "      <td> {u'thumb_link': u'http://photos1.meetupstatic....</td>\n",
        "      <td> 1405345565000</td>\n",
        "      <td> yes</td>\n",
        "      <td> 1354353422</td>\n",
        "      <td> {u'city': u'Brussels', u'name': u'ULB Campus S...</td>\n",
        "    </tr>\n",
        "    <tr>\n",
        "      <th>3</th>\n",
        "      <td> 1405440260000</td>\n",
        "      <td> {u'event_url': u'http://www.meetup.com/OpenTec...</td>\n",
        "      <td> {u'urlname': u'OpenTechSchool-Brussels', u'gro...</td>\n",
        "      <td> 0</td>\n",
        "      <td> {u'name': u'jp Alcantara', u'member_id': 13764...</td>\n",
        "      <td>                                               NaN</td>\n",
        "      <td> 1405440260000</td>\n",
        "      <td> yes</td>\n",
        "      <td> 1356172562</td>\n",
        "      <td> {u'city': u'Brussels', u'name': u'ULB Campus S...</td>\n",
        "    </tr>\n",
        "    <tr>\n",
        "      <th>4</th>\n",
        "      <td> 1407103688000</td>\n",
        "      <td> {u'event_url': u'http://www.meetup.com/OpenTec...</td>\n",
        "      <td> {u'urlname': u'OpenTechSchool-Brussels', u'gro...</td>\n",
        "      <td> 0</td>\n",
        "      <td> {u'name': u'Kjell Moens', u'member_id': 88721062}</td>\n",
        "      <td> {u'thumb_link': u'http://photos3.meetupstatic....</td>\n",
        "      <td> 1407103688000</td>\n",
        "      <td> yes</td>\n",
        "      <td> 1382319382</td>\n",
        "      <td> {u'city': u'Brussels', u'name': u'ULB Campus S...</td>\n",
        "    </tr>\n",
        "  </tbody>\n",
        "</table>\n",
        "</div>"
       ],
       "metadata": {},
       "output_type": "pyout",
       "prompt_number": 10,
       "text": [
        "         created                                              event  \\\n",
        "0  1405720853000  {u'event_url': u'http://www.meetup.com/OpenTec...   \n",
        "1  1407796732000  {u'event_url': u'http://www.meetup.com/OpenTec...   \n",
        "2  1405345565000  {u'event_url': u'http://www.meetup.com/OpenTec...   \n",
        "3  1405440260000  {u'event_url': u'http://www.meetup.com/OpenTec...   \n",
        "4  1407103688000  {u'event_url': u'http://www.meetup.com/OpenTec...   \n",
        "\n",
        "                                               group  guests  \\\n",
        "0  {u'urlname': u'OpenTechSchool-Brussels', u'gro...       0   \n",
        "1  {u'urlname': u'OpenTechSchool-Brussels', u'gro...       0   \n",
        "2  {u'urlname': u'OpenTechSchool-Brussels', u'gro...       0   \n",
        "3  {u'urlname': u'OpenTechSchool-Brussels', u'gro...       0   \n",
        "4  {u'urlname': u'OpenTechSchool-Brussels', u'gro...       0   \n",
        "\n",
        "                                              member  \\\n",
        "0      {u'name': u'Ashwyn', u'member_id': 157084892}   \n",
        "1    {u'name': u'emmanuel', u'member_id': 151866892}   \n",
        "2  {u'name': u'Antonio Rebordao', u'member_id': 9...   \n",
        "3  {u'name': u'jp Alcantara', u'member_id': 13764...   \n",
        "4  {u'name': u'Kjell Moens', u'member_id': 88721062}   \n",
        "\n",
        "                                        member_photo          mtime response  \\\n",
        "0  {u'thumb_link': u'http://photos1.meetupstatic....  1405720853000      yes   \n",
        "1  {u'thumb_link': u'http://photos1.meetupstatic....  1407796732000      yes   \n",
        "2  {u'thumb_link': u'http://photos1.meetupstatic....  1405345565000      yes   \n",
        "3                                                NaN  1405440260000      yes   \n",
        "4  {u'thumb_link': u'http://photos3.meetupstatic....  1407103688000      yes   \n",
        "\n",
        "      rsvp_id                                              venue  \n",
        "0  1360913672  {u'city': u'Brussels', u'name': u'ULB Campus S...  \n",
        "1  1393859082  {u'city': u'Brussels', u'name': u'ULB Campus S...  \n",
        "2  1354353422  {u'city': u'Brussels', u'name': u'ULB Campus S...  \n",
        "3  1356172562  {u'city': u'Brussels', u'name': u'ULB Campus S...  \n",
        "4  1382319382  {u'city': u'Brussels', u'name': u'ULB Campus S...  "
       ]
      }
     ],
     "prompt_number": 10
    },
    {
     "cell_type": "markdown",
     "metadata": {
      "slideshow": {
       "slide_type": "subslide"
      }
     },
     "source": [
      "## Clean DataFrame"
     ]
    },
    {
     "cell_type": "markdown",
     "metadata": {},
     "source": [
      "First, we index the original dataframe based on the RSVP creation date, as this is the dimension we are interested in."
     ]
    },
    {
     "cell_type": "code",
     "collapsed": false,
     "input": [
      "# Index the raw dataframe by RSVP creation date:\n",
      "# - convers the 'created' field to a DateTime - Pandas wants microseconds\n",
      "rsvps_raw.index = pandas.to_datetime(rsvps_raw['created'] * 1000000)"
     ],
     "language": "python",
     "metadata": {},
     "outputs": [],
     "prompt_number": 159
    },
    {
     "cell_type": "markdown",
     "metadata": {},
     "source": [
      "The DataFrame we have just created contains both information we are not interested in and information structured in sub-dictionnaries.\n",
      "\n",
      "We will therefore create a new DataFrame and copy only the information relevant for our task into it."
     ]
    },
    {
     "cell_type": "code",
     "collapsed": false,
     "input": [
      "# Create a new 'clean' DataFrame:\n",
      "rsvps = pandas.DataFrame(rsvps_raw['response'])\n",
      "\n",
      "def get_or_nan(dic, key):\n",
      "    try: return dic.get(key)\n",
      "    except AttributeError: return None\n",
      "\n",
      "rsvps['name'] = rsvps_raw['member'].map(lambda x: x.get('name'))\n",
      "rsvps['thumb'] = rsvps_raw['member_photo'].map(lambda x: get_or_nan(x, 'thumb_link'))\n",
      "rsvps['photo'] = rsvps_raw['member_photo'].map(lambda x: get_or_nan(x, 'photo_link'))\n",
      "\n",
      "rsvps.head(5)"
     ],
     "language": "python",
     "metadata": {},
     "outputs": [
      {
       "html": [
        "<div style=\"max-height:1000px;max-width:1500px;overflow:auto;\">\n",
        "<table border=\"1\" class=\"dataframe\">\n",
        "  <thead>\n",
        "    <tr style=\"text-align: right;\">\n",
        "      <th></th>\n",
        "      <th>response</th>\n",
        "      <th>name</th>\n",
        "      <th>thumb</th>\n",
        "      <th>photo</th>\n",
        "    </tr>\n",
        "    <tr>\n",
        "      <th>created</th>\n",
        "      <th></th>\n",
        "      <th></th>\n",
        "      <th></th>\n",
        "      <th></th>\n",
        "    </tr>\n",
        "  </thead>\n",
        "  <tbody>\n",
        "    <tr>\n",
        "      <th>2014-07-18 22:00:53</th>\n",
        "      <td> yes</td>\n",
        "      <td>           Ashwyn</td>\n",
        "      <td> http://photos1.meetupstatic.com/photos/member/...</td>\n",
        "      <td> http://photos1.meetupstatic.com/photos/member/...</td>\n",
        "    </tr>\n",
        "    <tr>\n",
        "      <th>2014-08-11 22:38:52</th>\n",
        "      <td> yes</td>\n",
        "      <td>         emmanuel</td>\n",
        "      <td> http://photos1.meetupstatic.com/photos/member/...</td>\n",
        "      <td> http://photos1.meetupstatic.com/photos/member/...</td>\n",
        "    </tr>\n",
        "    <tr>\n",
        "      <th>2014-07-14 13:46:05</th>\n",
        "      <td> yes</td>\n",
        "      <td> Antonio Rebordao</td>\n",
        "      <td> http://photos1.meetupstatic.com/photos/member/...</td>\n",
        "      <td> http://photos3.meetupstatic.com/photos/member/...</td>\n",
        "    </tr>\n",
        "    <tr>\n",
        "      <th>2014-07-15 16:04:20</th>\n",
        "      <td> yes</td>\n",
        "      <td>     jp Alcantara</td>\n",
        "      <td>                                              None</td>\n",
        "      <td>                                              None</td>\n",
        "    </tr>\n",
        "    <tr>\n",
        "      <th>2014-08-03 22:08:08</th>\n",
        "      <td> yes</td>\n",
        "      <td>      Kjell Moens</td>\n",
        "      <td> http://photos3.meetupstatic.com/photos/member/...</td>\n",
        "      <td> http://photos1.meetupstatic.com/photos/member/...</td>\n",
        "    </tr>\n",
        "  </tbody>\n",
        "</table>\n",
        "</div>"
       ],
       "metadata": {},
       "output_type": "pyout",
       "prompt_number": 162,
       "text": [
        "                    response              name  \\\n",
        "created                                          \n",
        "2014-07-18 22:00:53      yes            Ashwyn   \n",
        "2014-08-11 22:38:52      yes          emmanuel   \n",
        "2014-07-14 13:46:05      yes  Antonio Rebordao   \n",
        "2014-07-15 16:04:20      yes      jp Alcantara   \n",
        "2014-08-03 22:08:08      yes       Kjell Moens   \n",
        "\n",
        "                                                                 thumb  \\\n",
        "created                                                                  \n",
        "2014-07-18 22:00:53  http://photos1.meetupstatic.com/photos/member/...   \n",
        "2014-08-11 22:38:52  http://photos1.meetupstatic.com/photos/member/...   \n",
        "2014-07-14 13:46:05  http://photos1.meetupstatic.com/photos/member/...   \n",
        "2014-07-15 16:04:20                                               None   \n",
        "2014-08-03 22:08:08  http://photos3.meetupstatic.com/photos/member/...   \n",
        "\n",
        "                                                                 photo  \n",
        "created                                                                 \n",
        "2014-07-18 22:00:53  http://photos1.meetupstatic.com/photos/member/...  \n",
        "2014-08-11 22:38:52  http://photos1.meetupstatic.com/photos/member/...  \n",
        "2014-07-14 13:46:05  http://photos3.meetupstatic.com/photos/member/...  \n",
        "2014-07-15 16:04:20                                               None  \n",
        "2014-08-03 22:08:08  http://photos1.meetupstatic.com/photos/member/...  "
       ]
      }
     ],
     "prompt_number": 162
    },
    {
     "cell_type": "markdown",
     "metadata": {},
     "source": [
      "## Grouping data\n",
      "\n",
      "Pandas contains a lot of shortcuts and handful properties. For example, the date or the hour of a _Datetime_ column can be extracted easily in the form of `dataframe.column.date` or `dataframe.column.hour`. "
     ]
    },
    {
     "cell_type": "code",
     "collapsed": false,
     "input": [
      "# Create a new column containing only the date (without the time)\n",
      "rsvps['day'] = rsvps.index.date\n",
      "rsvps_per_day = rsvps.groupby('day').agg(len)\n",
      "rsvps_per_day"
     ],
     "language": "python",
     "metadata": {
      "slideshow": {
       "slide_type": "-"
      }
     },
     "outputs": [
      {
       "html": [
        "<div style=\"max-height:1000px;max-width:1500px;overflow:auto;\">\n",
        "<table border=\"1\" class=\"dataframe\">\n",
        "  <thead>\n",
        "    <tr style=\"text-align: right;\">\n",
        "      <th></th>\n",
        "      <th>response</th>\n",
        "      <th>name</th>\n",
        "      <th>thumb</th>\n",
        "      <th>photo</th>\n",
        "      <th>hour</th>\n",
        "    </tr>\n",
        "    <tr>\n",
        "      <th>day</th>\n",
        "      <th></th>\n",
        "      <th></th>\n",
        "      <th></th>\n",
        "      <th></th>\n",
        "      <th></th>\n",
        "    </tr>\n",
        "  </thead>\n",
        "  <tbody>\n",
        "    <tr>\n",
        "      <th>2014-07-14</th>\n",
        "      <td> 8</td>\n",
        "      <td> 8</td>\n",
        "      <td> 8</td>\n",
        "      <td> 8</td>\n",
        "      <td> 8</td>\n",
        "    </tr>\n",
        "    <tr>\n",
        "      <th>2014-07-15</th>\n",
        "      <td> 4</td>\n",
        "      <td> 4</td>\n",
        "      <td> 4</td>\n",
        "      <td> 4</td>\n",
        "      <td> 4</td>\n",
        "    </tr>\n",
        "    <tr>\n",
        "      <th>2014-07-16</th>\n",
        "      <td> 3</td>\n",
        "      <td> 3</td>\n",
        "      <td> 3</td>\n",
        "      <td> 3</td>\n",
        "      <td> 3</td>\n",
        "    </tr>\n",
        "    <tr>\n",
        "      <th>2014-07-17</th>\n",
        "      <td> 1</td>\n",
        "      <td> 1</td>\n",
        "      <td> 1</td>\n",
        "      <td> 1</td>\n",
        "      <td> 1</td>\n",
        "    </tr>\n",
        "    <tr>\n",
        "      <th>2014-07-18</th>\n",
        "      <td> 1</td>\n",
        "      <td> 1</td>\n",
        "      <td> 1</td>\n",
        "      <td> 1</td>\n",
        "      <td> 1</td>\n",
        "    </tr>\n",
        "    <tr>\n",
        "      <th>2014-07-21</th>\n",
        "      <td> 1</td>\n",
        "      <td> 1</td>\n",
        "      <td> 1</td>\n",
        "      <td> 1</td>\n",
        "      <td> 1</td>\n",
        "    </tr>\n",
        "    <tr>\n",
        "      <th>2014-07-23</th>\n",
        "      <td> 1</td>\n",
        "      <td> 1</td>\n",
        "      <td> 1</td>\n",
        "      <td> 1</td>\n",
        "      <td> 1</td>\n",
        "    </tr>\n",
        "    <tr>\n",
        "      <th>2014-07-26</th>\n",
        "      <td> 1</td>\n",
        "      <td> 1</td>\n",
        "      <td> 1</td>\n",
        "      <td> 1</td>\n",
        "      <td> 1</td>\n",
        "    </tr>\n",
        "    <tr>\n",
        "      <th>2014-07-28</th>\n",
        "      <td> 1</td>\n",
        "      <td> 1</td>\n",
        "      <td> 1</td>\n",
        "      <td> 1</td>\n",
        "      <td> 1</td>\n",
        "    </tr>\n",
        "    <tr>\n",
        "      <th>2014-07-30</th>\n",
        "      <td> 1</td>\n",
        "      <td> 1</td>\n",
        "      <td> 1</td>\n",
        "      <td> 1</td>\n",
        "      <td> 1</td>\n",
        "    </tr>\n",
        "    <tr>\n",
        "      <th>2014-08-01</th>\n",
        "      <td> 1</td>\n",
        "      <td> 1</td>\n",
        "      <td> 1</td>\n",
        "      <td> 1</td>\n",
        "      <td> 1</td>\n",
        "    </tr>\n",
        "    <tr>\n",
        "      <th>2014-08-02</th>\n",
        "      <td> 1</td>\n",
        "      <td> 1</td>\n",
        "      <td> 1</td>\n",
        "      <td> 1</td>\n",
        "      <td> 1</td>\n",
        "    </tr>\n",
        "    <tr>\n",
        "      <th>2014-08-03</th>\n",
        "      <td> 1</td>\n",
        "      <td> 1</td>\n",
        "      <td> 1</td>\n",
        "      <td> 1</td>\n",
        "      <td> 1</td>\n",
        "    </tr>\n",
        "    <tr>\n",
        "      <th>2014-08-04</th>\n",
        "      <td> 1</td>\n",
        "      <td> 1</td>\n",
        "      <td> 1</td>\n",
        "      <td> 1</td>\n",
        "      <td> 1</td>\n",
        "    </tr>\n",
        "    <tr>\n",
        "      <th>2014-08-06</th>\n",
        "      <td> 1</td>\n",
        "      <td> 1</td>\n",
        "      <td> 1</td>\n",
        "      <td> 1</td>\n",
        "      <td> 1</td>\n",
        "    </tr>\n",
        "    <tr>\n",
        "      <th>2014-08-09</th>\n",
        "      <td> 1</td>\n",
        "      <td> 1</td>\n",
        "      <td> 1</td>\n",
        "      <td> 1</td>\n",
        "      <td> 1</td>\n",
        "    </tr>\n",
        "    <tr>\n",
        "      <th>2014-08-10</th>\n",
        "      <td> 2</td>\n",
        "      <td> 2</td>\n",
        "      <td> 2</td>\n",
        "      <td> 2</td>\n",
        "      <td> 2</td>\n",
        "    </tr>\n",
        "    <tr>\n",
        "      <th>2014-08-11</th>\n",
        "      <td> 2</td>\n",
        "      <td> 2</td>\n",
        "      <td> 2</td>\n",
        "      <td> 2</td>\n",
        "      <td> 2</td>\n",
        "    </tr>\n",
        "    <tr>\n",
        "      <th>2014-08-12</th>\n",
        "      <td> 1</td>\n",
        "      <td> 1</td>\n",
        "      <td> 1</td>\n",
        "      <td> 1</td>\n",
        "      <td> 1</td>\n",
        "    </tr>\n",
        "    <tr>\n",
        "      <th>2014-08-17</th>\n",
        "      <td> 2</td>\n",
        "      <td> 2</td>\n",
        "      <td> 2</td>\n",
        "      <td> 2</td>\n",
        "      <td> 2</td>\n",
        "    </tr>\n",
        "    <tr>\n",
        "      <th>2014-08-18</th>\n",
        "      <td> 2</td>\n",
        "      <td> 2</td>\n",
        "      <td> 2</td>\n",
        "      <td> 2</td>\n",
        "      <td> 2</td>\n",
        "    </tr>\n",
        "    <tr>\n",
        "      <th>2014-08-19</th>\n",
        "      <td> 1</td>\n",
        "      <td> 1</td>\n",
        "      <td> 1</td>\n",
        "      <td> 1</td>\n",
        "      <td> 1</td>\n",
        "    </tr>\n",
        "    <tr>\n",
        "      <th>2014-08-20</th>\n",
        "      <td> 5</td>\n",
        "      <td> 5</td>\n",
        "      <td> 5</td>\n",
        "      <td> 5</td>\n",
        "      <td> 5</td>\n",
        "    </tr>\n",
        "    <tr>\n",
        "      <th>2014-08-21</th>\n",
        "      <td> 4</td>\n",
        "      <td> 4</td>\n",
        "      <td> 4</td>\n",
        "      <td> 4</td>\n",
        "      <td> 4</td>\n",
        "    </tr>\n",
        "    <tr>\n",
        "      <th>2014-08-22</th>\n",
        "      <td> 1</td>\n",
        "      <td> 1</td>\n",
        "      <td> 1</td>\n",
        "      <td> 1</td>\n",
        "      <td> 1</td>\n",
        "    </tr>\n",
        "    <tr>\n",
        "      <th>2014-08-23</th>\n",
        "      <td> 1</td>\n",
        "      <td> 1</td>\n",
        "      <td> 1</td>\n",
        "      <td> 1</td>\n",
        "      <td> 1</td>\n",
        "    </tr>\n",
        "    <tr>\n",
        "      <th>2014-08-24</th>\n",
        "      <td> 1</td>\n",
        "      <td> 1</td>\n",
        "      <td> 1</td>\n",
        "      <td> 1</td>\n",
        "      <td> 1</td>\n",
        "    </tr>\n",
        "  </tbody>\n",
        "</table>\n",
        "</div>"
       ],
       "metadata": {},
       "output_type": "pyout",
       "prompt_number": 177,
       "text": [
        "            response  name  thumb  photo  hour\n",
        "day                                           \n",
        "2014-07-14         8     8      8      8     8\n",
        "2014-07-15         4     4      4      4     4\n",
        "2014-07-16         3     3      3      3     3\n",
        "2014-07-17         1     1      1      1     1\n",
        "2014-07-18         1     1      1      1     1\n",
        "2014-07-21         1     1      1      1     1\n",
        "2014-07-23         1     1      1      1     1\n",
        "2014-07-26         1     1      1      1     1\n",
        "2014-07-28         1     1      1      1     1\n",
        "2014-07-30         1     1      1      1     1\n",
        "2014-08-01         1     1      1      1     1\n",
        "2014-08-02         1     1      1      1     1\n",
        "2014-08-03         1     1      1      1     1\n",
        "2014-08-04         1     1      1      1     1\n",
        "2014-08-06         1     1      1      1     1\n",
        "2014-08-09         1     1      1      1     1\n",
        "2014-08-10         2     2      2      2     2\n",
        "2014-08-11         2     2      2      2     2\n",
        "2014-08-12         1     1      1      1     1\n",
        "2014-08-17         2     2      2      2     2\n",
        "2014-08-18         2     2      2      2     2\n",
        "2014-08-19         1     1      1      1     1\n",
        "2014-08-20         5     5      5      5     5\n",
        "2014-08-21         4     4      4      4     4\n",
        "2014-08-22         1     1      1      1     1\n",
        "2014-08-23         1     1      1      1     1\n",
        "2014-08-24         1     1      1      1     1"
       ]
      }
     ],
     "prompt_number": 177
    },
    {
     "cell_type": "code",
     "collapsed": false,
     "input": [
      "rsvps_per_day['response'].plot(marker='o')"
     ],
     "language": "python",
     "metadata": {},
     "outputs": [
      {
       "metadata": {},
       "output_type": "pyout",
       "prompt_number": 198,
       "text": [
        "<matplotlib.axes.AxesSubplot at 0x7ff21e5f5b50>"
       ]
      },
      {
       "metadata": {},
       "output_type": "display_data",
       "png": "[encoded data removed]",
       "text": [
        "<matplotlib.figure.Figure at 0x7ff21e49aa10>"
       ]
      }
     ],
     "prompt_number": 198
    },
    {
     "cell_type": "code",
     "collapsed": false,
     "input": [
      "rsvps['hour'] = rsvps.index.hour\n",
      "rsvps_per_hour = rsvps.groupby('hour').agg(len)\n",
      "rsvps_per_hour['response'].plot(marker='o')"
     ],
     "language": "python",
     "metadata": {},
     "outputs": [
      {
       "metadata": {},
       "output_type": "pyout",
       "prompt_number": 197,
       "text": [
        "<matplotlib.axes.AxesSubplot at 0x7ff21e5ea590>"
       ]
      },
      {
       "metadata": {},
       "output_type": "display_data",
       "png": "[encoded data removed]",
       "text": [
        "<matplotlib.figure.Figure at 0x7ff21e580210>"
       ]
      }
     ],
     "prompt_number": 197
    },
    {
     "cell_type": "code",
     "collapsed": false,
     "input": [
      "rsvps_per_hour.plot??"
     ],
     "language": "python",
     "metadata": {},
     "outputs": [],
     "prompt_number": 183
    },
    {
     "cell_type": "code",
     "collapsed": false,
     "input": [
      "import vincent\n",
      "vincent.core.initialize_notebook()"
     ],
     "language": "python",
     "metadata": {},
     "outputs": [
      {
       "html": [
        "\n",
        "           <script>\n",
        "               \n",
        "                function vct_load_lib(url, callback){\n",
        "                      if(typeof d3 !== 'undefined' &&\n",
        "                         url === 'http://d3js.org/d3.v3.min.js'){\n",
        "                        callback()\n",
        "                      }\n",
        "                      var s = document.createElement('script');\n",
        "                      s.src = url;\n",
        "                      s.async = true;\n",
        "                      s.onreadystatechange = s.onload = callback;\n",
        "                      s.onerror = function(){\n",
        "                        console.warn(\"failed to load library \" + url);\n",
        "                        };\n",
        "                      document.getElementsByTagName(\"head\")[0].appendChild(s);\n",
        "                };\n",
        "                var vincent_event = new CustomEvent(\n",
        "                  \"vincent_libs_loaded\",\n",
        "                  {bubbles: true, cancelable: true}\n",
        "                );\n",
        "                \n",
        "               function load_all_libs(){\n",
        "                  console.log('Loading Vincent libs...')\n",
        "                  vct_load_lib('http://d3js.org/d3.v3.min.js', function(){\n",
        "                  vct_load_lib('http://d3js.org/d3.geo.projection.v0.min.js', function(){\n",
        "                  vct_load_lib('http://wrobstory.github.io/d3-cloud/d3.layout.cloud.js', function(){\n",
        "                  vct_load_lib('http://wrobstory.github.io/vega/vega.v1.3.3.js', function(){\n",
        "                  window.dispatchEvent(vincent_event);\n",
        "                  });\n",
        "                  });\n",
        "                  });\n",
        "                  });\n",
        "               };\n",
        "               if(typeof define === \"function\" && define.amd){\n",
        "                    if (window['d3'] === undefined ||\n",
        "                        window['topojson'] === undefined){\n",
        "                        require.config(\n",
        "                            {paths: {\n",
        "                              d3: 'http://d3js.org/d3.v3.min',\n",
        "                              topojson: 'http://d3js.org/topojson.v1.min'\n",
        "                              }\n",
        "                            }\n",
        "                          );\n",
        "                        require([\"d3\"], function(d3){\n",
        "                            console.log('Loading Vincent from require.js...')\n",
        "                            window.d3 = d3;\n",
        "                            require([\"topojson\"], function(topojson){\n",
        "                                window.topojson = topojson;\n",
        "                                load_all_libs();\n",
        "                            });\n",
        "                        });\n",
        "                    } else {\n",
        "                        load_all_libs();\n",
        "                    };\n",
        "               }else{\n",
        "                    console.log('Require.js not found, loading manually...')\n",
        "                    load_all_libs();\n",
        "               };\n",
        "\n",
        "           </script>"
       ],
       "metadata": {},
       "output_type": "display_data",
       "text": [
        "<IPython.core.display.HTML at 0x7ff224291ad0>"
       ]
      }
     ],
     "prompt_number": 19
    },
    {
     "cell_type": "code",
     "collapsed": false,
     "input": [
      "b = vincent.Bar(rsvps_per_day['response'])\n",
      "b.legend(\"RSVPs per day\")\n",
      "b.axis_titles(x=u'Date', y='RSVPs in a day')\n",
      "b"
     ],
     "language": "python",
     "metadata": {},
     "outputs": [
      {
       "html": [
        "<div id=\"vis9ffe47eec4784b2ca1c762282a3b2b36\"></div>\n",
        "<script>\n",
        "   ( function() {\n",
        "     var _do_plot = function() {\n",
        "       if (typeof vg === 'undefined') {\n",
        "         window.addEventListener('vincent_libs_loaded', _do_plot)\n",
        "         return;\n",
        "       }\n",
        "       vg.parse.spec({\"axes\": [{\"scale\": \"x\", \"title\": \"Date\", \"type\": \"x\"}, {\"scale\": \"y\", \"title\": \"RSVPs in a day\", \"type\": \"y\"}], \"data\": [{\"name\": \"table\", \"values\": [{\"col\": \"response\", \"idx\": 1405288800000, \"val\": 8}, {\"col\": \"response\", \"idx\": 1405375200000, \"val\": 4}, {\"col\": \"response\", \"idx\": 1405461600000, \"val\": 3}, {\"col\": \"response\", \"idx\": 1405548000000, \"val\": 1}, {\"col\": \"response\", \"idx\": 1405634400000, \"val\": 1}, {\"col\": \"response\", \"idx\": 1405893600000, \"val\": 1}, {\"col\": \"response\", \"idx\": 1406066400000, \"val\": 1}, {\"col\": \"response\", \"idx\": 1406325600000, \"val\": 1}, {\"col\": \"response\", \"idx\": 1406498400000, \"val\": 1}, {\"col\": \"response\", \"idx\": 1406671200000, \"val\": 1}, {\"col\": \"response\", \"idx\": 1406844000000, \"val\": 1}, {\"col\": \"response\", \"idx\": 1406930400000, \"val\": 1}, {\"col\": \"response\", \"idx\": 1407016800000, \"val\": 1}, {\"col\": \"response\", \"idx\": 1407103200000, \"val\": 1}, {\"col\": \"response\", \"idx\": 1407276000000, \"val\": 1}, {\"col\": \"response\", \"idx\": 1407535200000, \"val\": 1}, {\"col\": \"response\", \"idx\": 1407621600000, \"val\": 2}, {\"col\": \"response\", \"idx\": 1407708000000, \"val\": 2}, {\"col\": \"response\", \"idx\": 1407794400000, \"val\": 1}, {\"col\": \"response\", \"idx\": 1408226400000, \"val\": 2}, {\"col\": \"response\", \"idx\": 1408312800000, \"val\": 2}, {\"col\": \"response\", \"idx\": 1408399200000, \"val\": 1}, {\"col\": \"response\", \"idx\": 1408485600000, \"val\": 5}, {\"col\": \"response\", \"idx\": 1408572000000, \"val\": 4}, {\"col\": \"response\", \"idx\": 1408658400000, \"val\": 1}, {\"col\": \"response\", \"idx\": 1408744800000, \"val\": 1}, {\"col\": \"response\", \"idx\": 1408831200000, \"val\": 1}]}, {\"name\": \"stats\", \"source\": \"table\", \"transform\": [{\"keys\": [\"data.idx\"], \"type\": \"facet\"}, {\"type\": \"stats\", \"value\": \"data.val\"}]}], \"height\": 500, \"legends\": [{\"fill\": \"color\", \"offset\": 0, \"properties\": {}, \"title\": \"RSVPs per day\"}], \"marks\": [{\"from\": {\"data\": \"table\", \"transform\": [{\"keys\": [\"data.col\"], \"type\": \"facet\"}, {\"height\": \"data.val\", \"point\": \"data.idx\", \"type\": \"stack\"}]}, \"marks\": [{\"properties\": {\"enter\": {\"fill\": {\"field\": \"data.col\", \"scale\": \"color\"}, \"width\": {\"band\": true, \"offset\": -1, \"scale\": \"x\"}, \"x\": {\"field\": \"data.idx\", \"scale\": \"x\"}, \"y\": {\"field\": \"y\", \"scale\": \"y\"}, \"y2\": {\"field\": \"y2\", \"scale\": \"y\"}}}, \"type\": \"rect\"}], \"type\": \"group\"}], \"padding\": \"auto\", \"scales\": [{\"domain\": {\"data\": \"table\", \"field\": \"data.idx\"}, \"name\": \"x\", \"range\": \"width\", \"type\": \"ordinal\", \"zero\": false}, {\"domain\": {\"data\": \"stats\", \"field\": \"sum\"}, \"name\": \"y\", \"nice\": true, \"range\": \"height\"}, {\"domain\": {\"data\": \"table\", \"field\": \"data.col\"}, \"name\": \"color\", \"range\": \"category20\", \"type\": \"ordinal\"}], \"width\": 960}, function(chart) {\n",
        "         chart({el: \"#vis9ffe47eec4784b2ca1c762282a3b2b36\"}).update();\n",
        "       });\n",
        "     };\n",
        "     _do_plot();\n",
        "   })();\n",
        "</script>\n",
        "<style>.vega canvas {width: 100%;}</style>\n",
        "        "
       ],
       "metadata": {},
       "output_type": "pyout",
       "prompt_number": 30,
       "text": [
        "<vincent.charts.Bar at 0x7ff2245ee690>"
       ]
      }
     ],
     "prompt_number": 30
    },
    {
     "cell_type": "code",
     "collapsed": false,
     "input": [
      "pd = pandas\n",
      "df = rsvps_per_day\n",
      "idx = pd.date_range(df.index.min(),df.index.max())\n",
      "idx"
     ],
     "language": "python",
     "metadata": {},
     "outputs": [
      {
       "metadata": {},
       "output_type": "pyout",
       "prompt_number": 70,
       "text": [
        "<class 'pandas.tseries.index.DatetimeIndex'>\n",
        "[2014-07-14, ..., 2014-08-24]\n",
        "Length: 42, Freq: D, Timezone: None"
       ]
      }
     ],
     "prompt_number": 70
    },
    {
     "cell_type": "code",
     "collapsed": false,
     "input": [
      "df.index.min()"
     ],
     "language": "python",
     "metadata": {},
     "outputs": [
      {
       "metadata": {},
       "output_type": "pyout",
       "prompt_number": 68,
       "text": [
        "datetime.date(2014, 7, 14)"
       ]
      }
     ],
     "prompt_number": 68
    },
    {
     "cell_type": "code",
     "collapsed": false,
     "input": [
      "rsvps_per_day.asfreq('day')"
     ],
     "language": "python",
     "metadata": {},
     "outputs": [
      {
       "ename": "ValueError",
       "evalue": "Could not evaluate day",
       "output_type": "pyerr",
       "traceback": [
        "\u001b[1;31m---------------------------------------------------------------------------\u001b[0m\n\u001b[1;31mValueError\u001b[0m                                Traceback (most recent call last)",
        "\u001b[1;32m<ipython-input-76-4d80ef796f2c>\u001b[0m in \u001b[0;36m<module>\u001b[1;34m()\u001b[0m\n\u001b[1;32m----> 1\u001b[1;33m \u001b[0mrsvps_per_day\u001b[0m\u001b[1;33m.\u001b[0m\u001b[0masfreq\u001b[0m\u001b[1;33m(\u001b[0m\u001b[1;34m'day'\u001b[0m\u001b[1;33m)\u001b[0m\u001b[1;33m\u001b[0m\u001b[0m\n\u001b[0m",
        "\u001b[1;32m/home/okso/Documents/Events/Workshops/2014-OTS-IPython-Pandas/venv/local/lib/python2.7/site-packages/pandas/core/generic.pyc\u001b[0m in \u001b[0;36masfreq\u001b[1;34m(self, freq, method, how, normalize)\u001b[0m\n\u001b[0;32m   2796\u001b[0m         \u001b[1;32mfrom\u001b[0m \u001b[0mpandas\u001b[0m\u001b[1;33m.\u001b[0m\u001b[0mtseries\u001b[0m\u001b[1;33m.\u001b[0m\u001b[0mresample\u001b[0m \u001b[1;32mimport\u001b[0m \u001b[0masfreq\u001b[0m\u001b[1;33m\u001b[0m\u001b[0m\n\u001b[0;32m   2797\u001b[0m         return asfreq(self, freq, method=method, how=how,\n\u001b[1;32m-> 2798\u001b[1;33m                       normalize=normalize)\n\u001b[0m\u001b[0;32m   2799\u001b[0m \u001b[1;33m\u001b[0m\u001b[0m\n\u001b[0;32m   2800\u001b[0m     \u001b[1;32mdef\u001b[0m \u001b[0mat_time\u001b[0m\u001b[1;33m(\u001b[0m\u001b[0mself\u001b[0m\u001b[1;33m,\u001b[0m \u001b[0mtime\u001b[0m\u001b[1;33m,\u001b[0m \u001b[0masof\u001b[0m\u001b[1;33m=\u001b[0m\u001b[0mFalse\u001b[0m\u001b[1;33m)\u001b[0m\u001b[1;33m:\u001b[0m\u001b[1;33m\u001b[0m\u001b[0m\n",
        "\u001b[1;32m/home/okso/Documents/Events/Workshops/2014-OTS-IPython-Pandas/venv/local/lib/python2.7/site-packages/pandas/tseries/resample.pyc\u001b[0m in \u001b[0;36masfreq\u001b[1;34m(obj, freq, method, how, normalize)\u001b[0m\n\u001b[0;32m    442\u001b[0m         \u001b[1;32mif\u001b[0m \u001b[0mlen\u001b[0m\u001b[1;33m(\u001b[0m\u001b[0mobj\u001b[0m\u001b[1;33m.\u001b[0m\u001b[0mindex\u001b[0m\u001b[1;33m)\u001b[0m \u001b[1;33m==\u001b[0m \u001b[1;36m0\u001b[0m\u001b[1;33m:\u001b[0m\u001b[1;33m\u001b[0m\u001b[0m\n\u001b[0;32m    443\u001b[0m             \u001b[1;32mreturn\u001b[0m \u001b[0mobj\u001b[0m\u001b[1;33m.\u001b[0m\u001b[0mcopy\u001b[0m\u001b[1;33m(\u001b[0m\u001b[1;33m)\u001b[0m\u001b[1;33m\u001b[0m\u001b[0m\n\u001b[1;32m--> 444\u001b[1;33m         \u001b[0mdti\u001b[0m \u001b[1;33m=\u001b[0m \u001b[0mdate_range\u001b[0m\u001b[1;33m(\u001b[0m\u001b[0mobj\u001b[0m\u001b[1;33m.\u001b[0m\u001b[0mindex\u001b[0m\u001b[1;33m[\u001b[0m\u001b[1;36m0\u001b[0m\u001b[1;33m]\u001b[0m\u001b[1;33m,\u001b[0m \u001b[0mobj\u001b[0m\u001b[1;33m.\u001b[0m\u001b[0mindex\u001b[0m\u001b[1;33m[\u001b[0m\u001b[1;33m-\u001b[0m\u001b[1;36m1\u001b[0m\u001b[1;33m]\u001b[0m\u001b[1;33m,\u001b[0m \u001b[0mfreq\u001b[0m\u001b[1;33m=\u001b[0m\u001b[0mfreq\u001b[0m\u001b[1;33m)\u001b[0m\u001b[1;33m\u001b[0m\u001b[0m\n\u001b[0m\u001b[0;32m    445\u001b[0m         \u001b[0mrs\u001b[0m \u001b[1;33m=\u001b[0m \u001b[0mobj\u001b[0m\u001b[1;33m.\u001b[0m\u001b[0mreindex\u001b[0m\u001b[1;33m(\u001b[0m\u001b[0mdti\u001b[0m\u001b[1;33m,\u001b[0m \u001b[0mmethod\u001b[0m\u001b[1;33m=\u001b[0m\u001b[0mmethod\u001b[0m\u001b[1;33m)\u001b[0m\u001b[1;33m\u001b[0m\u001b[0m\n\u001b[0;32m    446\u001b[0m         \u001b[1;32mif\u001b[0m \u001b[0mnormalize\u001b[0m\u001b[1;33m:\u001b[0m\u001b[1;33m\u001b[0m\u001b[0m\n",
        "\u001b[1;32m/home/okso/Documents/Events/Workshops/2014-OTS-IPython-Pandas/venv/local/lib/python2.7/site-packages/pandas/tseries/index.pyc\u001b[0m in \u001b[0;36mdate_range\u001b[1;34m(start, end, periods, freq, tz, normalize, name, closed)\u001b[0m\n\u001b[0;32m   1870\u001b[0m     return DatetimeIndex(start=start, end=end, periods=periods,\n\u001b[0;32m   1871\u001b[0m                          \u001b[0mfreq\u001b[0m\u001b[1;33m=\u001b[0m\u001b[0mfreq\u001b[0m\u001b[1;33m,\u001b[0m \u001b[0mtz\u001b[0m\u001b[1;33m=\u001b[0m\u001b[0mtz\u001b[0m\u001b[1;33m,\u001b[0m \u001b[0mnormalize\u001b[0m\u001b[1;33m=\u001b[0m\u001b[0mnormalize\u001b[0m\u001b[1;33m,\u001b[0m \u001b[0mname\u001b[0m\u001b[1;33m=\u001b[0m\u001b[0mname\u001b[0m\u001b[1;33m,\u001b[0m\u001b[1;33m\u001b[0m\u001b[0m\n\u001b[1;32m-> 1872\u001b[1;33m                          closed=closed)\n\u001b[0m\u001b[0;32m   1873\u001b[0m \u001b[1;33m\u001b[0m\u001b[0m\n\u001b[0;32m   1874\u001b[0m \u001b[1;33m\u001b[0m\u001b[0m\n",
        "\u001b[1;32m/home/okso/Documents/Events/Workshops/2014-OTS-IPython-Pandas/venv/local/lib/python2.7/site-packages/pandas/tseries/index.pyc\u001b[0m in \u001b[0;36m__new__\u001b[1;34m(cls, data, freq, start, end, periods, copy, name, tz, verify_integrity, normalize, closed, **kwds)\u001b[0m\n\u001b[0;32m    185\u001b[0m             \u001b[1;31m# if a passed freq is None, don't infer automatically\u001b[0m\u001b[1;33m\u001b[0m\u001b[1;33m\u001b[0m\u001b[0m\n\u001b[0;32m    186\u001b[0m             \u001b[1;32mif\u001b[0m \u001b[0mfreq\u001b[0m \u001b[1;33m!=\u001b[0m \u001b[1;34m'infer'\u001b[0m\u001b[1;33m:\u001b[0m\u001b[1;33m\u001b[0m\u001b[0m\n\u001b[1;32m--> 187\u001b[1;33m                 \u001b[0mfreq\u001b[0m \u001b[1;33m=\u001b[0m \u001b[0mto_offset\u001b[0m\u001b[1;33m(\u001b[0m\u001b[0mfreq\u001b[0m\u001b[1;33m)\u001b[0m\u001b[1;33m\u001b[0m\u001b[0m\n\u001b[0m\u001b[0;32m    188\u001b[0m             \u001b[1;32melse\u001b[0m\u001b[1;33m:\u001b[0m\u001b[1;33m\u001b[0m\u001b[0m\n\u001b[0;32m    189\u001b[0m                 \u001b[0mfreq_infer\u001b[0m \u001b[1;33m=\u001b[0m \u001b[0mTrue\u001b[0m\u001b[1;33m\u001b[0m\u001b[0m\n",
        "\u001b[1;32m/home/okso/Documents/Events/Workshops/2014-OTS-IPython-Pandas/venv/local/lib/python2.7/site-packages/pandas/tseries/frequencies.pyc\u001b[0m in \u001b[0;36mto_offset\u001b[1;34m(freqstr)\u001b[0m\n\u001b[0;32m    299\u001b[0m                     \u001b[0mdelta\u001b[0m \u001b[1;33m=\u001b[0m \u001b[0mdelta\u001b[0m \u001b[1;33m+\u001b[0m \u001b[0moffset\u001b[0m\u001b[1;33m\u001b[0m\u001b[0m\n\u001b[0;32m    300\u001b[0m         \u001b[1;32mexcept\u001b[0m \u001b[0mException\u001b[0m\u001b[1;33m:\u001b[0m\u001b[1;33m\u001b[0m\u001b[0m\n\u001b[1;32m--> 301\u001b[1;33m             \u001b[1;32mraise\u001b[0m \u001b[0mValueError\u001b[0m\u001b[1;33m(\u001b[0m\u001b[1;34m\"Could not evaluate %s\"\u001b[0m \u001b[1;33m%\u001b[0m \u001b[0mfreqstr\u001b[0m\u001b[1;33m)\u001b[0m\u001b[1;33m\u001b[0m\u001b[0m\n\u001b[0m\u001b[0;32m    302\u001b[0m \u001b[1;33m\u001b[0m\u001b[0m\n\u001b[0;32m    303\u001b[0m     \u001b[1;32mif\u001b[0m \u001b[0mdelta\u001b[0m \u001b[1;32mis\u001b[0m \u001b[0mNone\u001b[0m\u001b[1;33m:\u001b[0m\u001b[1;33m\u001b[0m\u001b[0m\n",
        "\u001b[1;31mValueError\u001b[0m: Could not evaluate day"
       ]
      }
     ],
     "prompt_number": 76
    },
    {
     "cell_type": "code",
     "collapsed": false,
     "input": [],
     "language": "python",
     "metadata": {},
     "outputs": []
    },
    {
     "cell_type": "code",
     "collapsed": false,
     "input": [],
     "language": "python",
     "metadata": {},
     "outputs": [
      {
       "metadata": {},
       "output_type": "pyout",
       "prompt_number": 296,
       "text": [
        "Timestamp('2014-07-15 16:04:20')"
       ]
      }
     ],
     "prompt_number": 296
    },
    {
     "cell_type": "code",
     "collapsed": false,
     "input": [
      "from IPython.core.display import Image \n",
      "from IPython.display import display\n",
      "\n",
      "for index, row  in rsvps.iterrows():\n",
      "    if row.get('photo') not in (None, np.nan):\n",
      "        print(row['name'])\n",
      "        print(row.get('photo'))\n",
      "        display(Image(url=row['photo'], height=100))\n"
     ],
     "language": "python",
     "metadata": {
      "slideshow": {
       "slide_type": "subslide"
      }
     },
     "outputs": [
      {
       "output_type": "stream",
       "stream": "stdout",
       "text": [
        "Ashwyn\n",
        "http://photos1.meetupstatic.com/photos/member/7/9/2/4/member_212191012.jpeg\n"
       ]
      },
      {
       "html": [
        "<img src=\"http://photos1.meetupstatic.com/photos/member/7/9/2/4/member_212191012.jpeg\" height=\"100\"/>"
       ],
       "metadata": {},
       "output_type": "display_data",
       "text": [
        "<IPython.core.display.Image at 0x7ff21fba2b90>"
       ]
      },
      {
       "output_type": "stream",
       "stream": "stdout",
       "text": [
        "emmanuel\n",
        "http://photos1.meetupstatic.com/photos/member/c/2/4/e/member_213109742.jpeg\n"
       ]
      },
      {
       "html": [
        "<img src=\"http://photos1.meetupstatic.com/photos/member/c/2/4/e/member_213109742.jpeg\" height=\"100\"/>"
       ],
       "metadata": {},
       "output_type": "display_data",
       "text": [
        "<IPython.core.display.Image at 0x7ff21fba2fd0>"
       ]
      },
      {
       "output_type": "stream",
       "stream": "stdout",
       "text": [
        "Antonio Rebordao\n",
        "http://photos3.meetupstatic.com/photos/member/3/c/1/6/member_127935382.jpeg\n"
       ]
      },
      {
       "html": [
        "<img src=\"http://photos3.meetupstatic.com/photos/member/3/c/1/6/member_127935382.jpeg\" height=\"100\"/>"
       ],
       "metadata": {},
       "output_type": "display_data",
       "text": [
        "<IPython.core.display.Image at 0x7ff2243f9790>"
       ]
      },
      {
       "output_type": "stream",
       "stream": "stdout",
       "text": [
        "Kjell Moens\n",
        "http://photos1.meetupstatic.com/photos/member/2/e/4/2/member_139571842.jpeg\n"
       ]
      },
      {
       "html": [
        "<img src=\"http://photos1.meetupstatic.com/photos/member/2/e/4/2/member_139571842.jpeg\" height=\"100\"/>"
       ],
       "metadata": {},
       "output_type": "display_data",
       "text": [
        "<IPython.core.display.Image at 0x7ff21fba2450>"
       ]
      },
      {
       "output_type": "stream",
       "stream": "stdout",
       "text": [
        "Mike F\n",
        "http://photos2.meetupstatic.com/photos/member/8/d/d/8/member_78876312.jpeg\n"
       ]
      },
      {
       "html": [
        "<img src=\"http://photos2.meetupstatic.com/photos/member/8/d/d/8/member_78876312.jpeg\" height=\"100\"/>"
       ],
       "metadata": {},
       "output_type": "display_data",
       "text": [
        "<IPython.core.display.Image at 0x7ff21fba2c10>"
       ]
      },
      {
       "output_type": "stream",
       "stream": "stdout",
       "text": [
        "Andrea Dal Pozzolo\n",
        "http://photos1.meetupstatic.com/photos/member/6/0/9/2/member_63204722.jpeg\n"
       ]
      },
      {
       "html": [
        "<img src=\"http://photos1.meetupstatic.com/photos/member/6/0/9/2/member_63204722.jpeg\" height=\"100\"/>"
       ],
       "metadata": {},
       "output_type": "display_data",
       "text": [
        "<IPython.core.display.Image at 0x7ff21fba2f50>"
       ]
      },
      {
       "output_type": "stream",
       "stream": "stdout",
       "text": [
        "Ahmed\n",
        "http://photos4.meetupstatic.com/photos/member/c/6/7/2/member_191870802.jpeg\n"
       ]
      },
      {
       "html": [
        "<img src=\"http://photos4.meetupstatic.com/photos/member/c/6/7/2/member_191870802.jpeg\" height=\"100\"/>"
       ],
       "metadata": {},
       "output_type": "display_data",
       "text": [
        "<IPython.core.display.Image at 0x7ff21fcaf050>"
       ]
      },
      {
       "output_type": "stream",
       "stream": "stdout",
       "text": [
        "Augustin\n",
        "http://photos4.meetupstatic.com/photos/member/8/5/4/member_220082132.jpeg\n"
       ]
      },
      {
       "html": [
        "<img src=\"http://photos4.meetupstatic.com/photos/member/8/5/4/member_220082132.jpeg\" height=\"100\"/>"
       ],
       "metadata": {},
       "output_type": "display_data",
       "text": [
        "<IPython.core.display.Image at 0x7ff21fcaf810>"
       ]
      },
      {
       "output_type": "stream",
       "stream": "stdout",
       "text": [
        "Marcus\n",
        "http://photos3.meetupstatic.com/photos/member/6/1/a/a/member_182485002.jpeg\n"
       ]
      },
      {
       "html": [
        "<img src=\"http://photos3.meetupstatic.com/photos/member/6/1/a/a/member_182485002.jpeg\" height=\"100\"/>"
       ],
       "metadata": {},
       "output_type": "display_data",
       "text": [
        "<IPython.core.display.Image at 0x7ff21fcafe10>"
       ]
      },
      {
       "output_type": "stream",
       "stream": "stdout",
       "text": [
        "Ken Christiaens\n",
        "http://photos4.meetupstatic.com/photos/member/e/5/4/4/member_216778692.jpeg\n"
       ]
      },
      {
       "html": [
        "<img src=\"http://photos4.meetupstatic.com/photos/member/e/5/4/4/member_216778692.jpeg\" height=\"100\"/>"
       ],
       "metadata": {},
       "output_type": "display_data",
       "text": [
        "<IPython.core.display.Image at 0x7ff21fcaf3d0>"
       ]
      },
      {
       "output_type": "stream",
       "stream": "stdout",
       "text": [
        "Ivan Keller\n",
        "http://photos3.meetupstatic.com/photos/member/4/e/a/4/member_189500132.jpeg\n"
       ]
      },
      {
       "html": [
        "<img src=\"http://photos3.meetupstatic.com/photos/member/4/e/a/4/member_189500132.jpeg\" height=\"100\"/>"
       ],
       "metadata": {},
       "output_type": "display_data",
       "text": [
        "<IPython.core.display.Image at 0x7ff21fcaf350>"
       ]
      },
      {
       "output_type": "stream",
       "stream": "stdout",
       "text": [
        "bernard paulus\n",
        "http://photos2.meetupstatic.com/photos/member/c/5/5/0/member_147050512.jpeg\n"
       ]
      },
      {
       "html": [
        "<img src=\"http://photos2.meetupstatic.com/photos/member/c/5/5/0/member_147050512.jpeg\" height=\"100\"/>"
       ],
       "metadata": {},
       "output_type": "display_data",
       "text": [
        "<IPython.core.display.Image at 0x7ff21fcaf9d0>"
       ]
      },
      {
       "output_type": "stream",
       "stream": "stdout",
       "text": [
        "Deborah Lindberg\n",
        "http://photos4.meetupstatic.com/photos/member/6/1/6/4/member_140484932.jpeg\n"
       ]
      },
      {
       "html": [
        "<img src=\"http://photos4.meetupstatic.com/photos/member/6/1/6/4/member_140484932.jpeg\" height=\"100\"/>"
       ],
       "metadata": {},
       "output_type": "display_data",
       "text": [
        "<IPython.core.display.Image at 0x7ff21fcaf390>"
       ]
      },
      {
       "output_type": "stream",
       "stream": "stdout",
       "text": [
        "Jeroen Kerkhof\n",
        "http://photos4.meetupstatic.com/photos/member/a/6/2/e/member_118182542.jpeg\n"
       ]
      },
      {
       "html": [
        "<img src=\"http://photos4.meetupstatic.com/photos/member/a/6/2/e/member_118182542.jpeg\" height=\"100\"/>"
       ],
       "metadata": {},
       "output_type": "display_data",
       "text": [
        "<IPython.core.display.Image at 0x7ff21fcaf690>"
       ]
      },
      {
       "output_type": "stream",
       "stream": "stdout",
       "text": [
        "Rosalind Lester\n",
        "http://photos3.meetupstatic.com/photos/member/2/1/e/0/member_214388672.jpeg\n"
       ]
      },
      {
       "html": [
        "<img src=\"http://photos3.meetupstatic.com/photos/member/2/1/e/0/member_214388672.jpeg\" height=\"100\"/>"
       ],
       "metadata": {},
       "output_type": "display_data",
       "text": [
        "<IPython.core.display.Image at 0x7ff21fcafb90>"
       ]
      },
      {
       "output_type": "stream",
       "stream": "stdout",
       "text": [
        "Marie-Agn\u00e8s Djate N'koy\n",
        "http://photos2.meetupstatic.com/photos/member/6/1/3/2/member_207564882.jpeg\n"
       ]
      },
      {
       "html": [
        "<img src=\"http://photos2.meetupstatic.com/photos/member/6/1/3/2/member_207564882.jpeg\" height=\"100\"/>"
       ],
       "metadata": {},
       "output_type": "display_data",
       "text": [
        "<IPython.core.display.Image at 0x7ff21fcaf790>"
       ]
      },
      {
       "output_type": "stream",
       "stream": "stdout",
       "text": [
        "Olivier Pirson\n",
        "http://photos3.meetupstatic.com/photos/member/6/f/e/c/member_161008652.jpeg\n"
       ]
      },
      {
       "html": [
        "<img src=\"http://photos3.meetupstatic.com/photos/member/6/f/e/c/member_161008652.jpeg\" height=\"100\"/>"
       ],
       "metadata": {},
       "output_type": "display_data",
       "text": [
        "<IPython.core.display.Image at 0x7ff21fcafb50>"
       ]
      },
      {
       "output_type": "stream",
       "stream": "stdout",
       "text": [
        "Frederic\n",
        "http://photos2.meetupstatic.com/photos/member/d/f/c/2/member_199437282.jpeg\n"
       ]
      },
      {
       "html": [
        "<img src=\"http://photos2.meetupstatic.com/photos/member/d/f/c/2/member_199437282.jpeg\" height=\"100\"/>"
       ],
       "metadata": {},
       "output_type": "display_data",
       "text": [
        "<IPython.core.display.Image at 0x7ff21fcaf890>"
       ]
      },
      {
       "output_type": "stream",
       "stream": "stdout",
       "text": [
        "Hugo Herter\n",
        "http://photos3.meetupstatic.com/photos/member/4/1/2/member_110881042.jpeg\n"
       ]
      },
      {
       "html": [
        "<img src=\"http://photos3.meetupstatic.com/photos/member/4/1/2/member_110881042.jpeg\" height=\"100\"/>"
       ],
       "metadata": {},
       "output_type": "display_data",
       "text": [
        "<IPython.core.display.Image at 0x7ff21fcaf2d0>"
       ]
      },
      {
       "output_type": "stream",
       "stream": "stdout",
       "text": [
        "Frederic Vandaele\n",
        "http://photos3.meetupstatic.com/photos/member/d/1/9/e/member_199133662.jpeg\n"
       ]
      },
      {
       "html": [
        "<img src=\"http://photos3.meetupstatic.com/photos/member/d/1/9/e/member_199133662.jpeg\" height=\"100\"/>"
       ],
       "metadata": {},
       "output_type": "display_data",
       "text": [
        "<IPython.core.display.Image at 0x7ff21fcaf310>"
       ]
      },
      {
       "output_type": "stream",
       "stream": "stdout",
       "text": [
        "Martijn theuwissen\n",
        "http://photos1.meetupstatic.com/photos/member/d/6/1/2/member_206334802.jpeg\n"
       ]
      },
      {
       "html": [
        "<img src=\"http://photos1.meetupstatic.com/photos/member/d/6/1/2/member_206334802.jpeg\" height=\"100\"/>"
       ],
       "metadata": {},
       "output_type": "display_data",
       "text": [
        "<IPython.core.display.Image at 0x7ff21fcaff50>"
       ]
      },
      {
       "output_type": "stream",
       "stream": "stdout",
       "text": [
        "Raph Huys\n",
        "http://photos2.meetupstatic.com/photos/member/7/d/2/member_80822002.jpeg\n"
       ]
      },
      {
       "html": [
        "<img src=\"http://photos2.meetupstatic.com/photos/member/7/d/2/member_80822002.jpeg\" height=\"100\"/>"
       ],
       "metadata": {},
       "output_type": "display_data",
       "text": [
        "<IPython.core.display.Image at 0x7ff21fcaf250>"
       ]
      },
      {
       "output_type": "stream",
       "stream": "stdout",
       "text": [
        "Yann\n",
        "http://photos1.meetupstatic.com/photos/member/6/9/6/6/member_191066982.jpeg\n"
       ]
      },
      {
       "html": [
        "<img src=\"http://photos1.meetupstatic.com/photos/member/6/9/6/6/member_191066982.jpeg\" height=\"100\"/>"
       ],
       "metadata": {},
       "output_type": "display_data",
       "text": [
        "<IPython.core.display.Image at 0x7ff21fba2c10>"
       ]
      },
      {
       "output_type": "stream",
       "stream": "stdout",
       "text": [
        "Daniel\n",
        "http://photos4.meetupstatic.com/photos/member/d/e/a/0/member_143516992.jpeg\n"
       ]
      },
      {
       "html": [
        "<img src=\"http://photos4.meetupstatic.com/photos/member/d/e/a/0/member_143516992.jpeg\" height=\"100\"/>"
       ],
       "metadata": {},
       "output_type": "display_data",
       "text": [
        "<IPython.core.display.Image at 0x7ff2243f9790>"
       ]
      },
      {
       "output_type": "stream",
       "stream": "stdout",
       "text": [
        "Jonathan Cornelissen\n",
        "http://photos2.meetupstatic.com/photos/member/4/3/6/e/member_71237262.jpeg\n"
       ]
      },
      {
       "html": [
        "<img src=\"http://photos2.meetupstatic.com/photos/member/4/3/6/e/member_71237262.jpeg\" height=\"100\"/>"
       ],
       "metadata": {},
       "output_type": "display_data",
       "text": [
        "<IPython.core.display.Image at 0x7ff21fba2f50>"
       ]
      },
      {
       "output_type": "stream",
       "stream": "stdout",
       "text": [
        "meli\n",
        "http://photos1.meetupstatic.com/photos/member/d/b/3/a/member_83876122.jpeg\n"
       ]
      },
      {
       "html": [
        "<img src=\"http://photos1.meetupstatic.com/photos/member/d/b/3/a/member_83876122.jpeg\" height=\"100\"/>"
       ],
       "metadata": {},
       "output_type": "display_data",
       "text": [
        "<IPython.core.display.Image at 0x7ff21fba2450>"
       ]
      },
      {
       "output_type": "stream",
       "stream": "stdout",
       "text": [
        "Satblip\n",
        "http://photos3.meetupstatic.com/photos/member/2/e/4/c/member_192071852.jpeg\n"
       ]
      },
      {
       "html": [
        "<img src=\"http://photos3.meetupstatic.com/photos/member/2/e/4/c/member_192071852.jpeg\" height=\"100\"/>"
       ],
       "metadata": {},
       "output_type": "display_data",
       "text": [
        "<IPython.core.display.Image at 0x7ff21fba2fd0>"
       ]
      },
      {
       "output_type": "stream",
       "stream": "stdout",
       "text": [
        "an\n",
        "http://photos1.meetupstatic.com/photos/member/b/1/4/6/member_212325382.jpeg\n"
       ]
      },
      {
       "html": [
        "<img src=\"http://photos1.meetupstatic.com/photos/member/b/1/4/6/member_212325382.jpeg\" height=\"100\"/>"
       ],
       "metadata": {},
       "output_type": "display_data",
       "text": [
        "<IPython.core.display.Image at 0x7ff21fba2b90>"
       ]
      },
      {
       "output_type": "stream",
       "stream": "stdout",
       "text": [
        "Kate\n",
        "http://photos3.meetupstatic.com/photos/member/5/5/d/4/member_68241972.jpeg\n"
       ]
      },
      {
       "html": [
        "<img src=\"http://photos3.meetupstatic.com/photos/member/5/5/d/4/member_68241972.jpeg\" height=\"100\"/>"
       ],
       "metadata": {},
       "output_type": "display_data",
       "text": [
        "<IPython.core.display.Image at 0x7ff21fcaf310>"
       ]
      },
      {
       "output_type": "stream",
       "stream": "stdout",
       "text": [
        "BoNo\n",
        "http://photos4.meetupstatic.com/photos/member/b/c/2/2/member_214908162.jpeg\n"
       ]
      },
      {
       "html": [
        "<img src=\"http://photos4.meetupstatic.com/photos/member/b/c/2/2/member_214908162.jpeg\" height=\"100\"/>"
       ],
       "metadata": {},
       "output_type": "display_data",
       "text": [
        "<IPython.core.display.Image at 0x7ff21fcaf2d0>"
       ]
      },
      {
       "output_type": "stream",
       "stream": "stdout",
       "text": [
        "Quentin Mathoux\n",
        "http://photos2.meetupstatic.com/photos/member/b/c/3/6/member_113868182.jpeg\n"
       ]
      },
      {
       "html": [
        "<img src=\"http://photos2.meetupstatic.com/photos/member/b/c/3/6/member_113868182.jpeg\" height=\"100\"/>"
       ],
       "metadata": {},
       "output_type": "display_data",
       "text": [
        "<IPython.core.display.Image at 0x7ff21fcaf890>"
       ]
      },
      {
       "output_type": "stream",
       "stream": "stdout",
       "text": [
        "Michael Murtaugh\n",
        "http://photos1.meetupstatic.com/photos/member/9/c/7/e/member_45640062.jpeg\n"
       ]
      },
      {
       "html": [
        "<img src=\"http://photos1.meetupstatic.com/photos/member/9/c/7/e/member_45640062.jpeg\" height=\"100\"/>"
       ],
       "metadata": {},
       "output_type": "display_data",
       "text": [
        "<IPython.core.display.Image at 0x7ff21fcafb50>"
       ]
      },
      {
       "output_type": "stream",
       "stream": "stdout",
       "text": [
        "Victor Rodrigues\n",
        "http://photos1.meetupstatic.com/photos/member/a/5/1/6/member_173742262.jpeg\n"
       ]
      },
      {
       "html": [
        "<img src=\"http://photos1.meetupstatic.com/photos/member/a/5/1/6/member_173742262.jpeg\" height=\"100\"/>"
       ],
       "metadata": {},
       "output_type": "display_data",
       "text": [
        "<IPython.core.display.Image at 0x7ff21fcaf790>"
       ]
      },
      {
       "output_type": "stream",
       "stream": "stdout",
       "text": [
        "David Clijsters\n",
        "http://photos2.meetupstatic.com/photos/member/1/7/e/member_216600382.jpeg\n"
       ]
      },
      {
       "html": [
        "<img src=\"http://photos2.meetupstatic.com/photos/member/1/7/e/member_216600382.jpeg\" height=\"100\"/>"
       ],
       "metadata": {},
       "output_type": "display_data",
       "text": [
        "<IPython.core.display.Image at 0x7ff21fcafb90>"
       ]
      },
      {
       "output_type": "stream",
       "stream": "stdout",
       "text": [
        "Thomas Burette\n",
        "http://photos4.meetupstatic.com/photos/member/3/c/9/7/member_21855511.jpeg\n"
       ]
      },
      {
       "html": [
        "<img src=\"http://photos4.meetupstatic.com/photos/member/3/c/9/7/member_21855511.jpeg\" height=\"100\"/>"
       ],
       "metadata": {},
       "output_type": "display_data",
       "text": [
        "<IPython.core.display.Image at 0x7ff21fcaf690>"
       ]
      },
      {
       "output_type": "stream",
       "stream": "stdout",
       "text": [
        "Steve\n",
        "http://photos2.meetupstatic.com/photos/member/9/b/1/6/member_148899702.jpeg\n"
       ]
      },
      {
       "html": [
        "<img src=\"http://photos2.meetupstatic.com/photos/member/9/b/1/6/member_148899702.jpeg\" height=\"100\"/>"
       ],
       "metadata": {},
       "output_type": "display_data",
       "text": [
        "<IPython.core.display.Image at 0x7ff21fcaf390>"
       ]
      },
      {
       "output_type": "stream",
       "stream": "stdout",
       "text": [
        "Kris Peeters\n",
        "http://photos3.meetupstatic.com/photos/member/c/0/d/2/member_187609362.jpeg\n"
       ]
      },
      {
       "html": [
        "<img src=\"http://photos3.meetupstatic.com/photos/member/c/0/d/2/member_187609362.jpeg\" height=\"100\"/>"
       ],
       "metadata": {},
       "output_type": "display_data",
       "text": [
        "<IPython.core.display.Image at 0x7ff21fcaf9d0>"
       ]
      },
      {
       "output_type": "stream",
       "stream": "stdout",
       "text": [
        "Dylan Soubien\n",
        "http://photos3.meetupstatic.com/photos/member/4/4/9/a/member_185237562.jpeg\n"
       ]
      },
      {
       "html": [
        "<img src=\"http://photos3.meetupstatic.com/photos/member/4/4/9/a/member_185237562.jpeg\" height=\"100\"/>"
       ],
       "metadata": {},
       "output_type": "display_data",
       "text": [
        "<IPython.core.display.Image at 0x7ff21fcaf350>"
       ]
      },
      {
       "output_type": "stream",
       "stream": "stdout",
       "text": [
        "Ludovic Aelbrecht\n",
        "http://photos3.meetupstatic.com/photos/member/e/3/3/2/member_123058162.jpeg\n"
       ]
      },
      {
       "html": [
        "<img src=\"http://photos3.meetupstatic.com/photos/member/e/3/3/2/member_123058162.jpeg\" height=\"100\"/>"
       ],
       "metadata": {},
       "output_type": "display_data",
       "text": [
        "<IPython.core.display.Image at 0x7ff21fcafe10>"
       ]
      },
      {
       "output_type": "stream",
       "stream": "stdout",
       "text": [
        "Matteo Gagliolo\n",
        "http://photos3.meetupstatic.com/photos/member/8/e/2/8/member_102636392.jpeg\n"
       ]
      },
      {
       "html": [
        "<img src=\"http://photos3.meetupstatic.com/photos/member/8/e/2/8/member_102636392.jpeg\" height=\"100\"/>"
       ],
       "metadata": {},
       "output_type": "display_data",
       "text": [
        "<IPython.core.display.Image at 0x7ff21fcaf3d0>"
       ]
      }
     ],
     "prompt_number": 128
    },
    {
     "cell_type": "code",
     "collapsed": false,
     "input": [],
     "language": "python",
     "metadata": {},
     "outputs": [],
     "prompt_number": 128
    },
    {
     "cell_type": "code",
     "collapsed": false,
     "input": [],
     "language": "python",
     "metadata": {},
     "outputs": [],
     "prompt_number": 128
    },
    {
     "cell_type": "code",
     "collapsed": false,
     "input": [],
     "language": "python",
     "metadata": {},
     "outputs": [],
     "prompt_number": 128
    },
    {
     "cell_type": "code",
     "collapsed": false,
     "input": [],
     "language": "python",
     "metadata": {},
     "outputs": [],
     "prompt_number": 128
    },
    {
     "cell_type": "code",
     "collapsed": false,
     "input": [],
     "language": "python",
     "metadata": {},
     "outputs": []
    },
    {
     "cell_type": "code",
     "collapsed": false,
     "input": [
      "for index, row  in rsvps.iterrows():\n",
      "    print(index, '::', row['name'])"
     ],
     "language": "python",
     "metadata": {},
     "outputs": [
      {
       "output_type": "stream",
       "stream": "stdout",
       "text": [
        "2014-07-18 22:00:53 :: Ashwyn\n",
        "2014-08-11 22:38:52 :: emmanuel\n",
        "2014-07-14 13:46:05 :: Antonio Rebordao\n",
        "2014-07-15 16:04:20 :: jp Alcantara\n",
        "2014-08-03 22:08:08 :: Kjell Moens\n",
        "2014-07-17 07:39:26 :: Mike F\n",
        "2014-07-14 12:54:35 :: Andrea Dal Pozzolo\n",
        "2014-08-18 08:54:54 :: Ahmed\n",
        "2014-08-02 15:06:47 :: Rik\n",
        "2014-08-20 13:04:16 :: Augustin\n",
        "2014-07-16 11:12:30 :: Marcus\n",
        "2014-08-11 20:00:17 :: Pepe\n",
        "2014-08-09 20:19:02 :: Ken Christiaens\n",
        "2014-07-15 08:05:09 :: Ivan Keller\n",
        "2014-07-15 09:57:50 :: bernard paulus\n",
        "2014-07-14 21:02:41 :: Deborah Lindberg\n",
        "2014-08-20 18:43:56 :: Jeroen Kerkhof\n",
        "2014-07-28 13:59:23 :: Rosalind Lester\n",
        "2014-08-19 09:43:45 :: Nicolas\n",
        "2014-08-12 08:28:35 :: Ana Claudia Alfieri\n",
        "2014-08-04 07:27:28 :: Marie-Agn\u00e8s Djate N'koy\n",
        "2014-07-14 14:08:26 :: Olivier Pirson\n",
        "2014-08-20 18:49:08 :: Frederic\n",
        "2014-07-14 12:39:43 :: Hugo Herter\n",
        "2014-07-16 03:06:29 :: Said\n",
        "2014-08-21 07:52:29 :: Frederic Vandaele\n",
        "2014-08-21 15:52:40 :: Robert Johnston\n",
        "2014-07-23 08:52:37 :: Martijn theuwissen\n",
        "2014-08-21 08:24:04 :: Raph Huys\n",
        "2014-08-21 15:06:18 :: Yann\n",
        "2014-08-20 20:43:09 :: Daniel\n",
        "2014-07-21 21:51:28 :: Jonathan Cornelissen\n",
        "2014-08-06 14:39:05 :: meli\n",
        "2014-08-20 13:03:10 :: Satblip\n",
        "2014-07-26 15:09:00 :: an\n",
        "2014-08-22 19:12:37 :: Kate\n",
        "2014-07-30 14:46:55 :: BoNo\n",
        "2014-07-15 06:46:36 :: Quentin Mathoux\n",
        "2014-08-17 15:01:47 :: Michael Murtaugh\n",
        "2014-07-16 20:29:54 :: Victor Rodrigues\n",
        "2014-08-17 17:33:48 :: David Clijsters\n",
        "2014-08-24 09:28:29 :: Thomas Burette\n",
        "2014-07-14 13:05:24 :: Steve\n",
        "2014-08-18 06:59:30 :: Kris Peeters\n",
        "2014-08-10 16:09:19 :: Dylan Soubien\n",
        "2014-07-14 13:59:52 :: Ludo\n",
        "2014-08-23 12:56:24 :: Ludovic Aelbrecht\n",
        "2014-07-14 13:42:39 :: Matteo Gagliolo\n",
        "2014-08-10 13:16:03 :: Jan Leers\n",
        "2014-08-01 19:59:13 :: Yennick\n"
       ]
      }
     ],
     "prompt_number": 116
    },
    {
     "cell_type": "code",
     "collapsed": false,
     "input": [
      "Image??"
     ],
     "language": "python",
     "metadata": {},
     "outputs": [],
     "prompt_number": 144
    },
    {
     "cell_type": "code",
     "collapsed": false,
     "input": [],
     "language": "python",
     "metadata": {},
     "outputs": [],
     "prompt_number": 134
    },
    {
     "cell_type": "code",
     "collapsed": false,
     "input": [],
     "language": "python",
     "metadata": {},
     "outputs": [],
     "prompt_number": 134
    },
    {
     "cell_type": "markdown",
     "metadata": {
      "slideshow": {
       "slide_type": "slide"
      }
     },
     "source": [
      "# Event data\n",
      "\n",
      "First, we have a look at the data we have about the event itself. \n",
      "\n",
      "These are descriptive data, with no list for us to build dataframes, but it is still a good showcase for IPython Notebook."
     ]
    },
    {
     "cell_type": "markdown",
     "metadata": {},
     "source": [
      "## Locations\n",
      "\n",
      "https://github.com/wrobstory/folium"
     ]
    },
    {
     "cell_type": "code",
     "collapsed": false,
     "input": [
      "event = requests.get(event_url, params={'key': api_key}).json()"
     ],
     "language": "python",
     "metadata": {},
     "outputs": [],
     "prompt_number": 130
    },
    {
     "cell_type": "code",
     "collapsed": false,
     "input": [
      "import json\n",
      "print(json.dumps(event, indent=2))"
     ],
     "language": "python",
     "metadata": {},
     "outputs": [
      {
       "output_type": "stream",
       "stream": "stdout",
       "text": [
        "{\n",
        "  \"status\": \"upcoming\", \n",
        "  \"utc_offset\": 7200000, \n",
        "  \"event_url\": \"http://www.meetup.com/OpenTechSchool-Brussels/events/194806872/\", \n",
        "  \"group\": {\n",
        "    \"name\": \"OpenTechSchool Brussels\", \n",
        "    \"group_lat\": 50.83000183105469, \n",
        "    \"join_mode\": \"open\", \n",
        "    \"who\": \"Members\", \n",
        "    \"group_lon\": 4.329999923706055, \n",
        "    \"urlname\": \"OpenTechSchool-Brussels\", \n",
        "    \"id\": 9462812\n",
        "  }, \n",
        "  \"description\": \"<p>During this workshop, you will learn how to combine the easiness of IPython Notebook with the power of Pandas for data processing in Python.</p> <p>The targeted audiences are scientists and other people doing data analysis. No prior knowledge of Python is required, but basic programming understanding is required (variables, functions, ...).</p> <p>IPython Notebook is a web-based interactive computational environment where you can combine code execution, text, mathematics, plots and rich media into a single document.</p> <p>pandas is a library providing high-performance, easy-to-use data structures and data analysis tools for the Python programming language.</p>\", \n",
        "  \"created\": 1405341580000, \n",
        "  \"venue\": {\n",
        "    \"city\": \"Brussels\", \n",
        "    \"name\": \"ULB Campus Solbosch\", \n",
        "    \"repinned\": false, \n",
        "    \"lon\": 4.381096, \n",
        "    \"address_1\": \"50, Avenue Franklin D. Roosevelt 1050 Bruxelles\", \n",
        "    \"country\": \"be\", \n",
        "    \"lat\": 50.811989, \n",
        "    \"id\": 16728772\n",
        "  }, \n",
        "  \"updated\": 1405342598000, \n",
        "  \"visibility\": \"public\", \n",
        "  \"yes_rsvp_count\": 42, \n",
        "  \"time\": 1409072400000, \n",
        "  \"duration\": 9000000, \n",
        "  \"waitlist_count\": 0, \n",
        "  \"headcount\": 0, \n",
        "  \"maybe_rsvp_count\": 0, \n",
        "  \"id\": \"194806872\", \n",
        "  \"announced\": true, \n",
        "  \"name\": \"Learn Data analysis with IPython Notebook and Pandas\"\n",
        "}\n"
       ]
      }
     ],
     "prompt_number": 131
    },
    {
     "cell_type": "code",
     "collapsed": false,
     "input": [
      "from IPython.core.display import HTML\n",
      "from jinja2 import Template\n",
      "\n",
      "HTML(Template('''\n",
      "<h1>{{name}}</h1>\n",
      "\n",
      "<h2>{{venue.name}}</h2>\n",
      "<p>\n",
      "    {{venue.address_1}}\n",
      "</p>\n",
      "\n",
      "<hr/>\n",
      "\n",
      "<section>\n",
      "    {{description}}\n",
      "</section>\n",
      "\n",
      "''').render(**event))"
     ],
     "language": "python",
     "metadata": {},
     "outputs": [
      {
       "html": [
        "\n",
        "<h1>Learn Data analysis with IPython Notebook and Pandas</h1>\n",
        "\n",
        "<h2>ULB Campus Solbosch</h2>\n",
        "<p>\n",
        "    50, Avenue Franklin D. Roosevelt 1050 Bruxelles\n",
        "</p>\n",
        "\n",
        "<hr/>\n",
        "\n",
        "<section>\n",
        "    <p>During this workshop, you will learn how to combine the easiness of IPython Notebook with the power of Pandas for data processing in Python.</p> <p>The targeted audiences are scientists and other people doing data analysis. No prior knowledge of Python is required, but basic programming understanding is required (variables, functions, ...).</p> <p>IPython Notebook is a web-based interactive computational environment where you can combine code execution, text, mathematics, plots and rich media into a single document.</p> <p>pandas is a library providing high-performance, easy-to-use data structures and data analysis tools for the Python programming language.</p>\n",
        "</section>\n"
       ],
       "metadata": {},
       "output_type": "pyout",
       "prompt_number": 147,
       "text": [
        "<IPython.core.display.HTML at 0x7ff21f922490>"
       ]
      }
     ],
     "prompt_number": 147
    },
    {
     "cell_type": "code",
     "collapsed": false,
     "input": [
      "import folium"
     ],
     "language": "python",
     "metadata": {},
     "outputs": [],
     "prompt_number": 246
    },
    {
     "cell_type": "code",
     "collapsed": false,
     "input": [
      "from IPython.display import HTML\n",
      "def inline_map(map):\n",
      "    \"Embeds the HTML source of the map directly into the IPython notebook.\"\n",
      "    map._build_map()\n",
      "    return HTML('<iframe srcdoc=\"{srcdoc}\" style=\"width: 100%; height: 510px; border: none\"></iframe>'.format(srcdoc=map.HTML.replace('\"', '&quot;')))"
     ],
     "language": "python",
     "metadata": {},
     "outputs": [],
     "prompt_number": 247
    },
    {
     "cell_type": "code",
     "collapsed": false,
     "input": [
      "event_location = [event['venue']['lat'], event['venue']['lon']]\n",
      "event_location"
     ],
     "language": "python",
     "metadata": {},
     "outputs": [
      {
       "metadata": {},
       "output_type": "pyout",
       "prompt_number": 248,
       "text": [
        "[50.811989, 4.381096]"
       ]
      }
     ],
     "prompt_number": 248
    },
    {
     "cell_type": "code",
     "collapsed": false,
     "input": [
      "map = folium.Map(location=event_location, zoom_start=13, tiles='Stamen Toner')\n",
      "map.simple_marker(event_location, popup='Our workshop')\n",
      "inline_map(map)"
     ],
     "language": "python",
     "metadata": {},
     "outputs": [
      {
       "html": [
        "<iframe srcdoc=\"<!DOCTYPE html>\n",
        "<head>\n",
        "   <link rel=&quot;stylesheet&quot; href=&quot;http://cdn.leafletjs.com/leaflet-0.5/leaflet.css&quot; />\n",
        "   <script src=&quot;http://cdn.leafletjs.com/leaflet-0.5/leaflet.js&quot;></script>\n",
        "   \n",
        "   \n",
        "   \n",
        "   \n",
        "\n",
        "\n",
        "<style>\n",
        "\n",
        "#map {\n",
        "  position:absolute;\n",
        "  top:0;\n",
        "  bottom:0;\n",
        "  right:0;\n",
        "  left:0;\n",
        "}\n",
        "\n",
        "</style>\n",
        "</head>\n",
        "<body>\n",
        "\n",
        "        <div id=&quot;map&quot; style=&quot;width: 960px; height: 500px&quot;></div>\n",
        "\n",
        "<script>\n",
        "\n",
        "\n",
        "\n",
        "var map = L.map('map').setView([50.811989, 4.381096], 13);\n",
        "\n",
        "L.tileLayer('http://{s}.tile.stamen.com/toner/{z}/{x}/{y}.jpg', {\n",
        "    maxZoom: 18,\n",
        "    attribution: 'Map tiles by <a href=&quot;http://stamen.com&quot;>Stamen Design</a>, under <a href=&quot;http://creativecommons.org/licenses/by/3.0&quot;>CC BY 3.0</a>. Data by <a href=&quot;http://openstreetmap.org&quot;>OpenStreetMap</a>, under <a href=&quot;http://creativecommons.org/licenses/by-sa/3.0&quot;>CC BY SA</a>.'\n",
        "}).addTo(map);\n",
        "\n",
        "\n",
        "var marker_1 = L.marker([50.811989, 4.381096]);\n",
        "marker_1.bindPopup(&quot;Our workshop&quot;);\n",
        "map.addLayer(marker_1)\n",
        "\n",
        "\n",
        "\n",
        "\n",
        "\n",
        "\n",
        "</script>\n",
        "\n",
        "</body>\" style=\"width: 100%; height: 510px; border: none\"></iframe>"
       ],
       "metadata": {},
       "output_type": "pyout",
       "prompt_number": 249,
       "text": [
        "<IPython.core.display.HTML at 0x7f131a1f8a50>"
       ]
      }
     ],
     "prompt_number": 249
    },
    {
     "cell_type": "code",
     "collapsed": false,
     "input": [],
     "language": "python",
     "metadata": {},
     "outputs": []
    }
   ],
   "metadata": {}
  }
 ]
}